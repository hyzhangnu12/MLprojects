{
 "cells": [
  {
   "cell_type": "markdown",
   "metadata": {
    "application/vnd.databricks.v1+cell": {
     "cellMetadata": {
      "byteLimit": 2048000,
      "rowLimit": 10000
     },
     "inputWidgets": {},
     "nuid": "58755493-17e1-4e7f-89be-c44ce5f6ec62",
     "showTitle": false,
     "title": ""
    }
   },
   "source": [
    "# **Structured Streaming with Python**"
   ]
  },
  {
   "cell_type": "markdown",
   "metadata": {
    "application/vnd.databricks.v1+cell": {
     "cellMetadata": {
      "byteLimit": 2048000,
      "rowLimit": 10000
     },
     "inputWidgets": {},
     "nuid": "f5c95ca1-5011-4a07-b3ed-ef0eb8fd7698",
     "showTitle": false,
     "title": ""
    }
   },
   "source": [
    "## **1. Sample Data**"
   ]
  },
  {
   "cell_type": "code",
   "execution_count": 0,
   "metadata": {
    "application/vnd.databricks.v1+cell": {
     "cellMetadata": {
      "byteLimit": 2048000,
      "rowLimit": 10000
     },
     "inputWidgets": {},
     "nuid": "d433aed5-40fa-456b-99ad-1ec8b5b94c37",
     "showTitle": false,
     "title": ""
    }
   },
   "outputs": [
    {
     "output_type": "display_data",
     "data": {
      "text/html": [
       "<style scoped>\n",
       "  .table-result-container {\n",
       "    max-height: 300px;\n",
       "    overflow: auto;\n",
       "  }\n",
       "  table, th, td {\n",
       "    border: 1px solid black;\n",
       "    border-collapse: collapse;\n",
       "  }\n",
       "  th, td {\n",
       "    padding: 5px;\n",
       "  }\n",
       "  th {\n",
       "    text-align: left;\n",
       "  }\n",
       "</style><div class='table-result-container'><table class='table-result'><thead style='background-color: white'><tr><th>path</th><th>name</th><th>size</th><th>modificationTime</th></tr></thead><tbody><tr><td>dbfs:/databricks-datasets/structured-streaming/events/file-0.json</td><td>file-0.json</td><td>72530</td><td>1469673865000</td></tr><tr><td>dbfs:/databricks-datasets/structured-streaming/events/file-1.json</td><td>file-1.json</td><td>72961</td><td>1469673866000</td></tr><tr><td>dbfs:/databricks-datasets/structured-streaming/events/file-10.json</td><td>file-10.json</td><td>73025</td><td>1469673878000</td></tr><tr><td>dbfs:/databricks-datasets/structured-streaming/events/file-11.json</td><td>file-11.json</td><td>72999</td><td>1469673879000</td></tr><tr><td>dbfs:/databricks-datasets/structured-streaming/events/file-12.json</td><td>file-12.json</td><td>72987</td><td>1469673880000</td></tr><tr><td>dbfs:/databricks-datasets/structured-streaming/events/file-13.json</td><td>file-13.json</td><td>73006</td><td>1469673881000</td></tr><tr><td>dbfs:/databricks-datasets/structured-streaming/events/file-14.json</td><td>file-14.json</td><td>73003</td><td>1469673882000</td></tr><tr><td>dbfs:/databricks-datasets/structured-streaming/events/file-15.json</td><td>file-15.json</td><td>73007</td><td>1469673883000</td></tr><tr><td>dbfs:/databricks-datasets/structured-streaming/events/file-16.json</td><td>file-16.json</td><td>72978</td><td>1469673885000</td></tr><tr><td>dbfs:/databricks-datasets/structured-streaming/events/file-17.json</td><td>file-17.json</td><td>73008</td><td>1469673886000</td></tr><tr><td>dbfs:/databricks-datasets/structured-streaming/events/file-18.json</td><td>file-18.json</td><td>73002</td><td>1469673887000</td></tr><tr><td>dbfs:/databricks-datasets/structured-streaming/events/file-19.json</td><td>file-19.json</td><td>73014</td><td>1469673888000</td></tr><tr><td>dbfs:/databricks-datasets/structured-streaming/events/file-2.json</td><td>file-2.json</td><td>73007</td><td>1469673868000</td></tr><tr><td>dbfs:/databricks-datasets/structured-streaming/events/file-20.json</td><td>file-20.json</td><td>72987</td><td>1469673889000</td></tr><tr><td>dbfs:/databricks-datasets/structured-streaming/events/file-21.json</td><td>file-21.json</td><td>72983</td><td>1469673891000</td></tr><tr><td>dbfs:/databricks-datasets/structured-streaming/events/file-22.json</td><td>file-22.json</td><td>73009</td><td>1469673892000</td></tr><tr><td>dbfs:/databricks-datasets/structured-streaming/events/file-23.json</td><td>file-23.json</td><td>72985</td><td>1469673893000</td></tr><tr><td>dbfs:/databricks-datasets/structured-streaming/events/file-24.json</td><td>file-24.json</td><td>73020</td><td>1469673894000</td></tr><tr><td>dbfs:/databricks-datasets/structured-streaming/events/file-25.json</td><td>file-25.json</td><td>72980</td><td>1469673895000</td></tr><tr><td>dbfs:/databricks-datasets/structured-streaming/events/file-26.json</td><td>file-26.json</td><td>73002</td><td>1469673897000</td></tr><tr><td>dbfs:/databricks-datasets/structured-streaming/events/file-27.json</td><td>file-27.json</td><td>73013</td><td>1469673898000</td></tr><tr><td>dbfs:/databricks-datasets/structured-streaming/events/file-28.json</td><td>file-28.json</td><td>73005</td><td>1469673899000</td></tr><tr><td>dbfs:/databricks-datasets/structured-streaming/events/file-29.json</td><td>file-29.json</td><td>72977</td><td>1469673900000</td></tr><tr><td>dbfs:/databricks-datasets/structured-streaming/events/file-3.json</td><td>file-3.json</td><td>72996</td><td>1469673869000</td></tr><tr><td>dbfs:/databricks-datasets/structured-streaming/events/file-30.json</td><td>file-30.json</td><td>73009</td><td>1469673902000</td></tr><tr><td>dbfs:/databricks-datasets/structured-streaming/events/file-31.json</td><td>file-31.json</td><td>73008</td><td>1469673903000</td></tr><tr><td>dbfs:/databricks-datasets/structured-streaming/events/file-32.json</td><td>file-32.json</td><td>72982</td><td>1469673904000</td></tr><tr><td>dbfs:/databricks-datasets/structured-streaming/events/file-33.json</td><td>file-33.json</td><td>73033</td><td>1469673905000</td></tr><tr><td>dbfs:/databricks-datasets/structured-streaming/events/file-34.json</td><td>file-34.json</td><td>72985</td><td>1469673907000</td></tr><tr><td>dbfs:/databricks-datasets/structured-streaming/events/file-35.json</td><td>file-35.json</td><td>72974</td><td>1469673908000</td></tr><tr><td>dbfs:/databricks-datasets/structured-streaming/events/file-36.json</td><td>file-36.json</td><td>73013</td><td>1469673909000</td></tr><tr><td>dbfs:/databricks-datasets/structured-streaming/events/file-37.json</td><td>file-37.json</td><td>72989</td><td>1469673910000</td></tr><tr><td>dbfs:/databricks-datasets/structured-streaming/events/file-38.json</td><td>file-38.json</td><td>72999</td><td>1469673911000</td></tr><tr><td>dbfs:/databricks-datasets/structured-streaming/events/file-39.json</td><td>file-39.json</td><td>73013</td><td>1469673913000</td></tr><tr><td>dbfs:/databricks-datasets/structured-streaming/events/file-4.json</td><td>file-4.json</td><td>72992</td><td>1469673870000</td></tr><tr><td>dbfs:/databricks-datasets/structured-streaming/events/file-40.json</td><td>file-40.json</td><td>72986</td><td>1469673914000</td></tr><tr><td>dbfs:/databricks-datasets/structured-streaming/events/file-41.json</td><td>file-41.json</td><td>73019</td><td>1469673915000</td></tr><tr><td>dbfs:/databricks-datasets/structured-streaming/events/file-42.json</td><td>file-42.json</td><td>72986</td><td>1469673916000</td></tr><tr><td>dbfs:/databricks-datasets/structured-streaming/events/file-43.json</td><td>file-43.json</td><td>72990</td><td>1469673918000</td></tr><tr><td>dbfs:/databricks-datasets/structured-streaming/events/file-44.json</td><td>file-44.json</td><td>73018</td><td>1469673919000</td></tr><tr><td>dbfs:/databricks-datasets/structured-streaming/events/file-45.json</td><td>file-45.json</td><td>72997</td><td>1469673921000</td></tr><tr><td>dbfs:/databricks-datasets/structured-streaming/events/file-46.json</td><td>file-46.json</td><td>72991</td><td>1469673922000</td></tr><tr><td>dbfs:/databricks-datasets/structured-streaming/events/file-47.json</td><td>file-47.json</td><td>73009</td><td>1469673923000</td></tr><tr><td>dbfs:/databricks-datasets/structured-streaming/events/file-48.json</td><td>file-48.json</td><td>72993</td><td>1469673924000</td></tr><tr><td>dbfs:/databricks-datasets/structured-streaming/events/file-49.json</td><td>file-49.json</td><td>73496</td><td>1469673926000</td></tr><tr><td>dbfs:/databricks-datasets/structured-streaming/events/file-5.json</td><td>file-5.json</td><td>72998</td><td>1469673871000</td></tr><tr><td>dbfs:/databricks-datasets/structured-streaming/events/file-6.json</td><td>file-6.json</td><td>72997</td><td>1469673873000</td></tr><tr><td>dbfs:/databricks-datasets/structured-streaming/events/file-7.json</td><td>file-7.json</td><td>73022</td><td>1469673874000</td></tr><tr><td>dbfs:/databricks-datasets/structured-streaming/events/file-8.json</td><td>file-8.json</td><td>72997</td><td>1469673875000</td></tr><tr><td>dbfs:/databricks-datasets/structured-streaming/events/file-9.json</td><td>file-9.json</td><td>72970</td><td>1469673876000</td></tr></tbody></table></div>"
      ]
     },
     "metadata": {
      "application/vnd.databricks.v1+output": {
       "addedWidgets": {},
       "aggData": [],
       "aggError": "",
       "aggOverflow": false,
       "aggSchema": [],
       "aggSeriesLimitReached": false,
       "aggType": "",
       "arguments": {},
       "columnCustomDisplayInfos": {},
       "data": [
        [
         "dbfs:/databricks-datasets/structured-streaming/events/file-0.json",
         "file-0.json",
         72530,
         1469673865000
        ],
        [
         "dbfs:/databricks-datasets/structured-streaming/events/file-1.json",
         "file-1.json",
         72961,
         1469673866000
        ],
        [
         "dbfs:/databricks-datasets/structured-streaming/events/file-10.json",
         "file-10.json",
         73025,
         1469673878000
        ],
        [
         "dbfs:/databricks-datasets/structured-streaming/events/file-11.json",
         "file-11.json",
         72999,
         1469673879000
        ],
        [
         "dbfs:/databricks-datasets/structured-streaming/events/file-12.json",
         "file-12.json",
         72987,
         1469673880000
        ],
        [
         "dbfs:/databricks-datasets/structured-streaming/events/file-13.json",
         "file-13.json",
         73006,
         1469673881000
        ],
        [
         "dbfs:/databricks-datasets/structured-streaming/events/file-14.json",
         "file-14.json",
         73003,
         1469673882000
        ],
        [
         "dbfs:/databricks-datasets/structured-streaming/events/file-15.json",
         "file-15.json",
         73007,
         1469673883000
        ],
        [
         "dbfs:/databricks-datasets/structured-streaming/events/file-16.json",
         "file-16.json",
         72978,
         1469673885000
        ],
        [
         "dbfs:/databricks-datasets/structured-streaming/events/file-17.json",
         "file-17.json",
         73008,
         1469673886000
        ],
        [
         "dbfs:/databricks-datasets/structured-streaming/events/file-18.json",
         "file-18.json",
         73002,
         1469673887000
        ],
        [
         "dbfs:/databricks-datasets/structured-streaming/events/file-19.json",
         "file-19.json",
         73014,
         1469673888000
        ],
        [
         "dbfs:/databricks-datasets/structured-streaming/events/file-2.json",
         "file-2.json",
         73007,
         1469673868000
        ],
        [
         "dbfs:/databricks-datasets/structured-streaming/events/file-20.json",
         "file-20.json",
         72987,
         1469673889000
        ],
        [
         "dbfs:/databricks-datasets/structured-streaming/events/file-21.json",
         "file-21.json",
         72983,
         1469673891000
        ],
        [
         "dbfs:/databricks-datasets/structured-streaming/events/file-22.json",
         "file-22.json",
         73009,
         1469673892000
        ],
        [
         "dbfs:/databricks-datasets/structured-streaming/events/file-23.json",
         "file-23.json",
         72985,
         1469673893000
        ],
        [
         "dbfs:/databricks-datasets/structured-streaming/events/file-24.json",
         "file-24.json",
         73020,
         1469673894000
        ],
        [
         "dbfs:/databricks-datasets/structured-streaming/events/file-25.json",
         "file-25.json",
         72980,
         1469673895000
        ],
        [
         "dbfs:/databricks-datasets/structured-streaming/events/file-26.json",
         "file-26.json",
         73002,
         1469673897000
        ],
        [
         "dbfs:/databricks-datasets/structured-streaming/events/file-27.json",
         "file-27.json",
         73013,
         1469673898000
        ],
        [
         "dbfs:/databricks-datasets/structured-streaming/events/file-28.json",
         "file-28.json",
         73005,
         1469673899000
        ],
        [
         "dbfs:/databricks-datasets/structured-streaming/events/file-29.json",
         "file-29.json",
         72977,
         1469673900000
        ],
        [
         "dbfs:/databricks-datasets/structured-streaming/events/file-3.json",
         "file-3.json",
         72996,
         1469673869000
        ],
        [
         "dbfs:/databricks-datasets/structured-streaming/events/file-30.json",
         "file-30.json",
         73009,
         1469673902000
        ],
        [
         "dbfs:/databricks-datasets/structured-streaming/events/file-31.json",
         "file-31.json",
         73008,
         1469673903000
        ],
        [
         "dbfs:/databricks-datasets/structured-streaming/events/file-32.json",
         "file-32.json",
         72982,
         1469673904000
        ],
        [
         "dbfs:/databricks-datasets/structured-streaming/events/file-33.json",
         "file-33.json",
         73033,
         1469673905000
        ],
        [
         "dbfs:/databricks-datasets/structured-streaming/events/file-34.json",
         "file-34.json",
         72985,
         1469673907000
        ],
        [
         "dbfs:/databricks-datasets/structured-streaming/events/file-35.json",
         "file-35.json",
         72974,
         1469673908000
        ],
        [
         "dbfs:/databricks-datasets/structured-streaming/events/file-36.json",
         "file-36.json",
         73013,
         1469673909000
        ],
        [
         "dbfs:/databricks-datasets/structured-streaming/events/file-37.json",
         "file-37.json",
         72989,
         1469673910000
        ],
        [
         "dbfs:/databricks-datasets/structured-streaming/events/file-38.json",
         "file-38.json",
         72999,
         1469673911000
        ],
        [
         "dbfs:/databricks-datasets/structured-streaming/events/file-39.json",
         "file-39.json",
         73013,
         1469673913000
        ],
        [
         "dbfs:/databricks-datasets/structured-streaming/events/file-4.json",
         "file-4.json",
         72992,
         1469673870000
        ],
        [
         "dbfs:/databricks-datasets/structured-streaming/events/file-40.json",
         "file-40.json",
         72986,
         1469673914000
        ],
        [
         "dbfs:/databricks-datasets/structured-streaming/events/file-41.json",
         "file-41.json",
         73019,
         1469673915000
        ],
        [
         "dbfs:/databricks-datasets/structured-streaming/events/file-42.json",
         "file-42.json",
         72986,
         1469673916000
        ],
        [
         "dbfs:/databricks-datasets/structured-streaming/events/file-43.json",
         "file-43.json",
         72990,
         1469673918000
        ],
        [
         "dbfs:/databricks-datasets/structured-streaming/events/file-44.json",
         "file-44.json",
         73018,
         1469673919000
        ],
        [
         "dbfs:/databricks-datasets/structured-streaming/events/file-45.json",
         "file-45.json",
         72997,
         1469673921000
        ],
        [
         "dbfs:/databricks-datasets/structured-streaming/events/file-46.json",
         "file-46.json",
         72991,
         1469673922000
        ],
        [
         "dbfs:/databricks-datasets/structured-streaming/events/file-47.json",
         "file-47.json",
         73009,
         1469673923000
        ],
        [
         "dbfs:/databricks-datasets/structured-streaming/events/file-48.json",
         "file-48.json",
         72993,
         1469673924000
        ],
        [
         "dbfs:/databricks-datasets/structured-streaming/events/file-49.json",
         "file-49.json",
         73496,
         1469673926000
        ],
        [
         "dbfs:/databricks-datasets/structured-streaming/events/file-5.json",
         "file-5.json",
         72998,
         1469673871000
        ],
        [
         "dbfs:/databricks-datasets/structured-streaming/events/file-6.json",
         "file-6.json",
         72997,
         1469673873000
        ],
        [
         "dbfs:/databricks-datasets/structured-streaming/events/file-7.json",
         "file-7.json",
         73022,
         1469673874000
        ],
        [
         "dbfs:/databricks-datasets/structured-streaming/events/file-8.json",
         "file-8.json",
         72997,
         1469673875000
        ],
        [
         "dbfs:/databricks-datasets/structured-streaming/events/file-9.json",
         "file-9.json",
         72970,
         1469673876000
        ]
       ],
       "datasetInfos": [],
       "dbfsResultPath": null,
       "isJsonSchema": true,
       "metadata": {
        "isDbfsCommandResult": false
       },
       "overflow": false,
       "plotOptions": {
        "customPlotOptions": {},
        "displayType": "table",
        "pivotAggregation": null,
        "pivotColumns": null,
        "xColumns": null,
        "yColumns": null
       },
       "removedWidgets": [],
       "schema": [
        {
         "metadata": "{}",
         "name": "path",
         "type": "\"string\""
        },
        {
         "metadata": "{}",
         "name": "name",
         "type": "\"string\""
        },
        {
         "metadata": "{}",
         "name": "size",
         "type": "\"long\""
        },
        {
         "metadata": "{}",
         "name": "modificationTime",
         "type": "\"long\""
        }
       ],
       "type": "table"
      }
     },
     "output_type": "display_data"
    }
   ],
   "source": [
    "%fs ls /databricks-datasets/structured-streaming/events/"
   ]
  },
  {
   "cell_type": "code",
   "execution_count": 0,
   "metadata": {
    "application/vnd.databricks.v1+cell": {
     "cellMetadata": {
      "byteLimit": 2048000,
      "rowLimit": 10000
     },
     "inputWidgets": {},
     "nuid": "86a08237-c3c4-4881-84bb-922c83383865",
     "showTitle": false,
     "title": ""
    }
   },
   "outputs": [
    {
     "output_type": "display_data",
     "data": {
      "text/html": [
       "<style scoped>\n",
       "  .ansiout {\n",
       "    display: block;\n",
       "    unicode-bidi: embed;\n",
       "    white-space: pre-wrap;\n",
       "    word-wrap: break-word;\n",
       "    word-break: break-all;\n",
       "    font-family: \"Source Code Pro\", \"Menlo\", monospace;;\n",
       "    font-size: 13px;\n",
       "    color: #555;\n",
       "    margin-left: 4px;\n",
       "    line-height: 19px;\n",
       "  }\n",
       "</style>\n",
       "<div class=\"ansiout\">[Truncated to first 65536 bytes]\n",
       "{&quot;time&quot;:1469501107,&quot;action&quot;:&quot;Open&quot;}\n",
       "{&quot;time&quot;:1469501147,&quot;action&quot;:&quot;Open&quot;}\n",
       "{&quot;time&quot;:1469501202,&quot;action&quot;:&quot;Open&quot;}\n",
       "{&quot;time&quot;:1469501219,&quot;action&quot;:&quot;Open&quot;}\n",
       "{&quot;time&quot;:1469501225,&quot;action&quot;:&quot;Open&quot;}\n",
       "{&quot;time&quot;:1469501234,&quot;action&quot;:&quot;Open&quot;}\n",
       "{&quot;time&quot;:1469501245,&quot;action&quot;:&quot;Open&quot;}\n",
       "{&quot;time&quot;:1469501246,&quot;action&quot;:&quot;Open&quot;}\n",
       "{&quot;time&quot;:1469501248,&quot;action&quot;:&quot;Open&quot;}\n",
       "{&quot;time&quot;:1469501256,&quot;action&quot;:&quot;Open&quot;}\n",
       "{&quot;time&quot;:1469501264,&quot;action&quot;:&quot;Open&quot;}\n",
       "{&quot;time&quot;:1469501266,&quot;action&quot;:&quot;Open&quot;}\n",
       "{&quot;time&quot;:1469501267,&quot;action&quot;:&quot;Open&quot;}\n",
       "{&quot;time&quot;:1469501269,&quot;action&quot;:&quot;Open&quot;}\n",
       "{&quot;time&quot;:1469501271,&quot;action&quot;:&quot;Open&quot;}\n",
       "{&quot;time&quot;:1469501282,&quot;action&quot;:&quot;Open&quot;}\n",
       "{&quot;time&quot;:1469501285,&quot;action&quot;:&quot;Open&quot;}\n",
       "{&quot;time&quot;:1469501291,&quot;action&quot;:&quot;Open&quot;}\n",
       "{&quot;time&quot;:1469501297,&quot;action&quot;:&quot;Open&quot;}\n",
       "{&quot;time&quot;:1469501303,&quot;action&quot;:&quot;Open&quot;}\n",
       "{&quot;time&quot;:1469501322,&quot;action&quot;:&quot;Open&quot;}\n",
       "{&quot;time&quot;:1469501335,&quot;action&quot;:&quot;Open&quot;}\n",
       "{&quot;time&quot;:1469501344,&quot;action&quot;:&quot;Open&quot;}\n",
       "{&quot;time&quot;:1469501346,&quot;action&quot;:&quot;Open&quot;}\n",
       "{&quot;time&quot;:1469501349,&quot;action&quot;:&quot;Open&quot;}\n",
       "{&quot;time&quot;:1469501357,&quot;action&quot;:&quot;Open&quot;}\n",
       "{&quot;time&quot;:1469501366,&quot;action&quot;:&quot;Open&quot;}\n",
       "{&quot;time&quot;:1469501371,&quot;action&quot;:&quot;Open&quot;}\n",
       "{&quot;time&quot;:1469501375,&quot;action&quot;:&quot;Open&quot;}\n",
       "{&quot;time&quot;:1469501375,&quot;action&quot;:&quot;Open&quot;}\n",
       "{&quot;time&quot;:1469501381,&quot;action&quot;:&quot;Open&quot;}\n",
       "{&quot;time&quot;:1469501392,&quot;action&quot;:&quot;Open&quot;}\n",
       "{&quot;time&quot;:1469501402,&quot;action&quot;:&quot;Open&quot;}\n",
       "{&quot;time&quot;:1469501407,&quot;action&quot;:&quot;Open&quot;}\n",
       "{&quot;time&quot;:1469501410,&quot;action&quot;:&quot;Open&quot;}\n",
       "{&quot;time&quot;:1469501420,&quot;action&quot;:&quot;Open&quot;}\n",
       "{&quot;time&quot;:1469501424,&quot;action&quot;:&quot;Open&quot;}\n",
       "{&quot;time&quot;:1469501438,&quot;action&quot;:&quot;Open&quot;}\n",
       "{&quot;time&quot;:1469501442,&quot;action&quot;:&quot;Close&quot;}\n",
       "{&quot;time&quot;:1469501462,&quot;action&quot;:&quot;Open&quot;}\n",
       "{&quot;time&quot;:1469501480,&quot;action&quot;:&quot;Open&quot;}\n",
       "{&quot;time&quot;:1469501488,&quot;action&quot;:&quot;Open&quot;}\n",
       "{&quot;time&quot;:1469501489,&quot;action&quot;:&quot;Open&quot;}\n",
       "{&quot;time&quot;:1469501491,&quot;action&quot;:&quot;Open&quot;}\n",
       "{&quot;time&quot;:1469501503,&quot;action&quot;:&quot;Open&quot;}\n",
       "{&quot;time&quot;:1469501505,&quot;action&quot;:&quot;Open&quot;}\n",
       "{&quot;time&quot;:1469501509,&quot;action&quot;:&quot;Open&quot;}\n",
       "{&quot;time&quot;:1469501513,&quot;action&quot;:&quot;Open&quot;}\n",
       "{&quot;time&quot;:1469501517,&quot;action&quot;:&quot;Open&quot;}\n",
       "{&quot;time&quot;:1469501520,&quot;action&quot;:&quot;Open&quot;}\n",
       "{&quot;time&quot;:1469501525,&quot;action&quot;:&quot;Open&quot;}\n",
       "{&quot;time&quot;:1469501533,&quot;action&quot;:&quot;Open&quot;}\n",
       "{&quot;time&quot;:1469501539,&quot;action&quot;:&quot;Open&quot;}\n",
       "{&quot;time&quot;:1469501540,&quot;action&quot;:&quot;Open&quot;}\n",
       "{&quot;time&quot;:1469501541,&quot;action&quot;:&quot;Open&quot;}\n",
       "{&quot;time&quot;:1469501543,&quot;action&quot;:&quot;Open&quot;}\n",
       "{&quot;time&quot;:1469501544,&quot;action&quot;:&quot;Open&quot;}\n",
       "{&quot;time&quot;:1469501545,&quot;action&quot;:&quot;Close&quot;}\n",
       "{&quot;time&quot;:1469501545,&quot;action&quot;:&quot;Open&quot;}\n",
       "{&quot;time&quot;:1469501547,&quot;action&quot;:&quot;Open&quot;}\n",
       "{&quot;time&quot;:1469501552,&quot;action&quot;:&quot;Open&quot;}\n",
       "{&quot;time&quot;:1469501557,&quot;action&quot;:&quot;Open&quot;}\n",
       "{&quot;time&quot;:1469501559,&quot;action&quot;:&quot;Open&quot;}\n",
       "{&quot;time&quot;:1469501560,&quot;action&quot;:&quot;Open&quot;}\n",
       "{&quot;time&quot;:1469501560,&quot;action&quot;:&quot;Open&quot;}\n",
       "{&quot;time&quot;:1469501565,&quot;action&quot;:&quot;Open&quot;}\n",
       "{&quot;time&quot;:1469501566,&quot;action&quot;:&quot;Open&quot;}\n",
       "{&quot;time&quot;:1469501574,&quot;action&quot;:&quot;Open&quot;}\n",
       "{&quot;time&quot;:1469501575,&quot;action&quot;:&quot;Open&quot;}\n",
       "{&quot;time&quot;:1469501575,&quot;action&quot;:&quot;Open&quot;}\n",
       "{&quot;time&quot;:1469501578,&quot;action&quot;:&quot;Open&quot;}\n",
       "{&quot;time&quot;:1469501581,&quot;action&quot;:&quot;Open&quot;}\n",
       "{&quot;time&quot;:1469501584,&quot;action&quot;:&quot;Open&quot;}\n",
       "{&quot;time&quot;:1469501600,&quot;action&quot;:&quot;Open&quot;}\n",
       "{&quot;time&quot;:1469501601,&quot;action&quot;:&quot;Open&quot;}\n",
       "{&quot;time&quot;:1469501603,&quot;action&quot;:&quot;Open&quot;}\n",
       "{&quot;time&quot;:1469501610,&quot;action&quot;:&quot;Open&quot;}\n",
       "{&quot;time&quot;:1469501620,&quot;action&quot;:&quot;Open&quot;}\n",
       "{&quot;time&quot;:1469501621,&quot;action&quot;:&quot;Open&quot;}\n",
       "{&quot;time&quot;:1469501625,&quot;action&quot;:&quot;Open&quot;}\n",
       "{&quot;time&quot;:1469501625,&quot;action&quot;:&quot;Close&quot;}\n",
       "{&quot;time&quot;:1469501626,&quot;action&quot;:&quot;Open&quot;}\n",
       "{&quot;time&quot;:1469501631,&quot;action&quot;:&quot;Open&quot;}\n",
       "{&quot;time&quot;:1469501632,&quot;action&quot;:&quot;Open&quot;}\n",
       "{&quot;time&quot;:1469501632,&quot;action&quot;:&quot;Open&quot;}\n",
       "{&quot;time&quot;:1469501638,&quot;action&quot;:&quot;Open&quot;}\n",
       "{&quot;time&quot;:1469501643,&quot;action&quot;:&quot;Open&quot;}\n",
       "{&quot;time&quot;:1469501646,&quot;action&quot;:&quot;Open&quot;}\n",
       "{&quot;time&quot;:1469501662,&quot;action&quot;:&quot;Open&quot;}\n",
       "{&quot;time&quot;:1469501662,&quot;action&quot;:&quot;Open&quot;}\n",
       "{&quot;time&quot;:1469501662,&quot;action&quot;:&quot;Open&quot;}\n",
       "{&quot;time&quot;:1469501663,&quot;action&quot;:&quot;Open&quot;}\n",
       "{&quot;time&quot;:1469501667,&quot;action&quot;:&quot;Open&quot;}\n",
       "{&quot;time&quot;:1469501674,&quot;action&quot;:&quot;Open&quot;}\n",
       "{&quot;time&quot;:1469501675,&quot;action&quot;:&quot;Open&quot;}\n",
       "{&quot;time&quot;:1469501678,&quot;action&quot;:&quot;Close&quot;}\n",
       "{&quot;time&quot;:1469501680,&quot;action&quot;:&quot;Open&quot;}\n",
       "{&quot;time&quot;:1469501685,&quot;action&quot;:&quot;Open&quot;}\n",
       "{&quot;time&quot;:1469501686,&quot;action&quot;:&quot;Open&quot;}\n",
       "{&quot;time&quot;:1469501689,&quot;action&quot;:&quot;Open&quot;}\n",
       "{&quot;time&quot;:1469501691,&quot;action&quot;:&quot;Open&quot;}\n",
       "{&quot;time&quot;:1469501694,&quot;action&quot;:&quot;Open&quot;}\n",
       "{&quot;time&quot;:1469501696,&quot;action&quot;:&quot;Close&quot;}\n",
       "{&quot;time&quot;:1469501702,&quot;action&quot;:&quot;Open&quot;}\n",
       "{&quot;time&quot;:1469501703,&quot;action&quot;:&quot;Open&quot;}\n",
       "{&quot;time&quot;:1469501704,&quot;action&quot;:&quot;Open&quot;}\n",
       "{&quot;time&quot;:1469501706,&quot;action&quot;:&quot;Open&quot;}\n",
       "{&quot;time&quot;:1469501706,&quot;action&quot;:&quot;Open&quot;}\n",
       "{&quot;time&quot;:1469501710,&quot;action&quot;:&quot;Open&quot;}\n",
       "{&quot;time&quot;:1469501715,&quot;action&quot;:&quot;Open&quot;}\n",
       "{&quot;time&quot;:1469501717,&quot;action&quot;:&quot;Open&quot;}\n",
       "{&quot;time&quot;:1469501719,&quot;action&quot;:&quot;Open&quot;}\n",
       "{&quot;time&quot;:1469501719,&quot;action&quot;:&quot;Open&quot;}\n",
       "{&quot;time&quot;:1469501734,&quot;action&quot;:&quot;Open&quot;}\n",
       "{&quot;time&quot;:1469501739,&quot;action&quot;:&quot;Open&quot;}\n",
       "{&quot;time&quot;:1469501740,&quot;action&quot;:&quot;Open&quot;}\n",
       "{&quot;time&quot;:1469501747,&quot;action&quot;:&quot;Open&quot;}\n",
       "{&quot;time&quot;:1469501749,&quot;action&quot;:&quot;Open&quot;}\n",
       "{&quot;time&quot;:1469501749,&quot;action&quot;:&quot;Close&quot;}\n",
       "{&quot;time&quot;:1469501754,&quot;action&quot;:&quot;Open&quot;}\n",
       "{&quot;time&quot;:1469501755,&quot;action&quot;:&quot;Open&quot;}\n",
       "{&quot;time&quot;:1469501756,&quot;action&quot;:&quot;Open&quot;}\n",
       "{&quot;time&quot;:1469501756,&quot;action&quot;:&quot;Open&quot;}\n",
       "{&quot;time&quot;:1469501757,&quot;action&quot;:&quot;Open&quot;}\n",
       "{&quot;time&quot;:1469501758,&quot;action&quot;:&quot;Open&quot;}\n",
       "{&quot;time&quot;:1469501759,&quot;action&quot;:&quot;Open&quot;}\n",
       "{&quot;time&quot;:1469501761,&quot;action&quot;:&quot;Open&quot;}\n",
       "{&quot;time&quot;:1469501764,&quot;action&quot;:&quot;Open&quot;}\n",
       "{&quot;time&quot;:1469501772,&quot;action&quot;:&quot;Open&quot;}\n",
       "{&quot;time&quot;:1469501772,&quot;action&quot;:&quot;Open&quot;}\n",
       "{&quot;time&quot;:1469501776,&quot;action&quot;:&quot;Close&quot;}\n",
       "{&quot;time&quot;:1469501780,&quot;action&quot;:&quot;Open&quot;}\n",
       "{&quot;time&quot;:1469501782,&quot;action&quot;:&quot;Open&quot;}\n",
       "{&quot;time&quot;:1469501783,&quot;action&quot;:&quot;Open&quot;}\n",
       "{&quot;time&quot;:1469501785,&quot;action&quot;:&quot;Open&quot;}\n",
       "{&quot;time&quot;:1469501789,&quot;action&quot;:&quot;Open&quot;}\n",
       "{&quot;time&quot;:1469501795,&quot;action&quot;:&quot;Open&quot;}\n",
       "{&quot;time&quot;:1469501802,&quot;action&quot;:&quot;Open&quot;}\n",
       "{&quot;time&quot;:1469501802,&quot;action&quot;:&quot;Open&quot;}\n",
       "{&quot;time&quot;:1469501806,&quot;action&quot;:&quot;Open&quot;}\n",
       "{&quot;time&quot;:1469501813,&quot;action&quot;:&quot;Open&quot;}\n",
       "{&quot;time&quot;:1469501817,&quot;action&quot;:&quot;Open&quot;}\n",
       "{&quot;time&quot;:1469501818,&quot;action&quot;:&quot;Open&quot;}\n",
       "{&quot;time&quot;:1469501819,&quot;action&quot;:&quot;Close&quot;}\n",
       "{&quot;time&quot;:1469501828,&quot;action&quot;:&quot;Open&quot;}\n",
       "{&quot;time&quot;:1469501829,&quot;action&quot;:&quot;Open&quot;}\n",
       "{&quot;time&quot;:1469501830,&quot;action&quot;:&quot;Open&quot;}\n",
       "{&quot;time&quot;:1469501833,&quot;action&quot;:&quot;Open&quot;}\n",
       "{&quot;time&quot;:1469501835,&quot;action&quot;:&quot;Open&quot;}\n",
       "{&quot;time&quot;:1469501837,&quot;action&quot;:&quot;Open&quot;}\n",
       "{&quot;time&quot;:1469501838,&quot;action&quot;:&quot;Open&quot;}\n",
       "{&quot;time&quot;:1469501840,&quot;action&quot;:&quot;Open&quot;}\n",
       "{&quot;time&quot;:1469501845,&quot;action&quot;:&quot;Open&quot;}\n",
       "{&quot;time&quot;:1469501848,&quot;action&quot;:&quot;Open&quot;}\n",
       "{&quot;time&quot;:1469501853,&quot;action&quot;:&quot;Open&quot;}\n",
       "{&quot;time&quot;:1469501855,&quot;action&quot;:&quot;Open&quot;}\n",
       "{&quot;time&quot;:1469501861,&quot;action&quot;:&quot;Close&quot;}\n",
       "{&quot;time&quot;:1469501861,&quot;action&quot;:&quot;Open&quot;}\n",
       "{&quot;time&quot;:1469501862,&quot;action&quot;:&quot;Open&quot;}\n",
       "{&quot;time&quot;:1469501863,&quot;action&quot;:&quot;Open&quot;}\n",
       "{&quot;time&quot;:1469501865,&quot;action&quot;:&quot;Open&quot;}\n",
       "{&quot;time&quot;:1469501873,&quot;action&quot;:&quot;Open&quot;}\n",
       "{&quot;time&quot;:1469501884,&quot;action&quot;:&quot;Open&quot;}\n",
       "{&quot;time&quot;:1469501895,&quot;action&quot;:&quot;Open&quot;}\n",
       "{&quot;time&quot;:1469501904,&quot;action&quot;:&quot;Open&quot;}\n",
       "{&quot;time&quot;:1469501907,&quot;action&quot;:&quot;Open&quot;}\n",
       "{&quot;time&quot;:1469501909,&quot;action&quot;:&quot;Close&quot;}\n",
       "{&quot;time&quot;:1469501909,&quot;action&quot;:&quot;Open&quot;}\n",
       "{&quot;time&quot;:1469501911,&quot;action&quot;:&quot;Open&quot;}\n",
       "{&quot;time&quot;:1469501929,&quot;action&quot;:&quot;Open&quot;}\n",
       "{&quot;time&quot;:1469501930,&quot;action&quot;:&quot;Open&quot;}\n",
       "{&quot;time&quot;:1469501930,&quot;action&quot;:&quot;Open&quot;}\n",
       "{&quot;time&quot;:1469501931,&quot;action&quot;:&quot;Open&quot;}\n",
       "{&quot;time&quot;:1469501935,&quot;action&quot;:&quot;Open&quot;}\n",
       "{&quot;time&quot;:1469501935,&quot;action&quot;:&quot;Open&quot;}\n",
       "{&quot;time&quot;:1469501946,&quot;action&quot;:&quot;Open&quot;}\n",
       "{&quot;time&quot;:1469501946,&quot;action&quot;:&quot;Open&quot;}\n",
       "{&quot;time&quot;:1469501959,&quot;action&quot;:&quot;Open&quot;}\n",
       "{&quot;time&quot;:1469501967,&quot;action&quot;:&quot;Open&quot;}\n",
       "{&quot;time&quot;:1469501972,&quot;action&quot;:&quot;Close&quot;}\n",
       "{&quot;time&quot;:1469501976,&quot;action&quot;:&quot;Open&quot;}\n",
       "{&quot;time&quot;:1469501978,&quot;action&quot;:&quot;Open&quot;}\n",
       "{&quot;time&quot;:1469501978,&quot;action&quot;:&quot;Open&quot;}\n",
       "{&quot;time&quot;:1469501978,&quot;action&quot;:&quot;Open&quot;}\n",
       "{&quot;time&quot;:1469501980,&quot;action&quot;:&quot;Open&quot;}\n",
       "{&quot;time&quot;:1469501980,&quot;action&quot;:&quot;Open&quot;}\n",
       "{&quot;time&quot;:1469501985,&quot;action&quot;:&quot;Open&quot;}\n",
       "{&quot;time&quot;:1469501988,&quot;action&quot;:&quot;Open&quot;}\n",
       "{&quot;time&quot;:1469501992,&quot;action&quot;:&quot;Open&quot;}\n",
       "{&quot;time&quot;:1469501996,&quot;action&quot;:&quot;Open&quot;}\n",
       "{&quot;time&quot;:1469502005,&quot;action&quot;:&quot;Open&quot;}\n",
       "{&quot;time&quot;:1469502010,&quot;action&quot;:&quot;Open&quot;}\n",
       "{&quot;time&quot;:1469502014,&quot;action&quot;:&quot;Close&quot;}\n",
       "{&quot;time&quot;:1469502020,&quot;action&quot;:&quot;Open&quot;}\n",
       "{&quot;time&quot;:1469502022,&quot;action&quot;:&quot;Open&quot;}\n",
       "{&quot;time&quot;:1469502022,&quot;action&quot;:&quot;Open&quot;}\n",
       "{&quot;time&quot;:1469502031,&quot;action&quot;:&quot;Open&quot;}\n",
       "{&quot;time&quot;:1469502031,&quot;action&quot;:&quot;Open&quot;}\n",
       "{&quot;time&quot;:1469502033,&quot;action&quot;:&quot;Open&quot;}\n",
       "{&quot;time&quot;:1469502035,&quot;action&quot;:&quot;Open&quot;}\n",
       "{&quot;time&quot;:1469502038,&quot;action&quot;:&quot;Open&quot;}\n",
       "{&quot;time&quot;:1469502044,&quot;action&quot;:&quot;Open&quot;}\n",
       "{&quot;time&quot;:1469502054,&quot;action&quot;:&quot;Open&quot;}\n",
       "{&quot;time&quot;:1469502054,&quot;action&quot;:&quot;Open&quot;}\n",
       "{&quot;time&quot;:1469502054,&quot;action&quot;:&quot;Open&quot;}\n",
       "{&quot;time&quot;:1469502057,&quot;action&quot;:&quot;Open&quot;}\n",
       "{&quot;time&quot;:1469502060,&quot;action&quot;:&quot;Open&quot;}\n",
       "{&quot;time&quot;:1469502065,&quot;action&quot;:&quot;Open&quot;}\n",
       "{&quot;time&quot;:1469502067,&quot;action&quot;:&quot;Open&quot;}\n",
       "{&quot;time&quot;:1469502071,&quot;action&quot;:&quot;Open&quot;}\n",
       "{&quot;time&quot;:1469502071,&quot;action&quot;:&quot;Open&quot;}\n",
       "{&quot;time&quot;:1469502072,&quot;action&quot;:&quot;Close&quot;}\n",
       "{&quot;time&quot;:1469502073,&quot;action&quot;:&quot;Open&quot;}\n",
       "{&quot;time&quot;:1469502077,&quot;action&quot;:&quot;Open&quot;}\n",
       "{&quot;time&quot;:1469502080,&quot;action&quot;:&quot;Open&quot;}\n",
       "{&quot;time&quot;:1469502092,&quot;action&quot;:&quot;Open&quot;}\n",
       "{&quot;time&quot;:1469502097,&quot;action&quot;:&quot;Open&quot;}\n",
       "{&quot;time&quot;:1469502105,&quot;action&quot;:&quot;Open&quot;}\n",
       "{&quot;time&quot;:1469502109,&quot;action&quot;:&quot;Open&quot;}\n",
       "{&quot;time&quot;:1469502118,&quot;action&quot;:&quot;Open&quot;}\n",
       "{&quot;time&quot;:1469502126,&quot;action&quot;:&quot;Open&quot;}\n",
       "{&quot;time&quot;:1469502127,&quot;action&quot;:&quot;Open&quot;}\n",
       "{&quot;time&quot;:1469502130,&quot;action&quot;:&quot;Open&quot;}\n",
       "{&quot;time&quot;:1469502130,&quot;action&quot;:&quot;Open&quot;}\n",
       "{&quot;time&quot;:1469502132,&quot;action&quot;:&quot;Open&quot;}\n",
       "{&quot;time&quot;:1469502135,&quot;action&quot;:&quot;Open&quot;}\n",
       "{&quot;time&quot;:1469502144,&quot;action&quot;:&quot;Open&quot;}\n",
       "{&quot;time&quot;:1469502145,&quot;action&quot;:&quot;Open&quot;}\n",
       "{&quot;time&quot;:1469502147,&quot;action&quot;:&quot;Open&quot;}\n",
       "{&quot;time&quot;:1469502148,&quot;action&quot;:&quot;Close&quot;}\n",
       "{&quot;time&quot;:1469502154,&quot;action&quot;:&quot;Open&quot;}\n",
       "{&quot;time&quot;:1469502157,&quot;action&quot;:&quot;Open&quot;}\n",
       "{&quot;time&quot;:1469502165,&quot;action&quot;:&quot;Open&quot;}\n",
       "{&quot;time&quot;:1469502177,&quot;action&quot;:&quot;Open&quot;}\n",
       "{&quot;time&quot;:1469502181,&quot;action&quot;:&quot;Open&quot;}\n",
       "{&quot;time&quot;:1469502181,&quot;action&quot;:&quot;Open&quot;}\n",
       "{&quot;time&quot;:1469502182,&quot;action&quot;:&quot;Open&quot;}\n",
       "{&quot;time&quot;:1469502184,&quot;action&quot;:&quot;Open&quot;}\n",
       "{&quot;time&quot;:1469502184,&quot;action&quot;:&quot;Open&quot;}\n",
       "{&quot;time&quot;:1469502190,&quot;action&quot;:&quot;Open&quot;}\n",
       "{&quot;time&quot;:1469502194,&quot;action&quot;:&quot;Open&quot;}\n",
       "{&quot;time&quot;:1469502201,&quot;action&quot;:&quot;Open&quot;}\n",
       "{&quot;time&quot;:1469502202,&quot;action&quot;:&quot;Open&quot;}\n",
       "{&quot;time&quot;:1469502205,&quot;action&quot;:&quot;Open&quot;}\n",
       "{&quot;time&quot;:1469502206,&quot;action&quot;:&quot;Open&quot;}\n",
       "{&quot;time&quot;:1469502211,&quot;action&quot;:&quot;Open&quot;}\n",
       "{&quot;time&quot;:1469502217,&quot;action&quot;:&quot;Open&quot;}\n",
       "{&quot;time&quot;:1469502218,&quot;action&quot;:&quot;Open&quot;}\n",
       "{&quot;time&quot;:1469502229,&quot;action&quot;:&quot;Open&quot;}\n",
       "{&quot;time&quot;:1469502231,&quot;action&quot;:&quot;Open&quot;}\n",
       "{&quot;time&quot;:1469502231,&quot;action&quot;:&quot;Open&quot;}\n",
       "{&quot;time&quot;:1469502234,&quot;action&quot;:&quot;Open&quot;}\n",
       "{&quot;time&quot;:1469502236,&quot;action&quot;:&quot;Open&quot;}\n",
       "{&quot;time&quot;:1469502241,&quot;action&quot;:&quot;Open&quot;}\n",
       "{&quot;time&quot;:1469502244,&quot;action&quot;:&quot;Open&quot;}\n",
       "{&quot;time&quot;:1469502245,&quot;action&quot;:&quot;Open&quot;}\n",
       "{&quot;time&quot;:1469502246,&quot;action&quot;:&quot;Open&quot;}\n",
       "{&quot;time&quot;:1469502253,&quot;action&quot;:&quot;Open&quot;}\n",
       "{&quot;time&quot;:1469502257,&quot;action&quot;:&quot;Open&quot;}\n",
       "{&quot;time&quot;:1469502258,&quot;action&quot;:&quot;Open&quot;}\n",
       "{&quot;time&quot;:1469502259,&quot;action&quot;:&quot;Open&quot;}\n",
       "{&quot;time&quot;:1469502259,&quot;action&quot;:&quot;Open&quot;}\n",
       "{&quot;time&quot;:1469502261,&quot;action&quot;:&quot;Close&quot;}\n",
       "{&quot;time&quot;:1469502267,&quot;action&quot;:&quot;Open&quot;}\n",
       "{&quot;time&quot;:1469502269,&quot;action&quot;:&quot;Open&quot;}\n",
       "{&quot;time&quot;:1469502269,&quot;action&quot;:&quot;Open&quot;}\n",
       "{&quot;time&quot;:1469502270,&quot;action&quot;:&quot;Open&quot;}\n",
       "{&quot;time&quot;:1469502272,&quot;action&quot;:&quot;Open&quot;}\n",
       "{&quot;time&quot;:1469502272,&quot;action&quot;:&quot;Open&quot;}\n",
       "{&quot;time&quot;:1469502273,&quot;action&quot;:&quot;Open&quot;}\n",
       "{&quot;time&quot;:1469502273,&quot;action&quot;:&quot;Open&quot;}\n",
       "{&quot;time&quot;:1469502275,&quot;action&quot;:&quot;Open&quot;}\n",
       "{&quot;time&quot;:1469502277,&quot;action&quot;:&quot;Open&quot;}\n",
       "{&quot;time&quot;:1469502279,&quot;action&quot;:&quot;Open&quot;}\n",
       "{&quot;time&quot;:1469502279,&quot;action&quot;:&quot;Open&quot;}\n",
       "{&quot;time&quot;:1469502282,&quot;action&quot;:&quot;Close&quot;}\n",
       "{&quot;time&quot;:1469502285,&quot;action&quot;:&quot;Open&quot;}\n",
       "{&quot;time&quot;:1469502286,&quot;action&quot;:&quot;Open&quot;}\n",
       "{&quot;time&quot;:1469502292,&quot;action&quot;:&quot;Open&quot;}\n",
       "{&quot;time&quot;:1469502294,&quot;action&quot;:&quot;Open&quot;}\n",
       "{&quot;time&quot;:1469502298,&quot;action&quot;:&quot;Open&quot;}\n",
       "{&quot;time&quot;:1469502301,&quot;action&quot;:&quot;Open&quot;}\n",
       "{&quot;time&quot;:1469502302,&quot;action&quot;:&quot;Open&quot;}\n",
       "{&quot;time&quot;:1469502304,&quot;action&quot;:&quot;Open&quot;}\n",
       "{&quot;time&quot;:1469502308,&quot;action&quot;:&quot;Open&quot;}\n",
       "{&quot;time&quot;:1469502318,&quot;action&quot;:&quot;Open&quot;}\n",
       "{&quot;time&quot;:1469502323,&quot;action&quot;:&quot;Open&quot;}\n",
       "{&quot;time&quot;:1469502328,&quot;action&quot;:&quot;Open&quot;}\n",
       "{&quot;time&quot;:1469502333,&quot;action&quot;:&quot;Open&quot;}\n",
       "{&quot;time&quot;:1469502336,&quot;action&quot;:&quot;Close&quot;}\n",
       "{&quot;time&quot;:1469502338,&quot;action&quot;:&quot;Close&quot;}\n",
       "{&quot;time&quot;:1469502346,&quot;action&quot;:&quot;Open&quot;}\n",
       "{&quot;time&quot;:1469502348,&quot;action&quot;:&quot;Open&quot;}\n",
       "{&quot;time&quot;:1469502350,&quot;action&quot;:&quot;Open&quot;}\n",
       "{&quot;time&quot;:1469502351,&quot;action&quot;:&quot;Close&quot;}\n",
       "{&quot;time&quot;:1469502357,&quot;action&quot;:&quot;Close&quot;}\n",
       "{&quot;time&quot;:1469502361,&quot;action&quot;:&quot;Open&quot;}\n",
       "{&quot;time&quot;:1469502361,&quot;action&quot;:&quot;Open&quot;}\n",
       "{&quot;time&quot;:1469502364,&quot;action&quot;:&quot;Open&quot;}\n",
       "{&quot;time&quot;:1469502365,&quot;action&quot;:&quot;Open&quot;}\n",
       "{&quot;time&quot;:1469502367,&quot;action&quot;:&quot;Open&quot;}\n",
       "{&quot;time&quot;:1469502369,&quot;action&quot;:&quot;Open&quot;}\n",
       "{&quot;time&quot;:1469502372,&quot;action&quot;:&quot;Open&quot;}\n",
       "{&quot;time&quot;:1469502374,&quot;action&quot;:&quot;Open&quot;}\n",
       "{&quot;time&quot;:1469502377,&quot;action&quot;:&quot;Open&quot;}\n",
       "{&quot;time&quot;:1469502379,&quot;action&quot;:&quot;Close&quot;}\n",
       "{&quot;time&quot;:1469502379,&quot;action&quot;:&quot;Open&quot;}\n",
       "{&quot;time&quot;:1469502382,&quot;action&quot;:&quot;Open&quot;}\n",
       "{&quot;time&quot;:1469502385,&quot;action&quot;:&quot;Open&quot;}\n",
       "{&quot;time&quot;:1469502388,&quot;action&quot;:&quot;Open&quot;}\n",
       "{&quot;time&quot;:1469502404,&quot;action&quot;:&quot;Open&quot;}\n",
       "{&quot;time&quot;:1469502411,&quot;action&quot;:&quot;Open&quot;}\n",
       "{&quot;time&quot;:1469502416,&quot;action&quot;:&quot;Open&quot;}\n",
       "{&quot;time&quot;:1469502416,&quot;action&quot;:&quot;Open&quot;}\n",
       "{&quot;time&quot;:1469502417,&quot;action&quot;:&quot;Close&quot;}\n",
       "{&quot;time&quot;:1469502422,&quot;action&quot;:&quot;Open&quot;}\n",
       "{&quot;time&quot;:1469502429,&quot;action&quot;:&quot;Open&quot;}\n",
       "{&quot;time&quot;:1469502430,&quot;action&quot;:&quot;Open&quot;}\n",
       "{&quot;time&quot;:1469502430,&quot;action&quot;:&quot;Open&quot;}\n",
       "{&quot;time&quot;:1469502432,&quot;action&quot;:&quot;Open&quot;}\n",
       "{&quot;time&quot;:1469502432,&quot;action&quot;:&quot;Open&quot;}\n",
       "{&quot;time&quot;:1469502433,&quot;action&quot;:&quot;Open&quot;}\n",
       "{&quot;time&quot;:1469502444,&quot;action&quot;:&quot;Open&quot;}\n",
       "{&quot;time&quot;:1469502445,&quot;action&quot;:&quot;Open&quot;}\n",
       "{&quot;time&quot;:1469502446,&quot;action&quot;:&quot;Open&quot;}\n",
       "{&quot;time&quot;:1469502446,&quot;action&quot;:&quot;Open&quot;}\n",
       "{&quot;time&quot;:1469502453,&quot;action&quot;:&quot;Open&quot;}\n",
       "{&quot;time&quot;:1469502456,&quot;action&quot;:&quot;Close&quot;}\n",
       "{&quot;time&quot;:1469502464,&quot;action&quot;:&quot;Open&quot;}\n",
       "{&quot;time&quot;:1469502470,&quot;action&quot;:&quot;Open&quot;}\n",
       "{&quot;time&quot;:1469502471,&quot;action&quot;:&quot;Open&quot;}\n",
       "{&quot;time&quot;:1469502472,&quot;action&quot;:&quot;Open&quot;}\n",
       "{&quot;time&quot;:1469502474,&quot;action&quot;:&quot;Open&quot;}\n",
       "{&quot;time&quot;:1469502475,&quot;action&quot;:&quot;Open&quot;}\n",
       "{&quot;time&quot;:1469502480,&quot;action&quot;:&quot;Open&quot;}\n",
       "{&quot;time&quot;:1469502481,&quot;action&quot;:&quot;Open&quot;}\n",
       "{&quot;time&quot;:1469502490,&quot;action&quot;:&quot;Open&quot;}\n",
       "{&quot;time&quot;:1469502497,&quot;action&quot;:&quot;Close&quot;}\n",
       "{&quot;time&quot;:1469502497,&quot;action&quot;:&quot;Open&quot;}\n",
       "{&quot;time&quot;:1469502497,&quot;action&quot;:&quot;Close&quot;}\n",
       "{&quot;time&quot;:1469502500,&quot;action&quot;:&quot;Close&quot;}\n",
       "{&quot;time&quot;:1469502500,&quot;action&quot;:&quot;Open&quot;}\n",
       "{&quot;time&quot;:1469502501,&quot;action&quot;:&quot;Open&quot;}\n",
       "{&quot;time&quot;:1469502507,&quot;action&quot;:&quot;Close&quot;}\n",
       "{&quot;time&quot;:1469502507,&quot;action&quot;:&quot;Open&quot;}\n",
       "{&quot;time&quot;:1469502508,&quot;action&quot;:&quot;Open&quot;}\n",
       "{&quot;time&quot;:1469502512,&quot;action&quot;:&quot;Open&quot;}\n",
       "{&quot;time&quot;:1469502514,&quot;action&quot;:&quot;Open&quot;}\n",
       "{&quot;time&quot;:1469502515,&quot;action&quot;:&quot;Open&quot;}\n",
       "{&quot;time&quot;:1469502517,&quot;action&quot;:&quot;Close&quot;}\n",
       "{&quot;time&quot;:1469502527,&quot;action&quot;:&quot;Open&quot;}\n",
       "{&quot;time&quot;:1469502527,&quot;action&quot;:&quot;Open&quot;}\n",
       "{&quot;time&quot;:1469502529,&quot;action&quot;:&quot;Open&quot;}\n",
       "{&quot;time&quot;:1469502538,&quot;action&quot;:&quot;Open&quot;}\n",
       "{&quot;time&quot;:1469502549,&quot;action&quot;:&quot;Open&quot;}\n",
       "{&quot;time&quot;:1469502553,&quot;action&quot;:&quot;Open&quot;}\n",
       "{&quot;time&quot;:1469502555,&quot;action&quot;:&quot;Open&quot;}\n",
       "{&quot;time&quot;:1469502560,&quot;action&quot;:&quot;Open&quot;}\n",
       "{&quot;time&quot;:1469502561,&quot;action&quot;:&quot;Open&quot;}\n",
       "{&quot;time&quot;:1469502561,&quot;action&quot;:&quot;Open&quot;}\n",
       "{&quot;time&quot;:1469502562,&quot;action&quot;:&quot;Open&quot;}\n",
       "{&quot;time&quot;:1469502564,&quot;action&quot;:&quot;Close&quot;}\n",
       "{&quot;time&quot;:1469502573,&quot;action&quot;:&quot;Open&quot;}\n",
       "{&quot;time&quot;:1469502575,&quot;action&quot;:&quot;Open&quot;}\n",
       "{&quot;time&quot;:1469502583,&quot;action&quot;:&quot;Open&quot;}\n",
       "{&quot;time&quot;:1469502585,&quot;action&quot;:&quot;Open&quot;}\n",
       "{&quot;time&quot;:1469502587,&quot;action&quot;:&quot;Open&quot;}\n",
       "{&quot;time&quot;:1469502590,&quot;action&quot;:&quot;Open&quot;}\n",
       "{&quot;time&quot;:1469502593,&quot;action&quot;:&quot;Open&quot;}\n",
       "{&quot;time&quot;:1469502595,&quot;action&quot;:&quot;Close&quot;}\n",
       "{&quot;time&quot;:1469502596,&quot;action&quot;:&quot;Open&quot;}\n",
       "{&quot;time&quot;:1469502609,&quot;action&quot;:&quot;Open&quot;}\n",
       "{&quot;time&quot;:1469502609,&quot;action&quot;:&quot;Open&quot;}\n",
       "{&quot;time&quot;:1469502611,&quot;action&quot;:&quot;Open&quot;}\n",
       "{&quot;time&quot;:1469502612,&quot;action&quot;:&quot;Open&quot;}\n",
       "{&quot;time&quot;:1469502613,&quot;action&quot;:&quot;Open&quot;}\n",
       "{&quot;time&quot;:1469502614,&quot;action&quot;:&quot;Open&quot;}\n",
       "{&quot;time&quot;:1469502619,&quot;action&quot;:&quot;Open&quot;}\n",
       "{&quot;time&quot;:1469502626,&quot;action&quot;:&quot;Close&quot;}\n",
       "{&quot;time&quot;:1469502626,&quot;action&quot;:&quot;Open&quot;}\n",
       "{&quot;time&quot;:1469502627,&quot;action&quot;:&quot;Open&quot;}\n",
       "{&quot;time&quot;:1469502629,&quot;action&quot;:&quot;Open&quot;}\n",
       "{&quot;time&quot;:1469502635,&quot;action&quot;:&quot;Open&quot;}\n",
       "{&quot;time&quot;:1469502641,&quot;action&quot;:&quot;Open&quot;}\n",
       "{&quot;time&quot;:1469502641,&quot;action&quot;:&quot;Open&quot;}\n",
       "{&quot;time&quot;:1469502643,&quot;action&quot;:&quot;Close&quot;}\n",
       "{&quot;time&quot;:1469502647,&quot;action&quot;:&quot;Open&quot;}\n",
       "{&quot;time&quot;:1469502649,&quot;action&quot;:&quot;Open&quot;}\n",
       "{&quot;time&quot;:1469502654,&quot;action&quot;:&quot;Open&quot;}\n",
       "{&quot;time&quot;:1469502655,&quot;action&quot;:&quot;Open&quot;}\n",
       "{&quot;time&quot;:1469502656,&quot;action&quot;:&quot;Open&quot;}\n",
       "{&quot;time&quot;:1469502660,&quot;action&quot;:&quot;Close&quot;}\n",
       "{&quot;time&quot;:1469502661,&quot;action&quot;:&quot;Close&quot;}\n",
       "{&quot;time&quot;:1469502663,&quot;action&quot;:&quot;Open&quot;}\n",
       "{&quot;time&quot;:1469502668,&quot;action&quot;:&quot;Open&quot;}\n",
       "{&quot;time&quot;:1469502675,&quot;action&quot;:&quot;Open&quot;}\n",
       "{&quot;time&quot;:1469502678,&quot;action&quot;:&quot;Open&quot;}\n",
       "{&quot;time&quot;:1469502683,&quot;action&quot;:&quot;Open&quot;}\n",
       "{&quot;time&quot;:1469502686,&quot;action&quot;:&quot;Open&quot;}\n",
       "{&quot;time&quot;:1469502687,&quot;action&quot;:&quot;Open&quot;}\n",
       "{&quot;time&quot;:1469502688,&quot;action&quot;:&quot;Open&quot;}\n",
       "{&quot;time&quot;:1469502693,&quot;action&quot;:&quot;Open&quot;}\n",
       "{&quot;time&quot;:1469502695,&quot;action&quot;:&quot;Open&quot;}\n",
       "{&quot;time&quot;:1469502704,&quot;action&quot;:&quot;Open&quot;}\n",
       "{&quot;time&quot;:1469502708,&quot;action&quot;:&quot;Close&quot;}\n",
       "{&quot;time&quot;:1469502716,&quot;action&quot;:&quot;Open&quot;}\n",
       "{&quot;time&quot;:1469502717,&quot;action&quot;:&quot;Open&quot;}\n",
       "{&quot;time&quot;:1469502726,&quot;action&quot;:&quot;Open&quot;}\n",
       "{&quot;time&quot;:1469502727,&quot;action&quot;:&quot;Open&quot;}\n",
       "{&quot;time&quot;:1469502729,&quot;action&quot;:&quot;Open&quot;}\n",
       "{&quot;time&quot;:1469502732,&quot;action&quot;:&quot;Open&quot;}\n",
       "{&quot;time&quot;:1469502733,&quot;action&quot;:&quot;Open&quot;}\n",
       "{&quot;time&quot;:1469502735,&quot;action&quot;:&quot;Open&quot;}\n",
       "{&quot;time&quot;:1469502736,&quot;action&quot;:&quot;Open&quot;}\n",
       "{&quot;time&quot;:1469502742,&quot;action&quot;:&quot;Open&quot;}\n",
       "{&quot;time&quot;:1469502745,&quot;action&quot;:&quot;Open&quot;}\n",
       "{&quot;time&quot;:1469502746,&quot;action&quot;:&quot;Open&quot;}\n",
       "{&quot;time&quot;:1469502752,&quot;action&quot;:&quot;Open&quot;}\n",
       "{&quot;time&quot;:1469502753,&quot;action&quot;:&quot;Open&quot;}\n",
       "{&quot;time&quot;:1469502754,&quot;action&quot;:&quot;Open&quot;}\n",
       "{&quot;time&quot;:1469502757,&quot;action&quot;:&quot;Open&quot;}\n",
       "{&quot;time&quot;:1469502757,&quot;action&quot;:&quot;Open&quot;}\n",
       "{&quot;time&quot;:1469502771,&quot;action&quot;:&quot;Open&quot;}\n",
       "{&quot;time&quot;:1469502778,&quot;action&quot;:&quot;Open&quot;}\n",
       "{&quot;time&quot;:1469502782,&quot;action&quot;:&quot;Open&quot;}\n",
       "{&quot;time&quot;:1469502783,&quot;action&quot;:&quot;Close&quot;}\n",
       "{&quot;time&quot;:1469502783,&quot;action&quot;:&quot;Open&quot;}\n",
       "{&quot;time&quot;:1469502789,&quot;action&quot;:&quot;Open&quot;}\n",
       "{&quot;time&quot;:1469502800,&quot;action&quot;:&quot;Open&quot;}\n",
       "{&quot;time&quot;:1469502800,&quot;action&quot;:&quot;Open&quot;}\n",
       "{&quot;time&quot;:1469502801,&quot;action&quot;:&quot;Open&quot;}\n",
       "{&quot;time&quot;:1469502809,&quot;action&quot;:&quot;Close&quot;}\n",
       "{&quot;time&quot;:1469502811,&quot;action&quot;:&quot;Open&quot;}\n",
       "{&quot;time&quot;:1469502813,&quot;action&quot;:&quot;Close&quot;}\n",
       "{&quot;time&quot;:1469502814,&quot;action&quot;:&quot;Open&quot;}\n",
       "{&quot;time&quot;:1469502817,&quot;action&quot;:&quot;Open&quot;}\n",
       "{&quot;time&quot;:1469502820,&quot;action&quot;:&quot;Open&quot;}\n",
       "{&quot;time&quot;:1469502822,&quot;action&quot;:&quot;Close&quot;}\n",
       "{&quot;time&quot;:1469502822,&quot;action&quot;:&quot;Open&quot;}\n",
       "{&quot;time&quot;:1469502831,&quot;action&quot;:&quot;Close&quot;}\n",
       "{&quot;time&quot;:1469502831,&quot;action&quot;:&quot;Open&quot;}\n",
       "{&quot;time&quot;:1469502832,&quot;action&quot;:&quot;Close&quot;}\n",
       "{&quot;time&quot;:1469502833,&quot;action&quot;:&quot;Open&quot;}\n",
       "{&quot;time&quot;:1469502839,&quot;action&quot;:&quot;Open&quot;}\n",
       "{&quot;time&quot;:1469502842,&quot;action&quot;:&quot;Close&quot;}\n",
       "{&quot;time&quot;:1469502844,&quot;action&quot;:&quot;Open&quot;}\n",
       "{&quot;time&quot;:1469502849,&quot;action&quot;:&quot;Open&quot;}\n",
       "{&quot;time&quot;:1469502850,&quot;action&quot;:&quot;Open&quot;}\n",
       "{&quot;time&quot;:1469502851,&quot;action&quot;:&quot;Open&quot;}\n",
       "{&quot;time&quot;:1469502851,&quot;action&quot;:&quot;Open&quot;}\n",
       "{&quot;time&quot;:1469502852,&quot;action&quot;:&quot;Open&quot;}\n",
       "{&quot;time&quot;:1469502853,&quot;action&quot;:&quot;Open&quot;}\n",
       "{&quot;time&quot;:1469502855,&quot;action&quot;:&quot;Open&quot;}\n",
       "{&quot;time&quot;:1469502856,&quot;action&quot;:&quot;Open&quot;}\n",
       "{&quot;time&quot;:1469502857,&quot;action&quot;:&quot;Open&quot;}\n",
       "{&quot;time&quot;:1469502857,&quot;action&quot;:&quot;Open&quot;}\n",
       "{&quot;time&quot;:1469502858,&quot;action&quot;:&quot;Open&quot;}\n",
       "{&quot;time&quot;:1469502861,&quot;action&quot;:&quot;Open&quot;}\n",
       "{&quot;time&quot;:1469502861,&quot;action&quot;:&quot;Open&quot;}\n",
       "{&quot;time&quot;:1469502863,&quot;action&quot;:&quot;Close&quot;}\n",
       "{&quot;time&quot;:1469502865,&quot;action&quot;:&quot;Open&quot;}\n",
       "{&quot;time&quot;:1469502867,&quot;action&quot;:&quot;Open&quot;}\n",
       "{&quot;time&quot;:1469502867,&quot;action&quot;:&quot;Open&quot;}\n",
       "{&quot;time&quot;:1469502868,&quot;action&quot;:&quot;Open&quot;}\n",
       "{&quot;time&quot;:1469502873,&quot;action&quot;:&quot;Open&quot;}\n",
       "{&quot;time&quot;:1469502880,&quot;action&quot;:&quot;Close&quot;}\n",
       "{&quot;time&quot;:1469502881,&quot;action&quot;:&quot;Close&quot;}\n",
       "{&quot;time&quot;:1469502886,&quot;action&quot;:&quot;Open&quot;}\n",
       "{&quot;time&quot;:1469502887,&quot;action&quot;:&quot;Open&quot;}\n",
       "{&quot;time&quot;:1469502887,&quot;action&quot;:&quot;Open&quot;}\n",
       "{&quot;time&quot;:1469502893,&quot;action&quot;:&quot;Close&quot;}\n",
       "{&quot;time&quot;:1469502897,&quot;action&quot;:&quot;Open&quot;}\n",
       "{&quot;time&quot;:1469502907,&quot;action&quot;:&quot;Open&quot;}\n",
       "{&quot;time&quot;:1469502907,&quot;action&quot;:&quot;Open&quot;}\n",
       "{&quot;time&quot;:1469502911,&quot;action&quot;:&quot;Close&quot;}\n",
       "{&quot;time&quot;:1469502912,&quot;action&quot;:&quot;Open&quot;}\n",
       "{&quot;time&quot;:1469502913,&quot;action&quot;:&quot;Open&quot;}\n",
       "{&quot;time&quot;:1469502919,&quot;action&quot;:&quot;Open&quot;}\n",
       "{&quot;time&quot;:1469502920,&quot;action&quot;:&quot;Open&quot;}\n",
       "{&quot;time&quot;:1469502922,&quot;action&quot;:&quot;Open&quot;}\n",
       "{&quot;time&quot;:1469502922,&quot;action&quot;:&quot;Open&quot;}\n",
       "{&quot;time&quot;:1469502925,&quot;action&quot;:&quot;Open&quot;}\n",
       "{&quot;time&quot;:1469502927,&quot;action&quot;:&quot;Open&quot;}\n",
       "{&quot;time&quot;:1469502931,&quot;action&quot;:&quot;Open&quot;}\n",
       "{&quot;time&quot;:1469502932,&quot;action&quot;:&quot;Open&quot;}\n",
       "{&quot;time&quot;:1469502941,&quot;action&quot;:&quot;Open&quot;}\n",
       "{&quot;time&quot;:1469502941,&quot;action&quot;:&quot;Open&quot;}\n",
       "{&quot;time&quot;:1469502942,&quot;action&quot;:&quot;Open&quot;}\n",
       "{&quot;time&quot;:1469502945,&quot;action&quot;:&quot;Close&quot;}\n",
       "{&quot;time&quot;:1469502946,&quot;action&quot;:&quot;Close&quot;}\n",
       "{&quot;time&quot;:1469502947,&quot;action&quot;:&quot;Open&quot;}\n",
       "{&quot;time&quot;:1469502954,&quot;action&quot;:&quot;Close&quot;}\n",
       "{&quot;time&quot;:1469502959,&quot;action&quot;:&quot;Open&quot;}\n",
       "{&quot;time&quot;:1469502964,&quot;action&quot;:&quot;Close&quot;}\n",
       "{&quot;time&quot;:1469502964,&quot;action&quot;:&quot;Open&quot;}\n",
       "{&quot;time&quot;:1469502969,&quot;action&quot;:&quot;Close&quot;}\n",
       "{&quot;time&quot;:1469502972,&quot;action&quot;:&quot;Close&quot;}\n",
       "{&quot;time&quot;:1469502973,&quot;action&quot;:&quot;Close&quot;}\n",
       "{&quot;time&quot;:1469502973,&quot;action&quot;:&quot;Open&quot;}\n",
       "{&quot;time&quot;:1469502974,&quot;action&quot;:&quot;Open&quot;}\n",
       "{&quot;time&quot;:1469502975,&quot;action&quot;:&quot;Close&quot;}\n",
       "{&quot;time&quot;:1469502984,&quot;action&quot;:&quot;Open&quot;}\n",
       "{&quot;time&quot;:1469502985,&quot;action&quot;:&quot;Open&quot;}\n",
       "{&quot;time&quot;:1469502986,&quot;action&quot;:&quot;Close&quot;}\n",
       "{&quot;time&quot;:1469502988,&quot;action&quot;:&quot;Open&quot;}\n",
       "{&quot;time&quot;:1469502988,&quot;action&quot;:&quot;Open&quot;}\n",
       "{&quot;time&quot;:1469502992,&quot;action&quot;:&quot;Open&quot;}\n",
       "{&quot;time&quot;:1469502997,&quot;action&quot;:&quot;Open&quot;}\n",
       "{&quot;time&quot;:1469503000,&quot;action&quot;:&quot;Open&quot;}\n",
       "{&quot;time&quot;:1469503005,&quot;action&quot;:&quot;Open&quot;}\n",
       "{&quot;time&quot;:1469503007,&quot;action&quot;:&quot;Open&quot;}\n",
       "{&quot;time&quot;:1469503014,&quot;action&quot;:&quot;Open&quot;}\n",
       "{&quot;time&quot;:1469503014,&quot;action&quot;:&quot;Open&quot;}\n",
       "{&quot;time&quot;:1469503021,&quot;action&quot;:&quot;Open&quot;}\n",
       "{&quot;time&quot;:1469503024,&quot;action&quot;:&quot;Open&quot;}\n",
       "{&quot;time&quot;:1469503025,&quot;action&quot;:&quot;Open&quot;}\n",
       "{&quot;time&quot;:1469503025,&quot;action&quot;:&quot;Open&quot;}\n",
       "{&quot;time&quot;:1469503030,&quot;action&quot;:&quot;Open&quot;}\n",
       "{&quot;time&quot;:1469503036,&quot;action&quot;:&quot;Open&quot;}\n",
       "{&quot;time&quot;:1469503039,&quot;action&quot;:&quot;Open&quot;}\n",
       "{&quot;time&quot;:1469503039,&quot;action&quot;:&quot;Open&quot;}\n",
       "{&quot;time&quot;:1469503042,&quot;action&quot;:&quot;Open&quot;}\n",
       "{&quot;time&quot;:1469503043,&quot;action&quot;:&quot;Open&quot;}\n",
       "{&quot;time&quot;:1469503048,&quot;action&quot;:&quot;Open&quot;}\n",
       "{&quot;time&quot;:1469503060,&quot;action&quot;:&quot;Open&quot;}\n",
       "{&quot;time&quot;:1469503065,&quot;action&quot;:&quot;Close&quot;}\n",
       "{&quot;time&quot;:1469503065,&quot;action&quot;:&quot;Open&quot;}\n",
       "{&quot;time&quot;:1469503066,&quot;action&quot;:&quot;Open&quot;}\n",
       "{&quot;time&quot;:1469503067,&quot;action&quot;:&quot;Open&quot;}\n",
       "{&quot;time&quot;:1469503071,&quot;action&quot;:&quot;Open&quot;}\n",
       "{&quot;time&quot;:1469503074,&quot;action&quot;:&quot;Open&quot;}\n",
       "{&quot;time&quot;:1469503075,&quot;action&quot;:&quot;Open&quot;}\n",
       "{&quot;time&quot;:1469503075,&quot;action&quot;:&quot;Open&quot;}\n",
       "{&quot;time&quot;:1469503082,&quot;action&quot;:&quot;Close&quot;}\n",
       "{&quot;time&quot;:1469503082,&quot;action&quot;:&quot;Open&quot;}\n",
       "{&quot;time&quot;:1469503086,&quot;action&quot;:&quot;Open&quot;}\n",
       "{&quot;time&quot;:1469503088,&quot;action&quot;:&quot;Close&quot;}\n",
       "{&quot;time&quot;:1469503088,&quot;action&quot;:&quot;Open&quot;}\n",
       "{&quot;time&quot;:1469503088,&quot;action&quot;:&quot;Open&quot;}\n",
       "{&quot;time&quot;:1469503097,&quot;action&quot;:&quot;Open&quot;}\n",
       "{&quot;time&quot;:1469503105,&quot;action&quot;:&quot;Open&quot;}\n",
       "{&quot;time&quot;:1469503106,&quot;action&quot;:&quot;Close&quot;}\n",
       "{&quot;time&quot;:1469503109,&quot;action&quot;:&quot;Open&quot;}\n",
       "{&quot;time&quot;:1469503109,&quot;action&quot;:&quot;Open&quot;}\n",
       "{&quot;time&quot;:1469503110,&quot;action&quot;:&quot;Close&quot;}\n",
       "{&quot;time&quot;:1469503116,&quot;action&quot;:&quot;Close&quot;}\n",
       "{&quot;time&quot;:1469503120,&quot;action&quot;:&quot;Open&quot;}\n",
       "{&quot;time&quot;:1469503125,&quot;action&quot;:&quot;Open&quot;}\n",
       "{&quot;time&quot;:1469503125,&quot;action&quot;:&quot;Open&quot;}\n",
       "{&quot;time&quot;:1469503126,&quot;action&quot;:&quot;Close&quot;}\n",
       "{&quot;time&quot;:1469503128,&quot;action&quot;:&quot;Open&quot;}\n",
       "{&quot;time&quot;:1469503128,&quot;action&quot;:&quot;Open&quot;}\n",
       "{&quot;time&quot;:1469503130,&quot;action&quot;:&quot;Open&quot;}\n",
       "{&quot;time&quot;:1469503133,&quot;action&quot;:&quot;Open&quot;}\n",
       "{&quot;time&quot;:1469503135,&quot;action&quot;:&quot;Open&quot;}\n",
       "{&quot;time&quot;:1469503136,&quot;action&quot;:&quot;Close&quot;}\n",
       "{&quot;time&quot;:1469503136,&quot;action&quot;:&quot;Open&quot;}\n",
       "{&quot;time&quot;:1469503139,&quot;action&quot;:&quot;Open&quot;}\n",
       "{&quot;time&quot;:1469503140,&quot;action&quot;:&quot;Close&quot;}\n",
       "{&quot;time&quot;:1469503140,&quot;action&quot;:&quot;Close&quot;}\n",
       "{&quot;time&quot;:1469503140,&quot;action&quot;:&quot;Open&quot;}\n",
       "{&quot;time&quot;:1469503143,&quot;action&quot;:&quot;Open&quot;}\n",
       "{&quot;time&quot;:1469503150,&quot;action&quot;:&quot;Open&quot;}\n",
       "{&quot;time&quot;:1469503151,&quot;action&quot;:&quot;Close&quot;}\n",
       "{&quot;time&quot;:1469503154,&quot;action&quot;:&quot;Close&quot;}\n",
       "{&quot;time&quot;:1469503158,&quot;action&quot;:&quot;Open&quot;}\n",
       "{&quot;time&quot;:1469503159,&quot;action&quot;:&quot;Open&quot;}\n",
       "{&quot;time&quot;:1469503160,&quot;action&quot;:&quot;Close&quot;}\n",
       "{&quot;time&quot;:1469503160,&quot;action&quot;:&quot;Close&quot;}\n",
       "{&quot;time&quot;:1469503161,&quot;action&quot;:&quot;Open&quot;}\n",
       "{&quot;time&quot;:1469503162,&quot;action&quot;:&quot;Open&quot;}\n",
       "{&quot;time&quot;:1469503166,&quot;action&quot;:&quot;Open&quot;}\n",
       "{&quot;time&quot;:1469503169,&quot;action&quot;:&quot;Open&quot;}\n",
       "{&quot;time&quot;:1469503173,&quot;action&quot;:&quot;Open&quot;}\n",
       "{&quot;time&quot;:1469503176,&quot;action&quot;:&quot;Open&quot;}\n",
       "{&quot;time&quot;:1469503184,&quot;action&quot;:&quot;Open&quot;}\n",
       "{&quot;time&quot;:1469503190,&quot;action&quot;:&quot;Close&quot;}\n",
       "{&quot;time&quot;:1469503190,&quot;action&quot;:&quot;Open&quot;}\n",
       "{&quot;time&quot;:1469503195,&quot;action&quot;:&quot;Close&quot;}\n",
       "{&quot;time&quot;:1469503195,&quot;action&quot;:&quot;Open&quot;}\n",
       "{&quot;time&quot;:1469503196,&quot;action&quot;:&quot;Open&quot;}\n",
       "{&quot;time&quot;:1469503198,&quot;action&quot;:&quot;Open&quot;}\n",
       "{&quot;time&quot;:1469503203,&quot;action&quot;:&quot;Open&quot;}\n",
       "{&quot;time&quot;:1469503206,&quot;action&quot;:&quot;Open&quot;}\n",
       "{&quot;time&quot;:1469503209,&quot;action&quot;:&quot;Open&quot;}\n",
       "{&quot;time&quot;:1469503211,&quot;action&quot;:&quot;Open&quot;}\n",
       "{&quot;time&quot;:1469503215,&quot;action&quot;:&quot;Open&quot;}\n",
       "{&quot;time&quot;:1469503224,&quot;action&quot;:&quot;Close&quot;}\n",
       "{&quot;time&quot;:1469503229,&quot;action&quot;:&quot;Open&quot;}\n",
       "{&quot;time&quot;:1469503231,&quot;action&quot;:&quot;Close&quot;}\n",
       "{&quot;time&quot;:1469503231,&quot;action&quot;:&quot;Open&quot;}\n",
       "{&quot;time&quot;:1469503231,&quot;action&quot;:&quot;Open&quot;}\n",
       "{&quot;time&quot;:1469503231,&quot;action&quot;:&quot;Open&quot;}\n",
       "{&quot;time&quot;:1469503234,&quot;action&quot;:&quot;Open&quot;}\n",
       "{&quot;time&quot;:1469503236,&quot;action&quot;:&quot;Open&quot;}\n",
       "{&quot;time&quot;:1469503246,&quot;action&quot;:&quot;Close&quot;}\n",
       "{&quot;time&quot;:1469503246,&quot;action&quot;:&quot;Open&quot;}\n",
       "{&quot;time&quot;:1469503248,&quot;action&quot;:&quot;Open&quot;}\n",
       "{&quot;time&quot;:1469503250,&quot;action&quot;:&quot;Close&quot;}\n",
       "{&quot;time&quot;:1469503255,&quot;action&quot;:&quot;Open&quot;}\n",
       "{&quot;time&quot;:1469503255,&quot;action&quot;:&quot;Open&quot;}\n",
       "{&quot;time&quot;:1469503259,&quot;action&quot;:&quot;Open&quot;}\n",
       "{&quot;time&quot;:1469503261,&quot;action&quot;:&quot;Open&quot;}\n",
       "{&quot;time&quot;:1469503262,&quot;action&quot;:&quot;Open&quot;}\n",
       "{&quot;time&quot;:1469503270,&quot;action&quot;:&quot;Open&quot;}\n",
       "{&quot;time&quot;:1469503277,&quot;action&quot;:&quot;Open&quot;}\n",
       "{&quot;time&quot;:1469503280,&quot;action&quot;:&quot;Close&quot;}\n",
       "{&quot;time&quot;:1469503281,&quot;action&quot;:&quot;Open&quot;}\n",
       "{&quot;time&quot;:1469503283,&quot;action&quot;:&quot;Open&quot;}\n",
       "{&quot;time&quot;:1469503287,&quot;action&quot;:&quot;Open&quot;}\n",
       "{&quot;time&quot;:1469503291,&quot;action&quot;:&quot;Close&quot;}\n",
       "{&quot;time&quot;:1469503291,&quot;action&quot;:&quot;Open&quot;}\n",
       "{&quot;time&quot;:1469503291,&quot;action&quot;:&quot;Open&quot;}\n",
       "{&quot;time&quot;:1469503292,&quot;action&quot;:&quot;Open&quot;}\n",
       "{&quot;time&quot;:1469503299,&quot;action&quot;:&quot;Open&quot;}\n",
       "{&quot;time&quot;:1469503301,&quot;action&quot;:&quot;Open&quot;}\n",
       "{&quot;time&quot;:1469503302,&quot;action&quot;:&quot;Close&quot;}\n",
       "{&quot;time&quot;:1469503305,&quot;action&quot;:&quot;Open&quot;}\n",
       "{&quot;time&quot;:1469503309,&quot;action&quot;:&quot;Open&quot;}\n",
       "{&quot;time&quot;:1469503316,&quot;action&quot;:&quot;Open&quot;}\n",
       "{&quot;time&quot;:1469503319,&quot;action&quot;:&quot;Open&quot;}\n",
       "{&quot;time&quot;:1469503319,&quot;action&quot;:&quot;Open&quot;}\n",
       "{&quot;time&quot;:1469503321,&quot;action&quot;:&quot;Open&quot;}\n",
       "{&quot;time&quot;:1469503325,&quot;action&quot;:&quot;Close&quot;}\n",
       "{&quot;time&quot;:1469503325,&quot;action&quot;:&quot;Open&quot;}\n",
       "{&quot;time&quot;:1469503328,&quot;action&quot;:&quot;Open&quot;}\n",
       "{&quot;time&quot;:1469503330,&quot;action&quot;:&quot;Open&quot;}\n",
       "{&quot;time&quot;:1469503334,&quot;action&quot;:&quot;Open&quot;}\n",
       "{&quot;time&quot;:1469503335,&quot;action&quot;:&quot;Close&quot;}\n",
       "{&quot;time&quot;:1469503335,&quot;action&quot;:&quot;Open&quot;}\n",
       "{&quot;time&quot;:1469503337,&quot;action&quot;:&quot;Open&quot;}\n",
       "{&quot;time&quot;:1469503344,&quot;action&quot;:&quot;Close&quot;}\n",
       "{&quot;time&quot;:1469503347,&quot;action&quot;:&quot;Open&quot;}\n",
       "{&quot;time&quot;:1469503348,&quot;action&quot;:&quot;Open&quot;}\n",
       "{&quot;time&quot;:1469503355,&quot;action&quot;:&quot;Open&quot;}\n",
       "{&quot;time&quot;:1469503356,&quot;action&quot;:&quot;Close&quot;}\n",
       "{&quot;time&quot;:1469503357,&quot;action&quot;:&quot;Close&quot;}\n",
       "{&quot;time&quot;:1469503359,&quot;action&quot;:&quot;Open&quot;}\n",
       "{&quot;time&quot;:1469503362,&quot;action&quot;:&quot;Close&quot;}\n",
       "{&quot;time&quot;:1469503362,&quot;action&quot;:&quot;Open&quot;}\n",
       "{&quot;time&quot;:1469503363,&quot;action&quot;:&quot;Close&quot;}\n",
       "{&quot;time&quot;:1469503365,&quot;action&quot;:&quot;Open&quot;}\n",
       "{&quot;time&quot;:1469503374,&quot;action&quot;:&quot;Open&quot;}\n",
       "{&quot;time&quot;:1469503377,&quot;action&quot;:&quot;Open&quot;}\n",
       "{&quot;time&quot;:1469503378,&quot;action&quot;:&quot;Open&quot;}\n",
       "{&quot;time&quot;:1469503378,&quot;action&quot;:&quot;Open&quot;}\n",
       "{&quot;time&quot;:1469503382,&quot;action&quot;:&quot;Open&quot;}\n",
       "{&quot;time&quot;:1469503383,&quot;action&quot;:&quot;Open&quot;}\n",
       "{&quot;time&quot;:1469503385,&quot;action&quot;:&quot;Close&quot;}\n",
       "{&quot;time&quot;:1469503386,&quot;action&quot;:&quot;Open&quot;}\n",
       "{&quot;time&quot;:1469503387,&quot;action&quot;:&quot;Open&quot;}\n",
       "{&quot;time&quot;:1469503392,&quot;action&quot;:&quot;Open&quot;}\n",
       "{&quot;time&quot;:1469503393,&quot;action&quot;:&quot;Open&quot;}\n",
       "{&quot;time&quot;:1469503398,&quot;action&quot;:&quot;Open&quot;}\n",
       "{&quot;time&quot;:1469503403,&quot;action&quot;:&quot;Close&quot;}\n",
       "{&quot;time&quot;:1469503406,&quot;action&quot;:&quot;Close&quot;}\n",
       "{&quot;time&quot;:1469503406,&quot;action&quot;:&quot;Open&quot;}\n",
       "{&quot;time&quot;:1469503407,&quot;action&quot;:&quot;Open&quot;}\n",
       "{&quot;time&quot;:1469503407,&quot;action&quot;:&quot;Open&quot;}\n",
       "{&quot;time&quot;:1469503408,&quot;action&quot;:&quot;Open&quot;}\n",
       "{&quot;time&quot;:1469503409,&quot;action&quot;:&quot;Open&quot;}\n",
       "{&quot;time&quot;:1469503411,&quot;action&quot;:&quot;Open&quot;}\n",
       "{&quot;time&quot;:1469503411,&quot;action&quot;:&quot;Open&quot;}\n",
       "{&quot;time&quot;:1469503415,&quot;action&quot;:&quot;Open&quot;}\n",
       "{&quot;time&quot;:1469503418,&quot;action&quot;:&quot;Close&quot;}\n",
       "{&quot;time&quot;:1469503418,&quot;action&quot;:&quot;Open&quot;}\n",
       "{&quot;time&quot;:1469503425,&quot;action&quot;:&quot;Close&quot;}\n",
       "{&quot;time&quot;:1469503426,&quot;action&quot;:&quot;Close&quot;}\n",
       "{&quot;time&quot;:1469503429,&quot;action&quot;:&quot;Open&quot;}\n",
       "{&quot;time&quot;:1469503430,&quot;action&quot;:&quot;Open&quot;}\n",
       "{&quot;time&quot;:1469503432,&quot;action&quot;:&quot;Open&quot;}\n",
       "{&quot;time&quot;:1469503437,&quot;action&quot;:&quot;Close&quot;}\n",
       "{&quot;time&quot;:1469503438,&quot;action&quot;:&quot;Open&quot;}\n",
       "{&quot;time&quot;:1469503445,&quot;action&quot;:&quot;Open&quot;}\n",
       "{&quot;time&quot;:1469503448,&quot;action&quot;:&quot;Open&quot;}\n",
       "{&quot;time&quot;:1469503449,&quot;action&quot;:&quot;Close&quot;}\n",
       "{&quot;time&quot;:1469503450,&quot;action&quot;:&quot;Open&quot;}\n",
       "{&quot;time&quot;:1469503455,&quot;action&quot;:&quot;Open&quot;}\n",
       "{&quot;time&quot;:1469503460,&quot;action&quot;:&quot;Open&quot;}\n",
       "{&quot;time&quot;:1469503463,&quot;action&quot;:&quot;Open&quot;}\n",
       "{&quot;time&quot;:1469503463,&quot;action&quot;:&quot;Open&quot;}\n",
       "{&quot;time&quot;:1469503466,&quot;action&quot;:&quot;Open&quot;}\n",
       "{&quot;time&quot;:1469503471,&quot;action&quot;:&quot;Close&quot;}\n",
       "{&quot;time&quot;:1469503474,&quot;action&quot;:&quot;Open&quot;}\n",
       "{&quot;time&quot;:1469503475,&quot;action&quot;:&quot;Open&quot;}\n",
       "{&quot;time&quot;:1469503477,&quot;action&quot;:&quot;Open&quot;}\n",
       "{&quot;time&quot;:1469503478,&quot;action&quot;:&quot;Open&quot;}\n",
       "{&quot;time&quot;:1469503482,&quot;action&quot;:&quot;Open&quot;}\n",
       "{&quot;time&quot;:1469503487,&quot;action&quot;:&quot;Close&quot;}\n",
       "{&quot;time&quot;:1469503490,&quot;action&quot;:&quot;Open&quot;}\n",
       "\n",
       "*** WARNING: skipped 15627 bytes of output ***\n",
       "\n",
       "{&quot;time&quot;:1469504646,&quot;action&quot;:&quot;Open&quot;}\n",
       "{&quot;time&quot;:1469504648,&quot;action&quot;:&quot;Open&quot;}\n",
       "{&quot;time&quot;:1469504653,&quot;action&quot;:&quot;Open&quot;}\n",
       "{&quot;time&quot;:1469504658,&quot;action&quot;:&quot;Open&quot;}\n",
       "{&quot;time&quot;:1469504658,&quot;action&quot;:&quot;Open&quot;}\n",
       "{&quot;time&quot;:1469504658,&quot;action&quot;:&quot;Open&quot;}\n",
       "{&quot;time&quot;:1469504661,&quot;action&quot;:&quot;Close&quot;}\n",
       "{&quot;time&quot;:1469504662,&quot;action&quot;:&quot;Open&quot;}\n",
       "{&quot;time&quot;:1469504662,&quot;action&quot;:&quot;Open&quot;}\n",
       "{&quot;time&quot;:1469504665,&quot;action&quot;:&quot;Open&quot;}\n",
       "{&quot;time&quot;:1469504668,&quot;action&quot;:&quot;Close&quot;}\n",
       "{&quot;time&quot;:1469504672,&quot;action&quot;:&quot;Open&quot;}\n",
       "{&quot;time&quot;:1469504675,&quot;action&quot;:&quot;Open&quot;}\n",
       "{&quot;time&quot;:1469504679,&quot;action&quot;:&quot;Open&quot;}\n",
       "{&quot;time&quot;:1469504686,&quot;action&quot;:&quot;Open&quot;}\n",
       "{&quot;time&quot;:1469504687,&quot;action&quot;:&quot;Open&quot;}\n",
       "{&quot;time&quot;:1469504696,&quot;action&quot;:&quot;Close&quot;}\n",
       "{&quot;time&quot;:1469504703,&quot;action&quot;:&quot;Open&quot;}\n",
       "{&quot;time&quot;:1469504710,&quot;action&quot;:&quot;Open&quot;}\n",
       "{&quot;time&quot;:1469504710,&quot;action&quot;:&quot;Open&quot;}\n",
       "{&quot;time&quot;:1469504710,&quot;action&quot;:&quot;Open&quot;}\n",
       "{&quot;time&quot;:1469504710,&quot;action&quot;:&quot;Open&quot;}\n",
       "{&quot;time&quot;:1469504717,&quot;action&quot;:&quot;Open&quot;}\n",
       "{&quot;time&quot;:1469504724,&quot;action&quot;:&quot;Close&quot;}\n",
       "{&quot;time&quot;:1469504731,&quot;action&quot;:&quot;Open&quot;}\n",
       "{&quot;time&quot;:1469504736,&quot;action&quot;:&quot;Open&quot;}\n",
       "{&quot;time&quot;:1469504739,&quot;action&quot;:&quot;Open&quot;}\n",
       "{&quot;time&quot;:1469504741,&quot;action&quot;:&quot;Close&quot;}\n",
       "{&quot;time&quot;:1469504742,&quot;action&quot;:&quot;Close&quot;}\n",
       "{&quot;time&quot;:1469504742,&quot;action&quot;:&quot;Close&quot;}\n",
       "{&quot;time&quot;:1469504743,&quot;action&quot;:&quot;Close&quot;}\n",
       "{&quot;time&quot;:1469504744,&quot;action&quot;:&quot;Open&quot;}\n",
       "{&quot;time&quot;:1469504745,&quot;action&quot;:&quot;Open&quot;}\n",
       "{&quot;time&quot;:1469504747,&quot;action&quot;:&quot;Close&quot;}\n",
       "{&quot;time&quot;:1469504748,&quot;action&quot;:&quot;Open&quot;}\n",
       "{&quot;time&quot;:1469504748,&quot;action&quot;:&quot;Open&quot;}\n",
       "{&quot;time&quot;:1469504748,&quot;action&quot;:&quot;Close&quot;}\n",
       "{&quot;time&quot;:1469504751,&quot;action&quot;:&quot;Open&quot;}\n",
       "{&quot;time&quot;:1469504752,&quot;action&quot;:&quot;Open&quot;}\n",
       "{&quot;time&quot;:1469504753,&quot;action&quot;:&quot;Close&quot;}\n",
       "{&quot;time&quot;:1469504754,&quot;action&quot;:&quot;Open&quot;}\n",
       "{&quot;time&quot;:1469504757,&quot;action&quot;:&quot;Open&quot;}\n",
       "{&quot;time&quot;:1469504757,&quot;action&quot;:&quot;Open&quot;}\n",
       "{&quot;time&quot;:1469504761,&quot;action&quot;:&quot;Close&quot;}\n",
       "{&quot;time&quot;:1469504762,&quot;action&quot;:&quot;Open&quot;}\n",
       "{&quot;time&quot;:1469504765,&quot;action&quot;:&quot;Close&quot;}\n",
       "{&quot;time&quot;:1469504765,&quot;action&quot;:&quot;Open&quot;}\n",
       "{&quot;time&quot;:1469504768,&quot;action&quot;:&quot;Close&quot;}\n",
       "{&quot;time&quot;:1469504779,&quot;action&quot;:&quot;Open&quot;}\n",
       "{&quot;time&quot;:1469504779,&quot;action&quot;:&quot;Open&quot;}\n",
       "{&quot;time&quot;:1469504780,&quot;action&quot;:&quot;Close&quot;}\n",
       "{&quot;time&quot;:1469504781,&quot;action&quot;:&quot;Open&quot;}\n",
       "{&quot;time&quot;:1469504782,&quot;action&quot;:&quot;Close&quot;}\n",
       "{&quot;time&quot;:1469504784,&quot;action&quot;:&quot;Close&quot;}\n",
       "{&quot;time&quot;:1469504786,&quot;action&quot;:&quot;Close&quot;}\n",
       "{&quot;time&quot;:1469504789,&quot;action&quot;:&quot;Open&quot;}\n",
       "{&quot;time&quot;:1469504789,&quot;action&quot;:&quot;Open&quot;}\n",
       "{&quot;time&quot;:1469504791,&quot;action&quot;:&quot;Open&quot;}\n",
       "{&quot;time&quot;:1469504792,&quot;action&quot;:&quot;Open&quot;}\n",
       "{&quot;time&quot;:1469504792,&quot;action&quot;:&quot;Open&quot;}\n",
       "{&quot;time&quot;:1469504793,&quot;action&quot;:&quot;Open&quot;}\n",
       "{&quot;time&quot;:1469504797,&quot;action&quot;:&quot;Close&quot;}\n",
       "{&quot;time&quot;:1469504802,&quot;action&quot;:&quot;Open&quot;}\n",
       "{&quot;time&quot;:1469504803,&quot;action&quot;:&quot;Close&quot;}\n",
       "{&quot;time&quot;:1469504803,&quot;action&quot;:&quot;Open&quot;}\n",
       "{&quot;time&quot;:1469504805,&quot;action&quot;:&quot;Open&quot;}\n",
       "{&quot;time&quot;:1469504807,&quot;action&quot;:&quot;Close&quot;}\n",
       "{&quot;time&quot;:1469504808,&quot;action&quot;:&quot;Close&quot;}\n",
       "{&quot;time&quot;:1469504809,&quot;action&quot;:&quot;Open&quot;}\n",
       "{&quot;time&quot;:1469504810,&quot;action&quot;:&quot;Open&quot;}\n",
       "{&quot;time&quot;:1469504811,&quot;action&quot;:&quot;Open&quot;}\n",
       "{&quot;time&quot;:1469504811,&quot;action&quot;:&quot;Open&quot;}\n",
       "{&quot;time&quot;:1469504815,&quot;action&quot;:&quot;Open&quot;}\n",
       "{&quot;time&quot;:1469504818,&quot;action&quot;:&quot;Open&quot;}\n",
       "{&quot;time&quot;:1469504819,&quot;action&quot;:&quot;Open&quot;}\n",
       "{&quot;time&quot;:1469504820,&quot;action&quot;:&quot;Close&quot;}\n",
       "{&quot;time&quot;:1469504820,&quot;action&quot;:&quot;Open&quot;}\n",
       "{&quot;time&quot;:1469504824,&quot;action&quot;:&quot;Close&quot;}\n",
       "{&quot;time&quot;:1469504825,&quot;action&quot;:&quot;Open&quot;}\n",
       "{&quot;time&quot;:1469504829,&quot;action&quot;:&quot;Open&quot;}\n",
       "{&quot;time&quot;:1469504834,&quot;action&quot;:&quot;Close&quot;}\n",
       "{&quot;time&quot;:1469504836,&quot;action&quot;:&quot;Open&quot;}\n",
       "{&quot;time&quot;:1469504840,&quot;action&quot;:&quot;Open&quot;}\n",
       "{&quot;time&quot;:1469504848,&quot;action&quot;:&quot;Open&quot;}\n",
       "{&quot;time&quot;:1469504853,&quot;action&quot;:&quot;Close&quot;}\n",
       "{&quot;time&quot;:1469504854,&quot;action&quot;:&quot;Close&quot;}\n",
       "{&quot;time&quot;:1469504855,&quot;action&quot;:&quot;Open&quot;}\n",
       "{&quot;time&quot;:1469504859,&quot;action&quot;:&quot;Open&quot;}\n",
       "{&quot;time&quot;:1469504860,&quot;action&quot;:&quot;Close&quot;}\n",
       "{&quot;time&quot;:1469504866,&quot;action&quot;:&quot;Close&quot;}\n",
       "{&quot;time&quot;:1469504873,&quot;action&quot;:&quot;Close&quot;}\n",
       "{&quot;time&quot;:1469504875,&quot;action&quot;:&quot;Open&quot;}\n",
       "{&quot;time&quot;:1469504881,&quot;action&quot;:&quot;Open&quot;}\n",
       "{&quot;time&quot;:1469504882,&quot;action&quot;:&quot;Close&quot;}\n",
       "{&quot;time&quot;:1469504886,&quot;action&quot;:&quot;Open&quot;}\n",
       "{&quot;time&quot;:1469504889,&quot;action&quot;:&quot;Open&quot;}\n",
       "{&quot;time&quot;:1469504890,&quot;action&quot;:&quot;Close&quot;}\n",
       "{&quot;time&quot;:1469504892,&quot;action&quot;:&quot;Open&quot;}\n",
       "{&quot;time&quot;:1469504897,&quot;action&quot;:&quot;Close&quot;}\n",
       "{&quot;time&quot;:1469504901,&quot;action&quot;:&quot;Close&quot;}\n",
       "{&quot;time&quot;:1469504902,&quot;action&quot;:&quot;Open&quot;}\n",
       "{&quot;time&quot;:1469504903,&quot;action&quot;:&quot;Close&quot;}\n",
       "{&quot;time&quot;:1469504903,&quot;action&quot;:&quot;Open&quot;}\n",
       "{&quot;time&quot;:1469504904,&quot;action&quot;:&quot;Open&quot;}\n",
       "{&quot;time&quot;:1469504905,&quot;action&quot;:&quot;Open&quot;}\n",
       "{&quot;time&quot;:1469504909,&quot;action&quot;:&quot;Close&quot;}\n",
       "{&quot;time&quot;:1469504909,&quot;action&quot;:&quot;Open&quot;}\n",
       "{&quot;time&quot;:1469504910,&quot;action&quot;:&quot;Open&quot;}\n",
       "{&quot;time&quot;:1469504911,&quot;action&quot;:&quot;Close&quot;}\n",
       "{&quot;time&quot;:1469504915,&quot;action&quot;:&quot;Open&quot;}\n",
       "{&quot;time&quot;:1469504916,&quot;action&quot;:&quot;Open&quot;}\n",
       "{&quot;time&quot;:1469504922,&quot;action&quot;:&quot;Close&quot;}\n",
       "{&quot;time&quot;:1469504926,&quot;action&quot;:&quot;Close&quot;}\n",
       "{&quot;time&quot;:1469504926,&quot;action&quot;:&quot;Open&quot;}\n",
       "{&quot;time&quot;:1469504929,&quot;action&quot;:&quot;Open&quot;}\n",
       "{&quot;time&quot;:1469504929,&quot;action&quot;:&quot;Open&quot;}\n",
       "{&quot;time&quot;:1469504931,&quot;action&quot;:&quot;Open&quot;}\n",
       "{&quot;time&quot;:1469504933,&quot;action&quot;:&quot;Close&quot;}\n",
       "{&quot;time&quot;:1469504935,&quot;action&quot;:&quot;Open&quot;}\n",
       "{&quot;time&quot;:1469504937,&quot;action&quot;:&quot;Close&quot;}\n",
       "{&quot;time&quot;:1469504937,&quot;action&quot;:&quot;Open&quot;}\n",
       "{&quot;time&quot;:1469504942,&quot;action&quot;:&quot;Open&quot;}\n",
       "{&quot;time&quot;:1469504943,&quot;action&quot;:&quot;Open&quot;}\n",
       "{&quot;time&quot;:1469504944,&quot;action&quot;:&quot;Open&quot;}\n",
       "{&quot;time&quot;:1469504946,&quot;action&quot;:&quot;Close&quot;}\n",
       "{&quot;time&quot;:1469504948,&quot;action&quot;:&quot;Open&quot;}\n",
       "{&quot;time&quot;:1469504958,&quot;action&quot;:&quot;Open&quot;}\n",
       "{&quot;time&quot;:1469504960,&quot;action&quot;:&quot;Close&quot;}\n",
       "{&quot;time&quot;:1469504960,&quot;action&quot;:&quot;Open&quot;}\n",
       "{&quot;time&quot;:1469504963,&quot;action&quot;:&quot;Open&quot;}\n",
       "{&quot;time&quot;:1469504964,&quot;action&quot;:&quot;Close&quot;}\n",
       "{&quot;time&quot;:1469504964,&quot;action&quot;:&quot;Open&quot;}\n",
       "{&quot;time&quot;:1469504967,&quot;action&quot;:&quot;Open&quot;}\n",
       "{&quot;time&quot;:1469504968,&quot;action&quot;:&quot;Close&quot;}\n",
       "{&quot;time&quot;:1469504971,&quot;action&quot;:&quot;Close&quot;}\n",
       "{&quot;time&quot;:1469504972,&quot;action&quot;:&quot;Close&quot;}\n",
       "{&quot;time&quot;:1469504974,&quot;action&quot;:&quot;Close&quot;}\n",
       "{&quot;time&quot;:1469504983,&quot;action&quot;:&quot;Close&quot;}\n",
       "{&quot;time&quot;:1469504983,&quot;action&quot;:&quot;Close&quot;}\n",
       "{&quot;time&quot;:1469504983,&quot;action&quot;:&quot;Open&quot;}\n",
       "{&quot;time&quot;:1469504984,&quot;action&quot;:&quot;Open&quot;}\n",
       "{&quot;time&quot;:1469504987,&quot;action&quot;:&quot;Close&quot;}\n",
       "{&quot;time&quot;:1469504989,&quot;action&quot;:&quot;Open&quot;}\n",
       "{&quot;time&quot;:1469504991,&quot;action&quot;:&quot;Open&quot;}\n",
       "{&quot;time&quot;:1469504993,&quot;action&quot;:&quot;Open&quot;}\n",
       "{&quot;time&quot;:1469504994,&quot;action&quot;:&quot;Open&quot;}\n",
       "{&quot;time&quot;:1469504998,&quot;action&quot;:&quot;Open&quot;}\n",
       "{&quot;time&quot;:1469505000,&quot;action&quot;:&quot;Open&quot;}\n",
       "{&quot;time&quot;:1469505005,&quot;action&quot;:&quot;Open&quot;}\n",
       "{&quot;time&quot;:1469505005,&quot;action&quot;:&quot;Open&quot;}\n",
       "{&quot;time&quot;:1469505007,&quot;action&quot;:&quot;Open&quot;}\n",
       "{&quot;time&quot;:1469505008,&quot;action&quot;:&quot;Open&quot;}\n",
       "{&quot;time&quot;:1469505010,&quot;action&quot;:&quot;Open&quot;}\n",
       "{&quot;time&quot;:1469505012,&quot;action&quot;:&quot;Open&quot;}\n",
       "{&quot;time&quot;:1469505013,&quot;action&quot;:&quot;Close&quot;}\n",
       "{&quot;time&quot;:1469505013,&quot;action&quot;:&quot;Open&quot;}\n",
       "{&quot;time&quot;:1469505013,&quot;action&quot;:&quot;Open&quot;}\n",
       "{&quot;time&quot;:1469505017,&quot;action&quot;:&quot;Open&quot;}\n",
       "{&quot;time&quot;:1469505020,&quot;action&quot;:&quot;Close&quot;}\n",
       "{&quot;time&quot;:1469505020,&quot;action&quot;:&quot;Open&quot;}\n",
       "{&quot;time&quot;:1469505021,&quot;action&quot;:&quot;Close&quot;}\n",
       "{&quot;time&quot;:1469505022,&quot;action&quot;:&quot;Close&quot;}\n",
       "{&quot;time&quot;:1469505022,&quot;action&quot;:&quot;Close&quot;}\n",
       "{&quot;time&quot;:1469505023,&quot;action&quot;:&quot;Close&quot;}\n",
       "{&quot;time&quot;:1469505029,&quot;action&quot;:&quot;Open&quot;}\n",
       "{&quot;time&quot;:1469505032,&quot;action&quot;:&quot;Open&quot;}\n",
       "{&quot;time&quot;:1469505033,&quot;action&quot;:&quot;Open&quot;}\n",
       "{&quot;time&quot;:1469505035,&quot;action&quot;:&quot;Close&quot;}\n",
       "{&quot;time&quot;:1469505039,&quot;action&quot;:&quot;Close&quot;}\n",
       "{&quot;time&quot;:1469505040,&quot;action&quot;:&quot;Close&quot;}\n",
       "{&quot;time&quot;:1469505040,&quot;action&quot;:&quot;Open&quot;}\n",
       "{&quot;time&quot;:1469505041,&quot;action&quot;:&quot;Open&quot;}\n",
       "{&quot;time&quot;:1469505046,&quot;action&quot;:&quot;Close&quot;}\n",
       "{&quot;time&quot;:1469505046,&quot;action&quot;:&quot;Open&quot;}\n",
       "{&quot;time&quot;:1469505047,&quot;action&quot;:&quot;Open&quot;}\n",
       "{&quot;time&quot;:1469505049,&quot;action&quot;:&quot;Close&quot;}\n",
       "{&quot;time&quot;:1469505050,&quot;action&quot;:&quot;Open&quot;}\n",
       "{&quot;time&quot;:1469505052,&quot;action&quot;:&quot;Open&quot;}\n",
       "{&quot;time&quot;:1469505057,&quot;action&quot;:&quot;Close&quot;}\n",
       "{&quot;time&quot;:1469505059,&quot;action&quot;:&quot;Open&quot;}\n",
       "{&quot;time&quot;:1469505062,&quot;action&quot;:&quot;Close&quot;}\n",
       "{&quot;time&quot;:1469505064,&quot;action&quot;:&quot;Close&quot;}\n",
       "{&quot;time&quot;:1469505069,&quot;action&quot;:&quot;Open&quot;}\n",
       "{&quot;time&quot;:1469505072,&quot;action&quot;:&quot;Close&quot;}\n",
       "{&quot;time&quot;:1469505072,&quot;action&quot;:&quot;Close&quot;}\n",
       "{&quot;time&quot;:1469505072,&quot;action&quot;:&quot;Close&quot;}\n",
       "{&quot;time&quot;:1469505074,&quot;action&quot;:&quot;Open&quot;}\n",
       "{&quot;time&quot;:1469505075,&quot;action&quot;:&quot;Open&quot;}\n",
       "{&quot;time&quot;:1469505076,&quot;action&quot;:&quot;Open&quot;}\n",
       "{&quot;time&quot;:1469505077,&quot;action&quot;:&quot;Open&quot;}\n",
       "{&quot;time&quot;:1469505081,&quot;action&quot;:&quot;Open&quot;}\n",
       "{&quot;time&quot;:1469505082,&quot;action&quot;:&quot;Open&quot;}\n",
       "{&quot;time&quot;:1469505085,&quot;action&quot;:&quot;Open&quot;}\n",
       "{&quot;time&quot;:1469505086,&quot;action&quot;:&quot;Open&quot;}\n",
       "{&quot;time&quot;:1469505086,&quot;action&quot;:&quot;Open&quot;}\n",
       "{&quot;time&quot;:1469505086,&quot;action&quot;:&quot;Open&quot;}\n",
       "{&quot;time&quot;:1469505098,&quot;action&quot;:&quot;Open&quot;}\n",
       "{&quot;time&quot;:1469505101,&quot;action&quot;:&quot;Open&quot;}\n",
       "{&quot;time&quot;:1469505102,&quot;action&quot;:&quot;Open&quot;}\n",
       "{&quot;time&quot;:1469505102,&quot;action&quot;:&quot;Open&quot;}\n",
       "{&quot;time&quot;:1469505106,&quot;action&quot;:&quot;Close&quot;}\n",
       "{&quot;time&quot;:1469505106,&quot;action&quot;:&quot;Close&quot;}\n",
       "{&quot;time&quot;:1469505111,&quot;action&quot;:&quot;Open&quot;}\n",
       "{&quot;time&quot;:1469505118,&quot;action&quot;:&quot;Open&quot;}\n",
       "{&quot;time&quot;:1469505120,&quot;action&quot;:&quot;Close&quot;}\n",
       "{&quot;time&quot;:1469505126,&quot;action&quot;:&quot;Open&quot;}\n",
       "{&quot;time&quot;:1469505128,&quot;action&quot;:&quot;Close&quot;}\n",
       "{&quot;time&quot;:1469505129,&quot;action&quot;:&quot;Close&quot;}\n",
       "{&quot;time&quot;:1469505129,&quot;action&quot;:&quot;Open&quot;}\n",
       "{&quot;time&quot;:1469505130,&quot;action&quot;:&quot;Open&quot;}\n",
       "{&quot;time&quot;:1469505130,&quot;action&quot;:&quot;Open&quot;}\n",
       "{&quot;time&quot;:1469505133,&quot;action&quot;:&quot;Open&quot;}\n",
       "{&quot;time&quot;:1469505139,&quot;action&quot;:&quot;Close&quot;}\n",
       "{&quot;time&quot;:1469505140,&quot;action&quot;:&quot;Open&quot;}\n",
       "{&quot;time&quot;:1469505155,&quot;action&quot;:&quot;Open&quot;}\n",
       "{&quot;time&quot;:1469505162,&quot;action&quot;:&quot;Open&quot;}\n",
       "{&quot;time&quot;:1469505163,&quot;action&quot;:&quot;Close&quot;}\n",
       "{&quot;time&quot;:1469505164,&quot;action&quot;:&quot;Open&quot;}\n",
       "{&quot;time&quot;:1469505166,&quot;action&quot;:&quot;Open&quot;}\n",
       "{&quot;time&quot;:1469505169,&quot;action&quot;:&quot;Open&quot;}\n",
       "{&quot;time&quot;:1469505170,&quot;action&quot;:&quot;Open&quot;}\n",
       "{&quot;time&quot;:1469505170,&quot;action&quot;:&quot;Open&quot;}\n",
       "{&quot;time&quot;:1469505172,&quot;action&quot;:&quot;Open&quot;}\n",
       "{&quot;time&quot;:1469505175,&quot;action&quot;:&quot;Open&quot;}\n",
       "{&quot;time&quot;:1469505176,&quot;action&quot;:&quot;Open&quot;}\n",
       "{&quot;time&quot;:1469505180,&quot;action&quot;:&quot;Close&quot;}\n",
       "{&quot;time&quot;:1469505180,&quot;action&quot;:&quot;Close&quot;}\n",
       "{&quot;time&quot;:1469505180,&quot;action&quot;:&quot;Open&quot;}\n",
       "{&quot;time&quot;:1469505183,&quot;action&quot;:&quot;Close&quot;}\n",
       "{&quot;time&quot;:1469505184,&quot;action&quot;:&quot;Open&quot;}\n",
       "{&quot;time&quot;:1469505184,&quot;action&quot;:&quot;Open&quot;}\n",
       "{&quot;time&quot;:1469505185,&quot;action&quot;:&quot;Close&quot;}\n",
       "{&quot;time&quot;:1469505185,&quot;action&quot;:&quot;Close&quot;}\n",
       "{&quot;time&quot;:1469505188,&quot;action&quot;:&quot;Close&quot;}\n",
       "{&quot;time&quot;:1469505191,&quot;action&quot;:&quot;Open&quot;}\n",
       "{&quot;time&quot;:1469505192,&quot;action&quot;:&quot;Open&quot;}\n",
       "{&quot;time&quot;:1469505194,&quot;action&quot;:&quot;Close&quot;}\n",
       "{&quot;time&quot;:1469505200,&quot;action&quot;:&quot;Open&quot;}\n",
       "{&quot;time&quot;:1469505201,&quot;action&quot;:&quot;Close&quot;}\n",
       "{&quot;time&quot;:1469505203,&quot;action&quot;:&quot;Close&quot;}\n",
       "{&quot;time&quot;:1469505204,&quot;action&quot;:&quot;Close&quot;}\n",
       "{&quot;time&quot;:1469505204,&quot;action&quot;:&quot;Open&quot;}\n",
       "{&quot;time&quot;:1469505207,&quot;action&quot;:&quot;Close&quot;}\n",
       "{&quot;time&quot;:1469505209,&quot;action&quot;:&quot;Open&quot;}\n",
       "{&quot;time&quot;:1469505211,&quot;action&quot;:&quot;Open&quot;}\n",
       "{&quot;time&quot;:1469505219,&quot;action&quot;:&quot;Open&quot;}\n",
       "{&quot;time&quot;:1469505222,&quot;action&quot;:&quot;Close&quot;}\n",
       "{&quot;time&quot;:1469505226,&quot;action&quot;:&quot;Close&quot;}\n",
       "{&quot;time&quot;:1469505229,&quot;action&quot;:&quot;Close&quot;}\n",
       "{&quot;time&quot;:1469505235,&quot;action&quot;:&quot;Open&quot;}\n",
       "{&quot;time&quot;:1469505237,&quot;action&quot;:&quot;Close&quot;}\n",
       "{&quot;time&quot;:1469505238,&quot;action&quot;:&quot;Open&quot;}\n",
       "{&quot;time&quot;:1469505239,&quot;action&quot;:&quot;Open&quot;}\n",
       "{&quot;time&quot;:1469505241,&quot;action&quot;:&quot;Open&quot;}\n",
       "{&quot;time&quot;:1469505246,&quot;action&quot;:&quot;Open&quot;}\n",
       "{&quot;time&quot;:1469505250,&quot;action&quot;:&quot;Open&quot;}\n",
       "{&quot;time&quot;:1469505250,&quot;action&quot;:&quot;Open&quot;}\n",
       "{&quot;time&quot;:1469505255,&quot;action&quot;:&quot;Open&quot;}\n",
       "{&quot;time&quot;:1469505255,&quot;action&quot;:&quot;Open&quot;}\n",
       "{&quot;time&quot;:1469505256,&quot;action&quot;:&quot;Open&quot;}\n",
       "{&quot;time&quot;:1469505259,&quot;action&quot;:&quot;Close&quot;}\n",
       "{&quot;time&quot;:1469505261,&quot;action&quot;:&quot;Open&quot;}\n",
       "{&quot;time&quot;:1469505261,&quot;action&quot;:&quot;Open&quot;}\n",
       "{&quot;time&quot;:1469505262,&quot;action&quot;:&quot;Close&quot;}\n",
       "{&quot;time&quot;:1469505263,&quot;action&quot;:&quot;Close&quot;}\n",
       "{&quot;time&quot;:1469505264,&quot;action&quot;:&quot;Open&quot;}\n",
       "{&quot;time&quot;:1469505265,&quot;action&quot;:&quot;Open&quot;}\n",
       "{&quot;time&quot;:1469505266,&quot;action&quot;:&quot;Open&quot;}\n",
       "{&quot;time&quot;:1469505266,&quot;action&quot;:&quot;Open&quot;}\n",
       "{&quot;time&quot;:1469505269,&quot;action&quot;:&quot;Open&quot;}\n",
       "{&quot;time&quot;:1469505269,&quot;action&quot;:&quot;Open&quot;}\n",
       "{&quot;time&quot;:1469505272,&quot;action&quot;:&quot;Open&quot;}\n",
       "{&quot;time&quot;:1469505273,&quot;action&quot;:&quot;Close&quot;}\n",
       "{&quot;time&quot;:1469505278,&quot;action&quot;:&quot;Close&quot;}\n",
       "{&quot;time&quot;:1469505278,&quot;action&quot;:&quot;Open&quot;}\n",
       "{&quot;time&quot;:1469505281,&quot;action&quot;:&quot;Open&quot;}\n",
       "{&quot;time&quot;:1469505283,&quot;action&quot;:&quot;Close&quot;}\n",
       "{&quot;time&quot;:1469505283,&quot;action&quot;:&quot;Close&quot;}\n",
       "{&quot;time&quot;:1469505286,&quot;action&quot;:&quot;Open&quot;}\n",
       "{&quot;time&quot;:1469505289,&quot;action&quot;:&quot;Open&quot;}\n",
       "{&quot;time&quot;:1469505291,&quot;action&quot;:&quot;Close&quot;}\n",
       "{&quot;time&quot;:1469505294,&quot;action&quot;:&quot;Close&quot;}\n",
       "{&quot;time&quot;:1469505295,&quot;action&quot;:&quot;Close&quot;}\n",
       "{&quot;time&quot;:1469505296,&quot;action&quot;:&quot;Close&quot;}\n",
       "{&quot;time&quot;:1469505300,&quot;action&quot;:&quot;Open&quot;}\n",
       "{&quot;time&quot;:1469505300,&quot;action&quot;:&quot;Open&quot;}\n",
       "{&quot;time&quot;:1469505301,&quot;action&quot;:&quot;Open&quot;}\n",
       "{&quot;time&quot;:1469505301,&quot;action&quot;:&quot;Open&quot;}\n",
       "{&quot;time&quot;:1469505303,&quot;action&quot;:&quot;Open&quot;}\n",
       "{&quot;time&quot;:1469505307,&quot;action&quot;:&quot;Close&quot;}\n",
       "{&quot;time&quot;:1469505307,&quot;action&quot;:&quot;Open&quot;}\n",
       "{&quot;time&quot;:1469505312,&quot;action&quot;:&quot;Close&quot;}\n",
       "{&quot;time&quot;:1469505320,&quot;action&quot;:&quot;Close&quot;}\n",
       "{&quot;time&quot;:1469505321,&quot;action&quot;:&quot;Open&quot;}\n",
       "{&quot;time&quot;:1469505328,&quot;action&quot;:&quot;Close&quot;}\n",
       "{&quot;time&quot;:1469505330,&quot;action&quot;:&quot;Open&quot;}\n",
       "{&quot;time&quot;:1469505332,&quot;action&quot;:&quot;Close&quot;}\n",
       "{&quot;time&quot;:1469505333,&quot;action&quot;:&quot;Open&quot;}\n",
       "{&quot;time&quot;:1469505335,&quot;action&quot;:&quot;Open&quot;}\n",
       "{&quot;time&quot;:1469505336,&quot;action&quot;:&quot;Close&quot;}\n",
       "{&quot;time&quot;:1469505336,&quot;action&quot;:&quot;Open&quot;}\n",
       "{&quot;time&quot;:1469505343,&quot;action&quot;:&quot;Close&quot;}\n",
       "{&quot;time&quot;:1469505344,&quot;action&quot;:&quot;Open&quot;}\n",
       "{&quot;time&quot;:1469505346,&quot;action&quot;:&quot;Open&quot;}\n",
       "{&quot;time&quot;:1469505349,&quot;action&quot;:&quot;Open&quot;}\n",
       "{&quot;time&quot;:1469505349,&quot;action&quot;:&quot;Open&quot;}\n",
       "{&quot;time&quot;:1469505351,&quot;action&quot;:&quot;Close&quot;}\n",
       "{&quot;time&quot;:1469505353,&quot;action&quot;:&quot;Close&quot;}\n",
       "{&quot;time&quot;:1469505353,&quot;action&quot;:&quot;Open&quot;}\n",
       "{&quot;time&quot;:1469505361,&quot;action&quot;:&quot;Open&quot;}\n",
       "{&quot;time&quot;:1469505363,&quot;action&quot;:&quot;Open&quot;}\n",
       "{&quot;time&quot;:1469505363,&quot;action&quot;:&quot;Open&quot;}\n",
       "{&quot;time&quot;:1469505370,&quot;action&quot;:&quot;Open&quot;}\n",
       "{&quot;time&quot;:1469505371,&quot;action&quot;:&quot;Close&quot;}\n",
       "{&quot;time&quot;:1469505372,&quot;action&quot;:&quot;Open&quot;}\n",
       "{&quot;time&quot;:1469505372,&quot;action&quot;:&quot;Close&quot;}\n",
       "{&quot;time&quot;:1469505375,&quot;action&quot;:&quot;Close&quot;}\n",
       "{&quot;time&quot;:1469505377,&quot;action&quot;:&quot;Close&quot;}\n",
       "{&quot;time&quot;:1469505378,&quot;action&quot;:&quot;Open&quot;}\n",
       "{&quot;time&quot;:1469505380,&quot;action&quot;:&quot;Close&quot;}\n",
       "{&quot;time&quot;:1469505384,&quot;action&quot;:&quot;Open&quot;}\n",
       "{&quot;time&quot;:1469505387,&quot;action&quot;:&quot;Close&quot;}\n",
       "{&quot;time&quot;:1469505389,&quot;action&quot;:&quot;Close&quot;}\n",
       "{&quot;time&quot;:1469505393,&quot;action&quot;:&quot;Close&quot;}\n",
       "{&quot;time&quot;:1469505393,&quot;action&quot;:&quot;Close&quot;}\n",
       "{&quot;time&quot;:1469505397,&quot;action&quot;:&quot;Open&quot;}\n",
       "{&quot;time&quot;:1469505406,&quot;action&quot;:&quot;Open&quot;}\n",
       "{&quot;time&quot;:1469505413,&quot;action&quot;:&quot;Close&quot;}\n",
       "{&quot;time&quot;:1469505414,&quot;action&quot;:&quot;Close&quot;}\n",
       "{&quot;time&quot;:1469505414,&quot;action&quot;:&quot;Open&quot;}\n",
       "{&quot;time&quot;:1469505414,&quot;action&quot;:&quot;Open&quot;}\n",
       "{&quot;time&quot;:1469505415,&quot;action&quot;:&quot;Open&quot;}\n",
       "{&quot;time&quot;:1469505416,&quot;action&quot;:&quot;Open&quot;}\n",
       "{&quot;time&quot;:1469505418,&quot;action&quot;:&quot;Open&quot;}\n",
       "{&quot;time&quot;:1469505421,&quot;action&quot;:&quot;Open&quot;}\n",
       "{&quot;time&quot;:1469505424,&quot;action&quot;:&quot;Open&quot;}\n",
       "{&quot;time&quot;:1469505428,&quot;action&quot;:&quot;Open&quot;}\n",
       "{&quot;time&quot;:1469505430,&quot;action&quot;:&quot;Open&quot;}\n",
       "{&quot;time&quot;:1469505443,&quot;action&quot;:&quot;Open&quot;}\n",
       "{&quot;time&quot;:1469505451,&quot;action&quot;:&quot;Close&quot;}\n",
       "{&quot;time&quot;:1469505460,&quot;action&quot;:&quot;Open&quot;}\n",
       "{&quot;time&quot;:1469505460,&quot;action&quot;:&quot;Open&quot;}\n",
       "{&quot;time&quot;:1469505462,&quot;action&quot;:&quot;Close&quot;}\n",
       "{&quot;time&quot;:1469505463,&quot;action&quot;:&quot;Close&quot;}\n",
       "{&quot;time&quot;:1469505464,&quot;action&quot;:&quot;Open&quot;}\n",
       "{&quot;time&quot;:1469505465,&quot;action&quot;:&quot;Close&quot;}\n",
       "{&quot;time&quot;:1469505465,&quot;action&quot;:&quot;Close&quot;}\n",
       "{&quot;time&quot;:1469505473,&quot;action&quot;:&quot;Open&quot;}\n",
       "{&quot;time&quot;:1469505474,&quot;action&quot;:&quot;Open&quot;}\n",
       "{&quot;time&quot;:1469505478,&quot;action&quot;:&quot;Open&quot;}\n",
       "{&quot;time&quot;:1469505480,&quot;action&quot;:&quot;Close&quot;}\n",
       "{&quot;time&quot;:1469505482,&quot;action&quot;:&quot;Open&quot;}\n",
       "{&quot;time&quot;:1469505484,&quot;action&quot;:&quot;Close&quot;}\n",
       "{&quot;time&quot;:1469505487,&quot;action&quot;:&quot;Open&quot;}\n",
       "{&quot;time&quot;:1469505488,&quot;action&quot;:&quot;Open&quot;}\n",
       "{&quot;time&quot;:1469505490,&quot;action&quot;:&quot;Open&quot;}\n",
       "{&quot;time&quot;:1469505498,&quot;action&quot;:&quot;Open&quot;}\n",
       "{&quot;time&quot;:1469505499,&quot;action&quot;:&quot;Open&quot;}\n",
       "{&quot;time&quot;:1469505504,&quot;action&quot;:&quot;Open&quot;}\n",
       "{&quot;time&quot;:1469505505,&quot;action&quot;:&quot;Open&quot;}\n",
       "{&quot;time&quot;:1469505509,&quot;action&quot;:&quot;Open&quot;}\n",
       "{&quot;time&quot;:1469505514,&quot;action&quot;:&quot;Close&quot;}\n",
       "{&quot;time&quot;:1469505515,&quot;action&quot;:&quot;Open&quot;}\n",
       "{&quot;time&quot;:1469505517,&quot;action&quot;:&quot;Open&quot;}\n",
       "{&quot;time&quot;:1469505523,&quot;action&quot;:&quot;Close&quot;}\n",
       "{&quot;time&quot;:1469505524,&quot;action&quot;:&quot;Open&quot;}\n",
       "{&quot;time&quot;:1469505524,&quot;action&quot;:&quot;Open&quot;}\n",
       "{&quot;time&quot;:1469505525,&quot;action&quot;:&quot;Open&quot;}\n",
       "{&quot;time&quot;:1469505526,&quot;action&quot;:&quot;Close&quot;}\n",
       "{&quot;time&quot;:1469505526,&quot;action&quot;:&quot;Open&quot;}\n",
       "{&quot;time&quot;:1469505527,&quot;action&quot;:&quot;Open&quot;}\n",
       "{&quot;time&quot;:1469505528,&quot;action&quot;:&quot;Open&quot;}\n",
       "{&quot;time&quot;:1469505531,&quot;action&quot;:&quot;Close&quot;}\n",
       "{&quot;time&quot;:1469505533,&quot;action&quot;:&quot;Open&quot;}\n",
       "{&quot;time&quot;:1469505534,&quot;action&quot;:&quot;Close&quot;}\n",
       "{&quot;time&quot;:1469505534,&quot;action&quot;:&quot;Open&quot;}\n",
       "{&quot;time&quot;:1469505535,&quot;action&quot;:&quot;Open&quot;}\n",
       "{&quot;time&quot;:1469505538,&quot;action&quot;:&quot;Open&quot;}\n",
       "{&quot;time&quot;:1469505538,&quot;action&quot;:&quot;Open&quot;}\n",
       "{&quot;time&quot;:1469505539,&quot;action&quot;:&quot;Close&quot;}\n",
       "{&quot;time&quot;:1469505539,&quot;action&quot;:&quot;Open&quot;}\n",
       "{&quot;time&quot;:1469505540,&quot;action&quot;:&quot;Close&quot;}\n",
       "{&quot;time&quot;:1469505542,&quot;action&quot;:&quot;Open&quot;}\n",
       "{&quot;time&quot;:1469505543,&quot;action&quot;:&quot;Open&quot;}\n",
       "{&quot;time&quot;:1469505544,&quot;action&quot;:&quot;Close&quot;}\n",
       "{&quot;time&quot;:1469505545,&quot;action&quot;:&quot;Open&quot;}\n",
       "{&quot;time&quot;:1469505550,&quot;action&quot;:&quot;Close&quot;}\n",
       "{&quot;time&quot;:1469505550,&quot;action&quot;:&quot;Open&quot;}\n",
       "{&quot;time&quot;:1469505551,&quot;action&quot;:&quot;Close&quot;}\n",
       "{&quot;time&quot;:1469505553,&quot;action&quot;:&quot;Open&quot;}\n",
       "{&quot;time&quot;:1469505555,&quot;action&quot;:&quot;Open&quot;}\n",
       "{&quot;time&quot;:1469505556,&quot;action&quot;:&quot;Open&quot;}\n",
       "{&quot;time&quot;:1469505557,&quot;action&quot;:&quot;Open&quot;}\n",
       "{&quot;time&quot;:1469505558,&quot;action&quot;:&quot;Close&quot;}\n",
       "{&quot;time&quot;:1469505558,&quot;action&quot;:&quot;Open&quot;}\n",
       "{&quot;time&quot;:1469505561,&quot;action&quot;:&quot;Close&quot;}\n",
       "{&quot;time&quot;:1469505563,&quot;action&quot;:&quot;Close&quot;}\n",
       "{&quot;time&quot;:1469505563,&quot;action&quot;:&quot;Open&quot;}\n",
       "{&quot;time&quot;:1469505564,&quot;action&quot;:&quot;Close&quot;}\n",
       "{&quot;time&quot;:1469505566,&quot;action&quot;:&quot;Close&quot;}\n",
       "{&quot;time&quot;:1469505567,&quot;action&quot;:&quot;Open&quot;}\n",
       "{&quot;time&quot;:1469505573,&quot;action&quot;:&quot;Open&quot;}\n",
       "{&quot;time&quot;:1469505574,&quot;action&quot;:&quot;Open&quot;}\n",
       "{&quot;time&quot;:1469505579,&quot;action&quot;:&quot;Close&quot;}\n",
       "{&quot;time&quot;:1469505582,&quot;action&quot;:&quot;Open&quot;}\n",
       "{&quot;time&quot;:1469505586,&quot;action&quot;:&quot;Open&quot;}\n",
       "{&quot;time&quot;:1469505588,&quot;action&quot;:&quot;Open&quot;}\n",
       "{&quot;time&quot;:1469505589,&quot;action&quot;:&quot;Open&quot;}\n",
       "{&quot;time&quot;:1469505590,&quot;action&quot;:&quot;Close&quot;}\n",
       "{&quot;time&quot;:1469505591,&quot;action&quot;:&quot;Close&quot;}\n",
       "{&quot;time&quot;:1469505591,&quot;action&quot;:&quot;Open&quot;}\n",
       "{&quot;time&quot;:1469505597,&quot;action&quot;:&quot;Close&quot;}\n",
       "{&quot;time&quot;:1469505597,&quot;action&quot;:&quot;Close&quot;}\n",
       "{&quot;time&quot;:1469505599,&quot;action&quot;:&quot;Open&quot;}\n",
       "{&quot;time&quot;:1469505601,&quot;action&quot;:&quot;Open&quot;}\n",
       "{&quot;time&quot;:1469505602,&quot;action&quot;:&quot;Close&quot;}\n",
       "{&quot;time&quot;:1469505612,&quot;action&quot;:&quot;Close&quot;}\n",
       "{&quot;time&quot;:1469505616,&quot;action&quot;:&quot;Close&quot;}\n",
       "{&quot;time&quot;:1469505616,&quot;action&quot;:&quot;Open&quot;}\n",
       "{&quot;time&quot;:1469505617,&quot;action&quot;:&quot;Open&quot;}\n",
       "{&quot;time&quot;:1469505619,&quot;action&quot;:&quot;Close&quot;}\n",
       "{&quot;time&quot;:1469505621,&quot;action&quot;:&quot;Open&quot;}\n",
       "{&quot;time&quot;:1469505624,&quot;action&quot;:&quot;Open&quot;}\n",
       "{&quot;time&quot;:1469505625,&quot;action&quot;:&quot;Open&quot;}\n",
       "{&quot;time&quot;:1469505626,&quot;action&quot;:&quot;Close&quot;}\n",
       "{&quot;time&quot;:1469505628,&quot;action&quot;:&quot;Close&quot;}\n",
       "{&quot;time&quot;:1469505629,&quot;action&quot;:&quot;Open&quot;}\n",
       "{&quot;time&quot;:1469505638,&quot;action&quot;:&quot;Close&quot;}\n",
       "{&quot;time&quot;:1469505640,&quot;action&quot;:&quot;Open&quot;}\n",
       "{&quot;time&quot;:1469505640,&quot;action&quot;:&quot;Open&quot;}\n",
       "{&quot;time&quot;:1469505650,&quot;action&quot;:&quot;Open&quot;}\n",
       "{&quot;time&quot;:1469505653,&quot;action&quot;:&quot;Open&quot;}\n",
       "{&quot;time&quot;:1469505661,&quot;action&quot;:&quot;Close&quot;}\n",
       "{&quot;time&quot;:1469505661,&quot;action&quot;:&quot;Open&quot;}\n",
       "{&quot;time&quot;:1469505663,&quot;action&quot;:&quot;Open&quot;}\n",
       "{&quot;time&quot;:1469505665,&quot;action&quot;:&quot;Open&quot;}\n",
       "{&quot;time&quot;:1469505668,&quot;action&quot;:&quot;Open&quot;}\n",
       "{&quot;time&quot;:1469505682,&quot;action&quot;:&quot;Open&quot;}\n",
       "{&quot;time&quot;:1469505686,&quot;action&quot;:&quot;Open&quot;}\n",
       "{&quot;time&quot;:1469505694,&quot;action&quot;:&quot;Close&quot;}\n",
       "{&quot;time&quot;:1469505695,&quot;action&quot;:&quot;Open&quot;}\n",
       "{&quot;time&quot;:1469505696,&quot;action&quot;:&quot;Open&quot;}\n",
       "{&quot;time&quot;:1469505700,&quot;action&quot;:&quot;Open&quot;}\n",
       "{&quot;time&quot;:1469505708,&quot;action&quot;:&quot;Open&quot;}\n",
       "{&quot;time&quot;:1469505711,&quot;action&quot;:&quot;Close&quot;}\n",
       "{&quot;time&quot;:1469505713,&quot;action&quot;:&quot;Close&quot;}\n",
       "{&quot;time&quot;:1469505715,&quot;action&quot;:&quot;Close&quot;}\n",
       "{&quot;time&quot;:1469505715,&quot;action&quot;:&quot;Open&quot;}\n",
       "{&quot;time&quot;:1469505718,&quot;action&quot;:&quot;Close&quot;}\n",
       "{&quot;time&quot;:1469505719,&quot;action&quot;:&quot;Open&quot;}\n",
       "{&quot;time&quot;:1469505723,&quot;action&quot;:&quot;Open&quot;}\n",
       "{&quot;time&quot;:1469505725,&quot;action&quot;:&quot;Open&quot;}\n",
       "{&quot;time&quot;:1469505728,&quot;action&quot;:&quot;Close&quot;}\n",
       "{&quot;time&quot;:1469505731,&quot;action&quot;:&quot;Open&quot;}\n",
       "{&quot;time&quot;:1469505733,&quot;action&quot;:&quot;Close&quot;}\n",
       "{&quot;time&quot;:1469505733,&quot;action&quot;:&quot;Open&quot;}\n",
       "{&quot;time&quot;:1469505735,&quot;action&quot;:&quot;Open&quot;}\n",
       "{&quot;time&quot;:1469505735,&quot;action&quot;:&quot;Open&quot;}\n",
       "{&quot;time&quot;:1469505736,&quot;action&quot;:&quot;Close&quot;}\n",
       "{&quot;time&quot;:1469505739,&quot;action&quot;:&quot;Close&quot;}\n",
       "{&quot;time&quot;:1469505739,&quot;action&quot;:&quot;Close&quot;}\n",
       "{&quot;time&quot;:1469505741,&quot;action&quot;:&quot;Open&quot;}\n",
       "{&quot;time&quot;:1469505741,&quot;action&quot;:&quot;Open&quot;}\n",
       "{&quot;time&quot;:1469505748,&quot;action&quot;:&quot;Close&quot;}\n",
       "{&quot;time&quot;:1469505748,&quot;action&quot;:&quot;Open&quot;}\n",
       "{&quot;time&quot;:1469505748,&quot;action&quot;:&quot;Open&quot;}\n",
       "{&quot;time&quot;:1469505749,&quot;action&quot;:&quot;Close&quot;}\n",
       "{&quot;time&quot;:1469505753,&quot;action&quot;:&quot;Open&quot;}\n",
       "{&quot;time&quot;:1469505754,&quot;action&quot;:&quot;Open&quot;}\n",
       "{&quot;time&quot;:1469505758,&quot;action&quot;:&quot;Open&quot;}\n",
       "{&quot;time&quot;:1469505758,&quot;action&quot;:&quot;Open&quot;}\n",
       "{&quot;time&quot;:1469505759,&quot;action&quot;:&quot;Close&quot;}\n",
       "{&quot;time&quot;:1469505759,&quot;action&quot;:&quot;Open&quot;}\n",
       "{&quot;time&quot;:1469505769,&quot;action&quot;:&quot;Open&quot;}\n",
       "{&quot;time&quot;:1469505770,&quot;action&quot;:&quot;Close&quot;}\n",
       "{&quot;time&quot;:1469505770,&quot;action&quot;:&quot;Open&quot;}\n",
       "{&quot;time&quot;:1469505775,&quot;action&quot;:&quot;Open&quot;}\n",
       "{&quot;time&quot;:1469505783,&quot;action&quot;:&quot;Open&quot;}\n",
       "{&quot;time&quot;:1469505787,&quot;action&quot;:&quot;Close&quot;}\n",
       "{&quot;time&quot;:1469505788,&quot;action&quot;:&quot;Open&quot;}\n",
       "{&quot;time&quot;:1469505793,&quot;action&quot;:&quot;Open&quot;}\n",
       "{&quot;time&quot;:1469505794,&quot;action&quot;:&quot;Open&quot;}\n",
       "{&quot;time&quot;:1469505797,&quot;action&quot;:&quot;Close&quot;}\n",
       "{&quot;time&quot;:1469505800,&quot;action&quot;:&quot;Close&quot;}\n",
       "{&quot;time&quot;:1469505801,&quot;action&quot;:&quot;Close&quot;}\n",
       "{&quot;time&quot;:1469505802,&quot;action&quot;:&quot;Close&quot;}\n",
       "{&quot;time&quot;:1469505803,&quot;action&quot;:&quot;Open&quot;}\n",
       "{&quot;time&quot;:1469505811,&quot;action&quot;:&quot;Close&quot;}\n",
       "{&quot;time&quot;:1469505812,&quot;action&quot;:&quot;Open&quot;}\n",
       "{&quot;time&quot;:1469505815,&quot;action&quot;:&quot;Close&quot;}\n",
       "{&quot;time&quot;:1469505820,&quot;action&quot;:&quot;Close&quot;}\n",
       "{&quot;time&quot;:1469505820,&quot;action&quot;:&quot;Open&quot;}\n",
       "{&quot;time&quot;:1469505824,&quot;action&quot;:&quot;Close&quot;}\n",
       "{&quot;time&quot;:1469505830,&quot;action&quot;:&quot;Open&quot;}\n",
       "{&quot;time&quot;:1469505832,&quot;action&quot;:&quot;Close&quot;}\n",
       "{&quot;time&quot;:1469505834,&quot;action&quot;:&quot;Open&quot;}\n",
       "{&quot;time&quot;:1469505835,&quot;action&quot;:&quot;Close&quot;}\n",
       "{&quot;time&quot;:1469505835,&quot;action&quot;:&quot;Open&quot;}\n",
       "{&quot;time&quot;:1469505836,&quot;action&quot;:&quot;Open&quot;}\n",
       "{&quot;time&quot;:1469505838,&quot;action&quot;:&quot;Open&quot;}\n",
       "{&quot;time&quot;:1469505839,&quot;action&quot;:&quot;Close&quot;}\n",
       "{&quot;time&quot;:1469505841,&quot;action&quot;:&quot;Open&quot;}\n",
       "{&quot;time&quot;:1469505842,&quot;action&quot;:&quot;Close&quot;}\n",
       "{&quot;time&quot;:1469505844,&quot;action&quot;:&quot;Close&quot;}\n",
       "{&quot;time&quot;:1469505851,&quot;action&quot;:&quot;Open&quot;}\n",
       "{&quot;time&quot;:1469505851,&quot;action&quot;:&quot;Open&quot;}\n",
       "{&quot;time&quot;:1469505854,&quot;action&quot;:&quot;Open&quot;}\n",
       "{&quot;time&quot;:1469505860,&quot;action&quot;:&quot;Open&quot;}\n",
       "{&quot;time&quot;:1469505863,&quot;action&quot;:&quot;Open&quot;}\n",
       "{&quot;time&quot;:1469505867,&quot;action&quot;:&quot;Open&quot;}\n",
       "{&quot;time&quot;:1469505873,&quot;action&quot;:&quot;Open&quot;}\n",
       "{&quot;time&quot;:1469505875,&quot;action&quot;:&quot;Close&quot;}\n",
       "{&quot;time&quot;:1469505875,&quot;action&quot;:&quot;Open&quot;}\n",
       "{&quot;time&quot;:1469505875,&quot;action&quot;:&quot;Open&quot;}\n",
       "{&quot;time&quot;:1469505877,&quot;action&quot;:&quot;Close&quot;}\n",
       "{&quot;time&quot;:1469505882,&quot;action&quot;:&quot;Close&quot;}\n",
       "{&quot;time&quot;:1469505886,&quot;action&quot;:&quot;Open&quot;}\n",
       "{&quot;time&quot;:1469505890,&quot;action&quot;:&quot;Close&quot;}\n",
       "{&quot;time&quot;:1469505892,&quot;action&quot;:&quot;Open&quot;}\n",
       "{&quot;time&quot;:1469505897,&quot;action&quot;:&quot;Open&quot;}\n",
       "{&quot;time&quot;:1469505902,&quot;action&quot;:&quot;Close&quot;}\n",
       "{&quot;time&quot;:1469505903,&quot;action&quot;:&quot;Open&quot;}\n",
       "{&quot;time&quot;:1469505904,&quot;action&quot;:&quot;Open&quot;}\n",
       "{&quot;time&quot;:1469505904,&quot;action&quot;:&quot;Open&quot;}\n",
       "{&quot;time&quot;:1469505905,&quot;action&quot;:&quot;Close&quot;}\n",
       "{&quot;time&quot;:1469505905,&quot;action&quot;:&quot;Open&quot;}\n",
       "{&quot;time&quot;:1469505905,&quot;action&quot;:&quot;Open&quot;}\n",
       "{&quot;time&quot;:1469505907,&quot;action&quot;:&quot;Close&quot;}\n",
       "{&quot;time&quot;:1469505907,&quot;action&quot;:&quot;Open&quot;}\n",
       "{&quot;time&quot;:1469505910,&quot;action&quot;:&quot;Open&quot;}\n",
       "{&quot;time&quot;:1469505913,&quot;action&quot;:&quot;Open&quot;}\n",
       "{&quot;time&quot;:1469505918,&quot;action&quot;:&quot;Close&quot;}\n",
       "{&quot;time&quot;:1469505919,&quot;action&quot;:&quot;Open&quot;}\n",
       "{&quot;time&quot;:1469505920,&quot;action&quot;:&quot;Open&quot;}\n",
       "{&quot;time&quot;:1469505922,&quot;action&quot;:&quot;Open&quot;}\n",
       "{&quot;time&quot;:1469505923,&quot;action&quot;:&quot;Close&quot;}\n",
       "{&quot;time&quot;:1469505924,&quot;action&quot;:&quot;Open&quot;}\n",
       "{&quot;time&quot;:1469505927,&quot;action&quot;:&quot;Open&quot;}\n",
       "{&quot;time&quot;:1469505927,&quot;action&quot;:&quot;Open&quot;}\n",
       "{&quot;time&quot;:1469505929,&quot;action&quot;:&quot;Open&quot;}\n",
       "{&quot;time&quot;:1469505933,&quot;action&quot;:&quot;Open&quot;}\n",
       "{&quot;time&quot;:1469505935,&quot;action&quot;:&quot;Open&quot;}\n",
       "{&quot;time&quot;:1469505936,&quot;action&quot;:&quot;Close&quot;}\n",
       "{&quot;time&quot;:1469505937,&quot;action&quot;:&quot;Close&quot;}\n",
       "{&quot;time&quot;:1469505937,&quot;action&quot;:&quot;Open&quot;}\n",
       "{&quot;time&quot;:1469505938,&quot;action&quot;:&quot;Open&quot;}\n",
       "{&quot;time&quot;:1469505939,&quot;action&quot;:&quot;Close&quot;}\n",
       "{&quot;time&quot;:1469505941,&quot;action&quot;:&quot;Open&quot;}\n",
       "{&quot;time&quot;:1469505942,&quot;action&quot;:&quot;Close&quot;}\n",
       "{&quot;time&quot;:1469505944,&quot;action&quot;:&quot;Open&quot;}\n",
       "{&quot;time&quot;:1469505947,&quot;action&quot;:&quot;Close&quot;}\n",
       "{&quot;time&quot;:1469505954,&quot;action&quot;:&quot;Close&quot;}\n",
       "{&quot;time&quot;:1469505954,&quot;action&quot;:&quot;Open&quot;}\n",
       "{&quot;time&quot;:1469505955,&quot;action&quot;:&quot;Close&quot;}\n",
       "{&quot;time&quot;:1469505958,&quot;action&quot;:&quot;Open&quot;}\n",
       "{&quot;time&quot;:1469505959,&quot;action&quot;:&quot;Close&quot;}\n",
       "{&quot;time&quot;:1469505961,&quot;action&quot;:&quot;Close&quot;}\n",
       "{&quot;time&quot;:1469505966,&quot;action&quot;:&quot;Open&quot;}\n",
       "{&quot;time&quot;:1469505966,&quot;action&quot;:&quot;Open&quot;}\n",
       "{&quot;time&quot;:1469505967,&quot;action&quot;:&quot;Close&quot;}\n",
       "{&quot;time&quot;:1469505969,&quot;action&quot;:&quot;Open&quot;}\n",
       "{&quot;time&quot;:1469505970,&quot;action&quot;:&quot;Close&quot;}\n",
       "{&quot;time&quot;:1469505970,&quot;action&quot;:&quot;Open&quot;}\n",
       "{&quot;time&quot;:1469505972,&quot;action&quot;:&quot;Close&quot;}\n",
       "{&quot;time&quot;:1469505972,&quot;action&quot;:&quot;Close&quot;}\n",
       "{&quot;time&quot;:1469505975,&quot;action&quot;:&quot;Close&quot;}\n",
       "{&quot;time&quot;:1469505977,&quot;action&quot;:&quot;Close&quot;}\n",
       "{&quot;time&quot;:1469505977,&quot;action&quot;:&quot;Open&quot;}\n",
       "{&quot;time&quot;:1469505979,&quot;action&quot;:&quot;Open&quot;}\n",
       "{&quot;time&quot;:1469505980,&quot;action&quot;:&quot;Open&quot;}\n",
       "{&quot;time&quot;:1469505986,&quot;action&quot;:&quot;Open&quot;}\n",
       "{&quot;time&quot;:1469505987,&quot;action&quot;:&quot;Open&quot;}\n",
       "{&quot;time&quot;:1469505987,&quot;action&quot;:&quot;Open&quot;}\n",
       "{&quot;time&quot;:1469505990,&quot;action&quot;:&quot;Open&quot;}\n",
       "{&quot;time&quot;:1469505990,&quot;action&quot;:&quot;Open&quot;}\n",
       "{&quot;time&quot;:1469505990,&quot;action&quot;:&quot;Open&quot;}\n",
       "{&quot;time&quot;:1469505991,&quot;action&quot;:&quot;Open&quot;}\n",
       "{&quot;time&quot;:1469505992,&quot;action&quot;:&quot;Open&quot;}\n",
       "{&quot;time&quot;:1469505998,&quot;action&quot;:&quot;Open&quot;}\n",
       "{&quot;time&quot;:1469506000,&quot;action&quot;:&quot;Open&quot;}\n",
       "{&quot;time&quot;:1469506002,&quot;action&quot;:&quot;Close&quot;}\n",
       "{&quot;time&quot;:1469506004,&quot;action&quot;:&quot;Open&quot;}\n",
       "{&quot;time&quot;:1469506005,&quot;action&quot;:&quot;Close&quot;}\n",
       "{&quot;time&quot;:1469506005,&quot;action&quot;:&quot;Close&quot;}\n",
       "{&quot;time&quot;:1469506005,&quot;action&quot;:&quot;Open&quot;}\n",
       "{&quot;time&quot;:1469506006,&quot;action&quot;:&quot;Close&quot;}\n",
       "{&quot;time&quot;:1469506006,&quot;action&quot;:&quot;Close&quot;}\n",
       "{&quot;time&quot;:1469506006,&quot;action&quot;:&quot;Open&quot;}\n",
       "{&quot;time&quot;:1469506010,&quot;action&quot;:&quot;Open&quot;}\n",
       "{&quot;time&quot;:1469506012,&quot;action&quot;:&quot;Open&quot;}\n",
       "{&quot;time&quot;:1469506022,&quot;action&quot;:&quot;Close&quot;}\n",
       "{&quot;time&quot;:1469506022,&quot;action&quot;:&quot;Open&quot;}\n",
       "{&quot;time&quot;:1469506025,&quot;action&quot;:&quot;Open&quot;}\n",
       "{&quot;time&quot;:1469506028,&quot;action&quot;:&quot;Open&quot;}\n",
       "{&quot;time&quot;:1469506030,&quot;action&quot;:&quot;Open&quot;}\n",
       "{&quot;time&quot;:1469506030,&quot;action&quot;:&quot;Open&quot;}\n",
       "{&quot;time&quot;:1469506032,&quot;action&quot;:&quot;Open&quot;}\n",
       "{&quot;time&quot;:1469506032,&quot;action&quot;:&quot;Open&quot;}\n",
       "{&quot;time&quot;:1469506033,&quot;action&quot;:&quot;Close&quot;}\n",
       "{&quot;time&quot;:1469506033,&quot;action&quot;:&quot;Open&quot;}\n",
       "{&quot;time&quot;:1469506035,&quot;action&quot;:&quot;Close&quot;}\n",
       "{&quot;time&quot;:1469506036,&quot;action&quot;:&quot;Close&quot;}\n",
       "{&quot;time&quot;:1469506038,&quot;action&quot;:&quot;Open&quot;}\n",
       "{&quot;time&quot;:1469506041,&quot;action&quot;:&quot;Open&quot;}\n",
       "{&quot;time&quot;:1469506044,&quot;action&quot;:&quot;Close&quot;}\n",
       "{&quot;time&quot;:1469506046,&quot;action&quot;:&quot;Open&quot;}\n",
       "{&quot;time&quot;:1469506046,&quot;action&quot;:&quot;Open&quot;}\n",
       "{&quot;time&quot;:1469506047,&quot;action&quot;:&quot;Close&quot;}\n",
       "{&quot;time&quot;:1469506047,&quot;action&quot;:&quot;Open&quot;}\n",
       "{&quot;time&quot;:1469506049,&quot;action&quot;:&quot;Open&quot;}\n",
       "{&quot;time&quot;:1469506050,&quot;action&quot;:&quot;Close&quot;}\n",
       "{&quot;time&quot;:1469506051,&quot;action&quot;:&quot;Close&quot;}\n",
       "{&quot;time&quot;:1469506053,&quot;action&quot;:&quot;Open&quot;}\n",
       "{&quot;time&quot;:1469506055,&quot;action&quot;:&quot;Close&quot;}\n",
       "{&quot;time&quot;:1469506056,&quot;action&quot;:&quot;Open&quot;}\n",
       "{&quot;time&quot;:1469506056,&quot;action&quot;:&quot;Open&quot;}\n",
       "{&quot;time&quot;:1469506058,&quot;action&quot;:&quot;Open&quot;}\n",
       "{&quot;time&quot;:1469506060,&quot;action&quot;:&quot;Open&quot;}\n",
       "{&quot;time&quot;:1469506063,&quot;action&quot;:&quot;Open&quot;}\n",
       "{&quot;time&quot;:1469506070,&quot;action&quot;:&quot;Close&quot;}\n",
       "{&quot;time&quot;:1469506070,&quot;action&quot;:&quot;Open&quot;}\n",
       "{&quot;time&quot;:1469506072,&quot;action&quot;:&quot;Open&quot;}\n",
       "{&quot;time&quot;:1469506074,&quot;action&quot;:&quot;Open&quot;}\n",
       "{&quot;time&quot;:1469506081,&quot;action&quot;:&quot;Close&quot;}\n",
       "{&quot;time&quot;:1469506081,&quot;action&quot;:&quot;Open&quot;}\n",
       "{&quot;time&quot;:1469506081,&quot;action&quot;:&quot;Open&quot;}\n",
       "{&quot;time&quot;:1469506083,&quot;action&quot;:&quot;Open&quot;}\n",
       "{&quot;time&quot;:1469506083,&quot;action&quot;:&quot;Open&quot;}\n",
       "{&quot;time&quot;:1469506085,&quot;action&quot;:&quot;Close&quot;}\n",
       "{&quot;time&quot;:1469506085,&quot;action&quot;:&quot;Open&quot;}\n",
       "{&quot;time&quot;:1469506091,&quot;action&quot;:&quot;Close&quot;}\n",
       "{&quot;time&quot;:1469506095,&quot;action&quot;:&quot;Open&quot;}\n",
       "{&quot;time&quot;:1469506096,&quot;action&quot;:&quot;Close&quot;}\n",
       "{&quot;time&quot;:1469506097,&quot;action&quot;:&quot;Close&quot;}\n",
       "{&quot;time&quot;:1469506099,&quot;action&quot;:&quot;Close&quot;}\n",
       "{&quot;time&quot;:1469506107,&quot;action&quot;:&quot;Close&quot;}\n",
       "{&quot;time&quot;:1469506109,&quot;action&quot;:&quot;Close&quot;}\n",
       "{&quot;time&quot;:1469506110,&quot;action&quot;:&quot;Close&quot;}\n",
       "{&quot;time&quot;:1469506110,&quot;action&quot;:&quot;Open&quot;}\n",
       "{&quot;time&quot;:1469506111,&quot;action&quot;:&quot;Open&quot;}\n",
       "{&quot;time&quot;:1469506113,&quot;action&quot;:&quot;Open&quot;}\n",
       "{&quot;time&quot;:1469506114,&quot;action&quot;:&quot;Open&quot;}\n",
       "{&quot;time&quot;:1469506114,&quot;action&quot;:&quot;Open&quot;}\n",
       "{&quot;time&quot;:1469506115,&quot;action&quot;:&quot;Open&quot;}\n",
       "{&quot;time&quot;:1469506116,&quot;action&quot;:&quot;Close&quot;}\n",
       "{&quot;time&quot;:1469506124,&quot;action&quot;:&quot;Open&quot;}\n",
       "{&quot;time&quot;:1469506125,&quot;action&quot;:&quot;Close&quot;}\n",
       "{&quot;time&quot;:1469506129,&quot;action&quot;:&quot;Open&quot;}\n",
       "{&quot;time&quot;:1469506130,&quot;action&quot;:&quot;Open&quot;}\n",
       "{&quot;time&quot;:1469506133,&quot;action&quot;:&quot;Close&quot;}\n",
       "{&quot;time&quot;:1469506135,&quot;action&quot;:&quot;Open&quot;}\n",
       "{&quot;time&quot;:1469506135,&quot;action&quot;:&quot;Open&quot;}\n",
       "{&quot;time&quot;:1469506137,&quot;action&quot;:&quot;Close&quot;}\n",
       "{&quot;time&quot;:1469506140,&quot;action&quot;:&quot;Open&quot;}\n",
       "{&quot;time&quot;:1469506144,&quot;action&quot;:&quot;Open&quot;}\n",
       "{&quot;time&quot;:1469506148,&quot;action&quot;:&quot;Open&quot;}\n",
       "{&quot;time&quot;:1469506150,&quot;action&quot;:&quot;Open&quot;}\n",
       "{&quot;time&quot;:1469506153,&quot;action&quot;:&quot;Open&quot;}\n",
       "{&quot;time&quot;:1469506154,&quot;action&quot;:&quot;Open&quot;}\n",
       "{&quot;time&quot;:1469506155,&quot;action&quot;:&quot;Close&quot;}\n",
       "{&quot;time&quot;:1469506159,&quot;action&quot;:&quot;Open&quot;}\n",
       "{&quot;time&quot;:1469506160,&quot;action&quot;:&quot;Open&quot;}\n",
       "{&quot;time&quot;:1469506161,&quot;action&quot;:&quot;Open&quot;}\n",
       "{&quot;time&quot;:1469506165,&quot;action&quot;:&quot;Open&quot;}\n",
       "{&quot;time&quot;:1469506166,&quot;action&quot;:&quot;Close&quot;}\n",
       "{&quot;time&quot;:1469506167,&quot;action&quot;:&quot;Open&quot;}\n",
       "{&quot;time&quot;:1469506173,&quot;action&quot;:&quot;Open&quot;}\n",
       "{&quot;time&quot;:1469506174,&quot;action&quot;:&quot;Open&quot;}\n",
       "{&quot;time&quot;:1469506176,&quot;action&quot;:&quot;Close&quot;}\n",
       "{&quot;time&quot;:1469506178,&quot;action&quot;:&quot;Close&quot;}\n",
       "{&quot;time&quot;:1469506180,&quot;action&quot;:&quot;Close&quot;}\n",
       "{&quot;time&quot;:1469506186,&quot;action&quot;:&quot;Close&quot;}\n",
       "{&quot;time&quot;:1469506186,&quot;action&quot;:&quot;Close&quot;}\n",
       "{&quot;time&quot;:1469506187,&quot;action&quot;:&quot;Open&quot;}\n",
       "{&quot;time&quot;:1469506189,&quot;action&quot;:&quot;Close&quot;}\n",
       "{&quot;time&quot;:1469506207,&quot;action&quot;:&quot;Close&quot;}\n",
       "{&quot;time&quot;:1469506207,&quot;action&quot;:&quot;Open&quot;}\n",
       "{&quot;time&quot;:1469506216,&quot;action&quot;:&quot;Open&quot;}\n",
       "{&quot;time&quot;:1469506218,&quot;action&quot;:&quot;Open&quot;}\n",
       "{&quot;time&quot;:1469506220,&quot;action&quot;:&quot;Close&quot;}\n",
       "{&quot;time&quot;:1469506220,&quot;action&quot;:&quot;Open&quot;}\n",
       "{&quot;time&quot;:1469506221,&quot;action&quot;:&quot;Open&quot;}\n",
       "{&quot;time&quot;:1469506225,&quot;action&quot;:&quot;Open&quot;}\n",
       "{&quot;time&quot;:1469506227,&quot;action&quot;:&quot;Close&quot;}\n",
       "{&quot;time&quot;:1469506228,&quot;action&quot;:&quot;Open&quot;}\n",
       "{&quot;time&quot;:1469506233,&quot;action&quot;:&quot;Open&quot;}\n",
       "{&quot;time&quot;:1469506234,&quot;action&quot;:&quot;O\n",
       "</div>"
      ]
     },
     "metadata": {
      "application/vnd.databricks.v1+output": {
       "addedWidgets": {},
       "arguments": {},
       "data": "<div class=\"ansiout\">[Truncated to first 65536 bytes]\n{&quot;time&quot;:1469501107,&quot;action&quot;:&quot;Open&quot;}\n{&quot;time&quot;:1469501147,&quot;action&quot;:&quot;Open&quot;}\n{&quot;time&quot;:1469501202,&quot;action&quot;:&quot;Open&quot;}\n{&quot;time&quot;:1469501219,&quot;action&quot;:&quot;Open&quot;}\n{&quot;time&quot;:1469501225,&quot;action&quot;:&quot;Open&quot;}\n{&quot;time&quot;:1469501234,&quot;action&quot;:&quot;Open&quot;}\n{&quot;time&quot;:1469501245,&quot;action&quot;:&quot;Open&quot;}\n{&quot;time&quot;:1469501246,&quot;action&quot;:&quot;Open&quot;}\n{&quot;time&quot;:1469501248,&quot;action&quot;:&quot;Open&quot;}\n{&quot;time&quot;:1469501256,&quot;action&quot;:&quot;Open&quot;}\n{&quot;time&quot;:1469501264,&quot;action&quot;:&quot;Open&quot;}\n{&quot;time&quot;:1469501266,&quot;action&quot;:&quot;Open&quot;}\n{&quot;time&quot;:1469501267,&quot;action&quot;:&quot;Open&quot;}\n{&quot;time&quot;:1469501269,&quot;action&quot;:&quot;Open&quot;}\n{&quot;time&quot;:1469501271,&quot;action&quot;:&quot;Open&quot;}\n{&quot;time&quot;:1469501282,&quot;action&quot;:&quot;Open&quot;}\n{&quot;time&quot;:1469501285,&quot;action&quot;:&quot;Open&quot;}\n{&quot;time&quot;:1469501291,&quot;action&quot;:&quot;Open&quot;}\n{&quot;time&quot;:1469501297,&quot;action&quot;:&quot;Open&quot;}\n{&quot;time&quot;:1469501303,&quot;action&quot;:&quot;Open&quot;}\n{&quot;time&quot;:1469501322,&quot;action&quot;:&quot;Open&quot;}\n{&quot;time&quot;:1469501335,&quot;action&quot;:&quot;Open&quot;}\n{&quot;time&quot;:1469501344,&quot;action&quot;:&quot;Open&quot;}\n{&quot;time&quot;:1469501346,&quot;action&quot;:&quot;Open&quot;}\n{&quot;time&quot;:1469501349,&quot;action&quot;:&quot;Open&quot;}\n{&quot;time&quot;:1469501357,&quot;action&quot;:&quot;Open&quot;}\n{&quot;time&quot;:1469501366,&quot;action&quot;:&quot;Open&quot;}\n{&quot;time&quot;:1469501371,&quot;action&quot;:&quot;Open&quot;}\n{&quot;time&quot;:1469501375,&quot;action&quot;:&quot;Open&quot;}\n{&quot;time&quot;:1469501375,&quot;action&quot;:&quot;Open&quot;}\n{&quot;time&quot;:1469501381,&quot;action&quot;:&quot;Open&quot;}\n{&quot;time&quot;:1469501392,&quot;action&quot;:&quot;Open&quot;}\n{&quot;time&quot;:1469501402,&quot;action&quot;:&quot;Open&quot;}\n{&quot;time&quot;:1469501407,&quot;action&quot;:&quot;Open&quot;}\n{&quot;time&quot;:1469501410,&quot;action&quot;:&quot;Open&quot;}\n{&quot;time&quot;:1469501420,&quot;action&quot;:&quot;Open&quot;}\n{&quot;time&quot;:1469501424,&quot;action&quot;:&quot;Open&quot;}\n{&quot;time&quot;:1469501438,&quot;action&quot;:&quot;Open&quot;}\n{&quot;time&quot;:1469501442,&quot;action&quot;:&quot;Close&quot;}\n{&quot;time&quot;:1469501462,&quot;action&quot;:&quot;Open&quot;}\n{&quot;time&quot;:1469501480,&quot;action&quot;:&quot;Open&quot;}\n{&quot;time&quot;:1469501488,&quot;action&quot;:&quot;Open&quot;}\n{&quot;time&quot;:1469501489,&quot;action&quot;:&quot;Open&quot;}\n{&quot;time&quot;:1469501491,&quot;action&quot;:&quot;Open&quot;}\n{&quot;time&quot;:1469501503,&quot;action&quot;:&quot;Open&quot;}\n{&quot;time&quot;:1469501505,&quot;action&quot;:&quot;Open&quot;}\n{&quot;time&quot;:1469501509,&quot;action&quot;:&quot;Open&quot;}\n{&quot;time&quot;:1469501513,&quot;action&quot;:&quot;Open&quot;}\n{&quot;time&quot;:1469501517,&quot;action&quot;:&quot;Open&quot;}\n{&quot;time&quot;:1469501520,&quot;action&quot;:&quot;Open&quot;}\n{&quot;time&quot;:1469501525,&quot;action&quot;:&quot;Open&quot;}\n{&quot;time&quot;:1469501533,&quot;action&quot;:&quot;Open&quot;}\n{&quot;time&quot;:1469501539,&quot;action&quot;:&quot;Open&quot;}\n{&quot;time&quot;:1469501540,&quot;action&quot;:&quot;Open&quot;}\n{&quot;time&quot;:1469501541,&quot;action&quot;:&quot;Open&quot;}\n{&quot;time&quot;:1469501543,&quot;action&quot;:&quot;Open&quot;}\n{&quot;time&quot;:1469501544,&quot;action&quot;:&quot;Open&quot;}\n{&quot;time&quot;:1469501545,&quot;action&quot;:&quot;Close&quot;}\n{&quot;time&quot;:1469501545,&quot;action&quot;:&quot;Open&quot;}\n{&quot;time&quot;:1469501547,&quot;action&quot;:&quot;Open&quot;}\n{&quot;time&quot;:1469501552,&quot;action&quot;:&quot;Open&quot;}\n{&quot;time&quot;:1469501557,&quot;action&quot;:&quot;Open&quot;}\n{&quot;time&quot;:1469501559,&quot;action&quot;:&quot;Open&quot;}\n{&quot;time&quot;:1469501560,&quot;action&quot;:&quot;Open&quot;}\n{&quot;time&quot;:1469501560,&quot;action&quot;:&quot;Open&quot;}\n{&quot;time&quot;:1469501565,&quot;action&quot;:&quot;Open&quot;}\n{&quot;time&quot;:1469501566,&quot;action&quot;:&quot;Open&quot;}\n{&quot;time&quot;:1469501574,&quot;action&quot;:&quot;Open&quot;}\n{&quot;time&quot;:1469501575,&quot;action&quot;:&quot;Open&quot;}\n{&quot;time&quot;:1469501575,&quot;action&quot;:&quot;Open&quot;}\n{&quot;time&quot;:1469501578,&quot;action&quot;:&quot;Open&quot;}\n{&quot;time&quot;:1469501581,&quot;action&quot;:&quot;Open&quot;}\n{&quot;time&quot;:1469501584,&quot;action&quot;:&quot;Open&quot;}\n{&quot;time&quot;:1469501600,&quot;action&quot;:&quot;Open&quot;}\n{&quot;time&quot;:1469501601,&quot;action&quot;:&quot;Open&quot;}\n{&quot;time&quot;:1469501603,&quot;action&quot;:&quot;Open&quot;}\n{&quot;time&quot;:1469501610,&quot;action&quot;:&quot;Open&quot;}\n{&quot;time&quot;:1469501620,&quot;action&quot;:&quot;Open&quot;}\n{&quot;time&quot;:1469501621,&quot;action&quot;:&quot;Open&quot;}\n{&quot;time&quot;:1469501625,&quot;action&quot;:&quot;Open&quot;}\n{&quot;time&quot;:1469501625,&quot;action&quot;:&quot;Close&quot;}\n{&quot;time&quot;:1469501626,&quot;action&quot;:&quot;Open&quot;}\n{&quot;time&quot;:1469501631,&quot;action&quot;:&quot;Open&quot;}\n{&quot;time&quot;:1469501632,&quot;action&quot;:&quot;Open&quot;}\n{&quot;time&quot;:1469501632,&quot;action&quot;:&quot;Open&quot;}\n{&quot;time&quot;:1469501638,&quot;action&quot;:&quot;Open&quot;}\n{&quot;time&quot;:1469501643,&quot;action&quot;:&quot;Open&quot;}\n{&quot;time&quot;:1469501646,&quot;action&quot;:&quot;Open&quot;}\n{&quot;time&quot;:1469501662,&quot;action&quot;:&quot;Open&quot;}\n{&quot;time&quot;:1469501662,&quot;action&quot;:&quot;Open&quot;}\n{&quot;time&quot;:1469501662,&quot;action&quot;:&quot;Open&quot;}\n{&quot;time&quot;:1469501663,&quot;action&quot;:&quot;Open&quot;}\n{&quot;time&quot;:1469501667,&quot;action&quot;:&quot;Open&quot;}\n{&quot;time&quot;:1469501674,&quot;action&quot;:&quot;Open&quot;}\n{&quot;time&quot;:1469501675,&quot;action&quot;:&quot;Open&quot;}\n{&quot;time&quot;:1469501678,&quot;action&quot;:&quot;Close&quot;}\n{&quot;time&quot;:1469501680,&quot;action&quot;:&quot;Open&quot;}\n{&quot;time&quot;:1469501685,&quot;action&quot;:&quot;Open&quot;}\n{&quot;time&quot;:1469501686,&quot;action&quot;:&quot;Open&quot;}\n{&quot;time&quot;:1469501689,&quot;action&quot;:&quot;Open&quot;}\n{&quot;time&quot;:1469501691,&quot;action&quot;:&quot;Open&quot;}\n{&quot;time&quot;:1469501694,&quot;action&quot;:&quot;Open&quot;}\n{&quot;time&quot;:1469501696,&quot;action&quot;:&quot;Close&quot;}\n{&quot;time&quot;:1469501702,&quot;action&quot;:&quot;Open&quot;}\n{&quot;time&quot;:1469501703,&quot;action&quot;:&quot;Open&quot;}\n{&quot;time&quot;:1469501704,&quot;action&quot;:&quot;Open&quot;}\n{&quot;time&quot;:1469501706,&quot;action&quot;:&quot;Open&quot;}\n{&quot;time&quot;:1469501706,&quot;action&quot;:&quot;Open&quot;}\n{&quot;time&quot;:1469501710,&quot;action&quot;:&quot;Open&quot;}\n{&quot;time&quot;:1469501715,&quot;action&quot;:&quot;Open&quot;}\n{&quot;time&quot;:1469501717,&quot;action&quot;:&quot;Open&quot;}\n{&quot;time&quot;:1469501719,&quot;action&quot;:&quot;Open&quot;}\n{&quot;time&quot;:1469501719,&quot;action&quot;:&quot;Open&quot;}\n{&quot;time&quot;:1469501734,&quot;action&quot;:&quot;Open&quot;}\n{&quot;time&quot;:1469501739,&quot;action&quot;:&quot;Open&quot;}\n{&quot;time&quot;:1469501740,&quot;action&quot;:&quot;Open&quot;}\n{&quot;time&quot;:1469501747,&quot;action&quot;:&quot;Open&quot;}\n{&quot;time&quot;:1469501749,&quot;action&quot;:&quot;Open&quot;}\n{&quot;time&quot;:1469501749,&quot;action&quot;:&quot;Close&quot;}\n{&quot;time&quot;:1469501754,&quot;action&quot;:&quot;Open&quot;}\n{&quot;time&quot;:1469501755,&quot;action&quot;:&quot;Open&quot;}\n{&quot;time&quot;:1469501756,&quot;action&quot;:&quot;Open&quot;}\n{&quot;time&quot;:1469501756,&quot;action&quot;:&quot;Open&quot;}\n{&quot;time&quot;:1469501757,&quot;action&quot;:&quot;Open&quot;}\n{&quot;time&quot;:1469501758,&quot;action&quot;:&quot;Open&quot;}\n{&quot;time&quot;:1469501759,&quot;action&quot;:&quot;Open&quot;}\n{&quot;time&quot;:1469501761,&quot;action&quot;:&quot;Open&quot;}\n{&quot;time&quot;:1469501764,&quot;action&quot;:&quot;Open&quot;}\n{&quot;time&quot;:1469501772,&quot;action&quot;:&quot;Open&quot;}\n{&quot;time&quot;:1469501772,&quot;action&quot;:&quot;Open&quot;}\n{&quot;time&quot;:1469501776,&quot;action&quot;:&quot;Close&quot;}\n{&quot;time&quot;:1469501780,&quot;action&quot;:&quot;Open&quot;}\n{&quot;time&quot;:1469501782,&quot;action&quot;:&quot;Open&quot;}\n{&quot;time&quot;:1469501783,&quot;action&quot;:&quot;Open&quot;}\n{&quot;time&quot;:1469501785,&quot;action&quot;:&quot;Open&quot;}\n{&quot;time&quot;:1469501789,&quot;action&quot;:&quot;Open&quot;}\n{&quot;time&quot;:1469501795,&quot;action&quot;:&quot;Open&quot;}\n{&quot;time&quot;:1469501802,&quot;action&quot;:&quot;Open&quot;}\n{&quot;time&quot;:1469501802,&quot;action&quot;:&quot;Open&quot;}\n{&quot;time&quot;:1469501806,&quot;action&quot;:&quot;Open&quot;}\n{&quot;time&quot;:1469501813,&quot;action&quot;:&quot;Open&quot;}\n{&quot;time&quot;:1469501817,&quot;action&quot;:&quot;Open&quot;}\n{&quot;time&quot;:1469501818,&quot;action&quot;:&quot;Open&quot;}\n{&quot;time&quot;:1469501819,&quot;action&quot;:&quot;Close&quot;}\n{&quot;time&quot;:1469501828,&quot;action&quot;:&quot;Open&quot;}\n{&quot;time&quot;:1469501829,&quot;action&quot;:&quot;Open&quot;}\n{&quot;time&quot;:1469501830,&quot;action&quot;:&quot;Open&quot;}\n{&quot;time&quot;:1469501833,&quot;action&quot;:&quot;Open&quot;}\n{&quot;time&quot;:1469501835,&quot;action&quot;:&quot;Open&quot;}\n{&quot;time&quot;:1469501837,&quot;action&quot;:&quot;Open&quot;}\n{&quot;time&quot;:1469501838,&quot;action&quot;:&quot;Open&quot;}\n{&quot;time&quot;:1469501840,&quot;action&quot;:&quot;Open&quot;}\n{&quot;time&quot;:1469501845,&quot;action&quot;:&quot;Open&quot;}\n{&quot;time&quot;:1469501848,&quot;action&quot;:&quot;Open&quot;}\n{&quot;time&quot;:1469501853,&quot;action&quot;:&quot;Open&quot;}\n{&quot;time&quot;:1469501855,&quot;action&quot;:&quot;Open&quot;}\n{&quot;time&quot;:1469501861,&quot;action&quot;:&quot;Close&quot;}\n{&quot;time&quot;:1469501861,&quot;action&quot;:&quot;Open&quot;}\n{&quot;time&quot;:1469501862,&quot;action&quot;:&quot;Open&quot;}\n{&quot;time&quot;:1469501863,&quot;action&quot;:&quot;Open&quot;}\n{&quot;time&quot;:1469501865,&quot;action&quot;:&quot;Open&quot;}\n{&quot;time&quot;:1469501873,&quot;action&quot;:&quot;Open&quot;}\n{&quot;time&quot;:1469501884,&quot;action&quot;:&quot;Open&quot;}\n{&quot;time&quot;:1469501895,&quot;action&quot;:&quot;Open&quot;}\n{&quot;time&quot;:1469501904,&quot;action&quot;:&quot;Open&quot;}\n{&quot;time&quot;:1469501907,&quot;action&quot;:&quot;Open&quot;}\n{&quot;time&quot;:1469501909,&quot;action&quot;:&quot;Close&quot;}\n{&quot;time&quot;:1469501909,&quot;action&quot;:&quot;Open&quot;}\n{&quot;time&quot;:1469501911,&quot;action&quot;:&quot;Open&quot;}\n{&quot;time&quot;:1469501929,&quot;action&quot;:&quot;Open&quot;}\n{&quot;time&quot;:1469501930,&quot;action&quot;:&quot;Open&quot;}\n{&quot;time&quot;:1469501930,&quot;action&quot;:&quot;Open&quot;}\n{&quot;time&quot;:1469501931,&quot;action&quot;:&quot;Open&quot;}\n{&quot;time&quot;:1469501935,&quot;action&quot;:&quot;Open&quot;}\n{&quot;time&quot;:1469501935,&quot;action&quot;:&quot;Open&quot;}\n{&quot;time&quot;:1469501946,&quot;action&quot;:&quot;Open&quot;}\n{&quot;time&quot;:1469501946,&quot;action&quot;:&quot;Open&quot;}\n{&quot;time&quot;:1469501959,&quot;action&quot;:&quot;Open&quot;}\n{&quot;time&quot;:1469501967,&quot;action&quot;:&quot;Open&quot;}\n{&quot;time&quot;:1469501972,&quot;action&quot;:&quot;Close&quot;}\n{&quot;time&quot;:1469501976,&quot;action&quot;:&quot;Open&quot;}\n{&quot;time&quot;:1469501978,&quot;action&quot;:&quot;Open&quot;}\n{&quot;time&quot;:1469501978,&quot;action&quot;:&quot;Open&quot;}\n{&quot;time&quot;:1469501978,&quot;action&quot;:&quot;Open&quot;}\n{&quot;time&quot;:1469501980,&quot;action&quot;:&quot;Open&quot;}\n{&quot;time&quot;:1469501980,&quot;action&quot;:&quot;Open&quot;}\n{&quot;time&quot;:1469501985,&quot;action&quot;:&quot;Open&quot;}\n{&quot;time&quot;:1469501988,&quot;action&quot;:&quot;Open&quot;}\n{&quot;time&quot;:1469501992,&quot;action&quot;:&quot;Open&quot;}\n{&quot;time&quot;:1469501996,&quot;action&quot;:&quot;Open&quot;}\n{&quot;time&quot;:1469502005,&quot;action&quot;:&quot;Open&quot;}\n{&quot;time&quot;:1469502010,&quot;action&quot;:&quot;Open&quot;}\n{&quot;time&quot;:1469502014,&quot;action&quot;:&quot;Close&quot;}\n{&quot;time&quot;:1469502020,&quot;action&quot;:&quot;Open&quot;}\n{&quot;time&quot;:1469502022,&quot;action&quot;:&quot;Open&quot;}\n{&quot;time&quot;:1469502022,&quot;action&quot;:&quot;Open&quot;}\n{&quot;time&quot;:1469502031,&quot;action&quot;:&quot;Open&quot;}\n{&quot;time&quot;:1469502031,&quot;action&quot;:&quot;Open&quot;}\n{&quot;time&quot;:1469502033,&quot;action&quot;:&quot;Open&quot;}\n{&quot;time&quot;:1469502035,&quot;action&quot;:&quot;Open&quot;}\n{&quot;time&quot;:1469502038,&quot;action&quot;:&quot;Open&quot;}\n{&quot;time&quot;:1469502044,&quot;action&quot;:&quot;Open&quot;}\n{&quot;time&quot;:1469502054,&quot;action&quot;:&quot;Open&quot;}\n{&quot;time&quot;:1469502054,&quot;action&quot;:&quot;Open&quot;}\n{&quot;time&quot;:1469502054,&quot;action&quot;:&quot;Open&quot;}\n{&quot;time&quot;:1469502057,&quot;action&quot;:&quot;Open&quot;}\n{&quot;time&quot;:1469502060,&quot;action&quot;:&quot;Open&quot;}\n{&quot;time&quot;:1469502065,&quot;action&quot;:&quot;Open&quot;}\n{&quot;time&quot;:1469502067,&quot;action&quot;:&quot;Open&quot;}\n{&quot;time&quot;:1469502071,&quot;action&quot;:&quot;Open&quot;}\n{&quot;time&quot;:1469502071,&quot;action&quot;:&quot;Open&quot;}\n{&quot;time&quot;:1469502072,&quot;action&quot;:&quot;Close&quot;}\n{&quot;time&quot;:1469502073,&quot;action&quot;:&quot;Open&quot;}\n{&quot;time&quot;:1469502077,&quot;action&quot;:&quot;Open&quot;}\n{&quot;time&quot;:1469502080,&quot;action&quot;:&quot;Open&quot;}\n{&quot;time&quot;:1469502092,&quot;action&quot;:&quot;Open&quot;}\n{&quot;time&quot;:1469502097,&quot;action&quot;:&quot;Open&quot;}\n{&quot;time&quot;:1469502105,&quot;action&quot;:&quot;Open&quot;}\n{&quot;time&quot;:1469502109,&quot;action&quot;:&quot;Open&quot;}\n{&quot;time&quot;:1469502118,&quot;action&quot;:&quot;Open&quot;}\n{&quot;time&quot;:1469502126,&quot;action&quot;:&quot;Open&quot;}\n{&quot;time&quot;:1469502127,&quot;action&quot;:&quot;Open&quot;}\n{&quot;time&quot;:1469502130,&quot;action&quot;:&quot;Open&quot;}\n{&quot;time&quot;:1469502130,&quot;action&quot;:&quot;Open&quot;}\n{&quot;time&quot;:1469502132,&quot;action&quot;:&quot;Open&quot;}\n{&quot;time&quot;:1469502135,&quot;action&quot;:&quot;Open&quot;}\n{&quot;time&quot;:1469502144,&quot;action&quot;:&quot;Open&quot;}\n{&quot;time&quot;:1469502145,&quot;action&quot;:&quot;Open&quot;}\n{&quot;time&quot;:1469502147,&quot;action&quot;:&quot;Open&quot;}\n{&quot;time&quot;:1469502148,&quot;action&quot;:&quot;Close&quot;}\n{&quot;time&quot;:1469502154,&quot;action&quot;:&quot;Open&quot;}\n{&quot;time&quot;:1469502157,&quot;action&quot;:&quot;Open&quot;}\n{&quot;time&quot;:1469502165,&quot;action&quot;:&quot;Open&quot;}\n{&quot;time&quot;:1469502177,&quot;action&quot;:&quot;Open&quot;}\n{&quot;time&quot;:1469502181,&quot;action&quot;:&quot;Open&quot;}\n{&quot;time&quot;:1469502181,&quot;action&quot;:&quot;Open&quot;}\n{&quot;time&quot;:1469502182,&quot;action&quot;:&quot;Open&quot;}\n{&quot;time&quot;:1469502184,&quot;action&quot;:&quot;Open&quot;}\n{&quot;time&quot;:1469502184,&quot;action&quot;:&quot;Open&quot;}\n{&quot;time&quot;:1469502190,&quot;action&quot;:&quot;Open&quot;}\n{&quot;time&quot;:1469502194,&quot;action&quot;:&quot;Open&quot;}\n{&quot;time&quot;:1469502201,&quot;action&quot;:&quot;Open&quot;}\n{&quot;time&quot;:1469502202,&quot;action&quot;:&quot;Open&quot;}\n{&quot;time&quot;:1469502205,&quot;action&quot;:&quot;Open&quot;}\n{&quot;time&quot;:1469502206,&quot;action&quot;:&quot;Open&quot;}\n{&quot;time&quot;:1469502211,&quot;action&quot;:&quot;Open&quot;}\n{&quot;time&quot;:1469502217,&quot;action&quot;:&quot;Open&quot;}\n{&quot;time&quot;:1469502218,&quot;action&quot;:&quot;Open&quot;}\n{&quot;time&quot;:1469502229,&quot;action&quot;:&quot;Open&quot;}\n{&quot;time&quot;:1469502231,&quot;action&quot;:&quot;Open&quot;}\n{&quot;time&quot;:1469502231,&quot;action&quot;:&quot;Open&quot;}\n{&quot;time&quot;:1469502234,&quot;action&quot;:&quot;Open&quot;}\n{&quot;time&quot;:1469502236,&quot;action&quot;:&quot;Open&quot;}\n{&quot;time&quot;:1469502241,&quot;action&quot;:&quot;Open&quot;}\n{&quot;time&quot;:1469502244,&quot;action&quot;:&quot;Open&quot;}\n{&quot;time&quot;:1469502245,&quot;action&quot;:&quot;Open&quot;}\n{&quot;time&quot;:1469502246,&quot;action&quot;:&quot;Open&quot;}\n{&quot;time&quot;:1469502253,&quot;action&quot;:&quot;Open&quot;}\n{&quot;time&quot;:1469502257,&quot;action&quot;:&quot;Open&quot;}\n{&quot;time&quot;:1469502258,&quot;action&quot;:&quot;Open&quot;}\n{&quot;time&quot;:1469502259,&quot;action&quot;:&quot;Open&quot;}\n{&quot;time&quot;:1469502259,&quot;action&quot;:&quot;Open&quot;}\n{&quot;time&quot;:1469502261,&quot;action&quot;:&quot;Close&quot;}\n{&quot;time&quot;:1469502267,&quot;action&quot;:&quot;Open&quot;}\n{&quot;time&quot;:1469502269,&quot;action&quot;:&quot;Open&quot;}\n{&quot;time&quot;:1469502269,&quot;action&quot;:&quot;Open&quot;}\n{&quot;time&quot;:1469502270,&quot;action&quot;:&quot;Open&quot;}\n{&quot;time&quot;:1469502272,&quot;action&quot;:&quot;Open&quot;}\n{&quot;time&quot;:1469502272,&quot;action&quot;:&quot;Open&quot;}\n{&quot;time&quot;:1469502273,&quot;action&quot;:&quot;Open&quot;}\n{&quot;time&quot;:1469502273,&quot;action&quot;:&quot;Open&quot;}\n{&quot;time&quot;:1469502275,&quot;action&quot;:&quot;Open&quot;}\n{&quot;time&quot;:1469502277,&quot;action&quot;:&quot;Open&quot;}\n{&quot;time&quot;:1469502279,&quot;action&quot;:&quot;Open&quot;}\n{&quot;time&quot;:1469502279,&quot;action&quot;:&quot;Open&quot;}\n{&quot;time&quot;:1469502282,&quot;action&quot;:&quot;Close&quot;}\n{&quot;time&quot;:1469502285,&quot;action&quot;:&quot;Open&quot;}\n{&quot;time&quot;:1469502286,&quot;action&quot;:&quot;Open&quot;}\n{&quot;time&quot;:1469502292,&quot;action&quot;:&quot;Open&quot;}\n{&quot;time&quot;:1469502294,&quot;action&quot;:&quot;Open&quot;}\n{&quot;time&quot;:1469502298,&quot;action&quot;:&quot;Open&quot;}\n{&quot;time&quot;:1469502301,&quot;action&quot;:&quot;Open&quot;}\n{&quot;time&quot;:1469502302,&quot;action&quot;:&quot;Open&quot;}\n{&quot;time&quot;:1469502304,&quot;action&quot;:&quot;Open&quot;}\n{&quot;time&quot;:1469502308,&quot;action&quot;:&quot;Open&quot;}\n{&quot;time&quot;:1469502318,&quot;action&quot;:&quot;Open&quot;}\n{&quot;time&quot;:1469502323,&quot;action&quot;:&quot;Open&quot;}\n{&quot;time&quot;:1469502328,&quot;action&quot;:&quot;Open&quot;}\n{&quot;time&quot;:1469502333,&quot;action&quot;:&quot;Open&quot;}\n{&quot;time&quot;:1469502336,&quot;action&quot;:&quot;Close&quot;}\n{&quot;time&quot;:1469502338,&quot;action&quot;:&quot;Close&quot;}\n{&quot;time&quot;:1469502346,&quot;action&quot;:&quot;Open&quot;}\n{&quot;time&quot;:1469502348,&quot;action&quot;:&quot;Open&quot;}\n{&quot;time&quot;:1469502350,&quot;action&quot;:&quot;Open&quot;}\n{&quot;time&quot;:1469502351,&quot;action&quot;:&quot;Close&quot;}\n{&quot;time&quot;:1469502357,&quot;action&quot;:&quot;Close&quot;}\n{&quot;time&quot;:1469502361,&quot;action&quot;:&quot;Open&quot;}\n{&quot;time&quot;:1469502361,&quot;action&quot;:&quot;Open&quot;}\n{&quot;time&quot;:1469502364,&quot;action&quot;:&quot;Open&quot;}\n{&quot;time&quot;:1469502365,&quot;action&quot;:&quot;Open&quot;}\n{&quot;time&quot;:1469502367,&quot;action&quot;:&quot;Open&quot;}\n{&quot;time&quot;:1469502369,&quot;action&quot;:&quot;Open&quot;}\n{&quot;time&quot;:1469502372,&quot;action&quot;:&quot;Open&quot;}\n{&quot;time&quot;:1469502374,&quot;action&quot;:&quot;Open&quot;}\n{&quot;time&quot;:1469502377,&quot;action&quot;:&quot;Open&quot;}\n{&quot;time&quot;:1469502379,&quot;action&quot;:&quot;Close&quot;}\n{&quot;time&quot;:1469502379,&quot;action&quot;:&quot;Open&quot;}\n{&quot;time&quot;:1469502382,&quot;action&quot;:&quot;Open&quot;}\n{&quot;time&quot;:1469502385,&quot;action&quot;:&quot;Open&quot;}\n{&quot;time&quot;:1469502388,&quot;action&quot;:&quot;Open&quot;}\n{&quot;time&quot;:1469502404,&quot;action&quot;:&quot;Open&quot;}\n{&quot;time&quot;:1469502411,&quot;action&quot;:&quot;Open&quot;}\n{&quot;time&quot;:1469502416,&quot;action&quot;:&quot;Open&quot;}\n{&quot;time&quot;:1469502416,&quot;action&quot;:&quot;Open&quot;}\n{&quot;time&quot;:1469502417,&quot;action&quot;:&quot;Close&quot;}\n{&quot;time&quot;:1469502422,&quot;action&quot;:&quot;Open&quot;}\n{&quot;time&quot;:1469502429,&quot;action&quot;:&quot;Open&quot;}\n{&quot;time&quot;:1469502430,&quot;action&quot;:&quot;Open&quot;}\n{&quot;time&quot;:1469502430,&quot;action&quot;:&quot;Open&quot;}\n{&quot;time&quot;:1469502432,&quot;action&quot;:&quot;Open&quot;}\n{&quot;time&quot;:1469502432,&quot;action&quot;:&quot;Open&quot;}\n{&quot;time&quot;:1469502433,&quot;action&quot;:&quot;Open&quot;}\n{&quot;time&quot;:1469502444,&quot;action&quot;:&quot;Open&quot;}\n{&quot;time&quot;:1469502445,&quot;action&quot;:&quot;Open&quot;}\n{&quot;time&quot;:1469502446,&quot;action&quot;:&quot;Open&quot;}\n{&quot;time&quot;:1469502446,&quot;action&quot;:&quot;Open&quot;}\n{&quot;time&quot;:1469502453,&quot;action&quot;:&quot;Open&quot;}\n{&quot;time&quot;:1469502456,&quot;action&quot;:&quot;Close&quot;}\n{&quot;time&quot;:1469502464,&quot;action&quot;:&quot;Open&quot;}\n{&quot;time&quot;:1469502470,&quot;action&quot;:&quot;Open&quot;}\n{&quot;time&quot;:1469502471,&quot;action&quot;:&quot;Open&quot;}\n{&quot;time&quot;:1469502472,&quot;action&quot;:&quot;Open&quot;}\n{&quot;time&quot;:1469502474,&quot;action&quot;:&quot;Open&quot;}\n{&quot;time&quot;:1469502475,&quot;action&quot;:&quot;Open&quot;}\n{&quot;time&quot;:1469502480,&quot;action&quot;:&quot;Open&quot;}\n{&quot;time&quot;:1469502481,&quot;action&quot;:&quot;Open&quot;}\n{&quot;time&quot;:1469502490,&quot;action&quot;:&quot;Open&quot;}\n{&quot;time&quot;:1469502497,&quot;action&quot;:&quot;Close&quot;}\n{&quot;time&quot;:1469502497,&quot;action&quot;:&quot;Open&quot;}\n{&quot;time&quot;:1469502497,&quot;action&quot;:&quot;Close&quot;}\n{&quot;time&quot;:1469502500,&quot;action&quot;:&quot;Close&quot;}\n{&quot;time&quot;:1469502500,&quot;action&quot;:&quot;Open&quot;}\n{&quot;time&quot;:1469502501,&quot;action&quot;:&quot;Open&quot;}\n{&quot;time&quot;:1469502507,&quot;action&quot;:&quot;Close&quot;}\n{&quot;time&quot;:1469502507,&quot;action&quot;:&quot;Open&quot;}\n{&quot;time&quot;:1469502508,&quot;action&quot;:&quot;Open&quot;}\n{&quot;time&quot;:1469502512,&quot;action&quot;:&quot;Open&quot;}\n{&quot;time&quot;:1469502514,&quot;action&quot;:&quot;Open&quot;}\n{&quot;time&quot;:1469502515,&quot;action&quot;:&quot;Open&quot;}\n{&quot;time&quot;:1469502517,&quot;action&quot;:&quot;Close&quot;}\n{&quot;time&quot;:1469502527,&quot;action&quot;:&quot;Open&quot;}\n{&quot;time&quot;:1469502527,&quot;action&quot;:&quot;Open&quot;}\n{&quot;time&quot;:1469502529,&quot;action&quot;:&quot;Open&quot;}\n{&quot;time&quot;:1469502538,&quot;action&quot;:&quot;Open&quot;}\n{&quot;time&quot;:1469502549,&quot;action&quot;:&quot;Open&quot;}\n{&quot;time&quot;:1469502553,&quot;action&quot;:&quot;Open&quot;}\n{&quot;time&quot;:1469502555,&quot;action&quot;:&quot;Open&quot;}\n{&quot;time&quot;:1469502560,&quot;action&quot;:&quot;Open&quot;}\n{&quot;time&quot;:1469502561,&quot;action&quot;:&quot;Open&quot;}\n{&quot;time&quot;:1469502561,&quot;action&quot;:&quot;Open&quot;}\n{&quot;time&quot;:1469502562,&quot;action&quot;:&quot;Open&quot;}\n{&quot;time&quot;:1469502564,&quot;action&quot;:&quot;Close&quot;}\n{&quot;time&quot;:1469502573,&quot;action&quot;:&quot;Open&quot;}\n{&quot;time&quot;:1469502575,&quot;action&quot;:&quot;Open&quot;}\n{&quot;time&quot;:1469502583,&quot;action&quot;:&quot;Open&quot;}\n{&quot;time&quot;:1469502585,&quot;action&quot;:&quot;Open&quot;}\n{&quot;time&quot;:1469502587,&quot;action&quot;:&quot;Open&quot;}\n{&quot;time&quot;:1469502590,&quot;action&quot;:&quot;Open&quot;}\n{&quot;time&quot;:1469502593,&quot;action&quot;:&quot;Open&quot;}\n{&quot;time&quot;:1469502595,&quot;action&quot;:&quot;Close&quot;}\n{&quot;time&quot;:1469502596,&quot;action&quot;:&quot;Open&quot;}\n{&quot;time&quot;:1469502609,&quot;action&quot;:&quot;Open&quot;}\n{&quot;time&quot;:1469502609,&quot;action&quot;:&quot;Open&quot;}\n{&quot;time&quot;:1469502611,&quot;action&quot;:&quot;Open&quot;}\n{&quot;time&quot;:1469502612,&quot;action&quot;:&quot;Open&quot;}\n{&quot;time&quot;:1469502613,&quot;action&quot;:&quot;Open&quot;}\n{&quot;time&quot;:1469502614,&quot;action&quot;:&quot;Open&quot;}\n{&quot;time&quot;:1469502619,&quot;action&quot;:&quot;Open&quot;}\n{&quot;time&quot;:1469502626,&quot;action&quot;:&quot;Close&quot;}\n{&quot;time&quot;:1469502626,&quot;action&quot;:&quot;Open&quot;}\n{&quot;time&quot;:1469502627,&quot;action&quot;:&quot;Open&quot;}\n{&quot;time&quot;:1469502629,&quot;action&quot;:&quot;Open&quot;}\n{&quot;time&quot;:1469502635,&quot;action&quot;:&quot;Open&quot;}\n{&quot;time&quot;:1469502641,&quot;action&quot;:&quot;Open&quot;}\n{&quot;time&quot;:1469502641,&quot;action&quot;:&quot;Open&quot;}\n{&quot;time&quot;:1469502643,&quot;action&quot;:&quot;Close&quot;}\n{&quot;time&quot;:1469502647,&quot;action&quot;:&quot;Open&quot;}\n{&quot;time&quot;:1469502649,&quot;action&quot;:&quot;Open&quot;}\n{&quot;time&quot;:1469502654,&quot;action&quot;:&quot;Open&quot;}\n{&quot;time&quot;:1469502655,&quot;action&quot;:&quot;Open&quot;}\n{&quot;time&quot;:1469502656,&quot;action&quot;:&quot;Open&quot;}\n{&quot;time&quot;:1469502660,&quot;action&quot;:&quot;Close&quot;}\n{&quot;time&quot;:1469502661,&quot;action&quot;:&quot;Close&quot;}\n{&quot;time&quot;:1469502663,&quot;action&quot;:&quot;Open&quot;}\n{&quot;time&quot;:1469502668,&quot;action&quot;:&quot;Open&quot;}\n{&quot;time&quot;:1469502675,&quot;action&quot;:&quot;Open&quot;}\n{&quot;time&quot;:1469502678,&quot;action&quot;:&quot;Open&quot;}\n{&quot;time&quot;:1469502683,&quot;action&quot;:&quot;Open&quot;}\n{&quot;time&quot;:1469502686,&quot;action&quot;:&quot;Open&quot;}\n{&quot;time&quot;:1469502687,&quot;action&quot;:&quot;Open&quot;}\n{&quot;time&quot;:1469502688,&quot;action&quot;:&quot;Open&quot;}\n{&quot;time&quot;:1469502693,&quot;action&quot;:&quot;Open&quot;}\n{&quot;time&quot;:1469502695,&quot;action&quot;:&quot;Open&quot;}\n{&quot;time&quot;:1469502704,&quot;action&quot;:&quot;Open&quot;}\n{&quot;time&quot;:1469502708,&quot;action&quot;:&quot;Close&quot;}\n{&quot;time&quot;:1469502716,&quot;action&quot;:&quot;Open&quot;}\n{&quot;time&quot;:1469502717,&quot;action&quot;:&quot;Open&quot;}\n{&quot;time&quot;:1469502726,&quot;action&quot;:&quot;Open&quot;}\n{&quot;time&quot;:1469502727,&quot;action&quot;:&quot;Open&quot;}\n{&quot;time&quot;:1469502729,&quot;action&quot;:&quot;Open&quot;}\n{&quot;time&quot;:1469502732,&quot;action&quot;:&quot;Open&quot;}\n{&quot;time&quot;:1469502733,&quot;action&quot;:&quot;Open&quot;}\n{&quot;time&quot;:1469502735,&quot;action&quot;:&quot;Open&quot;}\n{&quot;time&quot;:1469502736,&quot;action&quot;:&quot;Open&quot;}\n{&quot;time&quot;:1469502742,&quot;action&quot;:&quot;Open&quot;}\n{&quot;time&quot;:1469502745,&quot;action&quot;:&quot;Open&quot;}\n{&quot;time&quot;:1469502746,&quot;action&quot;:&quot;Open&quot;}\n{&quot;time&quot;:1469502752,&quot;action&quot;:&quot;Open&quot;}\n{&quot;time&quot;:1469502753,&quot;action&quot;:&quot;Open&quot;}\n{&quot;time&quot;:1469502754,&quot;action&quot;:&quot;Open&quot;}\n{&quot;time&quot;:1469502757,&quot;action&quot;:&quot;Open&quot;}\n{&quot;time&quot;:1469502757,&quot;action&quot;:&quot;Open&quot;}\n{&quot;time&quot;:1469502771,&quot;action&quot;:&quot;Open&quot;}\n{&quot;time&quot;:1469502778,&quot;action&quot;:&quot;Open&quot;}\n{&quot;time&quot;:1469502782,&quot;action&quot;:&quot;Open&quot;}\n{&quot;time&quot;:1469502783,&quot;action&quot;:&quot;Close&quot;}\n{&quot;time&quot;:1469502783,&quot;action&quot;:&quot;Open&quot;}\n{&quot;time&quot;:1469502789,&quot;action&quot;:&quot;Open&quot;}\n{&quot;time&quot;:1469502800,&quot;action&quot;:&quot;Open&quot;}\n{&quot;time&quot;:1469502800,&quot;action&quot;:&quot;Open&quot;}\n{&quot;time&quot;:1469502801,&quot;action&quot;:&quot;Open&quot;}\n{&quot;time&quot;:1469502809,&quot;action&quot;:&quot;Close&quot;}\n{&quot;time&quot;:1469502811,&quot;action&quot;:&quot;Open&quot;}\n{&quot;time&quot;:1469502813,&quot;action&quot;:&quot;Close&quot;}\n{&quot;time&quot;:1469502814,&quot;action&quot;:&quot;Open&quot;}\n{&quot;time&quot;:1469502817,&quot;action&quot;:&quot;Open&quot;}\n{&quot;time&quot;:1469502820,&quot;action&quot;:&quot;Open&quot;}\n{&quot;time&quot;:1469502822,&quot;action&quot;:&quot;Close&quot;}\n{&quot;time&quot;:1469502822,&quot;action&quot;:&quot;Open&quot;}\n{&quot;time&quot;:1469502831,&quot;action&quot;:&quot;Close&quot;}\n{&quot;time&quot;:1469502831,&quot;action&quot;:&quot;Open&quot;}\n{&quot;time&quot;:1469502832,&quot;action&quot;:&quot;Close&quot;}\n{&quot;time&quot;:1469502833,&quot;action&quot;:&quot;Open&quot;}\n{&quot;time&quot;:1469502839,&quot;action&quot;:&quot;Open&quot;}\n{&quot;time&quot;:1469502842,&quot;action&quot;:&quot;Close&quot;}\n{&quot;time&quot;:1469502844,&quot;action&quot;:&quot;Open&quot;}\n{&quot;time&quot;:1469502849,&quot;action&quot;:&quot;Open&quot;}\n{&quot;time&quot;:1469502850,&quot;action&quot;:&quot;Open&quot;}\n{&quot;time&quot;:1469502851,&quot;action&quot;:&quot;Open&quot;}\n{&quot;time&quot;:1469502851,&quot;action&quot;:&quot;Open&quot;}\n{&quot;time&quot;:1469502852,&quot;action&quot;:&quot;Open&quot;}\n{&quot;time&quot;:1469502853,&quot;action&quot;:&quot;Open&quot;}\n{&quot;time&quot;:1469502855,&quot;action&quot;:&quot;Open&quot;}\n{&quot;time&quot;:1469502856,&quot;action&quot;:&quot;Open&quot;}\n{&quot;time&quot;:1469502857,&quot;action&quot;:&quot;Open&quot;}\n{&quot;time&quot;:1469502857,&quot;action&quot;:&quot;Open&quot;}\n{&quot;time&quot;:1469502858,&quot;action&quot;:&quot;Open&quot;}\n{&quot;time&quot;:1469502861,&quot;action&quot;:&quot;Open&quot;}\n{&quot;time&quot;:1469502861,&quot;action&quot;:&quot;Open&quot;}\n{&quot;time&quot;:1469502863,&quot;action&quot;:&quot;Close&quot;}\n{&quot;time&quot;:1469502865,&quot;action&quot;:&quot;Open&quot;}\n{&quot;time&quot;:1469502867,&quot;action&quot;:&quot;Open&quot;}\n{&quot;time&quot;:1469502867,&quot;action&quot;:&quot;Open&quot;}\n{&quot;time&quot;:1469502868,&quot;action&quot;:&quot;Open&quot;}\n{&quot;time&quot;:1469502873,&quot;action&quot;:&quot;Open&quot;}\n{&quot;time&quot;:1469502880,&quot;action&quot;:&quot;Close&quot;}\n{&quot;time&quot;:1469502881,&quot;action&quot;:&quot;Close&quot;}\n{&quot;time&quot;:1469502886,&quot;action&quot;:&quot;Open&quot;}\n{&quot;time&quot;:1469502887,&quot;action&quot;:&quot;Open&quot;}\n{&quot;time&quot;:1469502887,&quot;action&quot;:&quot;Open&quot;}\n{&quot;time&quot;:1469502893,&quot;action&quot;:&quot;Close&quot;}\n{&quot;time&quot;:1469502897,&quot;action&quot;:&quot;Open&quot;}\n{&quot;time&quot;:1469502907,&quot;action&quot;:&quot;Open&quot;}\n{&quot;time&quot;:1469502907,&quot;action&quot;:&quot;Open&quot;}\n{&quot;time&quot;:1469502911,&quot;action&quot;:&quot;Close&quot;}\n{&quot;time&quot;:1469502912,&quot;action&quot;:&quot;Open&quot;}\n{&quot;time&quot;:1469502913,&quot;action&quot;:&quot;Open&quot;}\n{&quot;time&quot;:1469502919,&quot;action&quot;:&quot;Open&quot;}\n{&quot;time&quot;:1469502920,&quot;action&quot;:&quot;Open&quot;}\n{&quot;time&quot;:1469502922,&quot;action&quot;:&quot;Open&quot;}\n{&quot;time&quot;:1469502922,&quot;action&quot;:&quot;Open&quot;}\n{&quot;time&quot;:1469502925,&quot;action&quot;:&quot;Open&quot;}\n{&quot;time&quot;:1469502927,&quot;action&quot;:&quot;Open&quot;}\n{&quot;time&quot;:1469502931,&quot;action&quot;:&quot;Open&quot;}\n{&quot;time&quot;:1469502932,&quot;action&quot;:&quot;Open&quot;}\n{&quot;time&quot;:1469502941,&quot;action&quot;:&quot;Open&quot;}\n{&quot;time&quot;:1469502941,&quot;action&quot;:&quot;Open&quot;}\n{&quot;time&quot;:1469502942,&quot;action&quot;:&quot;Open&quot;}\n{&quot;time&quot;:1469502945,&quot;action&quot;:&quot;Close&quot;}\n{&quot;time&quot;:1469502946,&quot;action&quot;:&quot;Close&quot;}\n{&quot;time&quot;:1469502947,&quot;action&quot;:&quot;Open&quot;}\n{&quot;time&quot;:1469502954,&quot;action&quot;:&quot;Close&quot;}\n{&quot;time&quot;:1469502959,&quot;action&quot;:&quot;Open&quot;}\n{&quot;time&quot;:1469502964,&quot;action&quot;:&quot;Close&quot;}\n{&quot;time&quot;:1469502964,&quot;action&quot;:&quot;Open&quot;}\n{&quot;time&quot;:1469502969,&quot;action&quot;:&quot;Close&quot;}\n{&quot;time&quot;:1469502972,&quot;action&quot;:&quot;Close&quot;}\n{&quot;time&quot;:1469502973,&quot;action&quot;:&quot;Close&quot;}\n{&quot;time&quot;:1469502973,&quot;action&quot;:&quot;Open&quot;}\n{&quot;time&quot;:1469502974,&quot;action&quot;:&quot;Open&quot;}\n{&quot;time&quot;:1469502975,&quot;action&quot;:&quot;Close&quot;}\n{&quot;time&quot;:1469502984,&quot;action&quot;:&quot;Open&quot;}\n{&quot;time&quot;:1469502985,&quot;action&quot;:&quot;Open&quot;}\n{&quot;time&quot;:1469502986,&quot;action&quot;:&quot;Close&quot;}\n{&quot;time&quot;:1469502988,&quot;action&quot;:&quot;Open&quot;}\n{&quot;time&quot;:1469502988,&quot;action&quot;:&quot;Open&quot;}\n{&quot;time&quot;:1469502992,&quot;action&quot;:&quot;Open&quot;}\n{&quot;time&quot;:1469502997,&quot;action&quot;:&quot;Open&quot;}\n{&quot;time&quot;:1469503000,&quot;action&quot;:&quot;Open&quot;}\n{&quot;time&quot;:1469503005,&quot;action&quot;:&quot;Open&quot;}\n{&quot;time&quot;:1469503007,&quot;action&quot;:&quot;Open&quot;}\n{&quot;time&quot;:1469503014,&quot;action&quot;:&quot;Open&quot;}\n{&quot;time&quot;:1469503014,&quot;action&quot;:&quot;Open&quot;}\n{&quot;time&quot;:1469503021,&quot;action&quot;:&quot;Open&quot;}\n{&quot;time&quot;:1469503024,&quot;action&quot;:&quot;Open&quot;}\n{&quot;time&quot;:1469503025,&quot;action&quot;:&quot;Open&quot;}\n{&quot;time&quot;:1469503025,&quot;action&quot;:&quot;Open&quot;}\n{&quot;time&quot;:1469503030,&quot;action&quot;:&quot;Open&quot;}\n{&quot;time&quot;:1469503036,&quot;action&quot;:&quot;Open&quot;}\n{&quot;time&quot;:1469503039,&quot;action&quot;:&quot;Open&quot;}\n{&quot;time&quot;:1469503039,&quot;action&quot;:&quot;Open&quot;}\n{&quot;time&quot;:1469503042,&quot;action&quot;:&quot;Open&quot;}\n{&quot;time&quot;:1469503043,&quot;action&quot;:&quot;Open&quot;}\n{&quot;time&quot;:1469503048,&quot;action&quot;:&quot;Open&quot;}\n{&quot;time&quot;:1469503060,&quot;action&quot;:&quot;Open&quot;}\n{&quot;time&quot;:1469503065,&quot;action&quot;:&quot;Close&quot;}\n{&quot;time&quot;:1469503065,&quot;action&quot;:&quot;Open&quot;}\n{&quot;time&quot;:1469503066,&quot;action&quot;:&quot;Open&quot;}\n{&quot;time&quot;:1469503067,&quot;action&quot;:&quot;Open&quot;}\n{&quot;time&quot;:1469503071,&quot;action&quot;:&quot;Open&quot;}\n{&quot;time&quot;:1469503074,&quot;action&quot;:&quot;Open&quot;}\n{&quot;time&quot;:1469503075,&quot;action&quot;:&quot;Open&quot;}\n{&quot;time&quot;:1469503075,&quot;action&quot;:&quot;Open&quot;}\n{&quot;time&quot;:1469503082,&quot;action&quot;:&quot;Close&quot;}\n{&quot;time&quot;:1469503082,&quot;action&quot;:&quot;Open&quot;}\n{&quot;time&quot;:1469503086,&quot;action&quot;:&quot;Open&quot;}\n{&quot;time&quot;:1469503088,&quot;action&quot;:&quot;Close&quot;}\n{&quot;time&quot;:1469503088,&quot;action&quot;:&quot;Open&quot;}\n{&quot;time&quot;:1469503088,&quot;action&quot;:&quot;Open&quot;}\n{&quot;time&quot;:1469503097,&quot;action&quot;:&quot;Open&quot;}\n{&quot;time&quot;:1469503105,&quot;action&quot;:&quot;Open&quot;}\n{&quot;time&quot;:1469503106,&quot;action&quot;:&quot;Close&quot;}\n{&quot;time&quot;:1469503109,&quot;action&quot;:&quot;Open&quot;}\n{&quot;time&quot;:1469503109,&quot;action&quot;:&quot;Open&quot;}\n{&quot;time&quot;:1469503110,&quot;action&quot;:&quot;Close&quot;}\n{&quot;time&quot;:1469503116,&quot;action&quot;:&quot;Close&quot;}\n{&quot;time&quot;:1469503120,&quot;action&quot;:&quot;Open&quot;}\n{&quot;time&quot;:1469503125,&quot;action&quot;:&quot;Open&quot;}\n{&quot;time&quot;:1469503125,&quot;action&quot;:&quot;Open&quot;}\n{&quot;time&quot;:1469503126,&quot;action&quot;:&quot;Close&quot;}\n{&quot;time&quot;:1469503128,&quot;action&quot;:&quot;Open&quot;}\n{&quot;time&quot;:1469503128,&quot;action&quot;:&quot;Open&quot;}\n{&quot;time&quot;:1469503130,&quot;action&quot;:&quot;Open&quot;}\n{&quot;time&quot;:1469503133,&quot;action&quot;:&quot;Open&quot;}\n{&quot;time&quot;:1469503135,&quot;action&quot;:&quot;Open&quot;}\n{&quot;time&quot;:1469503136,&quot;action&quot;:&quot;Close&quot;}\n{&quot;time&quot;:1469503136,&quot;action&quot;:&quot;Open&quot;}\n{&quot;time&quot;:1469503139,&quot;action&quot;:&quot;Open&quot;}\n{&quot;time&quot;:1469503140,&quot;action&quot;:&quot;Close&quot;}\n{&quot;time&quot;:1469503140,&quot;action&quot;:&quot;Close&quot;}\n{&quot;time&quot;:1469503140,&quot;action&quot;:&quot;Open&quot;}\n{&quot;time&quot;:1469503143,&quot;action&quot;:&quot;Open&quot;}\n{&quot;time&quot;:1469503150,&quot;action&quot;:&quot;Open&quot;}\n{&quot;time&quot;:1469503151,&quot;action&quot;:&quot;Close&quot;}\n{&quot;time&quot;:1469503154,&quot;action&quot;:&quot;Close&quot;}\n{&quot;time&quot;:1469503158,&quot;action&quot;:&quot;Open&quot;}\n{&quot;time&quot;:1469503159,&quot;action&quot;:&quot;Open&quot;}\n{&quot;time&quot;:1469503160,&quot;action&quot;:&quot;Close&quot;}\n{&quot;time&quot;:1469503160,&quot;action&quot;:&quot;Close&quot;}\n{&quot;time&quot;:1469503161,&quot;action&quot;:&quot;Open&quot;}\n{&quot;time&quot;:1469503162,&quot;action&quot;:&quot;Open&quot;}\n{&quot;time&quot;:1469503166,&quot;action&quot;:&quot;Open&quot;}\n{&quot;time&quot;:1469503169,&quot;action&quot;:&quot;Open&quot;}\n{&quot;time&quot;:1469503173,&quot;action&quot;:&quot;Open&quot;}\n{&quot;time&quot;:1469503176,&quot;action&quot;:&quot;Open&quot;}\n{&quot;time&quot;:1469503184,&quot;action&quot;:&quot;Open&quot;}\n{&quot;time&quot;:1469503190,&quot;action&quot;:&quot;Close&quot;}\n{&quot;time&quot;:1469503190,&quot;action&quot;:&quot;Open&quot;}\n{&quot;time&quot;:1469503195,&quot;action&quot;:&quot;Close&quot;}\n{&quot;time&quot;:1469503195,&quot;action&quot;:&quot;Open&quot;}\n{&quot;time&quot;:1469503196,&quot;action&quot;:&quot;Open&quot;}\n{&quot;time&quot;:1469503198,&quot;action&quot;:&quot;Open&quot;}\n{&quot;time&quot;:1469503203,&quot;action&quot;:&quot;Open&quot;}\n{&quot;time&quot;:1469503206,&quot;action&quot;:&quot;Open&quot;}\n{&quot;time&quot;:1469503209,&quot;action&quot;:&quot;Open&quot;}\n{&quot;time&quot;:1469503211,&quot;action&quot;:&quot;Open&quot;}\n{&quot;time&quot;:1469503215,&quot;action&quot;:&quot;Open&quot;}\n{&quot;time&quot;:1469503224,&quot;action&quot;:&quot;Close&quot;}\n{&quot;time&quot;:1469503229,&quot;action&quot;:&quot;Open&quot;}\n{&quot;time&quot;:1469503231,&quot;action&quot;:&quot;Close&quot;}\n{&quot;time&quot;:1469503231,&quot;action&quot;:&quot;Open&quot;}\n{&quot;time&quot;:1469503231,&quot;action&quot;:&quot;Open&quot;}\n{&quot;time&quot;:1469503231,&quot;action&quot;:&quot;Open&quot;}\n{&quot;time&quot;:1469503234,&quot;action&quot;:&quot;Open&quot;}\n{&quot;time&quot;:1469503236,&quot;action&quot;:&quot;Open&quot;}\n{&quot;time&quot;:1469503246,&quot;action&quot;:&quot;Close&quot;}\n{&quot;time&quot;:1469503246,&quot;action&quot;:&quot;Open&quot;}\n{&quot;time&quot;:1469503248,&quot;action&quot;:&quot;Open&quot;}\n{&quot;time&quot;:1469503250,&quot;action&quot;:&quot;Close&quot;}\n{&quot;time&quot;:1469503255,&quot;action&quot;:&quot;Open&quot;}\n{&quot;time&quot;:1469503255,&quot;action&quot;:&quot;Open&quot;}\n{&quot;time&quot;:1469503259,&quot;action&quot;:&quot;Open&quot;}\n{&quot;time&quot;:1469503261,&quot;action&quot;:&quot;Open&quot;}\n{&quot;time&quot;:1469503262,&quot;action&quot;:&quot;Open&quot;}\n{&quot;time&quot;:1469503270,&quot;action&quot;:&quot;Open&quot;}\n{&quot;time&quot;:1469503277,&quot;action&quot;:&quot;Open&quot;}\n{&quot;time&quot;:1469503280,&quot;action&quot;:&quot;Close&quot;}\n{&quot;time&quot;:1469503281,&quot;action&quot;:&quot;Open&quot;}\n{&quot;time&quot;:1469503283,&quot;action&quot;:&quot;Open&quot;}\n{&quot;time&quot;:1469503287,&quot;action&quot;:&quot;Open&quot;}\n{&quot;time&quot;:1469503291,&quot;action&quot;:&quot;Close&quot;}\n{&quot;time&quot;:1469503291,&quot;action&quot;:&quot;Open&quot;}\n{&quot;time&quot;:1469503291,&quot;action&quot;:&quot;Open&quot;}\n{&quot;time&quot;:1469503292,&quot;action&quot;:&quot;Open&quot;}\n{&quot;time&quot;:1469503299,&quot;action&quot;:&quot;Open&quot;}\n{&quot;time&quot;:1469503301,&quot;action&quot;:&quot;Open&quot;}\n{&quot;time&quot;:1469503302,&quot;action&quot;:&quot;Close&quot;}\n{&quot;time&quot;:1469503305,&quot;action&quot;:&quot;Open&quot;}\n{&quot;time&quot;:1469503309,&quot;action&quot;:&quot;Open&quot;}\n{&quot;time&quot;:1469503316,&quot;action&quot;:&quot;Open&quot;}\n{&quot;time&quot;:1469503319,&quot;action&quot;:&quot;Open&quot;}\n{&quot;time&quot;:1469503319,&quot;action&quot;:&quot;Open&quot;}\n{&quot;time&quot;:1469503321,&quot;action&quot;:&quot;Open&quot;}\n{&quot;time&quot;:1469503325,&quot;action&quot;:&quot;Close&quot;}\n{&quot;time&quot;:1469503325,&quot;action&quot;:&quot;Open&quot;}\n{&quot;time&quot;:1469503328,&quot;action&quot;:&quot;Open&quot;}\n{&quot;time&quot;:1469503330,&quot;action&quot;:&quot;Open&quot;}\n{&quot;time&quot;:1469503334,&quot;action&quot;:&quot;Open&quot;}\n{&quot;time&quot;:1469503335,&quot;action&quot;:&quot;Close&quot;}\n{&quot;time&quot;:1469503335,&quot;action&quot;:&quot;Open&quot;}\n{&quot;time&quot;:1469503337,&quot;action&quot;:&quot;Open&quot;}\n{&quot;time&quot;:1469503344,&quot;action&quot;:&quot;Close&quot;}\n{&quot;time&quot;:1469503347,&quot;action&quot;:&quot;Open&quot;}\n{&quot;time&quot;:1469503348,&quot;action&quot;:&quot;Open&quot;}\n{&quot;time&quot;:1469503355,&quot;action&quot;:&quot;Open&quot;}\n{&quot;time&quot;:1469503356,&quot;action&quot;:&quot;Close&quot;}\n{&quot;time&quot;:1469503357,&quot;action&quot;:&quot;Close&quot;}\n{&quot;time&quot;:1469503359,&quot;action&quot;:&quot;Open&quot;}\n{&quot;time&quot;:1469503362,&quot;action&quot;:&quot;Close&quot;}\n{&quot;time&quot;:1469503362,&quot;action&quot;:&quot;Open&quot;}\n{&quot;time&quot;:1469503363,&quot;action&quot;:&quot;Close&quot;}\n{&quot;time&quot;:1469503365,&quot;action&quot;:&quot;Open&quot;}\n{&quot;time&quot;:1469503374,&quot;action&quot;:&quot;Open&quot;}\n{&quot;time&quot;:1469503377,&quot;action&quot;:&quot;Open&quot;}\n{&quot;time&quot;:1469503378,&quot;action&quot;:&quot;Open&quot;}\n{&quot;time&quot;:1469503378,&quot;action&quot;:&quot;Open&quot;}\n{&quot;time&quot;:1469503382,&quot;action&quot;:&quot;Open&quot;}\n{&quot;time&quot;:1469503383,&quot;action&quot;:&quot;Open&quot;}\n{&quot;time&quot;:1469503385,&quot;action&quot;:&quot;Close&quot;}\n{&quot;time&quot;:1469503386,&quot;action&quot;:&quot;Open&quot;}\n{&quot;time&quot;:1469503387,&quot;action&quot;:&quot;Open&quot;}\n{&quot;time&quot;:1469503392,&quot;action&quot;:&quot;Open&quot;}\n{&quot;time&quot;:1469503393,&quot;action&quot;:&quot;Open&quot;}\n{&quot;time&quot;:1469503398,&quot;action&quot;:&quot;Open&quot;}\n{&quot;time&quot;:1469503403,&quot;action&quot;:&quot;Close&quot;}\n{&quot;time&quot;:1469503406,&quot;action&quot;:&quot;Close&quot;}\n{&quot;time&quot;:1469503406,&quot;action&quot;:&quot;Open&quot;}\n{&quot;time&quot;:1469503407,&quot;action&quot;:&quot;Open&quot;}\n{&quot;time&quot;:1469503407,&quot;action&quot;:&quot;Open&quot;}\n{&quot;time&quot;:1469503408,&quot;action&quot;:&quot;Open&quot;}\n{&quot;time&quot;:1469503409,&quot;action&quot;:&quot;Open&quot;}\n{&quot;time&quot;:1469503411,&quot;action&quot;:&quot;Open&quot;}\n{&quot;time&quot;:1469503411,&quot;action&quot;:&quot;Open&quot;}\n{&quot;time&quot;:1469503415,&quot;action&quot;:&quot;Open&quot;}\n{&quot;time&quot;:1469503418,&quot;action&quot;:&quot;Close&quot;}\n{&quot;time&quot;:1469503418,&quot;action&quot;:&quot;Open&quot;}\n{&quot;time&quot;:1469503425,&quot;action&quot;:&quot;Close&quot;}\n{&quot;time&quot;:1469503426,&quot;action&quot;:&quot;Close&quot;}\n{&quot;time&quot;:1469503429,&quot;action&quot;:&quot;Open&quot;}\n{&quot;time&quot;:1469503430,&quot;action&quot;:&quot;Open&quot;}\n{&quot;time&quot;:1469503432,&quot;action&quot;:&quot;Open&quot;}\n{&quot;time&quot;:1469503437,&quot;action&quot;:&quot;Close&quot;}\n{&quot;time&quot;:1469503438,&quot;action&quot;:&quot;Open&quot;}\n{&quot;time&quot;:1469503445,&quot;action&quot;:&quot;Open&quot;}\n{&quot;time&quot;:1469503448,&quot;action&quot;:&quot;Open&quot;}\n{&quot;time&quot;:1469503449,&quot;action&quot;:&quot;Close&quot;}\n{&quot;time&quot;:1469503450,&quot;action&quot;:&quot;Open&quot;}\n{&quot;time&quot;:1469503455,&quot;action&quot;:&quot;Open&quot;}\n{&quot;time&quot;:1469503460,&quot;action&quot;:&quot;Open&quot;}\n{&quot;time&quot;:1469503463,&quot;action&quot;:&quot;Open&quot;}\n{&quot;time&quot;:1469503463,&quot;action&quot;:&quot;Open&quot;}\n{&quot;time&quot;:1469503466,&quot;action&quot;:&quot;Open&quot;}\n{&quot;time&quot;:1469503471,&quot;action&quot;:&quot;Close&quot;}\n{&quot;time&quot;:1469503474,&quot;action&quot;:&quot;Open&quot;}\n{&quot;time&quot;:1469503475,&quot;action&quot;:&quot;Open&quot;}\n{&quot;time&quot;:1469503477,&quot;action&quot;:&quot;Open&quot;}\n{&quot;time&quot;:1469503478,&quot;action&quot;:&quot;Open&quot;}\n{&quot;time&quot;:1469503482,&quot;action&quot;:&quot;Open&quot;}\n{&quot;time&quot;:1469503487,&quot;action&quot;:&quot;Close&quot;}\n{&quot;time&quot;:1469503490,&quot;action&quot;:&quot;Open&quot;}\n\n*** WARNING: skipped 15627 bytes of output ***\n\n{&quot;time&quot;:1469504646,&quot;action&quot;:&quot;Open&quot;}\n{&quot;time&quot;:1469504648,&quot;action&quot;:&quot;Open&quot;}\n{&quot;time&quot;:1469504653,&quot;action&quot;:&quot;Open&quot;}\n{&quot;time&quot;:1469504658,&quot;action&quot;:&quot;Open&quot;}\n{&quot;time&quot;:1469504658,&quot;action&quot;:&quot;Open&quot;}\n{&quot;time&quot;:1469504658,&quot;action&quot;:&quot;Open&quot;}\n{&quot;time&quot;:1469504661,&quot;action&quot;:&quot;Close&quot;}\n{&quot;time&quot;:1469504662,&quot;action&quot;:&quot;Open&quot;}\n{&quot;time&quot;:1469504662,&quot;action&quot;:&quot;Open&quot;}\n{&quot;time&quot;:1469504665,&quot;action&quot;:&quot;Open&quot;}\n{&quot;time&quot;:1469504668,&quot;action&quot;:&quot;Close&quot;}\n{&quot;time&quot;:1469504672,&quot;action&quot;:&quot;Open&quot;}\n{&quot;time&quot;:1469504675,&quot;action&quot;:&quot;Open&quot;}\n{&quot;time&quot;:1469504679,&quot;action&quot;:&quot;Open&quot;}\n{&quot;time&quot;:1469504686,&quot;action&quot;:&quot;Open&quot;}\n{&quot;time&quot;:1469504687,&quot;action&quot;:&quot;Open&quot;}\n{&quot;time&quot;:1469504696,&quot;action&quot;:&quot;Close&quot;}\n{&quot;time&quot;:1469504703,&quot;action&quot;:&quot;Open&quot;}\n{&quot;time&quot;:1469504710,&quot;action&quot;:&quot;Open&quot;}\n{&quot;time&quot;:1469504710,&quot;action&quot;:&quot;Open&quot;}\n{&quot;time&quot;:1469504710,&quot;action&quot;:&quot;Open&quot;}\n{&quot;time&quot;:1469504710,&quot;action&quot;:&quot;Open&quot;}\n{&quot;time&quot;:1469504717,&quot;action&quot;:&quot;Open&quot;}\n{&quot;time&quot;:1469504724,&quot;action&quot;:&quot;Close&quot;}\n{&quot;time&quot;:1469504731,&quot;action&quot;:&quot;Open&quot;}\n{&quot;time&quot;:1469504736,&quot;action&quot;:&quot;Open&quot;}\n{&quot;time&quot;:1469504739,&quot;action&quot;:&quot;Open&quot;}\n{&quot;time&quot;:1469504741,&quot;action&quot;:&quot;Close&quot;}\n{&quot;time&quot;:1469504742,&quot;action&quot;:&quot;Close&quot;}\n{&quot;time&quot;:1469504742,&quot;action&quot;:&quot;Close&quot;}\n{&quot;time&quot;:1469504743,&quot;action&quot;:&quot;Close&quot;}\n{&quot;time&quot;:1469504744,&quot;action&quot;:&quot;Open&quot;}\n{&quot;time&quot;:1469504745,&quot;action&quot;:&quot;Open&quot;}\n{&quot;time&quot;:1469504747,&quot;action&quot;:&quot;Close&quot;}\n{&quot;time&quot;:1469504748,&quot;action&quot;:&quot;Open&quot;}\n{&quot;time&quot;:1469504748,&quot;action&quot;:&quot;Open&quot;}\n{&quot;time&quot;:1469504748,&quot;action&quot;:&quot;Close&quot;}\n{&quot;time&quot;:1469504751,&quot;action&quot;:&quot;Open&quot;}\n{&quot;time&quot;:1469504752,&quot;action&quot;:&quot;Open&quot;}\n{&quot;time&quot;:1469504753,&quot;action&quot;:&quot;Close&quot;}\n{&quot;time&quot;:1469504754,&quot;action&quot;:&quot;Open&quot;}\n{&quot;time&quot;:1469504757,&quot;action&quot;:&quot;Open&quot;}\n{&quot;time&quot;:1469504757,&quot;action&quot;:&quot;Open&quot;}\n{&quot;time&quot;:1469504761,&quot;action&quot;:&quot;Close&quot;}\n{&quot;time&quot;:1469504762,&quot;action&quot;:&quot;Open&quot;}\n{&quot;time&quot;:1469504765,&quot;action&quot;:&quot;Close&quot;}\n{&quot;time&quot;:1469504765,&quot;action&quot;:&quot;Open&quot;}\n{&quot;time&quot;:1469504768,&quot;action&quot;:&quot;Close&quot;}\n{&quot;time&quot;:1469504779,&quot;action&quot;:&quot;Open&quot;}\n{&quot;time&quot;:1469504779,&quot;action&quot;:&quot;Open&quot;}\n{&quot;time&quot;:1469504780,&quot;action&quot;:&quot;Close&quot;}\n{&quot;time&quot;:1469504781,&quot;action&quot;:&quot;Open&quot;}\n{&quot;time&quot;:1469504782,&quot;action&quot;:&quot;Close&quot;}\n{&quot;time&quot;:1469504784,&quot;action&quot;:&quot;Close&quot;}\n{&quot;time&quot;:1469504786,&quot;action&quot;:&quot;Close&quot;}\n{&quot;time&quot;:1469504789,&quot;action&quot;:&quot;Open&quot;}\n{&quot;time&quot;:1469504789,&quot;action&quot;:&quot;Open&quot;}\n{&quot;time&quot;:1469504791,&quot;action&quot;:&quot;Open&quot;}\n{&quot;time&quot;:1469504792,&quot;action&quot;:&quot;Open&quot;}\n{&quot;time&quot;:1469504792,&quot;action&quot;:&quot;Open&quot;}\n{&quot;time&quot;:1469504793,&quot;action&quot;:&quot;Open&quot;}\n{&quot;time&quot;:1469504797,&quot;action&quot;:&quot;Close&quot;}\n{&quot;time&quot;:1469504802,&quot;action&quot;:&quot;Open&quot;}\n{&quot;time&quot;:1469504803,&quot;action&quot;:&quot;Close&quot;}\n{&quot;time&quot;:1469504803,&quot;action&quot;:&quot;Open&quot;}\n{&quot;time&quot;:1469504805,&quot;action&quot;:&quot;Open&quot;}\n{&quot;time&quot;:1469504807,&quot;action&quot;:&quot;Close&quot;}\n{&quot;time&quot;:1469504808,&quot;action&quot;:&quot;Close&quot;}\n{&quot;time&quot;:1469504809,&quot;action&quot;:&quot;Open&quot;}\n{&quot;time&quot;:1469504810,&quot;action&quot;:&quot;Open&quot;}\n{&quot;time&quot;:1469504811,&quot;action&quot;:&quot;Open&quot;}\n{&quot;time&quot;:1469504811,&quot;action&quot;:&quot;Open&quot;}\n{&quot;time&quot;:1469504815,&quot;action&quot;:&quot;Open&quot;}\n{&quot;time&quot;:1469504818,&quot;action&quot;:&quot;Open&quot;}\n{&quot;time&quot;:1469504819,&quot;action&quot;:&quot;Open&quot;}\n{&quot;time&quot;:1469504820,&quot;action&quot;:&quot;Close&quot;}\n{&quot;time&quot;:1469504820,&quot;action&quot;:&quot;Open&quot;}\n{&quot;time&quot;:1469504824,&quot;action&quot;:&quot;Close&quot;}\n{&quot;time&quot;:1469504825,&quot;action&quot;:&quot;Open&quot;}\n{&quot;time&quot;:1469504829,&quot;action&quot;:&quot;Open&quot;}\n{&quot;time&quot;:1469504834,&quot;action&quot;:&quot;Close&quot;}\n{&quot;time&quot;:1469504836,&quot;action&quot;:&quot;Open&quot;}\n{&quot;time&quot;:1469504840,&quot;action&quot;:&quot;Open&quot;}\n{&quot;time&quot;:1469504848,&quot;action&quot;:&quot;Open&quot;}\n{&quot;time&quot;:1469504853,&quot;action&quot;:&quot;Close&quot;}\n{&quot;time&quot;:1469504854,&quot;action&quot;:&quot;Close&quot;}\n{&quot;time&quot;:1469504855,&quot;action&quot;:&quot;Open&quot;}\n{&quot;time&quot;:1469504859,&quot;action&quot;:&quot;Open&quot;}\n{&quot;time&quot;:1469504860,&quot;action&quot;:&quot;Close&quot;}\n{&quot;time&quot;:1469504866,&quot;action&quot;:&quot;Close&quot;}\n{&quot;time&quot;:1469504873,&quot;action&quot;:&quot;Close&quot;}\n{&quot;time&quot;:1469504875,&quot;action&quot;:&quot;Open&quot;}\n{&quot;time&quot;:1469504881,&quot;action&quot;:&quot;Open&quot;}\n{&quot;time&quot;:1469504882,&quot;action&quot;:&quot;Close&quot;}\n{&quot;time&quot;:1469504886,&quot;action&quot;:&quot;Open&quot;}\n{&quot;time&quot;:1469504889,&quot;action&quot;:&quot;Open&quot;}\n{&quot;time&quot;:1469504890,&quot;action&quot;:&quot;Close&quot;}\n{&quot;time&quot;:1469504892,&quot;action&quot;:&quot;Open&quot;}\n{&quot;time&quot;:1469504897,&quot;action&quot;:&quot;Close&quot;}\n{&quot;time&quot;:1469504901,&quot;action&quot;:&quot;Close&quot;}\n{&quot;time&quot;:1469504902,&quot;action&quot;:&quot;Open&quot;}\n{&quot;time&quot;:1469504903,&quot;action&quot;:&quot;Close&quot;}\n{&quot;time&quot;:1469504903,&quot;action&quot;:&quot;Open&quot;}\n{&quot;time&quot;:1469504904,&quot;action&quot;:&quot;Open&quot;}\n{&quot;time&quot;:1469504905,&quot;action&quot;:&quot;Open&quot;}\n{&quot;time&quot;:1469504909,&quot;action&quot;:&quot;Close&quot;}\n{&quot;time&quot;:1469504909,&quot;action&quot;:&quot;Open&quot;}\n{&quot;time&quot;:1469504910,&quot;action&quot;:&quot;Open&quot;}\n{&quot;time&quot;:1469504911,&quot;action&quot;:&quot;Close&quot;}\n{&quot;time&quot;:1469504915,&quot;action&quot;:&quot;Open&quot;}\n{&quot;time&quot;:1469504916,&quot;action&quot;:&quot;Open&quot;}\n{&quot;time&quot;:1469504922,&quot;action&quot;:&quot;Close&quot;}\n{&quot;time&quot;:1469504926,&quot;action&quot;:&quot;Close&quot;}\n{&quot;time&quot;:1469504926,&quot;action&quot;:&quot;Open&quot;}\n{&quot;time&quot;:1469504929,&quot;action&quot;:&quot;Open&quot;}\n{&quot;time&quot;:1469504929,&quot;action&quot;:&quot;Open&quot;}\n{&quot;time&quot;:1469504931,&quot;action&quot;:&quot;Open&quot;}\n{&quot;time&quot;:1469504933,&quot;action&quot;:&quot;Close&quot;}\n{&quot;time&quot;:1469504935,&quot;action&quot;:&quot;Open&quot;}\n{&quot;time&quot;:1469504937,&quot;action&quot;:&quot;Close&quot;}\n{&quot;time&quot;:1469504937,&quot;action&quot;:&quot;Open&quot;}\n{&quot;time&quot;:1469504942,&quot;action&quot;:&quot;Open&quot;}\n{&quot;time&quot;:1469504943,&quot;action&quot;:&quot;Open&quot;}\n{&quot;time&quot;:1469504944,&quot;action&quot;:&quot;Open&quot;}\n{&quot;time&quot;:1469504946,&quot;action&quot;:&quot;Close&quot;}\n{&quot;time&quot;:1469504948,&quot;action&quot;:&quot;Open&quot;}\n{&quot;time&quot;:1469504958,&quot;action&quot;:&quot;Open&quot;}\n{&quot;time&quot;:1469504960,&quot;action&quot;:&quot;Close&quot;}\n{&quot;time&quot;:1469504960,&quot;action&quot;:&quot;Open&quot;}\n{&quot;time&quot;:1469504963,&quot;action&quot;:&quot;Open&quot;}\n{&quot;time&quot;:1469504964,&quot;action&quot;:&quot;Close&quot;}\n{&quot;time&quot;:1469504964,&quot;action&quot;:&quot;Open&quot;}\n{&quot;time&quot;:1469504967,&quot;action&quot;:&quot;Open&quot;}\n{&quot;time&quot;:1469504968,&quot;action&quot;:&quot;Close&quot;}\n{&quot;time&quot;:1469504971,&quot;action&quot;:&quot;Close&quot;}\n{&quot;time&quot;:1469504972,&quot;action&quot;:&quot;Close&quot;}\n{&quot;time&quot;:1469504974,&quot;action&quot;:&quot;Close&quot;}\n{&quot;time&quot;:1469504983,&quot;action&quot;:&quot;Close&quot;}\n{&quot;time&quot;:1469504983,&quot;action&quot;:&quot;Close&quot;}\n{&quot;time&quot;:1469504983,&quot;action&quot;:&quot;Open&quot;}\n{&quot;time&quot;:1469504984,&quot;action&quot;:&quot;Open&quot;}\n{&quot;time&quot;:1469504987,&quot;action&quot;:&quot;Close&quot;}\n{&quot;time&quot;:1469504989,&quot;action&quot;:&quot;Open&quot;}\n{&quot;time&quot;:1469504991,&quot;action&quot;:&quot;Open&quot;}\n{&quot;time&quot;:1469504993,&quot;action&quot;:&quot;Open&quot;}\n{&quot;time&quot;:1469504994,&quot;action&quot;:&quot;Open&quot;}\n{&quot;time&quot;:1469504998,&quot;action&quot;:&quot;Open&quot;}\n{&quot;time&quot;:1469505000,&quot;action&quot;:&quot;Open&quot;}\n{&quot;time&quot;:1469505005,&quot;action&quot;:&quot;Open&quot;}\n{&quot;time&quot;:1469505005,&quot;action&quot;:&quot;Open&quot;}\n{&quot;time&quot;:1469505007,&quot;action&quot;:&quot;Open&quot;}\n{&quot;time&quot;:1469505008,&quot;action&quot;:&quot;Open&quot;}\n{&quot;time&quot;:1469505010,&quot;action&quot;:&quot;Open&quot;}\n{&quot;time&quot;:1469505012,&quot;action&quot;:&quot;Open&quot;}\n{&quot;time&quot;:1469505013,&quot;action&quot;:&quot;Close&quot;}\n{&quot;time&quot;:1469505013,&quot;action&quot;:&quot;Open&quot;}\n{&quot;time&quot;:1469505013,&quot;action&quot;:&quot;Open&quot;}\n{&quot;time&quot;:1469505017,&quot;action&quot;:&quot;Open&quot;}\n{&quot;time&quot;:1469505020,&quot;action&quot;:&quot;Close&quot;}\n{&quot;time&quot;:1469505020,&quot;action&quot;:&quot;Open&quot;}\n{&quot;time&quot;:1469505021,&quot;action&quot;:&quot;Close&quot;}\n{&quot;time&quot;:1469505022,&quot;action&quot;:&quot;Close&quot;}\n{&quot;time&quot;:1469505022,&quot;action&quot;:&quot;Close&quot;}\n{&quot;time&quot;:1469505023,&quot;action&quot;:&quot;Close&quot;}\n{&quot;time&quot;:1469505029,&quot;action&quot;:&quot;Open&quot;}\n{&quot;time&quot;:1469505032,&quot;action&quot;:&quot;Open&quot;}\n{&quot;time&quot;:1469505033,&quot;action&quot;:&quot;Open&quot;}\n{&quot;time&quot;:1469505035,&quot;action&quot;:&quot;Close&quot;}\n{&quot;time&quot;:1469505039,&quot;action&quot;:&quot;Close&quot;}\n{&quot;time&quot;:1469505040,&quot;action&quot;:&quot;Close&quot;}\n{&quot;time&quot;:1469505040,&quot;action&quot;:&quot;Open&quot;}\n{&quot;time&quot;:1469505041,&quot;action&quot;:&quot;Open&quot;}\n{&quot;time&quot;:1469505046,&quot;action&quot;:&quot;Close&quot;}\n{&quot;time&quot;:1469505046,&quot;action&quot;:&quot;Open&quot;}\n{&quot;time&quot;:1469505047,&quot;action&quot;:&quot;Open&quot;}\n{&quot;time&quot;:1469505049,&quot;action&quot;:&quot;Close&quot;}\n{&quot;time&quot;:1469505050,&quot;action&quot;:&quot;Open&quot;}\n{&quot;time&quot;:1469505052,&quot;action&quot;:&quot;Open&quot;}\n{&quot;time&quot;:1469505057,&quot;action&quot;:&quot;Close&quot;}\n{&quot;time&quot;:1469505059,&quot;action&quot;:&quot;Open&quot;}\n{&quot;time&quot;:1469505062,&quot;action&quot;:&quot;Close&quot;}\n{&quot;time&quot;:1469505064,&quot;action&quot;:&quot;Close&quot;}\n{&quot;time&quot;:1469505069,&quot;action&quot;:&quot;Open&quot;}\n{&quot;time&quot;:1469505072,&quot;action&quot;:&quot;Close&quot;}\n{&quot;time&quot;:1469505072,&quot;action&quot;:&quot;Close&quot;}\n{&quot;time&quot;:1469505072,&quot;action&quot;:&quot;Close&quot;}\n{&quot;time&quot;:1469505074,&quot;action&quot;:&quot;Open&quot;}\n{&quot;time&quot;:1469505075,&quot;action&quot;:&quot;Open&quot;}\n{&quot;time&quot;:1469505076,&quot;action&quot;:&quot;Open&quot;}\n{&quot;time&quot;:1469505077,&quot;action&quot;:&quot;Open&quot;}\n{&quot;time&quot;:1469505081,&quot;action&quot;:&quot;Open&quot;}\n{&quot;time&quot;:1469505082,&quot;action&quot;:&quot;Open&quot;}\n{&quot;time&quot;:1469505085,&quot;action&quot;:&quot;Open&quot;}\n{&quot;time&quot;:1469505086,&quot;action&quot;:&quot;Open&quot;}\n{&quot;time&quot;:1469505086,&quot;action&quot;:&quot;Open&quot;}\n{&quot;time&quot;:1469505086,&quot;action&quot;:&quot;Open&quot;}\n{&quot;time&quot;:1469505098,&quot;action&quot;:&quot;Open&quot;}\n{&quot;time&quot;:1469505101,&quot;action&quot;:&quot;Open&quot;}\n{&quot;time&quot;:1469505102,&quot;action&quot;:&quot;Open&quot;}\n{&quot;time&quot;:1469505102,&quot;action&quot;:&quot;Open&quot;}\n{&quot;time&quot;:1469505106,&quot;action&quot;:&quot;Close&quot;}\n{&quot;time&quot;:1469505106,&quot;action&quot;:&quot;Close&quot;}\n{&quot;time&quot;:1469505111,&quot;action&quot;:&quot;Open&quot;}\n{&quot;time&quot;:1469505118,&quot;action&quot;:&quot;Open&quot;}\n{&quot;time&quot;:1469505120,&quot;action&quot;:&quot;Close&quot;}\n{&quot;time&quot;:1469505126,&quot;action&quot;:&quot;Open&quot;}\n{&quot;time&quot;:1469505128,&quot;action&quot;:&quot;Close&quot;}\n{&quot;time&quot;:1469505129,&quot;action&quot;:&quot;Close&quot;}\n{&quot;time&quot;:1469505129,&quot;action&quot;:&quot;Open&quot;}\n{&quot;time&quot;:1469505130,&quot;action&quot;:&quot;Open&quot;}\n{&quot;time&quot;:1469505130,&quot;action&quot;:&quot;Open&quot;}\n{&quot;time&quot;:1469505133,&quot;action&quot;:&quot;Open&quot;}\n{&quot;time&quot;:1469505139,&quot;action&quot;:&quot;Close&quot;}\n{&quot;time&quot;:1469505140,&quot;action&quot;:&quot;Open&quot;}\n{&quot;time&quot;:1469505155,&quot;action&quot;:&quot;Open&quot;}\n{&quot;time&quot;:1469505162,&quot;action&quot;:&quot;Open&quot;}\n{&quot;time&quot;:1469505163,&quot;action&quot;:&quot;Close&quot;}\n{&quot;time&quot;:1469505164,&quot;action&quot;:&quot;Open&quot;}\n{&quot;time&quot;:1469505166,&quot;action&quot;:&quot;Open&quot;}\n{&quot;time&quot;:1469505169,&quot;action&quot;:&quot;Open&quot;}\n{&quot;time&quot;:1469505170,&quot;action&quot;:&quot;Open&quot;}\n{&quot;time&quot;:1469505170,&quot;action&quot;:&quot;Open&quot;}\n{&quot;time&quot;:1469505172,&quot;action&quot;:&quot;Open&quot;}\n{&quot;time&quot;:1469505175,&quot;action&quot;:&quot;Open&quot;}\n{&quot;time&quot;:1469505176,&quot;action&quot;:&quot;Open&quot;}\n{&quot;time&quot;:1469505180,&quot;action&quot;:&quot;Close&quot;}\n{&quot;time&quot;:1469505180,&quot;action&quot;:&quot;Close&quot;}\n{&quot;time&quot;:1469505180,&quot;action&quot;:&quot;Open&quot;}\n{&quot;time&quot;:1469505183,&quot;action&quot;:&quot;Close&quot;}\n{&quot;time&quot;:1469505184,&quot;action&quot;:&quot;Open&quot;}\n{&quot;time&quot;:1469505184,&quot;action&quot;:&quot;Open&quot;}\n{&quot;time&quot;:1469505185,&quot;action&quot;:&quot;Close&quot;}\n{&quot;time&quot;:1469505185,&quot;action&quot;:&quot;Close&quot;}\n{&quot;time&quot;:1469505188,&quot;action&quot;:&quot;Close&quot;}\n{&quot;time&quot;:1469505191,&quot;action&quot;:&quot;Open&quot;}\n{&quot;time&quot;:1469505192,&quot;action&quot;:&quot;Open&quot;}\n{&quot;time&quot;:1469505194,&quot;action&quot;:&quot;Close&quot;}\n{&quot;time&quot;:1469505200,&quot;action&quot;:&quot;Open&quot;}\n{&quot;time&quot;:1469505201,&quot;action&quot;:&quot;Close&quot;}\n{&quot;time&quot;:1469505203,&quot;action&quot;:&quot;Close&quot;}\n{&quot;time&quot;:1469505204,&quot;action&quot;:&quot;Close&quot;}\n{&quot;time&quot;:1469505204,&quot;action&quot;:&quot;Open&quot;}\n{&quot;time&quot;:1469505207,&quot;action&quot;:&quot;Close&quot;}\n{&quot;time&quot;:1469505209,&quot;action&quot;:&quot;Open&quot;}\n{&quot;time&quot;:1469505211,&quot;action&quot;:&quot;Open&quot;}\n{&quot;time&quot;:1469505219,&quot;action&quot;:&quot;Open&quot;}\n{&quot;time&quot;:1469505222,&quot;action&quot;:&quot;Close&quot;}\n{&quot;time&quot;:1469505226,&quot;action&quot;:&quot;Close&quot;}\n{&quot;time&quot;:1469505229,&quot;action&quot;:&quot;Close&quot;}\n{&quot;time&quot;:1469505235,&quot;action&quot;:&quot;Open&quot;}\n{&quot;time&quot;:1469505237,&quot;action&quot;:&quot;Close&quot;}\n{&quot;time&quot;:1469505238,&quot;action&quot;:&quot;Open&quot;}\n{&quot;time&quot;:1469505239,&quot;action&quot;:&quot;Open&quot;}\n{&quot;time&quot;:1469505241,&quot;action&quot;:&quot;Open&quot;}\n{&quot;time&quot;:1469505246,&quot;action&quot;:&quot;Open&quot;}\n{&quot;time&quot;:1469505250,&quot;action&quot;:&quot;Open&quot;}\n{&quot;time&quot;:1469505250,&quot;action&quot;:&quot;Open&quot;}\n{&quot;time&quot;:1469505255,&quot;action&quot;:&quot;Open&quot;}\n{&quot;time&quot;:1469505255,&quot;action&quot;:&quot;Open&quot;}\n{&quot;time&quot;:1469505256,&quot;action&quot;:&quot;Open&quot;}\n{&quot;time&quot;:1469505259,&quot;action&quot;:&quot;Close&quot;}\n{&quot;time&quot;:1469505261,&quot;action&quot;:&quot;Open&quot;}\n{&quot;time&quot;:1469505261,&quot;action&quot;:&quot;Open&quot;}\n{&quot;time&quot;:1469505262,&quot;action&quot;:&quot;Close&quot;}\n{&quot;time&quot;:1469505263,&quot;action&quot;:&quot;Close&quot;}\n{&quot;time&quot;:1469505264,&quot;action&quot;:&quot;Open&quot;}\n{&quot;time&quot;:1469505265,&quot;action&quot;:&quot;Open&quot;}\n{&quot;time&quot;:1469505266,&quot;action&quot;:&quot;Open&quot;}\n{&quot;time&quot;:1469505266,&quot;action&quot;:&quot;Open&quot;}\n{&quot;time&quot;:1469505269,&quot;action&quot;:&quot;Open&quot;}\n{&quot;time&quot;:1469505269,&quot;action&quot;:&quot;Open&quot;}\n{&quot;time&quot;:1469505272,&quot;action&quot;:&quot;Open&quot;}\n{&quot;time&quot;:1469505273,&quot;action&quot;:&quot;Close&quot;}\n{&quot;time&quot;:1469505278,&quot;action&quot;:&quot;Close&quot;}\n{&quot;time&quot;:1469505278,&quot;action&quot;:&quot;Open&quot;}\n{&quot;time&quot;:1469505281,&quot;action&quot;:&quot;Open&quot;}\n{&quot;time&quot;:1469505283,&quot;action&quot;:&quot;Close&quot;}\n{&quot;time&quot;:1469505283,&quot;action&quot;:&quot;Close&quot;}\n{&quot;time&quot;:1469505286,&quot;action&quot;:&quot;Open&quot;}\n{&quot;time&quot;:1469505289,&quot;action&quot;:&quot;Open&quot;}\n{&quot;time&quot;:1469505291,&quot;action&quot;:&quot;Close&quot;}\n{&quot;time&quot;:1469505294,&quot;action&quot;:&quot;Close&quot;}\n{&quot;time&quot;:1469505295,&quot;action&quot;:&quot;Close&quot;}\n{&quot;time&quot;:1469505296,&quot;action&quot;:&quot;Close&quot;}\n{&quot;time&quot;:1469505300,&quot;action&quot;:&quot;Open&quot;}\n{&quot;time&quot;:1469505300,&quot;action&quot;:&quot;Open&quot;}\n{&quot;time&quot;:1469505301,&quot;action&quot;:&quot;Open&quot;}\n{&quot;time&quot;:1469505301,&quot;action&quot;:&quot;Open&quot;}\n{&quot;time&quot;:1469505303,&quot;action&quot;:&quot;Open&quot;}\n{&quot;time&quot;:1469505307,&quot;action&quot;:&quot;Close&quot;}\n{&quot;time&quot;:1469505307,&quot;action&quot;:&quot;Open&quot;}\n{&quot;time&quot;:1469505312,&quot;action&quot;:&quot;Close&quot;}\n{&quot;time&quot;:1469505320,&quot;action&quot;:&quot;Close&quot;}\n{&quot;time&quot;:1469505321,&quot;action&quot;:&quot;Open&quot;}\n{&quot;time&quot;:1469505328,&quot;action&quot;:&quot;Close&quot;}\n{&quot;time&quot;:1469505330,&quot;action&quot;:&quot;Open&quot;}\n{&quot;time&quot;:1469505332,&quot;action&quot;:&quot;Close&quot;}\n{&quot;time&quot;:1469505333,&quot;action&quot;:&quot;Open&quot;}\n{&quot;time&quot;:1469505335,&quot;action&quot;:&quot;Open&quot;}\n{&quot;time&quot;:1469505336,&quot;action&quot;:&quot;Close&quot;}\n{&quot;time&quot;:1469505336,&quot;action&quot;:&quot;Open&quot;}\n{&quot;time&quot;:1469505343,&quot;action&quot;:&quot;Close&quot;}\n{&quot;time&quot;:1469505344,&quot;action&quot;:&quot;Open&quot;}\n{&quot;time&quot;:1469505346,&quot;action&quot;:&quot;Open&quot;}\n{&quot;time&quot;:1469505349,&quot;action&quot;:&quot;Open&quot;}\n{&quot;time&quot;:1469505349,&quot;action&quot;:&quot;Open&quot;}\n{&quot;time&quot;:1469505351,&quot;action&quot;:&quot;Close&quot;}\n{&quot;time&quot;:1469505353,&quot;action&quot;:&quot;Close&quot;}\n{&quot;time&quot;:1469505353,&quot;action&quot;:&quot;Open&quot;}\n{&quot;time&quot;:1469505361,&quot;action&quot;:&quot;Open&quot;}\n{&quot;time&quot;:1469505363,&quot;action&quot;:&quot;Open&quot;}\n{&quot;time&quot;:1469505363,&quot;action&quot;:&quot;Open&quot;}\n{&quot;time&quot;:1469505370,&quot;action&quot;:&quot;Open&quot;}\n{&quot;time&quot;:1469505371,&quot;action&quot;:&quot;Close&quot;}\n{&quot;time&quot;:1469505372,&quot;action&quot;:&quot;Open&quot;}\n{&quot;time&quot;:1469505372,&quot;action&quot;:&quot;Close&quot;}\n{&quot;time&quot;:1469505375,&quot;action&quot;:&quot;Close&quot;}\n{&quot;time&quot;:1469505377,&quot;action&quot;:&quot;Close&quot;}\n{&quot;time&quot;:1469505378,&quot;action&quot;:&quot;Open&quot;}\n{&quot;time&quot;:1469505380,&quot;action&quot;:&quot;Close&quot;}\n{&quot;time&quot;:1469505384,&quot;action&quot;:&quot;Open&quot;}\n{&quot;time&quot;:1469505387,&quot;action&quot;:&quot;Close&quot;}\n{&quot;time&quot;:1469505389,&quot;action&quot;:&quot;Close&quot;}\n{&quot;time&quot;:1469505393,&quot;action&quot;:&quot;Close&quot;}\n{&quot;time&quot;:1469505393,&quot;action&quot;:&quot;Close&quot;}\n{&quot;time&quot;:1469505397,&quot;action&quot;:&quot;Open&quot;}\n{&quot;time&quot;:1469505406,&quot;action&quot;:&quot;Open&quot;}\n{&quot;time&quot;:1469505413,&quot;action&quot;:&quot;Close&quot;}\n{&quot;time&quot;:1469505414,&quot;action&quot;:&quot;Close&quot;}\n{&quot;time&quot;:1469505414,&quot;action&quot;:&quot;Open&quot;}\n{&quot;time&quot;:1469505414,&quot;action&quot;:&quot;Open&quot;}\n{&quot;time&quot;:1469505415,&quot;action&quot;:&quot;Open&quot;}\n{&quot;time&quot;:1469505416,&quot;action&quot;:&quot;Open&quot;}\n{&quot;time&quot;:1469505418,&quot;action&quot;:&quot;Open&quot;}\n{&quot;time&quot;:1469505421,&quot;action&quot;:&quot;Open&quot;}\n{&quot;time&quot;:1469505424,&quot;action&quot;:&quot;Open&quot;}\n{&quot;time&quot;:1469505428,&quot;action&quot;:&quot;Open&quot;}\n{&quot;time&quot;:1469505430,&quot;action&quot;:&quot;Open&quot;}\n{&quot;time&quot;:1469505443,&quot;action&quot;:&quot;Open&quot;}\n{&quot;time&quot;:1469505451,&quot;action&quot;:&quot;Close&quot;}\n{&quot;time&quot;:1469505460,&quot;action&quot;:&quot;Open&quot;}\n{&quot;time&quot;:1469505460,&quot;action&quot;:&quot;Open&quot;}\n{&quot;time&quot;:1469505462,&quot;action&quot;:&quot;Close&quot;}\n{&quot;time&quot;:1469505463,&quot;action&quot;:&quot;Close&quot;}\n{&quot;time&quot;:1469505464,&quot;action&quot;:&quot;Open&quot;}\n{&quot;time&quot;:1469505465,&quot;action&quot;:&quot;Close&quot;}\n{&quot;time&quot;:1469505465,&quot;action&quot;:&quot;Close&quot;}\n{&quot;time&quot;:1469505473,&quot;action&quot;:&quot;Open&quot;}\n{&quot;time&quot;:1469505474,&quot;action&quot;:&quot;Open&quot;}\n{&quot;time&quot;:1469505478,&quot;action&quot;:&quot;Open&quot;}\n{&quot;time&quot;:1469505480,&quot;action&quot;:&quot;Close&quot;}\n{&quot;time&quot;:1469505482,&quot;action&quot;:&quot;Open&quot;}\n{&quot;time&quot;:1469505484,&quot;action&quot;:&quot;Close&quot;}\n{&quot;time&quot;:1469505487,&quot;action&quot;:&quot;Open&quot;}\n{&quot;time&quot;:1469505488,&quot;action&quot;:&quot;Open&quot;}\n{&quot;time&quot;:1469505490,&quot;action&quot;:&quot;Open&quot;}\n{&quot;time&quot;:1469505498,&quot;action&quot;:&quot;Open&quot;}\n{&quot;time&quot;:1469505499,&quot;action&quot;:&quot;Open&quot;}\n{&quot;time&quot;:1469505504,&quot;action&quot;:&quot;Open&quot;}\n{&quot;time&quot;:1469505505,&quot;action&quot;:&quot;Open&quot;}\n{&quot;time&quot;:1469505509,&quot;action&quot;:&quot;Open&quot;}\n{&quot;time&quot;:1469505514,&quot;action&quot;:&quot;Close&quot;}\n{&quot;time&quot;:1469505515,&quot;action&quot;:&quot;Open&quot;}\n{&quot;time&quot;:1469505517,&quot;action&quot;:&quot;Open&quot;}\n{&quot;time&quot;:1469505523,&quot;action&quot;:&quot;Close&quot;}\n{&quot;time&quot;:1469505524,&quot;action&quot;:&quot;Open&quot;}\n{&quot;time&quot;:1469505524,&quot;action&quot;:&quot;Open&quot;}\n{&quot;time&quot;:1469505525,&quot;action&quot;:&quot;Open&quot;}\n{&quot;time&quot;:1469505526,&quot;action&quot;:&quot;Close&quot;}\n{&quot;time&quot;:1469505526,&quot;action&quot;:&quot;Open&quot;}\n{&quot;time&quot;:1469505527,&quot;action&quot;:&quot;Open&quot;}\n{&quot;time&quot;:1469505528,&quot;action&quot;:&quot;Open&quot;}\n{&quot;time&quot;:1469505531,&quot;action&quot;:&quot;Close&quot;}\n{&quot;time&quot;:1469505533,&quot;action&quot;:&quot;Open&quot;}\n{&quot;time&quot;:1469505534,&quot;action&quot;:&quot;Close&quot;}\n{&quot;time&quot;:1469505534,&quot;action&quot;:&quot;Open&quot;}\n{&quot;time&quot;:1469505535,&quot;action&quot;:&quot;Open&quot;}\n{&quot;time&quot;:1469505538,&quot;action&quot;:&quot;Open&quot;}\n{&quot;time&quot;:1469505538,&quot;action&quot;:&quot;Open&quot;}\n{&quot;time&quot;:1469505539,&quot;action&quot;:&quot;Close&quot;}\n{&quot;time&quot;:1469505539,&quot;action&quot;:&quot;Open&quot;}\n{&quot;time&quot;:1469505540,&quot;action&quot;:&quot;Close&quot;}\n{&quot;time&quot;:1469505542,&quot;action&quot;:&quot;Open&quot;}\n{&quot;time&quot;:1469505543,&quot;action&quot;:&quot;Open&quot;}\n{&quot;time&quot;:1469505544,&quot;action&quot;:&quot;Close&quot;}\n{&quot;time&quot;:1469505545,&quot;action&quot;:&quot;Open&quot;}\n{&quot;time&quot;:1469505550,&quot;action&quot;:&quot;Close&quot;}\n{&quot;time&quot;:1469505550,&quot;action&quot;:&quot;Open&quot;}\n{&quot;time&quot;:1469505551,&quot;action&quot;:&quot;Close&quot;}\n{&quot;time&quot;:1469505553,&quot;action&quot;:&quot;Open&quot;}\n{&quot;time&quot;:1469505555,&quot;action&quot;:&quot;Open&quot;}\n{&quot;time&quot;:1469505556,&quot;action&quot;:&quot;Open&quot;}\n{&quot;time&quot;:1469505557,&quot;action&quot;:&quot;Open&quot;}\n{&quot;time&quot;:1469505558,&quot;action&quot;:&quot;Close&quot;}\n{&quot;time&quot;:1469505558,&quot;action&quot;:&quot;Open&quot;}\n{&quot;time&quot;:1469505561,&quot;action&quot;:&quot;Close&quot;}\n{&quot;time&quot;:1469505563,&quot;action&quot;:&quot;Close&quot;}\n{&quot;time&quot;:1469505563,&quot;action&quot;:&quot;Open&quot;}\n{&quot;time&quot;:1469505564,&quot;action&quot;:&quot;Close&quot;}\n{&quot;time&quot;:1469505566,&quot;action&quot;:&quot;Close&quot;}\n{&quot;time&quot;:1469505567,&quot;action&quot;:&quot;Open&quot;}\n{&quot;time&quot;:1469505573,&quot;action&quot;:&quot;Open&quot;}\n{&quot;time&quot;:1469505574,&quot;action&quot;:&quot;Open&quot;}\n{&quot;time&quot;:1469505579,&quot;action&quot;:&quot;Close&quot;}\n{&quot;time&quot;:1469505582,&quot;action&quot;:&quot;Open&quot;}\n{&quot;time&quot;:1469505586,&quot;action&quot;:&quot;Open&quot;}\n{&quot;time&quot;:1469505588,&quot;action&quot;:&quot;Open&quot;}\n{&quot;time&quot;:1469505589,&quot;action&quot;:&quot;Open&quot;}\n{&quot;time&quot;:1469505590,&quot;action&quot;:&quot;Close&quot;}\n{&quot;time&quot;:1469505591,&quot;action&quot;:&quot;Close&quot;}\n{&quot;time&quot;:1469505591,&quot;action&quot;:&quot;Open&quot;}\n{&quot;time&quot;:1469505597,&quot;action&quot;:&quot;Close&quot;}\n{&quot;time&quot;:1469505597,&quot;action&quot;:&quot;Close&quot;}\n{&quot;time&quot;:1469505599,&quot;action&quot;:&quot;Open&quot;}\n{&quot;time&quot;:1469505601,&quot;action&quot;:&quot;Open&quot;}\n{&quot;time&quot;:1469505602,&quot;action&quot;:&quot;Close&quot;}\n{&quot;time&quot;:1469505612,&quot;action&quot;:&quot;Close&quot;}\n{&quot;time&quot;:1469505616,&quot;action&quot;:&quot;Close&quot;}\n{&quot;time&quot;:1469505616,&quot;action&quot;:&quot;Open&quot;}\n{&quot;time&quot;:1469505617,&quot;action&quot;:&quot;Open&quot;}\n{&quot;time&quot;:1469505619,&quot;action&quot;:&quot;Close&quot;}\n{&quot;time&quot;:1469505621,&quot;action&quot;:&quot;Open&quot;}\n{&quot;time&quot;:1469505624,&quot;action&quot;:&quot;Open&quot;}\n{&quot;time&quot;:1469505625,&quot;action&quot;:&quot;Open&quot;}\n{&quot;time&quot;:1469505626,&quot;action&quot;:&quot;Close&quot;}\n{&quot;time&quot;:1469505628,&quot;action&quot;:&quot;Close&quot;}\n{&quot;time&quot;:1469505629,&quot;action&quot;:&quot;Open&quot;}\n{&quot;time&quot;:1469505638,&quot;action&quot;:&quot;Close&quot;}\n{&quot;time&quot;:1469505640,&quot;action&quot;:&quot;Open&quot;}\n{&quot;time&quot;:1469505640,&quot;action&quot;:&quot;Open&quot;}\n{&quot;time&quot;:1469505650,&quot;action&quot;:&quot;Open&quot;}\n{&quot;time&quot;:1469505653,&quot;action&quot;:&quot;Open&quot;}\n{&quot;time&quot;:1469505661,&quot;action&quot;:&quot;Close&quot;}\n{&quot;time&quot;:1469505661,&quot;action&quot;:&quot;Open&quot;}\n{&quot;time&quot;:1469505663,&quot;action&quot;:&quot;Open&quot;}\n{&quot;time&quot;:1469505665,&quot;action&quot;:&quot;Open&quot;}\n{&quot;time&quot;:1469505668,&quot;action&quot;:&quot;Open&quot;}\n{&quot;time&quot;:1469505682,&quot;action&quot;:&quot;Open&quot;}\n{&quot;time&quot;:1469505686,&quot;action&quot;:&quot;Open&quot;}\n{&quot;time&quot;:1469505694,&quot;action&quot;:&quot;Close&quot;}\n{&quot;time&quot;:1469505695,&quot;action&quot;:&quot;Open&quot;}\n{&quot;time&quot;:1469505696,&quot;action&quot;:&quot;Open&quot;}\n{&quot;time&quot;:1469505700,&quot;action&quot;:&quot;Open&quot;}\n{&quot;time&quot;:1469505708,&quot;action&quot;:&quot;Open&quot;}\n{&quot;time&quot;:1469505711,&quot;action&quot;:&quot;Close&quot;}\n{&quot;time&quot;:1469505713,&quot;action&quot;:&quot;Close&quot;}\n{&quot;time&quot;:1469505715,&quot;action&quot;:&quot;Close&quot;}\n{&quot;time&quot;:1469505715,&quot;action&quot;:&quot;Open&quot;}\n{&quot;time&quot;:1469505718,&quot;action&quot;:&quot;Close&quot;}\n{&quot;time&quot;:1469505719,&quot;action&quot;:&quot;Open&quot;}\n{&quot;time&quot;:1469505723,&quot;action&quot;:&quot;Open&quot;}\n{&quot;time&quot;:1469505725,&quot;action&quot;:&quot;Open&quot;}\n{&quot;time&quot;:1469505728,&quot;action&quot;:&quot;Close&quot;}\n{&quot;time&quot;:1469505731,&quot;action&quot;:&quot;Open&quot;}\n{&quot;time&quot;:1469505733,&quot;action&quot;:&quot;Close&quot;}\n{&quot;time&quot;:1469505733,&quot;action&quot;:&quot;Open&quot;}\n{&quot;time&quot;:1469505735,&quot;action&quot;:&quot;Open&quot;}\n{&quot;time&quot;:1469505735,&quot;action&quot;:&quot;Open&quot;}\n{&quot;time&quot;:1469505736,&quot;action&quot;:&quot;Close&quot;}\n{&quot;time&quot;:1469505739,&quot;action&quot;:&quot;Close&quot;}\n{&quot;time&quot;:1469505739,&quot;action&quot;:&quot;Close&quot;}\n{&quot;time&quot;:1469505741,&quot;action&quot;:&quot;Open&quot;}\n{&quot;time&quot;:1469505741,&quot;action&quot;:&quot;Open&quot;}\n{&quot;time&quot;:1469505748,&quot;action&quot;:&quot;Close&quot;}\n{&quot;time&quot;:1469505748,&quot;action&quot;:&quot;Open&quot;}\n{&quot;time&quot;:1469505748,&quot;action&quot;:&quot;Open&quot;}\n{&quot;time&quot;:1469505749,&quot;action&quot;:&quot;Close&quot;}\n{&quot;time&quot;:1469505753,&quot;action&quot;:&quot;Open&quot;}\n{&quot;time&quot;:1469505754,&quot;action&quot;:&quot;Open&quot;}\n{&quot;time&quot;:1469505758,&quot;action&quot;:&quot;Open&quot;}\n{&quot;time&quot;:1469505758,&quot;action&quot;:&quot;Open&quot;}\n{&quot;time&quot;:1469505759,&quot;action&quot;:&quot;Close&quot;}\n{&quot;time&quot;:1469505759,&quot;action&quot;:&quot;Open&quot;}\n{&quot;time&quot;:1469505769,&quot;action&quot;:&quot;Open&quot;}\n{&quot;time&quot;:1469505770,&quot;action&quot;:&quot;Close&quot;}\n{&quot;time&quot;:1469505770,&quot;action&quot;:&quot;Open&quot;}\n{&quot;time&quot;:1469505775,&quot;action&quot;:&quot;Open&quot;}\n{&quot;time&quot;:1469505783,&quot;action&quot;:&quot;Open&quot;}\n{&quot;time&quot;:1469505787,&quot;action&quot;:&quot;Close&quot;}\n{&quot;time&quot;:1469505788,&quot;action&quot;:&quot;Open&quot;}\n{&quot;time&quot;:1469505793,&quot;action&quot;:&quot;Open&quot;}\n{&quot;time&quot;:1469505794,&quot;action&quot;:&quot;Open&quot;}\n{&quot;time&quot;:1469505797,&quot;action&quot;:&quot;Close&quot;}\n{&quot;time&quot;:1469505800,&quot;action&quot;:&quot;Close&quot;}\n{&quot;time&quot;:1469505801,&quot;action&quot;:&quot;Close&quot;}\n{&quot;time&quot;:1469505802,&quot;action&quot;:&quot;Close&quot;}\n{&quot;time&quot;:1469505803,&quot;action&quot;:&quot;Open&quot;}\n{&quot;time&quot;:1469505811,&quot;action&quot;:&quot;Close&quot;}\n{&quot;time&quot;:1469505812,&quot;action&quot;:&quot;Open&quot;}\n{&quot;time&quot;:1469505815,&quot;action&quot;:&quot;Close&quot;}\n{&quot;time&quot;:1469505820,&quot;action&quot;:&quot;Close&quot;}\n{&quot;time&quot;:1469505820,&quot;action&quot;:&quot;Open&quot;}\n{&quot;time&quot;:1469505824,&quot;action&quot;:&quot;Close&quot;}\n{&quot;time&quot;:1469505830,&quot;action&quot;:&quot;Open&quot;}\n{&quot;time&quot;:1469505832,&quot;action&quot;:&quot;Close&quot;}\n{&quot;time&quot;:1469505834,&quot;action&quot;:&quot;Open&quot;}\n{&quot;time&quot;:1469505835,&quot;action&quot;:&quot;Close&quot;}\n{&quot;time&quot;:1469505835,&quot;action&quot;:&quot;Open&quot;}\n{&quot;time&quot;:1469505836,&quot;action&quot;:&quot;Open&quot;}\n{&quot;time&quot;:1469505838,&quot;action&quot;:&quot;Open&quot;}\n{&quot;time&quot;:1469505839,&quot;action&quot;:&quot;Close&quot;}\n{&quot;time&quot;:1469505841,&quot;action&quot;:&quot;Open&quot;}\n{&quot;time&quot;:1469505842,&quot;action&quot;:&quot;Close&quot;}\n{&quot;time&quot;:1469505844,&quot;action&quot;:&quot;Close&quot;}\n{&quot;time&quot;:1469505851,&quot;action&quot;:&quot;Open&quot;}\n{&quot;time&quot;:1469505851,&quot;action&quot;:&quot;Open&quot;}\n{&quot;time&quot;:1469505854,&quot;action&quot;:&quot;Open&quot;}\n{&quot;time&quot;:1469505860,&quot;action&quot;:&quot;Open&quot;}\n{&quot;time&quot;:1469505863,&quot;action&quot;:&quot;Open&quot;}\n{&quot;time&quot;:1469505867,&quot;action&quot;:&quot;Open&quot;}\n{&quot;time&quot;:1469505873,&quot;action&quot;:&quot;Open&quot;}\n{&quot;time&quot;:1469505875,&quot;action&quot;:&quot;Close&quot;}\n{&quot;time&quot;:1469505875,&quot;action&quot;:&quot;Open&quot;}\n{&quot;time&quot;:1469505875,&quot;action&quot;:&quot;Open&quot;}\n{&quot;time&quot;:1469505877,&quot;action&quot;:&quot;Close&quot;}\n{&quot;time&quot;:1469505882,&quot;action&quot;:&quot;Close&quot;}\n{&quot;time&quot;:1469505886,&quot;action&quot;:&quot;Open&quot;}\n{&quot;time&quot;:1469505890,&quot;action&quot;:&quot;Close&quot;}\n{&quot;time&quot;:1469505892,&quot;action&quot;:&quot;Open&quot;}\n{&quot;time&quot;:1469505897,&quot;action&quot;:&quot;Open&quot;}\n{&quot;time&quot;:1469505902,&quot;action&quot;:&quot;Close&quot;}\n{&quot;time&quot;:1469505903,&quot;action&quot;:&quot;Open&quot;}\n{&quot;time&quot;:1469505904,&quot;action&quot;:&quot;Open&quot;}\n{&quot;time&quot;:1469505904,&quot;action&quot;:&quot;Open&quot;}\n{&quot;time&quot;:1469505905,&quot;action&quot;:&quot;Close&quot;}\n{&quot;time&quot;:1469505905,&quot;action&quot;:&quot;Open&quot;}\n{&quot;time&quot;:1469505905,&quot;action&quot;:&quot;Open&quot;}\n{&quot;time&quot;:1469505907,&quot;action&quot;:&quot;Close&quot;}\n{&quot;time&quot;:1469505907,&quot;action&quot;:&quot;Open&quot;}\n{&quot;time&quot;:1469505910,&quot;action&quot;:&quot;Open&quot;}\n{&quot;time&quot;:1469505913,&quot;action&quot;:&quot;Open&quot;}\n{&quot;time&quot;:1469505918,&quot;action&quot;:&quot;Close&quot;}\n{&quot;time&quot;:1469505919,&quot;action&quot;:&quot;Open&quot;}\n{&quot;time&quot;:1469505920,&quot;action&quot;:&quot;Open&quot;}\n{&quot;time&quot;:1469505922,&quot;action&quot;:&quot;Open&quot;}\n{&quot;time&quot;:1469505923,&quot;action&quot;:&quot;Close&quot;}\n{&quot;time&quot;:1469505924,&quot;action&quot;:&quot;Open&quot;}\n{&quot;time&quot;:1469505927,&quot;action&quot;:&quot;Open&quot;}\n{&quot;time&quot;:1469505927,&quot;action&quot;:&quot;Open&quot;}\n{&quot;time&quot;:1469505929,&quot;action&quot;:&quot;Open&quot;}\n{&quot;time&quot;:1469505933,&quot;action&quot;:&quot;Open&quot;}\n{&quot;time&quot;:1469505935,&quot;action&quot;:&quot;Open&quot;}\n{&quot;time&quot;:1469505936,&quot;action&quot;:&quot;Close&quot;}\n{&quot;time&quot;:1469505937,&quot;action&quot;:&quot;Close&quot;}\n{&quot;time&quot;:1469505937,&quot;action&quot;:&quot;Open&quot;}\n{&quot;time&quot;:1469505938,&quot;action&quot;:&quot;Open&quot;}\n{&quot;time&quot;:1469505939,&quot;action&quot;:&quot;Close&quot;}\n{&quot;time&quot;:1469505941,&quot;action&quot;:&quot;Open&quot;}\n{&quot;time&quot;:1469505942,&quot;action&quot;:&quot;Close&quot;}\n{&quot;time&quot;:1469505944,&quot;action&quot;:&quot;Open&quot;}\n{&quot;time&quot;:1469505947,&quot;action&quot;:&quot;Close&quot;}\n{&quot;time&quot;:1469505954,&quot;action&quot;:&quot;Close&quot;}\n{&quot;time&quot;:1469505954,&quot;action&quot;:&quot;Open&quot;}\n{&quot;time&quot;:1469505955,&quot;action&quot;:&quot;Close&quot;}\n{&quot;time&quot;:1469505958,&quot;action&quot;:&quot;Open&quot;}\n{&quot;time&quot;:1469505959,&quot;action&quot;:&quot;Close&quot;}\n{&quot;time&quot;:1469505961,&quot;action&quot;:&quot;Close&quot;}\n{&quot;time&quot;:1469505966,&quot;action&quot;:&quot;Open&quot;}\n{&quot;time&quot;:1469505966,&quot;action&quot;:&quot;Open&quot;}\n{&quot;time&quot;:1469505967,&quot;action&quot;:&quot;Close&quot;}\n{&quot;time&quot;:1469505969,&quot;action&quot;:&quot;Open&quot;}\n{&quot;time&quot;:1469505970,&quot;action&quot;:&quot;Close&quot;}\n{&quot;time&quot;:1469505970,&quot;action&quot;:&quot;Open&quot;}\n{&quot;time&quot;:1469505972,&quot;action&quot;:&quot;Close&quot;}\n{&quot;time&quot;:1469505972,&quot;action&quot;:&quot;Close&quot;}\n{&quot;time&quot;:1469505975,&quot;action&quot;:&quot;Close&quot;}\n{&quot;time&quot;:1469505977,&quot;action&quot;:&quot;Close&quot;}\n{&quot;time&quot;:1469505977,&quot;action&quot;:&quot;Open&quot;}\n{&quot;time&quot;:1469505979,&quot;action&quot;:&quot;Open&quot;}\n{&quot;time&quot;:1469505980,&quot;action&quot;:&quot;Open&quot;}\n{&quot;time&quot;:1469505986,&quot;action&quot;:&quot;Open&quot;}\n{&quot;time&quot;:1469505987,&quot;action&quot;:&quot;Open&quot;}\n{&quot;time&quot;:1469505987,&quot;action&quot;:&quot;Open&quot;}\n{&quot;time&quot;:1469505990,&quot;action&quot;:&quot;Open&quot;}\n{&quot;time&quot;:1469505990,&quot;action&quot;:&quot;Open&quot;}\n{&quot;time&quot;:1469505990,&quot;action&quot;:&quot;Open&quot;}\n{&quot;time&quot;:1469505991,&quot;action&quot;:&quot;Open&quot;}\n{&quot;time&quot;:1469505992,&quot;action&quot;:&quot;Open&quot;}\n{&quot;time&quot;:1469505998,&quot;action&quot;:&quot;Open&quot;}\n{&quot;time&quot;:1469506000,&quot;action&quot;:&quot;Open&quot;}\n{&quot;time&quot;:1469506002,&quot;action&quot;:&quot;Close&quot;}\n{&quot;time&quot;:1469506004,&quot;action&quot;:&quot;Open&quot;}\n{&quot;time&quot;:1469506005,&quot;action&quot;:&quot;Close&quot;}\n{&quot;time&quot;:1469506005,&quot;action&quot;:&quot;Close&quot;}\n{&quot;time&quot;:1469506005,&quot;action&quot;:&quot;Open&quot;}\n{&quot;time&quot;:1469506006,&quot;action&quot;:&quot;Close&quot;}\n{&quot;time&quot;:1469506006,&quot;action&quot;:&quot;Close&quot;}\n{&quot;time&quot;:1469506006,&quot;action&quot;:&quot;Open&quot;}\n{&quot;time&quot;:1469506010,&quot;action&quot;:&quot;Open&quot;}\n{&quot;time&quot;:1469506012,&quot;action&quot;:&quot;Open&quot;}\n{&quot;time&quot;:1469506022,&quot;action&quot;:&quot;Close&quot;}\n{&quot;time&quot;:1469506022,&quot;action&quot;:&quot;Open&quot;}\n{&quot;time&quot;:1469506025,&quot;action&quot;:&quot;Open&quot;}\n{&quot;time&quot;:1469506028,&quot;action&quot;:&quot;Open&quot;}\n{&quot;time&quot;:1469506030,&quot;action&quot;:&quot;Open&quot;}\n{&quot;time&quot;:1469506030,&quot;action&quot;:&quot;Open&quot;}\n{&quot;time&quot;:1469506032,&quot;action&quot;:&quot;Open&quot;}\n{&quot;time&quot;:1469506032,&quot;action&quot;:&quot;Open&quot;}\n{&quot;time&quot;:1469506033,&quot;action&quot;:&quot;Close&quot;}\n{&quot;time&quot;:1469506033,&quot;action&quot;:&quot;Open&quot;}\n{&quot;time&quot;:1469506035,&quot;action&quot;:&quot;Close&quot;}\n{&quot;time&quot;:1469506036,&quot;action&quot;:&quot;Close&quot;}\n{&quot;time&quot;:1469506038,&quot;action&quot;:&quot;Open&quot;}\n{&quot;time&quot;:1469506041,&quot;action&quot;:&quot;Open&quot;}\n{&quot;time&quot;:1469506044,&quot;action&quot;:&quot;Close&quot;}\n{&quot;time&quot;:1469506046,&quot;action&quot;:&quot;Open&quot;}\n{&quot;time&quot;:1469506046,&quot;action&quot;:&quot;Open&quot;}\n{&quot;time&quot;:1469506047,&quot;action&quot;:&quot;Close&quot;}\n{&quot;time&quot;:1469506047,&quot;action&quot;:&quot;Open&quot;}\n{&quot;time&quot;:1469506049,&quot;action&quot;:&quot;Open&quot;}\n{&quot;time&quot;:1469506050,&quot;action&quot;:&quot;Close&quot;}\n{&quot;time&quot;:1469506051,&quot;action&quot;:&quot;Close&quot;}\n{&quot;time&quot;:1469506053,&quot;action&quot;:&quot;Open&quot;}\n{&quot;time&quot;:1469506055,&quot;action&quot;:&quot;Close&quot;}\n{&quot;time&quot;:1469506056,&quot;action&quot;:&quot;Open&quot;}\n{&quot;time&quot;:1469506056,&quot;action&quot;:&quot;Open&quot;}\n{&quot;time&quot;:1469506058,&quot;action&quot;:&quot;Open&quot;}\n{&quot;time&quot;:1469506060,&quot;action&quot;:&quot;Open&quot;}\n{&quot;time&quot;:1469506063,&quot;action&quot;:&quot;Open&quot;}\n{&quot;time&quot;:1469506070,&quot;action&quot;:&quot;Close&quot;}\n{&quot;time&quot;:1469506070,&quot;action&quot;:&quot;Open&quot;}\n{&quot;time&quot;:1469506072,&quot;action&quot;:&quot;Open&quot;}\n{&quot;time&quot;:1469506074,&quot;action&quot;:&quot;Open&quot;}\n{&quot;time&quot;:1469506081,&quot;action&quot;:&quot;Close&quot;}\n{&quot;time&quot;:1469506081,&quot;action&quot;:&quot;Open&quot;}\n{&quot;time&quot;:1469506081,&quot;action&quot;:&quot;Open&quot;}\n{&quot;time&quot;:1469506083,&quot;action&quot;:&quot;Open&quot;}\n{&quot;time&quot;:1469506083,&quot;action&quot;:&quot;Open&quot;}\n{&quot;time&quot;:1469506085,&quot;action&quot;:&quot;Close&quot;}\n{&quot;time&quot;:1469506085,&quot;action&quot;:&quot;Open&quot;}\n{&quot;time&quot;:1469506091,&quot;action&quot;:&quot;Close&quot;}\n{&quot;time&quot;:1469506095,&quot;action&quot;:&quot;Open&quot;}\n{&quot;time&quot;:1469506096,&quot;action&quot;:&quot;Close&quot;}\n{&quot;time&quot;:1469506097,&quot;action&quot;:&quot;Close&quot;}\n{&quot;time&quot;:1469506099,&quot;action&quot;:&quot;Close&quot;}\n{&quot;time&quot;:1469506107,&quot;action&quot;:&quot;Close&quot;}\n{&quot;time&quot;:1469506109,&quot;action&quot;:&quot;Close&quot;}\n{&quot;time&quot;:1469506110,&quot;action&quot;:&quot;Close&quot;}\n{&quot;time&quot;:1469506110,&quot;action&quot;:&quot;Open&quot;}\n{&quot;time&quot;:1469506111,&quot;action&quot;:&quot;Open&quot;}\n{&quot;time&quot;:1469506113,&quot;action&quot;:&quot;Open&quot;}\n{&quot;time&quot;:1469506114,&quot;action&quot;:&quot;Open&quot;}\n{&quot;time&quot;:1469506114,&quot;action&quot;:&quot;Open&quot;}\n{&quot;time&quot;:1469506115,&quot;action&quot;:&quot;Open&quot;}\n{&quot;time&quot;:1469506116,&quot;action&quot;:&quot;Close&quot;}\n{&quot;time&quot;:1469506124,&quot;action&quot;:&quot;Open&quot;}\n{&quot;time&quot;:1469506125,&quot;action&quot;:&quot;Close&quot;}\n{&quot;time&quot;:1469506129,&quot;action&quot;:&quot;Open&quot;}\n{&quot;time&quot;:1469506130,&quot;action&quot;:&quot;Open&quot;}\n{&quot;time&quot;:1469506133,&quot;action&quot;:&quot;Close&quot;}\n{&quot;time&quot;:1469506135,&quot;action&quot;:&quot;Open&quot;}\n{&quot;time&quot;:1469506135,&quot;action&quot;:&quot;Open&quot;}\n{&quot;time&quot;:1469506137,&quot;action&quot;:&quot;Close&quot;}\n{&quot;time&quot;:1469506140,&quot;action&quot;:&quot;Open&quot;}\n{&quot;time&quot;:1469506144,&quot;action&quot;:&quot;Open&quot;}\n{&quot;time&quot;:1469506148,&quot;action&quot;:&quot;Open&quot;}\n{&quot;time&quot;:1469506150,&quot;action&quot;:&quot;Open&quot;}\n{&quot;time&quot;:1469506153,&quot;action&quot;:&quot;Open&quot;}\n{&quot;time&quot;:1469506154,&quot;action&quot;:&quot;Open&quot;}\n{&quot;time&quot;:1469506155,&quot;action&quot;:&quot;Close&quot;}\n{&quot;time&quot;:1469506159,&quot;action&quot;:&quot;Open&quot;}\n{&quot;time&quot;:1469506160,&quot;action&quot;:&quot;Open&quot;}\n{&quot;time&quot;:1469506161,&quot;action&quot;:&quot;Open&quot;}\n{&quot;time&quot;:1469506165,&quot;action&quot;:&quot;Open&quot;}\n{&quot;time&quot;:1469506166,&quot;action&quot;:&quot;Close&quot;}\n{&quot;time&quot;:1469506167,&quot;action&quot;:&quot;Open&quot;}\n{&quot;time&quot;:1469506173,&quot;action&quot;:&quot;Open&quot;}\n{&quot;time&quot;:1469506174,&quot;action&quot;:&quot;Open&quot;}\n{&quot;time&quot;:1469506176,&quot;action&quot;:&quot;Close&quot;}\n{&quot;time&quot;:1469506178,&quot;action&quot;:&quot;Close&quot;}\n{&quot;time&quot;:1469506180,&quot;action&quot;:&quot;Close&quot;}\n{&quot;time&quot;:1469506186,&quot;action&quot;:&quot;Close&quot;}\n{&quot;time&quot;:1469506186,&quot;action&quot;:&quot;Close&quot;}\n{&quot;time&quot;:1469506187,&quot;action&quot;:&quot;Open&quot;}\n{&quot;time&quot;:1469506189,&quot;action&quot;:&quot;Close&quot;}\n{&quot;time&quot;:1469506207,&quot;action&quot;:&quot;Close&quot;}\n{&quot;time&quot;:1469506207,&quot;action&quot;:&quot;Open&quot;}\n{&quot;time&quot;:1469506216,&quot;action&quot;:&quot;Open&quot;}\n{&quot;time&quot;:1469506218,&quot;action&quot;:&quot;Open&quot;}\n{&quot;time&quot;:1469506220,&quot;action&quot;:&quot;Close&quot;}\n{&quot;time&quot;:1469506220,&quot;action&quot;:&quot;Open&quot;}\n{&quot;time&quot;:1469506221,&quot;action&quot;:&quot;Open&quot;}\n{&quot;time&quot;:1469506225,&quot;action&quot;:&quot;Open&quot;}\n{&quot;time&quot;:1469506227,&quot;action&quot;:&quot;Close&quot;}\n{&quot;time&quot;:1469506228,&quot;action&quot;:&quot;Open&quot;}\n{&quot;time&quot;:1469506233,&quot;action&quot;:&quot;Open&quot;}\n{&quot;time&quot;:1469506234,&quot;action&quot;:&quot;O\n</div>",
       "datasetInfos": [],
       "metadata": {},
       "removedWidgets": [],
       "type": "html"
      }
     },
     "output_type": "display_data"
    }
   ],
   "source": [
    "%fs head /databricks-datasets/structured-streaming/events/file-0.json"
   ]
  },
  {
   "cell_type": "markdown",
   "metadata": {
    "application/vnd.databricks.v1+cell": {
     "cellMetadata": {
      "byteLimit": 2048000,
      "rowLimit": 10000
     },
     "inputWidgets": {},
     "nuid": "b78bf537-a5e7-43d7-b93d-bc12b1dde576",
     "showTitle": false,
     "title": ""
    }
   },
   "source": [
    "## **2. Batch Analysis of Sample Data**"
   ]
  },
  {
   "cell_type": "code",
   "execution_count": 0,
   "metadata": {
    "application/vnd.databricks.v1+cell": {
     "cellMetadata": {
      "byteLimit": 2048000,
      "rowLimit": 10000
     },
     "inputWidgets": {},
     "nuid": "33c505b4-df7a-409e-b857-d8604c7b17c5",
     "showTitle": false,
     "title": ""
    }
   },
   "outputs": [
    {
     "output_type": "stream",
     "name": "stdout",
     "output_type": "stream",
     "text": [
      "+-------------------+------+\n|               time|action|\n+-------------------+------+\n|2016-07-28 04:19:28| Close|\n|2016-07-28 04:19:28| Close|\n|2016-07-28 04:19:29|  Open|\n|2016-07-28 04:19:31| Close|\n|2016-07-28 04:19:31|  Open|\n|2016-07-28 04:19:31|  Open|\n|2016-07-28 04:19:32| Close|\n|2016-07-28 04:19:33| Close|\n|2016-07-28 04:19:35| Close|\n|2016-07-28 04:19:36|  Open|\n|2016-07-28 04:19:38| Close|\n|2016-07-28 04:19:40|  Open|\n|2016-07-28 04:19:41| Close|\n|2016-07-28 04:19:42|  Open|\n|2016-07-28 04:19:45|  Open|\n|2016-07-28 04:19:47|  Open|\n|2016-07-28 04:19:48|  Open|\n|2016-07-28 04:19:49|  Open|\n|2016-07-28 04:19:55|  Open|\n|2016-07-28 04:20:00| Close|\n+-------------------+------+\nonly showing top 20 rows\n\n"
     ]
    }
   ],
   "source": [
    "from pyspark.sql.types import *\n",
    "\n",
    "inputPath = \"/databricks-datasets/structured-streaming/events/\"\n",
    "\n",
    "jsonSchema = StructType([StructField(\"time\", TimestampType(), True), StructField(\"action\", StringType(), True)])\n",
    "staticInputDF = (\n",
    "    spark\n",
    "      .read\n",
    "      .schema(jsonSchema)\n",
    "      .json(inputPath)\n",
    ")\n",
    "\n",
    "staticInputDF.show()"
   ]
  },
  {
   "cell_type": "code",
   "execution_count": 0,
   "metadata": {
    "application/vnd.databricks.v1+cell": {
     "cellMetadata": {
      "byteLimit": 2048000,
      "rowLimit": 10000
     },
     "inputWidgets": {},
     "nuid": "b2a23b08-d59d-45f4-97a7-fa7a018166f0",
     "showTitle": false,
     "title": ""
    }
   },
   "outputs": [],
   "source": [
    "from pyspark.sql.functions import *\n",
    "\n",
    "staticCountsDF = (\n",
    "    staticInputDF\n",
    "      .groupBy(\n",
    "          staticInputDF.action,\n",
    "          window(staticInputDF.time, \"1 hour\"))\n",
    "      .count()\n",
    ")\n",
    "staticCountsDF.cache()\n",
    "#staticCountsDF.show(truncate=False)\n",
    "staticCountsDF.createOrReplaceTempView(\"static_counts\")"
   ]
  },
  {
   "cell_type": "code",
   "execution_count": 0,
   "metadata": {
    "application/vnd.databricks.v1+cell": {
     "cellMetadata": {
      "byteLimit": 2048000,
      "implicitDf": true,
      "rowLimit": 10000
     },
     "inputWidgets": {},
     "nuid": "c5266081-7c85-4d0c-b790-0164fa0da330",
     "showTitle": false,
     "title": ""
    }
   },
   "outputs": [
    {
     "output_type": "display_data",
     "data": {
      "text/html": [
       "<style scoped>\n",
       "  .table-result-container {\n",
       "    max-height: 300px;\n",
       "    overflow: auto;\n",
       "  }\n",
       "  table, th, td {\n",
       "    border: 1px solid black;\n",
       "    border-collapse: collapse;\n",
       "  }\n",
       "  th, td {\n",
       "    padding: 5px;\n",
       "  }\n",
       "  th {\n",
       "    text-align: left;\n",
       "  }\n",
       "</style><div class='table-result-container'><table class='table-result'><thead style='background-color: white'><tr><th>action</th><th>total_count</th></tr></thead><tbody><tr><td>Close</td><td>50000</td></tr><tr><td>Open</td><td>50000</td></tr></tbody></table></div>"
      ]
     },
     "metadata": {
      "application/vnd.databricks.v1+output": {
       "addedWidgets": {},
       "aggData": [],
       "aggError": "",
       "aggOverflow": false,
       "aggSchema": [],
       "aggSeriesLimitReached": false,
       "aggType": "",
       "arguments": {},
       "columnCustomDisplayInfos": {},
       "data": [
        [
         "Close",
         50000
        ],
        [
         "Open",
         50000
        ]
       ],
       "datasetInfos": [
        {
         "name": "_sqldf",
         "schema": {
          "fields": [
           {
            "metadata": {},
            "name": "action",
            "nullable": true,
            "type": "string"
           },
           {
            "metadata": {},
            "name": "total_count",
            "nullable": true,
            "type": "long"
           }
          ],
          "type": "struct"
         },
         "tableIdentifier": null,
         "typeStr": "pyspark.sql.dataframe.DataFrame"
        }
       ],
       "dbfsResultPath": null,
       "isJsonSchema": true,
       "metadata": {
        "dataframeName": "_sqldf",
        "executionCount": 85
       },
       "overflow": false,
       "plotOptions": {
        "customPlotOptions": {},
        "displayType": "table",
        "pivotAggregation": null,
        "pivotColumns": null,
        "xColumns": null,
        "yColumns": null
       },
       "removedWidgets": [],
       "schema": [
        {
         "metadata": "{}",
         "name": "action",
         "type": "\"string\""
        },
        {
         "metadata": "{}",
         "name": "total_count",
         "type": "\"long\""
        }
       ],
       "type": "table"
      }
     },
     "output_type": "display_data"
    },
    {
     "output_type": "display_data",
     "data": {
      "text/plain": [
       "Databricks visualization. Run in Databricks to view."
      ]
     },
     "metadata": {
      "application/vnd.databricks.v1.subcommand+json": {
       "bindings": {},
       "collapsed": false,
       "command": "%sql WITH q AS (select action, sum(count) as total_count from static_counts group by action) SELECT `action`,SUM(`total_count`) `column_51354016237` FROM q GROUP BY `action`",
       "commandTitle": "Visualization 1",
       "commandType": "auto",
       "commandVersion": 0,
       "commentThread": [],
       "commentsVisible": false,
       "contentSha256Hex": null,
       "customPlotOptions": {
        "redashChart": [
         {
          "key": "type",
          "value": "CHART"
         },
         {
          "key": "options",
          "value": {
           "alignYAxesAtZero": true,
           "coefficient": 1,
           "columnConfigurationMap": {
            "x": {
             "column": "action",
             "id": "column_51354016236"
            },
            "y": [
             {
              "column": "total_count",
              "id": "column_51354016237",
              "transform": "SUM"
             }
            ]
           },
           "dateTimeFormat": "DD/MM/YYYY HH:mm",
           "direction": {
            "type": "counterclockwise"
           },
           "error_y": {
            "type": "data",
            "visible": true
           },
           "globalSeriesType": "column",
           "isAggregationOn": true,
           "legend": {
            "traceorder": "normal"
           },
           "missingValuesAsZero": true,
           "numberFormat": "0,0[.]00000",
           "percentFormat": "0[.]00%",
           "series": {
            "error_y": {
             "type": "data",
             "visible": true
            },
            "stacking": null
           },
           "seriesOptions": {
            "column_51354016237": {
             "name": "total_count",
             "yAxis": 0
            }
           },
           "showDataLabels": false,
           "sizemode": "diameter",
           "sortX": true,
           "sortY": true,
           "swappedAxes": false,
           "textFormat": "",
           "useAggregationsUi": true,
           "valuesOptions": {},
           "version": 2,
           "xAxis": {
            "labels": {
             "enabled": true
            },
            "type": "-"
           },
           "yAxis": [
            {
             "type": "-"
            },
            {
             "opposite": true,
             "type": "-"
            }
           ]
          }
         }
        ]
       },
       "datasetPreviewNameToCmdIdMap": {},
       "diffDeletes": [],
       "diffInserts": [],
       "displayType": "redashChart",
       "error": null,
       "errorSummary": null,
       "errorTraceType": null,
       "finishTime": 0,
       "globalVars": {},
       "guid": "b4876fd2-6d74-4a25-a941-ad1598510071",
       "height": "auto",
       "hideCommandCode": false,
       "hideCommandResult": false,
       "iPythonMetadata": null,
       "inputWidgets": {},
       "isLockedInExamMode": false,
       "latestUser": "a user",
       "latestUserId": null,
       "listResultMetadata": null,
       "metadata": {
        "byteLimit": 2048000,
        "implicitDf": true,
        "rowLimit": 10000
       },
       "nuid": "5835128c-2fb5-435d-bae4-0b16af763d45",
       "origId": 3947854806515728,
       "parentHierarchy": [
        "dee176e5-4ff3-4dcd-b61f-3c6e1d0d9cff"
       ],
       "pivotAggregation": null,
       "pivotColumns": null,
       "position": 6.0,
       "resultDbfsErrorMessage": null,
       "resultDbfsStatus": "INLINED_IN_TREE",
       "results": null,
       "showCommandTitle": false,
       "startTime": 0,
       "state": "finished",
       "streamStates": {},
       "subcommandOptions": {
        "queryPlan": {
         "groups": [
          {
           "column": "action",
           "type": "column"
          }
         ],
         "selects": [
          {
           "column": "action",
           "type": "column"
          },
          {
           "alias": "column_51354016237",
           "args": [
            {
             "column": "total_count",
             "type": "column"
            }
           ],
           "function": "SUM",
           "type": "function"
          }
         ]
        }
       },
       "submitTime": 0,
       "subtype": "tableResultSubCmd.visualization",
       "tableResultIndex": 0,
       "useConsistentColors": false,
       "version": "CommandV1",
       "width": "auto",
       "workflows": [],
       "xColumns": null,
       "yColumns": null
      }
     },
     "output_type": "display_data"
    }
   ],
   "source": [
    "%sql select action, sum(count) as total_count from static_counts group by action\n"
   ]
  },
  {
   "cell_type": "code",
   "execution_count": 0,
   "metadata": {
    "application/vnd.databricks.v1+cell": {
     "cellMetadata": {
      "byteLimit": 2048000,
      "implicitDf": true,
      "rowLimit": 10000
     },
     "inputWidgets": {},
     "nuid": "7d4e131f-68e9-4d96-b223-1d2ffb47b9d2",
     "showTitle": false,
     "title": ""
    }
   },
   "outputs": [
    {
     "output_type": "display_data",
     "data": {
      "text/html": [
       "<style scoped>\n",
       "  .table-result-container {\n",
       "    max-height: 300px;\n",
       "    overflow: auto;\n",
       "  }\n",
       "  table, th, td {\n",
       "    border: 1px solid black;\n",
       "    border-collapse: collapse;\n",
       "  }\n",
       "  th, td {\n",
       "    padding: 5px;\n",
       "  }\n",
       "  th {\n",
       "    text-align: left;\n",
       "  }\n",
       "</style><div class='table-result-container'><table class='table-result'><thead style='background-color: white'><tr><th>action</th><th>time</th><th>count</th></tr></thead><tbody><tr><td>Close</td><td>Jul-26 03:00</td><td>11</td></tr><tr><td>Open</td><td>Jul-26 03:00</td><td>179</td></tr><tr><td>Close</td><td>Jul-26 04:00</td><td>344</td></tr><tr><td>Open</td><td>Jul-26 04:00</td><td>1001</td></tr><tr><td>Close</td><td>Jul-26 05:00</td><td>815</td></tr><tr><td>Open</td><td>Jul-26 05:00</td><td>999</td></tr><tr><td>Close</td><td>Jul-26 06:00</td><td>1003</td></tr><tr><td>Open</td><td>Jul-26 06:00</td><td>1000</td></tr><tr><td>Close</td><td>Jul-26 07:00</td><td>1011</td></tr><tr><td>Open</td><td>Jul-26 07:00</td><td>993</td></tr><tr><td>Close</td><td>Jul-26 08:00</td><td>989</td></tr><tr><td>Open</td><td>Jul-26 08:00</td><td>1008</td></tr><tr><td>Close</td><td>Jul-26 09:00</td><td>985</td></tr><tr><td>Open</td><td>Jul-26 09:00</td><td>996</td></tr><tr><td>Close</td><td>Jul-26 10:00</td><td>983</td></tr><tr><td>Open</td><td>Jul-26 10:00</td><td>1000</td></tr><tr><td>Close</td><td>Jul-26 11:00</td><td>1022</td></tr><tr><td>Open</td><td>Jul-26 11:00</td><td>1007</td></tr><tr><td>Close</td><td>Jul-26 12:00</td><td>1028</td></tr><tr><td>Open</td><td>Jul-26 12:00</td><td>991</td></tr><tr><td>Close</td><td>Jul-26 13:00</td><td>960</td></tr><tr><td>Open</td><td>Jul-26 13:00</td><td>996</td></tr><tr><td>Close</td><td>Jul-26 14:00</td><td>1028</td></tr><tr><td>Open</td><td>Jul-26 14:00</td><td>1006</td></tr><tr><td>Close</td><td>Jul-26 15:00</td><td>994</td></tr><tr><td>Open</td><td>Jul-26 15:00</td><td>991</td></tr><tr><td>Close</td><td>Jul-26 16:00</td><td>988</td></tr><tr><td>Open</td><td>Jul-26 16:00</td><td>1020</td></tr><tr><td>Close</td><td>Jul-26 17:00</td><td>984</td></tr><tr><td>Open</td><td>Jul-26 17:00</td><td>992</td></tr><tr><td>Close</td><td>Jul-26 18:00</td><td>1036</td></tr><tr><td>Open</td><td>Jul-26 18:00</td><td>990</td></tr><tr><td>Close</td><td>Jul-26 19:00</td><td>1001</td></tr><tr><td>Open</td><td>Jul-26 19:00</td><td>1004</td></tr><tr><td>Close</td><td>Jul-26 20:00</td><td>967</td></tr><tr><td>Open</td><td>Jul-26 20:00</td><td>998</td></tr><tr><td>Close</td><td>Jul-26 21:00</td><td>1035</td></tr><tr><td>Open</td><td>Jul-26 21:00</td><td>1010</td></tr><tr><td>Close</td><td>Jul-26 22:00</td><td>995</td></tr><tr><td>Open</td><td>Jul-26 22:00</td><td>998</td></tr><tr><td>Close</td><td>Jul-26 23:00</td><td>1036</td></tr><tr><td>Open</td><td>Jul-26 23:00</td><td>997</td></tr><tr><td>Close</td><td>Jul-27 00:00</td><td>950</td></tr><tr><td>Open</td><td>Jul-27 00:00</td><td>1000</td></tr><tr><td>Close</td><td>Jul-27 01:00</td><td>1008</td></tr><tr><td>Open</td><td>Jul-27 01:00</td><td>998</td></tr><tr><td>Close</td><td>Jul-27 02:00</td><td>1013</td></tr><tr><td>Open</td><td>Jul-27 02:00</td><td>1004</td></tr><tr><td>Close</td><td>Jul-27 03:00</td><td>971</td></tr><tr><td>Open</td><td>Jul-27 03:00</td><td>992</td></tr><tr><td>Close</td><td>Jul-27 04:00</td><td>1025</td></tr><tr><td>Open</td><td>Jul-27 04:00</td><td>1014</td></tr><tr><td>Close</td><td>Jul-27 05:00</td><td>989</td></tr><tr><td>Open</td><td>Jul-27 05:00</td><td>995</td></tr><tr><td>Close</td><td>Jul-27 06:00</td><td>987</td></tr><tr><td>Open</td><td>Jul-27 06:00</td><td>986</td></tr><tr><td>Close</td><td>Jul-27 07:00</td><td>1026</td></tr><tr><td>Open</td><td>Jul-27 07:00</td><td>1016</td></tr><tr><td>Close</td><td>Jul-27 08:00</td><td>982</td></tr><tr><td>Open</td><td>Jul-27 08:00</td><td>998</td></tr><tr><td>Close</td><td>Jul-27 09:00</td><td>1024</td></tr><tr><td>Open</td><td>Jul-27 09:00</td><td>1002</td></tr><tr><td>Close</td><td>Jul-27 10:00</td><td>990</td></tr><tr><td>Open</td><td>Jul-27 10:00</td><td>992</td></tr><tr><td>Close</td><td>Jul-27 11:00</td><td>1001</td></tr><tr><td>Open</td><td>Jul-27 11:00</td><td>1006</td></tr><tr><td>Close</td><td>Jul-27 12:00</td><td>1006</td></tr><tr><td>Open</td><td>Jul-27 12:00</td><td>998</td></tr><tr><td>Close</td><td>Jul-27 13:00</td><td>1035</td></tr><tr><td>Open</td><td>Jul-27 13:00</td><td>994</td></tr><tr><td>Close</td><td>Jul-27 14:00</td><td>986</td></tr><tr><td>Open</td><td>Jul-27 14:00</td><td>1008</td></tr><tr><td>Close</td><td>Jul-27 15:00</td><td>948</td></tr><tr><td>Open</td><td>Jul-27 15:00</td><td>984</td></tr><tr><td>Close</td><td>Jul-27 16:00</td><td>1018</td></tr><tr><td>Open</td><td>Jul-27 16:00</td><td>1017</td></tr><tr><td>Close</td><td>Jul-27 17:00</td><td>970</td></tr><tr><td>Open</td><td>Jul-27 17:00</td><td>992</td></tr><tr><td>Close</td><td>Jul-27 18:00</td><td>1020</td></tr><tr><td>Open</td><td>Jul-27 18:00</td><td>1007</td></tr><tr><td>Close</td><td>Jul-27 19:00</td><td>1036</td></tr><tr><td>Open</td><td>Jul-27 19:00</td><td>995</td></tr><tr><td>Close</td><td>Jul-27 20:00</td><td>969</td></tr><tr><td>Open</td><td>Jul-27 20:00</td><td>1007</td></tr><tr><td>Close</td><td>Jul-27 21:00</td><td>1025</td></tr><tr><td>Open</td><td>Jul-27 21:00</td><td>1005</td></tr><tr><td>Close</td><td>Jul-27 22:00</td><td>979</td></tr><tr><td>Open</td><td>Jul-27 22:00</td><td>998</td></tr><tr><td>Close</td><td>Jul-27 23:00</td><td>996</td></tr><tr><td>Open</td><td>Jul-27 23:00</td><td>986</td></tr><tr><td>Close</td><td>Jul-28 00:00</td><td>1011</td></tr><tr><td>Open</td><td>Jul-28 00:00</td><td>1008</td></tr><tr><td>Close</td><td>Jul-28 01:00</td><td>988</td></tr><tr><td>Open</td><td>Jul-28 01:00</td><td>1000</td></tr><tr><td>Close</td><td>Jul-28 02:00</td><td>1010</td></tr><tr><td>Open</td><td>Jul-28 02:00</td><td>1001</td></tr><tr><td>Close</td><td>Jul-28 03:00</td><td>1007</td></tr><tr><td>Open</td><td>Jul-28 03:00</td><td>1000</td></tr><tr><td>Close</td><td>Jul-28 04:00</td><td>993</td></tr><tr><td>Open</td><td>Jul-28 04:00</td><td>996</td></tr><tr><td>Close</td><td>Jul-28 05:00</td><td>960</td></tr><tr><td>Open</td><td>Jul-28 05:00</td><td>825</td></tr><tr><td>Close</td><td>Jul-28 06:00</td><td>671</td></tr><tr><td>Close</td><td>Jul-28 07:00</td><td>191</td></tr></tbody></table></div>"
      ]
     },
     "metadata": {
      "application/vnd.databricks.v1+output": {
       "addedWidgets": {},
       "aggData": [],
       "aggError": "",
       "aggOverflow": false,
       "aggSchema": [],
       "aggSeriesLimitReached": false,
       "aggType": "",
       "arguments": {},
       "columnCustomDisplayInfos": {},
       "data": [
        [
         "Close",
         "Jul-26 03:00",
         11
        ],
        [
         "Open",
         "Jul-26 03:00",
         179
        ],
        [
         "Close",
         "Jul-26 04:00",
         344
        ],
        [
         "Open",
         "Jul-26 04:00",
         1001
        ],
        [
         "Close",
         "Jul-26 05:00",
         815
        ],
        [
         "Open",
         "Jul-26 05:00",
         999
        ],
        [
         "Close",
         "Jul-26 06:00",
         1003
        ],
        [
         "Open",
         "Jul-26 06:00",
         1000
        ],
        [
         "Close",
         "Jul-26 07:00",
         1011
        ],
        [
         "Open",
         "Jul-26 07:00",
         993
        ],
        [
         "Close",
         "Jul-26 08:00",
         989
        ],
        [
         "Open",
         "Jul-26 08:00",
         1008
        ],
        [
         "Close",
         "Jul-26 09:00",
         985
        ],
        [
         "Open",
         "Jul-26 09:00",
         996
        ],
        [
         "Close",
         "Jul-26 10:00",
         983
        ],
        [
         "Open",
         "Jul-26 10:00",
         1000
        ],
        [
         "Close",
         "Jul-26 11:00",
         1022
        ],
        [
         "Open",
         "Jul-26 11:00",
         1007
        ],
        [
         "Close",
         "Jul-26 12:00",
         1028
        ],
        [
         "Open",
         "Jul-26 12:00",
         991
        ],
        [
         "Close",
         "Jul-26 13:00",
         960
        ],
        [
         "Open",
         "Jul-26 13:00",
         996
        ],
        [
         "Close",
         "Jul-26 14:00",
         1028
        ],
        [
         "Open",
         "Jul-26 14:00",
         1006
        ],
        [
         "Close",
         "Jul-26 15:00",
         994
        ],
        [
         "Open",
         "Jul-26 15:00",
         991
        ],
        [
         "Close",
         "Jul-26 16:00",
         988
        ],
        [
         "Open",
         "Jul-26 16:00",
         1020
        ],
        [
         "Close",
         "Jul-26 17:00",
         984
        ],
        [
         "Open",
         "Jul-26 17:00",
         992
        ],
        [
         "Close",
         "Jul-26 18:00",
         1036
        ],
        [
         "Open",
         "Jul-26 18:00",
         990
        ],
        [
         "Close",
         "Jul-26 19:00",
         1001
        ],
        [
         "Open",
         "Jul-26 19:00",
         1004
        ],
        [
         "Close",
         "Jul-26 20:00",
         967
        ],
        [
         "Open",
         "Jul-26 20:00",
         998
        ],
        [
         "Close",
         "Jul-26 21:00",
         1035
        ],
        [
         "Open",
         "Jul-26 21:00",
         1010
        ],
        [
         "Close",
         "Jul-26 22:00",
         995
        ],
        [
         "Open",
         "Jul-26 22:00",
         998
        ],
        [
         "Close",
         "Jul-26 23:00",
         1036
        ],
        [
         "Open",
         "Jul-26 23:00",
         997
        ],
        [
         "Close",
         "Jul-27 00:00",
         950
        ],
        [
         "Open",
         "Jul-27 00:00",
         1000
        ],
        [
         "Close",
         "Jul-27 01:00",
         1008
        ],
        [
         "Open",
         "Jul-27 01:00",
         998
        ],
        [
         "Close",
         "Jul-27 02:00",
         1013
        ],
        [
         "Open",
         "Jul-27 02:00",
         1004
        ],
        [
         "Close",
         "Jul-27 03:00",
         971
        ],
        [
         "Open",
         "Jul-27 03:00",
         992
        ],
        [
         "Close",
         "Jul-27 04:00",
         1025
        ],
        [
         "Open",
         "Jul-27 04:00",
         1014
        ],
        [
         "Close",
         "Jul-27 05:00",
         989
        ],
        [
         "Open",
         "Jul-27 05:00",
         995
        ],
        [
         "Close",
         "Jul-27 06:00",
         987
        ],
        [
         "Open",
         "Jul-27 06:00",
         986
        ],
        [
         "Close",
         "Jul-27 07:00",
         1026
        ],
        [
         "Open",
         "Jul-27 07:00",
         1016
        ],
        [
         "Close",
         "Jul-27 08:00",
         982
        ],
        [
         "Open",
         "Jul-27 08:00",
         998
        ],
        [
         "Close",
         "Jul-27 09:00",
         1024
        ],
        [
         "Open",
         "Jul-27 09:00",
         1002
        ],
        [
         "Close",
         "Jul-27 10:00",
         990
        ],
        [
         "Open",
         "Jul-27 10:00",
         992
        ],
        [
         "Close",
         "Jul-27 11:00",
         1001
        ],
        [
         "Open",
         "Jul-27 11:00",
         1006
        ],
        [
         "Close",
         "Jul-27 12:00",
         1006
        ],
        [
         "Open",
         "Jul-27 12:00",
         998
        ],
        [
         "Close",
         "Jul-27 13:00",
         1035
        ],
        [
         "Open",
         "Jul-27 13:00",
         994
        ],
        [
         "Close",
         "Jul-27 14:00",
         986
        ],
        [
         "Open",
         "Jul-27 14:00",
         1008
        ],
        [
         "Close",
         "Jul-27 15:00",
         948
        ],
        [
         "Open",
         "Jul-27 15:00",
         984
        ],
        [
         "Close",
         "Jul-27 16:00",
         1018
        ],
        [
         "Open",
         "Jul-27 16:00",
         1017
        ],
        [
         "Close",
         "Jul-27 17:00",
         970
        ],
        [
         "Open",
         "Jul-27 17:00",
         992
        ],
        [
         "Close",
         "Jul-27 18:00",
         1020
        ],
        [
         "Open",
         "Jul-27 18:00",
         1007
        ],
        [
         "Close",
         "Jul-27 19:00",
         1036
        ],
        [
         "Open",
         "Jul-27 19:00",
         995
        ],
        [
         "Close",
         "Jul-27 20:00",
         969
        ],
        [
         "Open",
         "Jul-27 20:00",
         1007
        ],
        [
         "Close",
         "Jul-27 21:00",
         1025
        ],
        [
         "Open",
         "Jul-27 21:00",
         1005
        ],
        [
         "Close",
         "Jul-27 22:00",
         979
        ],
        [
         "Open",
         "Jul-27 22:00",
         998
        ],
        [
         "Close",
         "Jul-27 23:00",
         996
        ],
        [
         "Open",
         "Jul-27 23:00",
         986
        ],
        [
         "Close",
         "Jul-28 00:00",
         1011
        ],
        [
         "Open",
         "Jul-28 00:00",
         1008
        ],
        [
         "Close",
         "Jul-28 01:00",
         988
        ],
        [
         "Open",
         "Jul-28 01:00",
         1000
        ],
        [
         "Close",
         "Jul-28 02:00",
         1010
        ],
        [
         "Open",
         "Jul-28 02:00",
         1001
        ],
        [
         "Close",
         "Jul-28 03:00",
         1007
        ],
        [
         "Open",
         "Jul-28 03:00",
         1000
        ],
        [
         "Close",
         "Jul-28 04:00",
         993
        ],
        [
         "Open",
         "Jul-28 04:00",
         996
        ],
        [
         "Close",
         "Jul-28 05:00",
         960
        ],
        [
         "Open",
         "Jul-28 05:00",
         825
        ],
        [
         "Close",
         "Jul-28 06:00",
         671
        ],
        [
         "Close",
         "Jul-28 07:00",
         191
        ]
       ],
       "datasetInfos": [
        {
         "name": "_sqldf",
         "schema": {
          "fields": [
           {
            "metadata": {},
            "name": "action",
            "nullable": true,
            "type": "string"
           },
           {
            "metadata": {},
            "name": "time",
            "nullable": true,
            "type": "string"
           },
           {
            "metadata": {},
            "name": "count",
            "nullable": false,
            "type": "long"
           }
          ],
          "type": "struct"
         },
         "tableIdentifier": null,
         "typeStr": "pyspark.sql.dataframe.DataFrame"
        }
       ],
       "dbfsResultPath": null,
       "isJsonSchema": true,
       "metadata": {
        "dataframeName": "_sqldf",
        "executionCount": 86
       },
       "overflow": false,
       "plotOptions": {
        "customPlotOptions": {},
        "displayType": "table",
        "pivotAggregation": null,
        "pivotColumns": null,
        "xColumns": null,
        "yColumns": null
       },
       "removedWidgets": [],
       "schema": [
        {
         "metadata": "{}",
         "name": "action",
         "type": "\"string\""
        },
        {
         "metadata": "{}",
         "name": "time",
         "type": "\"string\""
        },
        {
         "metadata": "{}",
         "name": "count",
         "type": "\"long\""
        }
       ],
       "type": "table"
      }
     },
     "output_type": "display_data"
    },
    {
     "output_type": "display_data",
     "data": {
      "text/plain": [
       "Databricks visualization. Run in Databricks to view."
      ]
     },
     "metadata": {
      "application/vnd.databricks.v1.subcommand+json": {
       "bindings": {},
       "collapsed": false,
       "command": "%sql WITH q AS (select action, date_format(window.end, \"MMM-dd HH:mm\") as time, count from static_counts order by time, action) SELECT `time`,SUM(`count`) `column_51354016115`,`action` FROM q GROUP BY `action`,`time`",
       "commandTitle": "Visualization 1",
       "commandType": "auto",
       "commandVersion": 0,
       "commentThread": [],
       "commentsVisible": false,
       "contentSha256Hex": null,
       "customPlotOptions": {
        "redashChart": [
         {
          "key": "type",
          "value": "CHART"
         },
         {
          "key": "options",
          "value": {
           "alignYAxesAtZero": true,
           "coefficient": 1,
           "columnConfigurationMap": {
            "series": {
             "column": "action",
             "id": "column_51354016116"
            },
            "x": {
             "column": "time",
             "id": "column_51354016113"
            },
            "y": [
             {
              "column": "count",
              "id": "column_51354016115",
              "transform": "SUM"
             }
            ]
           },
           "dateTimeFormat": "DD/MM/YYYY HH:mm",
           "direction": {
            "type": "counterclockwise"
           },
           "error_y": {
            "type": "data",
            "visible": true
           },
           "globalSeriesType": "column",
           "hideXAxis": false,
           "isAggregationOn": true,
           "legend": {
            "traceorder": "normal"
           },
           "missingValuesAsZero": true,
           "numberFormat": "0,0[.]00000",
           "percentFormat": "0[.]00%",
           "reverseX": false,
           "series": {
            "error_y": {
             "type": "data",
             "visible": true
            },
            "percentValues": false,
            "stacking": ""
           },
           "seriesOptions": {
            "Open": {
             "yAxis": 0
            },
            "column_51354016115": {
             "type": "column",
             "yAxis": 0
            }
           },
           "showDataLabels": false,
           "sizemode": "diameter",
           "sortX": true,
           "sortY": true,
           "swappedAxes": false,
           "textFormat": "",
           "useAggregationsUi": true,
           "valuesOptions": {},
           "version": 2,
           "xAxis": {
            "labels": {
             "enabled": true
            },
            "type": "-"
           },
           "yAxis": [
            {
             "type": "-"
            },
            {
             "opposite": true,
             "type": "-"
            }
           ]
          }
         }
        ]
       },
       "datasetPreviewNameToCmdIdMap": {},
       "diffDeletes": [],
       "diffInserts": [],
       "displayType": "redashChart",
       "error": null,
       "errorSummary": null,
       "errorTraceType": null,
       "finishTime": 0,
       "globalVars": {},
       "guid": "924693ab-e7ce-4f62-b526-259d37369529",
       "height": "auto",
       "hideCommandCode": false,
       "hideCommandResult": false,
       "iPythonMetadata": null,
       "inputWidgets": {},
       "isLockedInExamMode": false,
       "latestUser": "a user",
       "latestUserId": null,
       "listResultMetadata": null,
       "metadata": {
        "byteLimit": 2048000,
        "implicitDf": true,
        "rowLimit": 10000
       },
       "nuid": "048ce96f-55f7-445b-8a7d-e08f116ff449",
       "origId": 3947854806515713,
       "parentHierarchy": [
        "cfd19282-a678-46a7-a4a9-b82c2b413420"
       ],
       "pivotAggregation": null,
       "pivotColumns": null,
       "position": 7.0,
       "resultDbfsErrorMessage": null,
       "resultDbfsStatus": "INLINED_IN_TREE",
       "results": null,
       "showCommandTitle": false,
       "startTime": 0,
       "state": "finished",
       "streamStates": {},
       "subcommandOptions": {
        "queryPlan": {
         "groups": [
          {
           "column": "time",
           "type": "column"
          },
          {
           "column": "action",
           "type": "column"
          }
         ],
         "selects": [
          {
           "column": "time",
           "type": "column"
          },
          {
           "alias": "column_51354016115",
           "args": [
            {
             "column": "count",
             "type": "column"
            }
           ],
           "function": "SUM",
           "type": "function"
          },
          {
           "column": "action",
           "type": "column"
          }
         ]
        }
       },
       "submitTime": 0,
       "subtype": "tableResultSubCmd.visualization",
       "tableResultIndex": 0,
       "useConsistentColors": false,
       "version": "CommandV1",
       "width": "auto",
       "workflows": [],
       "xColumns": null,
       "yColumns": null
      }
     },
     "output_type": "display_data"
    }
   ],
   "source": [
    "%sql select action, date_format(window.end, \"MMM-dd HH:mm\") as time, count from static_counts order by time, action"
   ]
  },
  {
   "cell_type": "markdown",
   "metadata": {
    "application/vnd.databricks.v1+cell": {
     "cellMetadata": {
      "byteLimit": 2048000,
      "rowLimit": 10000
     },
     "inputWidgets": {},
     "nuid": "876ae2a0-4d76-403e-821e-bdede1a75e57",
     "showTitle": false,
     "title": ""
    }
   },
   "source": [
    "## **2. Streaming Processing of Sample data**"
   ]
  },
  {
   "cell_type": "code",
   "execution_count": 0,
   "metadata": {
    "application/vnd.databricks.v1+cell": {
     "cellMetadata": {
      "byteLimit": 2048000,
      "rowLimit": 10000
     },
     "inputWidgets": {},
     "nuid": "03e5c3f3-b49d-4400-9821-cf33161c8eb9",
     "showTitle": false,
     "title": ""
    }
   },
   "outputs": [
    {
     "output_type": "stream",
     "name": "stdout",
     "output_type": "stream",
     "text": [
      "True\nTrue\n"
     ]
    }
   ],
   "source": [
    "from pyspark.sql.functions import *\n",
    "\n",
    "streamingInputDF = (\n",
    "    spark\n",
    "      .readStream\n",
    "      .schema(jsonSchema)\n",
    "      .option(\"maxFilesPerTrigger\", 1)\n",
    "      .json(inputPath)\n",
    ")\n",
    "\n",
    "streamingCountsDF = (\n",
    "    streamingInputDF\n",
    "      .groupBy(\n",
    "          streamingInputDF.action,\n",
    "          window(streamingInputDF.time, \"1 hour\"))\n",
    "      .count()\n",
    ")\n",
    "\n",
    "print(streamingInputDF.isStreaming)\n",
    "print(streamingCountsDF.isStreaming)"
   ]
  },
  {
   "cell_type": "code",
   "execution_count": 0,
   "metadata": {
    "application/vnd.databricks.v1+cell": {
     "cellMetadata": {
      "byteLimit": 2048000,
      "rowLimit": 10000
     },
     "inputWidgets": {},
     "nuid": "4db147ff-71c0-4e89-a872-d9b43efbbfec",
     "showTitle": false,
     "title": ""
    }
   },
   "outputs": [],
   "source": [
    "spark.conf.set(\"spark.sql.shuffle.partitions\", \"2\")\n",
    "\n",
    "query = (\n",
    "  streamingCountsDF\n",
    "    .writeStream\n",
    "    .format(\"memory\")\n",
    "    .queryName(\"counts\")\n",
    "    .outputMode(\"complete\")\n",
    "    .start()\n",
    ")"
   ]
  },
  {
   "cell_type": "code",
   "execution_count": 0,
   "metadata": {
    "application/vnd.databricks.v1+cell": {
     "cellMetadata": {
      "byteLimit": 2048000,
      "rowLimit": 10000
     },
     "inputWidgets": {},
     "nuid": "aa496e2b-09fe-4f1c-bc84-18cb023772a8",
     "showTitle": false,
     "title": ""
    }
   },
   "outputs": [],
   "source": [
    "from time import sleep\n",
    "\n",
    "sleep(5)"
   ]
  },
  {
   "cell_type": "code",
   "execution_count": 0,
   "metadata": {
    "application/vnd.databricks.v1+cell": {
     "cellMetadata": {
      "byteLimit": 2048000,
      "implicitDf": true,
      "rowLimit": 10000
     },
     "inputWidgets": {},
     "nuid": "b3fddcc8-44c3-4347-89af-f6b72b22a200",
     "showTitle": false,
     "title": ""
    }
   },
   "outputs": [
    {
     "output_type": "display_data",
     "data": {
      "text/html": [
       "<style scoped>\n",
       "  .table-result-container {\n",
       "    max-height: 300px;\n",
       "    overflow: auto;\n",
       "  }\n",
       "  table, th, td {\n",
       "    border: 1px solid black;\n",
       "    border-collapse: collapse;\n",
       "  }\n",
       "  th, td {\n",
       "    padding: 5px;\n",
       "  }\n",
       "  th {\n",
       "    text-align: left;\n",
       "  }\n",
       "</style><div class='table-result-container'><table class='table-result'><thead style='background-color: white'><tr><th>action</th><th>time</th><th>count</th></tr></thead><tbody><tr><td>Close</td><td>Jul-26 03:00</td><td>11</td></tr><tr><td>Open</td><td>Jul-26 03:00</td><td>179</td></tr><tr><td>Close</td><td>Jul-26 04:00</td><td>344</td></tr><tr><td>Open</td><td>Jul-26 04:00</td><td>1001</td></tr><tr><td>Close</td><td>Jul-26 05:00</td><td>815</td></tr><tr><td>Open</td><td>Jul-26 05:00</td><td>999</td></tr><tr><td>Close</td><td>Jul-26 06:00</td><td>1003</td></tr><tr><td>Open</td><td>Jul-26 06:00</td><td>1000</td></tr><tr><td>Close</td><td>Jul-26 07:00</td><td>1011</td></tr><tr><td>Open</td><td>Jul-26 07:00</td><td>993</td></tr><tr><td>Close</td><td>Jul-26 08:00</td><td>314</td></tr><tr><td>Open</td><td>Jul-26 08:00</td><td>330</td></tr></tbody></table></div>"
      ]
     },
     "metadata": {
      "application/vnd.databricks.v1+output": {
       "addedWidgets": {},
       "aggData": [],
       "aggError": "",
       "aggOverflow": false,
       "aggSchema": [],
       "aggSeriesLimitReached": false,
       "aggType": "",
       "arguments": {},
       "columnCustomDisplayInfos": {},
       "data": [
        [
         "Close",
         "Jul-26 03:00",
         11
        ],
        [
         "Open",
         "Jul-26 03:00",
         179
        ],
        [
         "Close",
         "Jul-26 04:00",
         344
        ],
        [
         "Open",
         "Jul-26 04:00",
         1001
        ],
        [
         "Close",
         "Jul-26 05:00",
         815
        ],
        [
         "Open",
         "Jul-26 05:00",
         999
        ],
        [
         "Close",
         "Jul-26 06:00",
         1003
        ],
        [
         "Open",
         "Jul-26 06:00",
         1000
        ],
        [
         "Close",
         "Jul-26 07:00",
         1011
        ],
        [
         "Open",
         "Jul-26 07:00",
         993
        ],
        [
         "Close",
         "Jul-26 08:00",
         314
        ],
        [
         "Open",
         "Jul-26 08:00",
         330
        ]
       ],
       "datasetInfos": [
        {
         "name": "_sqldf",
         "schema": {
          "fields": [
           {
            "metadata": {},
            "name": "action",
            "nullable": true,
            "type": "string"
           },
           {
            "metadata": {},
            "name": "time",
            "nullable": true,
            "type": "string"
           },
           {
            "metadata": {},
            "name": "count",
            "nullable": false,
            "type": "long"
           }
          ],
          "type": "struct"
         },
         "tableIdentifier": null,
         "typeStr": "pyspark.sql.dataframe.DataFrame"
        }
       ],
       "dbfsResultPath": null,
       "isJsonSchema": true,
       "metadata": {
        "dataframeName": "_sqldf",
        "executionCount": 90
       },
       "overflow": false,
       "plotOptions": {
        "customPlotOptions": {},
        "displayType": "table",
        "pivotAggregation": null,
        "pivotColumns": null,
        "xColumns": null,
        "yColumns": null
       },
       "removedWidgets": [],
       "schema": [
        {
         "metadata": "{}",
         "name": "action",
         "type": "\"string\""
        },
        {
         "metadata": "{}",
         "name": "time",
         "type": "\"string\""
        },
        {
         "metadata": "{}",
         "name": "count",
         "type": "\"long\""
        }
       ],
       "type": "table"
      }
     },
     "output_type": "display_data"
    },
    {
     "output_type": "display_data",
     "data": {
      "text/plain": [
       "Databricks visualization. Run in Databricks to view."
      ]
     },
     "metadata": {
      "application/vnd.databricks.v1.subcommand+json": {
       "bindings": {},
       "collapsed": false,
       "command": "%sql WITH q AS (select action, date_format(window.end, \"MMM-dd HH:mm\") as time, count from counts order by time, action) SELECT `time`,SUM(`count`) `column_51354016138`,`action` FROM q GROUP BY `action`,`time`",
       "commandTitle": "Visualization 1",
       "commandType": "auto",
       "commandVersion": 0,
       "commentThread": [],
       "commentsVisible": false,
       "contentSha256Hex": null,
       "customPlotOptions": {
        "redashChart": [
         {
          "key": "type",
          "value": "CHART"
         },
         {
          "key": "options",
          "value": {
           "alignYAxesAtZero": true,
           "coefficient": 1,
           "columnConfigurationMap": {
            "series": {
             "column": "action",
             "id": "column_51354016136"
            },
            "x": {
             "column": "time",
             "id": "column_51354016134"
            },
            "y": [
             {
              "column": "count",
              "id": "column_51354016138",
              "transform": "SUM"
             }
            ]
           },
           "dateTimeFormat": "DD/MM/YYYY HH:mm",
           "direction": {
            "type": "counterclockwise"
           },
           "error_y": {
            "type": "data",
            "visible": true
           },
           "globalSeriesType": "column",
           "isAggregationOn": true,
           "legend": {
            "traceorder": "normal"
           },
           "missingValuesAsZero": true,
           "numberFormat": "0,0[.]00000",
           "percentFormat": "0[.]00%",
           "series": {
            "error_y": {
             "type": "data",
             "visible": true
            },
            "stacking": null
           },
           "seriesOptions": {
            "column_51354016138": {
             "type": "column",
             "yAxis": 0
            }
           },
           "showDataLabels": false,
           "sizemode": "diameter",
           "sortX": true,
           "sortY": true,
           "swappedAxes": false,
           "textFormat": "",
           "useAggregationsUi": true,
           "valuesOptions": {},
           "version": 2,
           "xAxis": {
            "labels": {
             "enabled": true
            },
            "type": "-"
           },
           "yAxis": [
            {
             "type": "-"
            },
            {
             "opposite": true,
             "type": "-"
            }
           ]
          }
         }
        ]
       },
       "datasetPreviewNameToCmdIdMap": {},
       "diffDeletes": [],
       "diffInserts": [],
       "displayType": "redashChart",
       "error": null,
       "errorSummary": null,
       "errorTraceType": null,
       "finishTime": 0,
       "globalVars": {},
       "guid": "4e554ed9-2017-4575-a263-13ab7f7c67c1",
       "height": "auto",
       "hideCommandCode": false,
       "hideCommandResult": false,
       "iPythonMetadata": null,
       "inputWidgets": {},
       "isLockedInExamMode": false,
       "latestUser": "a user",
       "latestUserId": null,
       "listResultMetadata": null,
       "metadata": {
        "byteLimit": 2048000,
        "implicitDf": true,
        "rowLimit": 10000
       },
       "nuid": "1da9a676-1b04-4363-89d0-b7d62aabfbaf",
       "origId": 3947854806515717,
       "parentHierarchy": [
        "3cfd1f5a-0bc5-4ed5-b1d1-df8ed92dbb5a"
       ],
       "pivotAggregation": null,
       "pivotColumns": null,
       "position": 10.0,
       "resultDbfsErrorMessage": null,
       "resultDbfsStatus": "INLINED_IN_TREE",
       "results": null,
       "showCommandTitle": false,
       "startTime": 0,
       "state": "finished",
       "streamStates": {},
       "subcommandOptions": {
        "queryPlan": {
         "groups": [
          {
           "column": "time",
           "type": "column"
          },
          {
           "column": "action",
           "type": "column"
          }
         ],
         "selects": [
          {
           "column": "time",
           "type": "column"
          },
          {
           "alias": "column_51354016138",
           "args": [
            {
             "column": "count",
             "type": "column"
            }
           ],
           "function": "SUM",
           "type": "function"
          },
          {
           "column": "action",
           "type": "column"
          }
         ]
        }
       },
       "submitTime": 0,
       "subtype": "tableResultSubCmd.visualization",
       "tableResultIndex": 0,
       "useConsistentColors": false,
       "version": "CommandV1",
       "width": "auto",
       "workflows": [],
       "xColumns": null,
       "yColumns": null
      }
     },
     "output_type": "display_data"
    }
   ],
   "source": [
    "%sql select action, date_format(window.end, \"MMM-dd HH:mm\") as time, count from counts order by time, action"
   ]
  },
  {
   "cell_type": "code",
   "execution_count": 0,
   "metadata": {
    "application/vnd.databricks.v1+cell": {
     "cellMetadata": {
      "byteLimit": 2048000,
      "implicitDf": true,
      "rowLimit": 10000
     },
     "inputWidgets": {},
     "nuid": "3d2f7f5c-7945-4d74-8f28-a7b38a4b0aa8",
     "showTitle": false,
     "title": ""
    }
   },
   "outputs": [
    {
     "output_type": "display_data",
     "data": {
      "text/html": [
       "<style scoped>\n",
       "  .table-result-container {\n",
       "    max-height: 300px;\n",
       "    overflow: auto;\n",
       "  }\n",
       "  table, th, td {\n",
       "    border: 1px solid black;\n",
       "    border-collapse: collapse;\n",
       "  }\n",
       "  th, td {\n",
       "    padding: 5px;\n",
       "  }\n",
       "  th {\n",
       "    text-align: left;\n",
       "  }\n",
       "</style><div class='table-result-container'><table class='table-result'><thead style='background-color: white'><tr><th>action</th><th>total_count</th></tr></thead><tbody><tr><td>Close</td><td>3498</td></tr><tr><td>Open</td><td>4502</td></tr></tbody></table></div>"
      ]
     },
     "metadata": {
      "application/vnd.databricks.v1+output": {
       "addedWidgets": {},
       "aggData": [],
       "aggError": "",
       "aggOverflow": false,
       "aggSchema": [],
       "aggSeriesLimitReached": false,
       "aggType": "",
       "arguments": {},
       "columnCustomDisplayInfos": {},
       "data": [
        [
         "Close",
         3498
        ],
        [
         "Open",
         4502
        ]
       ],
       "datasetInfos": [
        {
         "name": "_sqldf",
         "schema": {
          "fields": [
           {
            "metadata": {},
            "name": "action",
            "nullable": true,
            "type": "string"
           },
           {
            "metadata": {},
            "name": "total_count",
            "nullable": true,
            "type": "long"
           }
          ],
          "type": "struct"
         },
         "tableIdentifier": null,
         "typeStr": "pyspark.sql.dataframe.DataFrame"
        }
       ],
       "dbfsResultPath": null,
       "isJsonSchema": true,
       "metadata": {
        "dataframeName": "_sqldf",
        "executionCount": 91
       },
       "overflow": false,
       "plotOptions": {
        "customPlotOptions": {},
        "displayType": "table",
        "pivotAggregation": null,
        "pivotColumns": null,
        "xColumns": null,
        "yColumns": null
       },
       "removedWidgets": [],
       "schema": [
        {
         "metadata": "{}",
         "name": "action",
         "type": "\"string\""
        },
        {
         "metadata": "{}",
         "name": "total_count",
         "type": "\"long\""
        }
       ],
       "type": "table"
      }
     },
     "output_type": "display_data"
    },
    {
     "output_type": "display_data",
     "data": {
      "text/plain": [
       "Databricks visualization. Run in Databricks to view."
      ]
     },
     "metadata": {
      "application/vnd.databricks.v1.subcommand+json": {
       "bindings": {},
       "collapsed": false,
       "command": "%sql WITH q AS (select action, sum(count) as total_count from counts group by action) SELECT `action`,SUM(`total_count`) `column_51354016288` FROM q GROUP BY `action`",
       "commandTitle": "Visualization 1",
       "commandType": "auto",
       "commandVersion": 0,
       "commentThread": [],
       "commentsVisible": false,
       "contentSha256Hex": null,
       "customPlotOptions": {
        "redashChart": [
         {
          "key": "type",
          "value": "CHART"
         },
         {
          "key": "options",
          "value": {
           "alignYAxesAtZero": true,
           "coefficient": 1,
           "columnConfigurationMap": {
            "x": {
             "column": "action",
             "id": "column_51354016287"
            },
            "y": [
             {
              "column": "total_count",
              "id": "column_51354016288",
              "transform": "SUM"
             }
            ]
           },
           "dateTimeFormat": "DD/MM/YYYY HH:mm",
           "direction": {
            "type": "counterclockwise"
           },
           "error_y": {
            "type": "data",
            "visible": true
           },
           "globalSeriesType": "column",
           "isAggregationOn": true,
           "legend": {
            "traceorder": "normal"
           },
           "missingValuesAsZero": true,
           "numberFormat": "0,0[.]00000",
           "percentFormat": "0[.]00%",
           "series": {
            "error_y": {
             "type": "data",
             "visible": true
            },
            "stacking": null
           },
           "seriesOptions": {
            "column_51354016288": {
             "name": "total_count",
             "yAxis": 0
            }
           },
           "showDataLabels": false,
           "sizemode": "diameter",
           "sortX": true,
           "sortY": true,
           "swappedAxes": false,
           "textFormat": "",
           "useAggregationsUi": true,
           "valuesOptions": {},
           "version": 2,
           "xAxis": {
            "labels": {
             "enabled": true
            },
            "type": "-"
           },
           "yAxis": [
            {
             "type": "-"
            },
            {
             "opposite": true,
             "type": "-"
            }
           ]
          }
         }
        ]
       },
       "datasetPreviewNameToCmdIdMap": {},
       "diffDeletes": [],
       "diffInserts": [],
       "displayType": "redashChart",
       "error": null,
       "errorSummary": null,
       "errorTraceType": null,
       "finishTime": 0,
       "globalVars": {},
       "guid": "5f883628-03c1-4d5d-94ca-43241b8b10fb",
       "height": "auto",
       "hideCommandCode": false,
       "hideCommandResult": false,
       "iPythonMetadata": null,
       "inputWidgets": {},
       "isLockedInExamMode": false,
       "latestUser": "a user",
       "latestUserId": null,
       "listResultMetadata": null,
       "metadata": {
        "byteLimit": 2048000,
        "implicitDf": true,
        "rowLimit": 10000
       },
       "nuid": "bd729542-1f4d-41fa-8946-9e90c4a40b5d",
       "origId": 3947854806515733,
       "parentHierarchy": [
        "e8502898-6a06-4b84-be44-4c743a2ed266"
       ],
       "pivotAggregation": null,
       "pivotColumns": null,
       "position": 10.5,
       "resultDbfsErrorMessage": null,
       "resultDbfsStatus": "INLINED_IN_TREE",
       "results": null,
       "showCommandTitle": false,
       "startTime": 0,
       "state": "finished",
       "streamStates": {},
       "subcommandOptions": {
        "queryPlan": {
         "groups": [
          {
           "column": "action",
           "type": "column"
          }
         ],
         "selects": [
          {
           "column": "action",
           "type": "column"
          },
          {
           "alias": "column_51354016288",
           "args": [
            {
             "column": "total_count",
             "type": "column"
            }
           ],
           "function": "SUM",
           "type": "function"
          }
         ]
        }
       },
       "submitTime": 0,
       "subtype": "tableResultSubCmd.visualization",
       "tableResultIndex": 0,
       "useConsistentColors": false,
       "version": "CommandV1",
       "width": "auto",
       "workflows": [],
       "xColumns": null,
       "yColumns": null
      }
     },
     "output_type": "display_data"
    }
   ],
   "source": [
    "%sql select action, sum(count) as total_count from counts group by action"
   ]
  },
  {
   "cell_type": "code",
   "execution_count": 0,
   "metadata": {
    "application/vnd.databricks.v1+cell": {
     "cellMetadata": {
      "byteLimit": 2048000,
      "rowLimit": 10000
     },
     "inputWidgets": {},
     "nuid": "0eab17b0-0bee-4c5f-83ca-25f47d9b8277",
     "showTitle": false,
     "title": ""
    }
   },
   "outputs": [],
   "source": [
    "sleep(15)"
   ]
  },
  {
   "cell_type": "code",
   "execution_count": 0,
   "metadata": {
    "application/vnd.databricks.v1+cell": {
     "cellMetadata": {
      "byteLimit": 2048000,
      "implicitDf": true,
      "rowLimit": 10000
     },
     "inputWidgets": {},
     "nuid": "2183a734-68a1-4c57-a89b-2ed6d014efcf",
     "showTitle": false,
     "title": ""
    }
   },
   "outputs": [
    {
     "output_type": "display_data",
     "data": {
      "text/html": [
       "<style scoped>\n",
       "  .table-result-container {\n",
       "    max-height: 300px;\n",
       "    overflow: auto;\n",
       "  }\n",
       "  table, th, td {\n",
       "    border: 1px solid black;\n",
       "    border-collapse: collapse;\n",
       "  }\n",
       "  th, td {\n",
       "    padding: 5px;\n",
       "  }\n",
       "  th {\n",
       "    text-align: left;\n",
       "  }\n",
       "</style><div class='table-result-container'><table class='table-result'><thead style='background-color: white'><tr><th>action</th><th>time</th><th>count</th></tr></thead><tbody><tr><td>Close</td><td>Jul-26 03:00</td><td>11</td></tr><tr><td>Open</td><td>Jul-26 03:00</td><td>179</td></tr><tr><td>Close</td><td>Jul-26 04:00</td><td>344</td></tr><tr><td>Open</td><td>Jul-26 04:00</td><td>1001</td></tr><tr><td>Close</td><td>Jul-26 05:00</td><td>815</td></tr><tr><td>Open</td><td>Jul-26 05:00</td><td>999</td></tr><tr><td>Close</td><td>Jul-26 06:00</td><td>1003</td></tr><tr><td>Open</td><td>Jul-26 06:00</td><td>1000</td></tr><tr><td>Close</td><td>Jul-26 07:00</td><td>1011</td></tr><tr><td>Open</td><td>Jul-26 07:00</td><td>993</td></tr><tr><td>Close</td><td>Jul-26 08:00</td><td>989</td></tr><tr><td>Open</td><td>Jul-26 08:00</td><td>1008</td></tr><tr><td>Close</td><td>Jul-26 09:00</td><td>985</td></tr><tr><td>Open</td><td>Jul-26 09:00</td><td>996</td></tr><tr><td>Close</td><td>Jul-26 10:00</td><td>983</td></tr><tr><td>Open</td><td>Jul-26 10:00</td><td>1000</td></tr><tr><td>Close</td><td>Jul-26 11:00</td><td>1022</td></tr><tr><td>Open</td><td>Jul-26 11:00</td><td>1007</td></tr><tr><td>Close</td><td>Jul-26 12:00</td><td>1028</td></tr><tr><td>Open</td><td>Jul-26 12:00</td><td>991</td></tr><tr><td>Close</td><td>Jul-26 13:00</td><td>960</td></tr><tr><td>Open</td><td>Jul-26 13:00</td><td>996</td></tr><tr><td>Close</td><td>Jul-26 14:00</td><td>1028</td></tr><tr><td>Open</td><td>Jul-26 14:00</td><td>1006</td></tr><tr><td>Close</td><td>Jul-26 15:00</td><td>994</td></tr><tr><td>Open</td><td>Jul-26 15:00</td><td>991</td></tr><tr><td>Close</td><td>Jul-26 16:00</td><td>988</td></tr><tr><td>Open</td><td>Jul-26 16:00</td><td>1020</td></tr><tr><td>Close</td><td>Jul-26 17:00</td><td>984</td></tr><tr><td>Open</td><td>Jul-26 17:00</td><td>992</td></tr><tr><td>Close</td><td>Jul-26 18:00</td><td>1036</td></tr><tr><td>Open</td><td>Jul-26 18:00</td><td>990</td></tr><tr><td>Close</td><td>Jul-26 19:00</td><td>1001</td></tr><tr><td>Open</td><td>Jul-26 19:00</td><td>1004</td></tr><tr><td>Close</td><td>Jul-26 20:00</td><td>967</td></tr><tr><td>Open</td><td>Jul-26 20:00</td><td>998</td></tr><tr><td>Close</td><td>Jul-26 21:00</td><td>1035</td></tr><tr><td>Open</td><td>Jul-26 21:00</td><td>1010</td></tr><tr><td>Close</td><td>Jul-26 22:00</td><td>995</td></tr><tr><td>Open</td><td>Jul-26 22:00</td><td>998</td></tr><tr><td>Close</td><td>Jul-26 23:00</td><td>1036</td></tr><tr><td>Open</td><td>Jul-26 23:00</td><td>997</td></tr><tr><td>Close</td><td>Jul-27 00:00</td><td>304</td></tr><tr><td>Open</td><td>Jul-27 00:00</td><td>305</td></tr></tbody></table></div>"
      ]
     },
     "metadata": {
      "application/vnd.databricks.v1+output": {
       "addedWidgets": {},
       "aggData": [],
       "aggError": "",
       "aggOverflow": false,
       "aggSchema": [],
       "aggSeriesLimitReached": false,
       "aggType": "",
       "arguments": {},
       "columnCustomDisplayInfos": {},
       "data": [
        [
         "Close",
         "Jul-26 03:00",
         11
        ],
        [
         "Open",
         "Jul-26 03:00",
         179
        ],
        [
         "Close",
         "Jul-26 04:00",
         344
        ],
        [
         "Open",
         "Jul-26 04:00",
         1001
        ],
        [
         "Close",
         "Jul-26 05:00",
         815
        ],
        [
         "Open",
         "Jul-26 05:00",
         999
        ],
        [
         "Close",
         "Jul-26 06:00",
         1003
        ],
        [
         "Open",
         "Jul-26 06:00",
         1000
        ],
        [
         "Close",
         "Jul-26 07:00",
         1011
        ],
        [
         "Open",
         "Jul-26 07:00",
         993
        ],
        [
         "Close",
         "Jul-26 08:00",
         989
        ],
        [
         "Open",
         "Jul-26 08:00",
         1008
        ],
        [
         "Close",
         "Jul-26 09:00",
         985
        ],
        [
         "Open",
         "Jul-26 09:00",
         996
        ],
        [
         "Close",
         "Jul-26 10:00",
         983
        ],
        [
         "Open",
         "Jul-26 10:00",
         1000
        ],
        [
         "Close",
         "Jul-26 11:00",
         1022
        ],
        [
         "Open",
         "Jul-26 11:00",
         1007
        ],
        [
         "Close",
         "Jul-26 12:00",
         1028
        ],
        [
         "Open",
         "Jul-26 12:00",
         991
        ],
        [
         "Close",
         "Jul-26 13:00",
         960
        ],
        [
         "Open",
         "Jul-26 13:00",
         996
        ],
        [
         "Close",
         "Jul-26 14:00",
         1028
        ],
        [
         "Open",
         "Jul-26 14:00",
         1006
        ],
        [
         "Close",
         "Jul-26 15:00",
         994
        ],
        [
         "Open",
         "Jul-26 15:00",
         991
        ],
        [
         "Close",
         "Jul-26 16:00",
         988
        ],
        [
         "Open",
         "Jul-26 16:00",
         1020
        ],
        [
         "Close",
         "Jul-26 17:00",
         984
        ],
        [
         "Open",
         "Jul-26 17:00",
         992
        ],
        [
         "Close",
         "Jul-26 18:00",
         1036
        ],
        [
         "Open",
         "Jul-26 18:00",
         990
        ],
        [
         "Close",
         "Jul-26 19:00",
         1001
        ],
        [
         "Open",
         "Jul-26 19:00",
         1004
        ],
        [
         "Close",
         "Jul-26 20:00",
         967
        ],
        [
         "Open",
         "Jul-26 20:00",
         998
        ],
        [
         "Close",
         "Jul-26 21:00",
         1035
        ],
        [
         "Open",
         "Jul-26 21:00",
         1010
        ],
        [
         "Close",
         "Jul-26 22:00",
         995
        ],
        [
         "Open",
         "Jul-26 22:00",
         998
        ],
        [
         "Close",
         "Jul-26 23:00",
         1036
        ],
        [
         "Open",
         "Jul-26 23:00",
         997
        ],
        [
         "Close",
         "Jul-27 00:00",
         304
        ],
        [
         "Open",
         "Jul-27 00:00",
         305
        ]
       ],
       "datasetInfos": [
        {
         "name": "_sqldf",
         "schema": {
          "fields": [
           {
            "metadata": {},
            "name": "action",
            "nullable": true,
            "type": "string"
           },
           {
            "metadata": {},
            "name": "time",
            "nullable": true,
            "type": "string"
           },
           {
            "metadata": {},
            "name": "count",
            "nullable": false,
            "type": "long"
           }
          ],
          "type": "struct"
         },
         "tableIdentifier": null,
         "typeStr": "pyspark.sql.dataframe.DataFrame"
        }
       ],
       "dbfsResultPath": null,
       "isJsonSchema": true,
       "metadata": {
        "dataframeName": "_sqldf",
        "executionCount": 93
       },
       "overflow": false,
       "plotOptions": {
        "customPlotOptions": {},
        "displayType": "table",
        "pivotAggregation": null,
        "pivotColumns": null,
        "xColumns": null,
        "yColumns": null
       },
       "removedWidgets": [],
       "schema": [
        {
         "metadata": "{}",
         "name": "action",
         "type": "\"string\""
        },
        {
         "metadata": "{}",
         "name": "time",
         "type": "\"string\""
        },
        {
         "metadata": "{}",
         "name": "count",
         "type": "\"long\""
        }
       ],
       "type": "table"
      }
     },
     "output_type": "display_data"
    },
    {
     "output_type": "display_data",
     "data": {
      "text/plain": [
       "Databricks visualization. Run in Databricks to view."
      ]
     },
     "metadata": {
      "application/vnd.databricks.v1.subcommand+json": {
       "bindings": {},
       "collapsed": false,
       "command": "%sql WITH q AS (select action, date_format(window.end, \"MMM-dd HH:mm\") as time, count from counts order by time, action) SELECT `time`,`action`,`count` FROM q",
       "commandTitle": "Visualization 1",
       "commandType": "auto",
       "commandVersion": 0,
       "commentThread": [],
       "commentsVisible": false,
       "contentSha256Hex": null,
       "customPlotOptions": {
        "redashChart": [
         {
          "key": "type",
          "value": "CHART"
         },
         {
          "key": "options",
          "value": {
           "alignYAxesAtZero": true,
           "coefficient": 1,
           "columnConfigurationMap": {
            "series": {
             "column": "action",
             "id": "column_51354016170"
            },
            "x": {
             "column": "time",
             "id": "column_51354016173"
            },
            "y": [
             {
              "column": "count",
              "id": "column_51354016172"
             }
            ]
           },
           "dateTimeFormat": "DD/MM/YYYY HH:mm",
           "direction": {
            "type": "counterclockwise"
           },
           "error_y": {
            "type": "data",
            "visible": true
           },
           "globalSeriesType": "column",
           "isAggregationOn": false,
           "legend": {
            "traceorder": "normal"
           },
           "missingValuesAsZero": true,
           "numberFormat": "0,0[.]00000",
           "percentFormat": "0[.]00%",
           "series": {
            "error_y": {
             "type": "data",
             "visible": true
            },
            "stacking": ""
           },
           "seriesOptions": {
            "column_51354016169": {
             "name": "count",
             "yAxis": 0
            },
            "count": {
             "type": "column",
             "yAxis": 0
            }
           },
           "showDataLabels": false,
           "sizemode": "diameter",
           "sortX": true,
           "sortY": true,
           "swappedAxes": false,
           "textFormat": "",
           "useAggregationsUi": true,
           "valuesOptions": {},
           "version": 2,
           "xAxis": {
            "labels": {
             "enabled": true
            },
            "type": "-"
           },
           "yAxis": [
            {
             "type": "-"
            },
            {
             "opposite": true,
             "type": "-"
            }
           ]
          }
         }
        ]
       },
       "datasetPreviewNameToCmdIdMap": {},
       "diffDeletes": [],
       "diffInserts": [],
       "displayType": "redashChart",
       "error": null,
       "errorSummary": null,
       "errorTraceType": null,
       "finishTime": 0,
       "globalVars": {},
       "guid": "fd1212ea-3da2-4d26-bde7-daa1861039b8",
       "height": "auto",
       "hideCommandCode": false,
       "hideCommandResult": false,
       "iPythonMetadata": null,
       "inputWidgets": {},
       "isLockedInExamMode": false,
       "latestUser": "a user",
       "latestUserId": null,
       "listResultMetadata": null,
       "metadata": {
        "byteLimit": 2048000,
        "implicitDf": true,
        "rowLimit": 10000
       },
       "nuid": "9147724e-b832-4f98-b23f-526903a8fc1a",
       "origId": 3947854806515722,
       "parentHierarchy": [
        "a5666305-0e2d-4451-a24e-8b17de094ead"
       ],
       "pivotAggregation": null,
       "pivotColumns": null,
       "position": 12.0,
       "resultDbfsErrorMessage": null,
       "resultDbfsStatus": "INLINED_IN_TREE",
       "results": null,
       "showCommandTitle": false,
       "startTime": 0,
       "state": "finished",
       "streamStates": {},
       "subcommandOptions": {
        "queryPlan": {
         "selects": [
          {
           "column": "time",
           "type": "column"
          },
          {
           "column": "action",
           "type": "column"
          },
          {
           "column": "count",
           "type": "column"
          }
         ]
        }
       },
       "submitTime": 0,
       "subtype": "tableResultSubCmd.visualization",
       "tableResultIndex": 0,
       "useConsistentColors": false,
       "version": "CommandV1",
       "width": "auto",
       "workflows": [],
       "xColumns": null,
       "yColumns": null
      }
     },
     "output_type": "display_data"
    }
   ],
   "source": [
    "%sql select action, date_format(window.end, \"MMM-dd HH:mm\") as time, count from counts order by time, action"
   ]
  },
  {
   "cell_type": "code",
   "execution_count": 0,
   "metadata": {
    "application/vnd.databricks.v1+cell": {
     "cellMetadata": {
      "byteLimit": 2048000,
      "implicitDf": true,
      "rowLimit": 10000
     },
     "inputWidgets": {},
     "nuid": "4e472d6e-524e-4655-b6f8-ae7f800375af",
     "showTitle": false,
     "title": ""
    }
   },
   "outputs": [
    {
     "output_type": "display_data",
     "data": {
      "text/html": [
       "<style scoped>\n",
       "  .table-result-container {\n",
       "    max-height: 300px;\n",
       "    overflow: auto;\n",
       "  }\n",
       "  table, th, td {\n",
       "    border: 1px solid black;\n",
       "    border-collapse: collapse;\n",
       "  }\n",
       "  th, td {\n",
       "    padding: 5px;\n",
       "  }\n",
       "  th {\n",
       "    text-align: left;\n",
       "  }\n",
       "</style><div class='table-result-container'><table class='table-result'><thead style='background-color: white'><tr><th>action</th><th>total_count</th></tr></thead><tbody><tr><td>Close</td><td>19519</td></tr><tr><td>Open</td><td>20481</td></tr></tbody></table></div>"
      ]
     },
     "metadata": {
      "application/vnd.databricks.v1+output": {
       "addedWidgets": {},
       "aggData": [],
       "aggError": "",
       "aggOverflow": false,
       "aggSchema": [],
       "aggSeriesLimitReached": false,
       "aggType": "",
       "arguments": {},
       "columnCustomDisplayInfos": {},
       "data": [
        [
         "Close",
         19519
        ],
        [
         "Open",
         20481
        ]
       ],
       "datasetInfos": [
        {
         "name": "_sqldf",
         "schema": {
          "fields": [
           {
            "metadata": {},
            "name": "action",
            "nullable": true,
            "type": "string"
           },
           {
            "metadata": {},
            "name": "total_count",
            "nullable": true,
            "type": "long"
           }
          ],
          "type": "struct"
         },
         "tableIdentifier": null,
         "typeStr": "pyspark.sql.dataframe.DataFrame"
        }
       ],
       "dbfsResultPath": null,
       "isJsonSchema": true,
       "metadata": {
        "dataframeName": "_sqldf",
        "executionCount": 94
       },
       "overflow": false,
       "plotOptions": {
        "customPlotOptions": {},
        "displayType": "table",
        "pivotAggregation": null,
        "pivotColumns": null,
        "xColumns": null,
        "yColumns": null
       },
       "removedWidgets": [],
       "schema": [
        {
         "metadata": "{}",
         "name": "action",
         "type": "\"string\""
        },
        {
         "metadata": "{}",
         "name": "total_count",
         "type": "\"long\""
        }
       ],
       "type": "table"
      }
     },
     "output_type": "display_data"
    },
    {
     "output_type": "display_data",
     "data": {
      "text/plain": [
       "Databricks visualization. Run in Databricks to view."
      ]
     },
     "metadata": {
      "application/vnd.databricks.v1.subcommand+json": {
       "bindings": {},
       "collapsed": false,
       "command": "%sql WITH q AS (select action, sum(count) as total_count from counts group by action) SELECT `action`,SUM(`total_count`) `column_51354016303` FROM q GROUP BY `action`",
       "commandTitle": "Visualization 1",
       "commandType": "auto",
       "commandVersion": 0,
       "commentThread": [],
       "commentsVisible": false,
       "contentSha256Hex": null,
       "customPlotOptions": {
        "redashChart": [
         {
          "key": "type",
          "value": "CHART"
         },
         {
          "key": "options",
          "value": {
           "alignYAxesAtZero": true,
           "coefficient": 1,
           "columnConfigurationMap": {
            "x": {
             "column": "action",
             "id": "column_51354016302"
            },
            "y": [
             {
              "column": "total_count",
              "id": "column_51354016303",
              "transform": "SUM"
             }
            ]
           },
           "dateTimeFormat": "DD/MM/YYYY HH:mm",
           "direction": {
            "type": "counterclockwise"
           },
           "error_y": {
            "type": "data",
            "visible": true
           },
           "globalSeriesType": "column",
           "isAggregationOn": true,
           "legend": {
            "traceorder": "normal"
           },
           "missingValuesAsZero": true,
           "numberFormat": "0,0[.]00000",
           "percentFormat": "0[.]00%",
           "series": {
            "error_y": {
             "type": "data",
             "visible": true
            },
            "stacking": null
           },
           "seriesOptions": {
            "column_51354016303": {
             "name": "total_count",
             "yAxis": 0
            }
           },
           "showDataLabels": false,
           "sizemode": "diameter",
           "sortX": true,
           "sortY": true,
           "swappedAxes": false,
           "textFormat": "",
           "useAggregationsUi": true,
           "valuesOptions": {},
           "version": 2,
           "xAxis": {
            "labels": {
             "enabled": true
            },
            "type": "-"
           },
           "yAxis": [
            {
             "type": "-"
            },
            {
             "opposite": true,
             "type": "-"
            }
           ]
          }
         }
        ]
       },
       "datasetPreviewNameToCmdIdMap": {},
       "diffDeletes": [],
       "diffInserts": [],
       "displayType": "redashChart",
       "error": null,
       "errorSummary": null,
       "errorTraceType": null,
       "finishTime": 0,
       "globalVars": {},
       "guid": "cc8ffd35-425b-495d-83b7-8dec2ad3de16",
       "height": "auto",
       "hideCommandCode": false,
       "hideCommandResult": false,
       "iPythonMetadata": null,
       "inputWidgets": {},
       "isLockedInExamMode": false,
       "latestUser": "a user",
       "latestUserId": null,
       "listResultMetadata": null,
       "metadata": {
        "byteLimit": 2048000,
        "implicitDf": true,
        "rowLimit": 10000
       },
       "nuid": "3264c0c7-5586-4705-a01d-158578beed1c",
       "origId": 3947854806515734,
       "parentHierarchy": [
        "0185fc69-9bc8-414c-8520-8ec020d06bfa"
       ],
       "pivotAggregation": null,
       "pivotColumns": null,
       "position": 12.5,
       "resultDbfsErrorMessage": null,
       "resultDbfsStatus": "INLINED_IN_TREE",
       "results": null,
       "showCommandTitle": false,
       "startTime": 0,
       "state": "finished",
       "streamStates": {},
       "subcommandOptions": {
        "queryPlan": {
         "groups": [
          {
           "column": "action",
           "type": "column"
          }
         ],
         "selects": [
          {
           "column": "action",
           "type": "column"
          },
          {
           "alias": "column_51354016303",
           "args": [
            {
             "column": "total_count",
             "type": "column"
            }
           ],
           "function": "SUM",
           "type": "function"
          }
         ]
        }
       },
       "submitTime": 0,
       "subtype": "tableResultSubCmd.visualization",
       "tableResultIndex": 0,
       "useConsistentColors": false,
       "version": "CommandV1",
       "width": "auto",
       "workflows": [],
       "xColumns": null,
       "yColumns": null
      }
     },
     "output_type": "display_data"
    }
   ],
   "source": [
    "%sql select action, sum(count) as total_count from counts group by action"
   ]
  },
  {
   "cell_type": "code",
   "execution_count": 0,
   "metadata": {
    "application/vnd.databricks.v1+cell": {
     "cellMetadata": {
      "byteLimit": 2048000,
      "rowLimit": 10000
     },
     "inputWidgets": {},
     "nuid": "6b99d0fd-a943-4b7d-b35b-de368f285412",
     "showTitle": false,
     "title": ""
    }
   },
   "outputs": [],
   "source": [
    "sleep(15)"
   ]
  },
  {
   "cell_type": "code",
   "execution_count": 0,
   "metadata": {
    "application/vnd.databricks.v1+cell": {
     "cellMetadata": {
      "byteLimit": 2048000,
      "implicitDf": true,
      "rowLimit": 10000
     },
     "inputWidgets": {},
     "nuid": "06f36e30-fa7a-410b-bc34-b8efd6f9bf07",
     "showTitle": false,
     "title": ""
    }
   },
   "outputs": [
    {
     "output_type": "display_data",
     "data": {
      "text/html": [
       "<style scoped>\n",
       "  .table-result-container {\n",
       "    max-height: 300px;\n",
       "    overflow: auto;\n",
       "  }\n",
       "  table, th, td {\n",
       "    border: 1px solid black;\n",
       "    border-collapse: collapse;\n",
       "  }\n",
       "  th, td {\n",
       "    padding: 5px;\n",
       "  }\n",
       "  th {\n",
       "    text-align: left;\n",
       "  }\n",
       "</style><div class='table-result-container'><table class='table-result'><thead style='background-color: white'><tr><th>action</th><th>time</th><th>count</th></tr></thead><tbody><tr><td>Close</td><td>Jul-26 03:00</td><td>11</td></tr><tr><td>Open</td><td>Jul-26 03:00</td><td>179</td></tr><tr><td>Close</td><td>Jul-26 04:00</td><td>344</td></tr><tr><td>Open</td><td>Jul-26 04:00</td><td>1001</td></tr><tr><td>Close</td><td>Jul-26 05:00</td><td>815</td></tr><tr><td>Open</td><td>Jul-26 05:00</td><td>999</td></tr><tr><td>Close</td><td>Jul-26 06:00</td><td>1003</td></tr><tr><td>Open</td><td>Jul-26 06:00</td><td>1000</td></tr><tr><td>Close</td><td>Jul-26 07:00</td><td>1011</td></tr><tr><td>Open</td><td>Jul-26 07:00</td><td>993</td></tr><tr><td>Close</td><td>Jul-26 08:00</td><td>989</td></tr><tr><td>Open</td><td>Jul-26 08:00</td><td>1008</td></tr><tr><td>Close</td><td>Jul-26 09:00</td><td>985</td></tr><tr><td>Open</td><td>Jul-26 09:00</td><td>996</td></tr><tr><td>Close</td><td>Jul-26 10:00</td><td>983</td></tr><tr><td>Open</td><td>Jul-26 10:00</td><td>1000</td></tr><tr><td>Close</td><td>Jul-26 11:00</td><td>1022</td></tr><tr><td>Open</td><td>Jul-26 11:00</td><td>1007</td></tr><tr><td>Close</td><td>Jul-26 12:00</td><td>1028</td></tr><tr><td>Open</td><td>Jul-26 12:00</td><td>991</td></tr><tr><td>Close</td><td>Jul-26 13:00</td><td>960</td></tr><tr><td>Open</td><td>Jul-26 13:00</td><td>996</td></tr><tr><td>Close</td><td>Jul-26 14:00</td><td>1028</td></tr><tr><td>Open</td><td>Jul-26 14:00</td><td>1006</td></tr><tr><td>Close</td><td>Jul-26 15:00</td><td>994</td></tr><tr><td>Open</td><td>Jul-26 15:00</td><td>991</td></tr><tr><td>Close</td><td>Jul-26 16:00</td><td>988</td></tr><tr><td>Open</td><td>Jul-26 16:00</td><td>1020</td></tr><tr><td>Close</td><td>Jul-26 17:00</td><td>984</td></tr><tr><td>Open</td><td>Jul-26 17:00</td><td>992</td></tr><tr><td>Close</td><td>Jul-26 18:00</td><td>1036</td></tr><tr><td>Open</td><td>Jul-26 18:00</td><td>990</td></tr><tr><td>Close</td><td>Jul-26 19:00</td><td>1001</td></tr><tr><td>Open</td><td>Jul-26 19:00</td><td>1004</td></tr><tr><td>Close</td><td>Jul-26 20:00</td><td>967</td></tr><tr><td>Open</td><td>Jul-26 20:00</td><td>998</td></tr><tr><td>Close</td><td>Jul-26 21:00</td><td>1035</td></tr><tr><td>Open</td><td>Jul-26 21:00</td><td>1010</td></tr><tr><td>Close</td><td>Jul-26 22:00</td><td>995</td></tr><tr><td>Open</td><td>Jul-26 22:00</td><td>998</td></tr><tr><td>Close</td><td>Jul-26 23:00</td><td>1036</td></tr><tr><td>Open</td><td>Jul-26 23:00</td><td>997</td></tr><tr><td>Close</td><td>Jul-27 00:00</td><td>950</td></tr><tr><td>Open</td><td>Jul-27 00:00</td><td>1000</td></tr><tr><td>Close</td><td>Jul-27 01:00</td><td>1008</td></tr><tr><td>Open</td><td>Jul-27 01:00</td><td>998</td></tr><tr><td>Close</td><td>Jul-27 02:00</td><td>1013</td></tr><tr><td>Open</td><td>Jul-27 02:00</td><td>1004</td></tr><tr><td>Close</td><td>Jul-27 03:00</td><td>971</td></tr><tr><td>Open</td><td>Jul-27 03:00</td><td>992</td></tr><tr><td>Close</td><td>Jul-27 04:00</td><td>1025</td></tr><tr><td>Open</td><td>Jul-27 04:00</td><td>1014</td></tr><tr><td>Close</td><td>Jul-27 05:00</td><td>989</td></tr><tr><td>Open</td><td>Jul-27 05:00</td><td>995</td></tr><tr><td>Close</td><td>Jul-27 06:00</td><td>987</td></tr><tr><td>Open</td><td>Jul-27 06:00</td><td>986</td></tr><tr><td>Close</td><td>Jul-27 07:00</td><td>1026</td></tr><tr><td>Open</td><td>Jul-27 07:00</td><td>1016</td></tr><tr><td>Close</td><td>Jul-27 08:00</td><td>982</td></tr><tr><td>Open</td><td>Jul-27 08:00</td><td>998</td></tr><tr><td>Close</td><td>Jul-27 09:00</td><td>1024</td></tr><tr><td>Open</td><td>Jul-27 09:00</td><td>1002</td></tr><tr><td>Close</td><td>Jul-27 10:00</td><td>990</td></tr><tr><td>Open</td><td>Jul-27 10:00</td><td>992</td></tr><tr><td>Close</td><td>Jul-27 11:00</td><td>1001</td></tr><tr><td>Open</td><td>Jul-27 11:00</td><td>1006</td></tr><tr><td>Close</td><td>Jul-27 12:00</td><td>1006</td></tr><tr><td>Open</td><td>Jul-27 12:00</td><td>998</td></tr><tr><td>Close</td><td>Jul-27 13:00</td><td>1035</td></tr><tr><td>Open</td><td>Jul-27 13:00</td><td>994</td></tr><tr><td>Close</td><td>Jul-27 14:00</td><td>986</td></tr><tr><td>Open</td><td>Jul-27 14:00</td><td>1008</td></tr><tr><td>Close</td><td>Jul-27 15:00</td><td>948</td></tr><tr><td>Open</td><td>Jul-27 15:00</td><td>984</td></tr><tr><td>Close</td><td>Jul-27 16:00</td><td>331</td></tr><tr><td>Open</td><td>Jul-27 16:00</td><td>350</td></tr></tbody></table></div>"
      ]
     },
     "metadata": {
      "application/vnd.databricks.v1+output": {
       "addedWidgets": {},
       "aggData": [],
       "aggError": "",
       "aggOverflow": false,
       "aggSchema": [],
       "aggSeriesLimitReached": false,
       "aggType": "",
       "arguments": {},
       "columnCustomDisplayInfos": {},
       "data": [
        [
         "Close",
         "Jul-26 03:00",
         11
        ],
        [
         "Open",
         "Jul-26 03:00",
         179
        ],
        [
         "Close",
         "Jul-26 04:00",
         344
        ],
        [
         "Open",
         "Jul-26 04:00",
         1001
        ],
        [
         "Close",
         "Jul-26 05:00",
         815
        ],
        [
         "Open",
         "Jul-26 05:00",
         999
        ],
        [
         "Close",
         "Jul-26 06:00",
         1003
        ],
        [
         "Open",
         "Jul-26 06:00",
         1000
        ],
        [
         "Close",
         "Jul-26 07:00",
         1011
        ],
        [
         "Open",
         "Jul-26 07:00",
         993
        ],
        [
         "Close",
         "Jul-26 08:00",
         989
        ],
        [
         "Open",
         "Jul-26 08:00",
         1008
        ],
        [
         "Close",
         "Jul-26 09:00",
         985
        ],
        [
         "Open",
         "Jul-26 09:00",
         996
        ],
        [
         "Close",
         "Jul-26 10:00",
         983
        ],
        [
         "Open",
         "Jul-26 10:00",
         1000
        ],
        [
         "Close",
         "Jul-26 11:00",
         1022
        ],
        [
         "Open",
         "Jul-26 11:00",
         1007
        ],
        [
         "Close",
         "Jul-26 12:00",
         1028
        ],
        [
         "Open",
         "Jul-26 12:00",
         991
        ],
        [
         "Close",
         "Jul-26 13:00",
         960
        ],
        [
         "Open",
         "Jul-26 13:00",
         996
        ],
        [
         "Close",
         "Jul-26 14:00",
         1028
        ],
        [
         "Open",
         "Jul-26 14:00",
         1006
        ],
        [
         "Close",
         "Jul-26 15:00",
         994
        ],
        [
         "Open",
         "Jul-26 15:00",
         991
        ],
        [
         "Close",
         "Jul-26 16:00",
         988
        ],
        [
         "Open",
         "Jul-26 16:00",
         1020
        ],
        [
         "Close",
         "Jul-26 17:00",
         984
        ],
        [
         "Open",
         "Jul-26 17:00",
         992
        ],
        [
         "Close",
         "Jul-26 18:00",
         1036
        ],
        [
         "Open",
         "Jul-26 18:00",
         990
        ],
        [
         "Close",
         "Jul-26 19:00",
         1001
        ],
        [
         "Open",
         "Jul-26 19:00",
         1004
        ],
        [
         "Close",
         "Jul-26 20:00",
         967
        ],
        [
         "Open",
         "Jul-26 20:00",
         998
        ],
        [
         "Close",
         "Jul-26 21:00",
         1035
        ],
        [
         "Open",
         "Jul-26 21:00",
         1010
        ],
        [
         "Close",
         "Jul-26 22:00",
         995
        ],
        [
         "Open",
         "Jul-26 22:00",
         998
        ],
        [
         "Close",
         "Jul-26 23:00",
         1036
        ],
        [
         "Open",
         "Jul-26 23:00",
         997
        ],
        [
         "Close",
         "Jul-27 00:00",
         950
        ],
        [
         "Open",
         "Jul-27 00:00",
         1000
        ],
        [
         "Close",
         "Jul-27 01:00",
         1008
        ],
        [
         "Open",
         "Jul-27 01:00",
         998
        ],
        [
         "Close",
         "Jul-27 02:00",
         1013
        ],
        [
         "Open",
         "Jul-27 02:00",
         1004
        ],
        [
         "Close",
         "Jul-27 03:00",
         971
        ],
        [
         "Open",
         "Jul-27 03:00",
         992
        ],
        [
         "Close",
         "Jul-27 04:00",
         1025
        ],
        [
         "Open",
         "Jul-27 04:00",
         1014
        ],
        [
         "Close",
         "Jul-27 05:00",
         989
        ],
        [
         "Open",
         "Jul-27 05:00",
         995
        ],
        [
         "Close",
         "Jul-27 06:00",
         987
        ],
        [
         "Open",
         "Jul-27 06:00",
         986
        ],
        [
         "Close",
         "Jul-27 07:00",
         1026
        ],
        [
         "Open",
         "Jul-27 07:00",
         1016
        ],
        [
         "Close",
         "Jul-27 08:00",
         982
        ],
        [
         "Open",
         "Jul-27 08:00",
         998
        ],
        [
         "Close",
         "Jul-27 09:00",
         1024
        ],
        [
         "Open",
         "Jul-27 09:00",
         1002
        ],
        [
         "Close",
         "Jul-27 10:00",
         990
        ],
        [
         "Open",
         "Jul-27 10:00",
         992
        ],
        [
         "Close",
         "Jul-27 11:00",
         1001
        ],
        [
         "Open",
         "Jul-27 11:00",
         1006
        ],
        [
         "Close",
         "Jul-27 12:00",
         1006
        ],
        [
         "Open",
         "Jul-27 12:00",
         998
        ],
        [
         "Close",
         "Jul-27 13:00",
         1035
        ],
        [
         "Open",
         "Jul-27 13:00",
         994
        ],
        [
         "Close",
         "Jul-27 14:00",
         986
        ],
        [
         "Open",
         "Jul-27 14:00",
         1008
        ],
        [
         "Close",
         "Jul-27 15:00",
         948
        ],
        [
         "Open",
         "Jul-27 15:00",
         984
        ],
        [
         "Close",
         "Jul-27 16:00",
         331
        ],
        [
         "Open",
         "Jul-27 16:00",
         350
        ]
       ],
       "datasetInfos": [
        {
         "name": "_sqldf",
         "schema": {
          "fields": [
           {
            "metadata": {},
            "name": "action",
            "nullable": true,
            "type": "string"
           },
           {
            "metadata": {},
            "name": "time",
            "nullable": true,
            "type": "string"
           },
           {
            "metadata": {},
            "name": "count",
            "nullable": false,
            "type": "long"
           }
          ],
          "type": "struct"
         },
         "tableIdentifier": null,
         "typeStr": "pyspark.sql.dataframe.DataFrame"
        }
       ],
       "dbfsResultPath": null,
       "isJsonSchema": true,
       "metadata": {
        "dataframeName": "_sqldf",
        "executionCount": 96
       },
       "overflow": false,
       "plotOptions": {
        "customPlotOptions": {},
        "displayType": "table",
        "pivotAggregation": null,
        "pivotColumns": null,
        "xColumns": null,
        "yColumns": null
       },
       "removedWidgets": [],
       "schema": [
        {
         "metadata": "{}",
         "name": "action",
         "type": "\"string\""
        },
        {
         "metadata": "{}",
         "name": "time",
         "type": "\"string\""
        },
        {
         "metadata": "{}",
         "name": "count",
         "type": "\"long\""
        }
       ],
       "type": "table"
      }
     },
     "output_type": "display_data"
    },
    {
     "output_type": "display_data",
     "data": {
      "text/plain": [
       "Databricks visualization. Run in Databricks to view."
      ]
     },
     "metadata": {
      "application/vnd.databricks.v1.subcommand+json": {
       "bindings": {},
       "collapsed": false,
       "command": "%sql WITH q AS (select action, date_format(window.end, \"MMM-dd HH:mm\") as time, count from counts order by time, action) SELECT `time`,`action`,`count` FROM q",
       "commandTitle": "Visualization 1",
       "commandType": "auto",
       "commandVersion": 0,
       "commentThread": [],
       "commentsVisible": false,
       "contentSha256Hex": null,
       "customPlotOptions": {
        "redashChart": [
         {
          "key": "type",
          "value": "CHART"
         },
         {
          "key": "options",
          "value": {
           "alignYAxesAtZero": true,
           "coefficient": 1,
           "columnConfigurationMap": {
            "series": {
             "column": "action",
             "id": "column_51354016255"
            },
            "x": {
             "column": "time",
             "id": "column_51354016265"
            },
            "y": [
             {
              "column": "count",
              "id": "column_51354016264"
             }
            ]
           },
           "dateTimeFormat": "DD/MM/YYYY HH:mm",
           "direction": {
            "type": "counterclockwise"
           },
           "error_y": {
            "type": "data",
            "visible": true
           },
           "globalSeriesType": "column",
           "isAggregationOn": false,
           "legend": {
            "traceorder": "normal"
           },
           "missingValuesAsZero": true,
           "numberFormat": "0,0[.]00000",
           "percentFormat": "0[.]00%",
           "series": {
            "error_y": {
             "type": "data",
             "visible": true
            },
            "stacking": ""
           },
           "seriesOptions": {
            "column_51354016254": {
             "name": "count",
             "type": "column",
             "yAxis": 0
            },
            "column_51354016258": {
             "type": "column",
             "yAxis": 0
            },
            "column_51354016260": {
             "type": "column",
             "yAxis": 0
            },
            "count": {
             "type": "column",
             "yAxis": 0
            }
           },
           "showDataLabels": false,
           "sizemode": "diameter",
           "sortX": true,
           "sortY": true,
           "swappedAxes": false,
           "textFormat": "",
           "useAggregationsUi": true,
           "valuesOptions": {},
           "version": 2,
           "xAxis": {
            "labels": {
             "enabled": true
            },
            "type": "-"
           },
           "yAxis": [
            {
             "type": "-"
            },
            {
             "opposite": true,
             "type": "-"
            }
           ]
          }
         }
        ]
       },
       "datasetPreviewNameToCmdIdMap": {},
       "diffDeletes": [],
       "diffInserts": [],
       "displayType": "redashChart",
       "error": null,
       "errorSummary": null,
       "errorTraceType": null,
       "finishTime": 0,
       "globalVars": {},
       "guid": "52084ffc-fc62-489b-8393-3f1dd83bb5d9",
       "height": "auto",
       "hideCommandCode": false,
       "hideCommandResult": false,
       "iPythonMetadata": null,
       "inputWidgets": {},
       "isLockedInExamMode": false,
       "latestUser": "a user",
       "latestUserId": null,
       "listResultMetadata": null,
       "metadata": {
        "byteLimit": 2048000,
        "implicitDf": true,
        "rowLimit": 10000
       },
       "nuid": "5cdeed10-0aa5-46d0-8ee0-cc429372ff43",
       "origId": 3947854806515731,
       "parentHierarchy": [
        "131516dc-e2fb-47b4-90bf-380df866190d"
       ],
       "pivotAggregation": null,
       "pivotColumns": null,
       "position": 14.0,
       "resultDbfsErrorMessage": null,
       "resultDbfsStatus": "INLINED_IN_TREE",
       "results": null,
       "showCommandTitle": false,
       "startTime": 0,
       "state": "finished",
       "streamStates": {},
       "subcommandOptions": {
        "queryPlan": {
         "selects": [
          {
           "column": "time",
           "type": "column"
          },
          {
           "column": "action",
           "type": "column"
          },
          {
           "column": "count",
           "type": "column"
          }
         ]
        }
       },
       "submitTime": 0,
       "subtype": "tableResultSubCmd.visualization",
       "tableResultIndex": 0,
       "useConsistentColors": false,
       "version": "CommandV1",
       "width": "auto",
       "workflows": [],
       "xColumns": null,
       "yColumns": null
      }
     },
     "output_type": "display_data"
    }
   ],
   "source": [
    "%sql select action, date_format(window.end, \"MMM-dd HH:mm\") as time, count from counts order by time, action"
   ]
  },
  {
   "cell_type": "code",
   "execution_count": 0,
   "metadata": {
    "application/vnd.databricks.v1+cell": {
     "cellMetadata": {
      "byteLimit": 2048000,
      "implicitDf": true,
      "rowLimit": 10000
     },
     "inputWidgets": {},
     "nuid": "c2dac358-db03-4bed-87cf-80ac42a47535",
     "showTitle": false,
     "title": ""
    }
   },
   "outputs": [
    {
     "output_type": "display_data",
     "data": {
      "text/html": [
       "<style scoped>\n",
       "  .table-result-container {\n",
       "    max-height: 300px;\n",
       "    overflow: auto;\n",
       "  }\n",
       "  table, th, td {\n",
       "    border: 1px solid black;\n",
       "    border-collapse: collapse;\n",
       "  }\n",
       "  th, td {\n",
       "    padding: 5px;\n",
       "  }\n",
       "  th {\n",
       "    text-align: left;\n",
       "  }\n",
       "</style><div class='table-result-container'><table class='table-result'><thead style='background-color: white'><tr><th>action</th><th>total_count</th></tr></thead><tbody><tr><td>Close</td><td>36501</td></tr><tr><td>Open</td><td>37499</td></tr></tbody></table></div>"
      ]
     },
     "metadata": {
      "application/vnd.databricks.v1+output": {
       "addedWidgets": {},
       "aggData": [],
       "aggError": "",
       "aggOverflow": false,
       "aggSchema": [],
       "aggSeriesLimitReached": false,
       "aggType": "",
       "arguments": {},
       "columnCustomDisplayInfos": {},
       "data": [
        [
         "Close",
         36501
        ],
        [
         "Open",
         37499
        ]
       ],
       "datasetInfos": [
        {
         "name": "_sqldf",
         "schema": {
          "fields": [
           {
            "metadata": {},
            "name": "action",
            "nullable": true,
            "type": "string"
           },
           {
            "metadata": {},
            "name": "total_count",
            "nullable": true,
            "type": "long"
           }
          ],
          "type": "struct"
         },
         "tableIdentifier": null,
         "typeStr": "pyspark.sql.dataframe.DataFrame"
        }
       ],
       "dbfsResultPath": null,
       "isJsonSchema": true,
       "metadata": {
        "dataframeName": "_sqldf",
        "executionCount": 97
       },
       "overflow": false,
       "plotOptions": {
        "customPlotOptions": {},
        "displayType": "table",
        "pivotAggregation": null,
        "pivotColumns": null,
        "xColumns": null,
        "yColumns": null
       },
       "removedWidgets": [],
       "schema": [
        {
         "metadata": "{}",
         "name": "action",
         "type": "\"string\""
        },
        {
         "metadata": "{}",
         "name": "total_count",
         "type": "\"long\""
        }
       ],
       "type": "table"
      }
     },
     "output_type": "display_data"
    },
    {
     "output_type": "display_data",
     "data": {
      "text/plain": [
       "Databricks visualization. Run in Databricks to view."
      ]
     },
     "metadata": {
      "application/vnd.databricks.v1.subcommand+json": {
       "bindings": {},
       "collapsed": false,
       "command": "%sql WITH q AS (select action, sum(count) as total_count from counts group by action order by action) SELECT `action`,SUM(`total_count`) `column_51354016274` FROM q GROUP BY `action`",
       "commandTitle": "Visualization 1",
       "commandType": "auto",
       "commandVersion": 0,
       "commentThread": [],
       "commentsVisible": false,
       "contentSha256Hex": null,
       "customPlotOptions": {
        "redashChart": [
         {
          "key": "type",
          "value": "CHART"
         },
         {
          "key": "options",
          "value": {
           "alignYAxesAtZero": true,
           "coefficient": 1,
           "columnConfigurationMap": {
            "x": {
             "column": "action",
             "id": "column_51354016273"
            },
            "y": [
             {
              "column": "total_count",
              "id": "column_51354016274",
              "transform": "SUM"
             }
            ]
           },
           "dateTimeFormat": "DD/MM/YYYY HH:mm",
           "direction": {
            "type": "counterclockwise"
           },
           "error_y": {
            "type": "data",
            "visible": true
           },
           "globalSeriesType": "column",
           "isAggregationOn": true,
           "legend": {
            "traceorder": "normal"
           },
           "missingValuesAsZero": true,
           "numberFormat": "0,0[.]00000",
           "percentFormat": "0[.]00%",
           "series": {
            "error_y": {
             "type": "data",
             "visible": true
            },
            "stacking": null
           },
           "seriesOptions": {
            "column_51354016274": {
             "name": "total_count",
             "yAxis": 0
            }
           },
           "showDataLabels": false,
           "sizemode": "diameter",
           "sortX": true,
           "sortY": true,
           "swappedAxes": false,
           "textFormat": "",
           "useAggregationsUi": true,
           "valuesOptions": {},
           "version": 2,
           "xAxis": {
            "labels": {
             "enabled": true
            },
            "type": "-"
           },
           "yAxis": [
            {
             "type": "-"
            },
            {
             "opposite": true,
             "type": "-"
            }
           ]
          }
         }
        ]
       },
       "datasetPreviewNameToCmdIdMap": {},
       "diffDeletes": [],
       "diffInserts": [],
       "displayType": "redashChart",
       "error": null,
       "errorSummary": null,
       "errorTraceType": null,
       "finishTime": 0,
       "globalVars": {},
       "guid": "283a10d8-66c9-4185-8592-c782c86421e3",
       "height": "auto",
       "hideCommandCode": false,
       "hideCommandResult": false,
       "iPythonMetadata": null,
       "inputWidgets": {},
       "isLockedInExamMode": false,
       "latestUser": "a user",
       "latestUserId": null,
       "listResultMetadata": null,
       "metadata": {
        "byteLimit": 2048000,
        "implicitDf": true,
        "rowLimit": 10000
       },
       "nuid": "0b780865-217e-4b1a-bc63-f96ff6c9c040",
       "origId": 3947854806515732,
       "parentHierarchy": [
        "ed950e70-94da-44c9-9f0b-25785df1a0db"
       ],
       "pivotAggregation": null,
       "pivotColumns": null,
       "position": 15.0,
       "resultDbfsErrorMessage": null,
       "resultDbfsStatus": "INLINED_IN_TREE",
       "results": null,
       "showCommandTitle": false,
       "startTime": 0,
       "state": "finished",
       "streamStates": {},
       "subcommandOptions": {
        "queryPlan": {
         "groups": [
          {
           "column": "action",
           "type": "column"
          }
         ],
         "selects": [
          {
           "column": "action",
           "type": "column"
          },
          {
           "alias": "column_51354016274",
           "args": [
            {
             "column": "total_count",
             "type": "column"
            }
           ],
           "function": "SUM",
           "type": "function"
          }
         ]
        }
       },
       "submitTime": 0,
       "subtype": "tableResultSubCmd.visualization",
       "tableResultIndex": 0,
       "useConsistentColors": false,
       "version": "CommandV1",
       "width": "auto",
       "workflows": [],
       "xColumns": null,
       "yColumns": null
      }
     },
     "output_type": "display_data"
    }
   ],
   "source": [
    "%sql select action, sum(count) as total_count from counts group by action order by action"
   ]
  },
  {
   "cell_type": "code",
   "execution_count": 0,
   "metadata": {
    "application/vnd.databricks.v1+cell": {
     "cellMetadata": {
      "byteLimit": 2048000,
      "rowLimit": 10000
     },
     "inputWidgets": {},
     "nuid": "7d3a751a-36e8-478c-9b58-ab10d614b7bc",
     "showTitle": false,
     "title": ""
    }
   },
   "outputs": [],
   "source": [
    "sleep(85)\n",
    "query.stop()"
   ]
  },
  {
   "cell_type": "code",
   "execution_count": 0,
   "metadata": {
    "application/vnd.databricks.v1+cell": {
     "cellMetadata": {
      "byteLimit": 2048000,
      "implicitDf": true,
      "rowLimit": 10000
     },
     "inputWidgets": {},
     "nuid": "c3666c16-cd83-4df0-8bd3-d609a973094c",
     "showTitle": false,
     "title": ""
    }
   },
   "outputs": [
    {
     "output_type": "display_data",
     "data": {
      "text/html": [
       "<style scoped>\n",
       "  .table-result-container {\n",
       "    max-height: 300px;\n",
       "    overflow: auto;\n",
       "  }\n",
       "  table, th, td {\n",
       "    border: 1px solid black;\n",
       "    border-collapse: collapse;\n",
       "  }\n",
       "  th, td {\n",
       "    padding: 5px;\n",
       "  }\n",
       "  th {\n",
       "    text-align: left;\n",
       "  }\n",
       "</style><div class='table-result-container'><table class='table-result'><thead style='background-color: white'><tr><th>action</th><th>time</th><th>count</th></tr></thead><tbody><tr><td>Close</td><td>Jul-26 03:00</td><td>11</td></tr><tr><td>Open</td><td>Jul-26 03:00</td><td>179</td></tr><tr><td>Close</td><td>Jul-26 04:00</td><td>344</td></tr><tr><td>Open</td><td>Jul-26 04:00</td><td>1001</td></tr><tr><td>Close</td><td>Jul-26 05:00</td><td>815</td></tr><tr><td>Open</td><td>Jul-26 05:00</td><td>999</td></tr><tr><td>Close</td><td>Jul-26 06:00</td><td>1003</td></tr><tr><td>Open</td><td>Jul-26 06:00</td><td>1000</td></tr><tr><td>Close</td><td>Jul-26 07:00</td><td>1011</td></tr><tr><td>Open</td><td>Jul-26 07:00</td><td>993</td></tr><tr><td>Close</td><td>Jul-26 08:00</td><td>989</td></tr><tr><td>Open</td><td>Jul-26 08:00</td><td>1008</td></tr><tr><td>Close</td><td>Jul-26 09:00</td><td>985</td></tr><tr><td>Open</td><td>Jul-26 09:00</td><td>996</td></tr><tr><td>Close</td><td>Jul-26 10:00</td><td>983</td></tr><tr><td>Open</td><td>Jul-26 10:00</td><td>1000</td></tr><tr><td>Close</td><td>Jul-26 11:00</td><td>1022</td></tr><tr><td>Open</td><td>Jul-26 11:00</td><td>1007</td></tr><tr><td>Close</td><td>Jul-26 12:00</td><td>1028</td></tr><tr><td>Open</td><td>Jul-26 12:00</td><td>991</td></tr><tr><td>Close</td><td>Jul-26 13:00</td><td>960</td></tr><tr><td>Open</td><td>Jul-26 13:00</td><td>996</td></tr><tr><td>Close</td><td>Jul-26 14:00</td><td>1028</td></tr><tr><td>Open</td><td>Jul-26 14:00</td><td>1006</td></tr><tr><td>Close</td><td>Jul-26 15:00</td><td>994</td></tr><tr><td>Open</td><td>Jul-26 15:00</td><td>991</td></tr><tr><td>Close</td><td>Jul-26 16:00</td><td>988</td></tr><tr><td>Open</td><td>Jul-26 16:00</td><td>1020</td></tr><tr><td>Close</td><td>Jul-26 17:00</td><td>984</td></tr><tr><td>Open</td><td>Jul-26 17:00</td><td>992</td></tr><tr><td>Close</td><td>Jul-26 18:00</td><td>1036</td></tr><tr><td>Open</td><td>Jul-26 18:00</td><td>990</td></tr><tr><td>Close</td><td>Jul-26 19:00</td><td>1001</td></tr><tr><td>Open</td><td>Jul-26 19:00</td><td>1004</td></tr><tr><td>Close</td><td>Jul-26 20:00</td><td>967</td></tr><tr><td>Open</td><td>Jul-26 20:00</td><td>998</td></tr><tr><td>Close</td><td>Jul-26 21:00</td><td>1035</td></tr><tr><td>Open</td><td>Jul-26 21:00</td><td>1010</td></tr><tr><td>Close</td><td>Jul-26 22:00</td><td>995</td></tr><tr><td>Open</td><td>Jul-26 22:00</td><td>998</td></tr><tr><td>Close</td><td>Jul-26 23:00</td><td>1036</td></tr><tr><td>Open</td><td>Jul-26 23:00</td><td>997</td></tr><tr><td>Close</td><td>Jul-27 00:00</td><td>950</td></tr><tr><td>Open</td><td>Jul-27 00:00</td><td>1000</td></tr><tr><td>Close</td><td>Jul-27 01:00</td><td>1008</td></tr><tr><td>Open</td><td>Jul-27 01:00</td><td>998</td></tr><tr><td>Close</td><td>Jul-27 02:00</td><td>1013</td></tr><tr><td>Open</td><td>Jul-27 02:00</td><td>1004</td></tr><tr><td>Close</td><td>Jul-27 03:00</td><td>971</td></tr><tr><td>Open</td><td>Jul-27 03:00</td><td>992</td></tr><tr><td>Close</td><td>Jul-27 04:00</td><td>1025</td></tr><tr><td>Open</td><td>Jul-27 04:00</td><td>1014</td></tr><tr><td>Close</td><td>Jul-27 05:00</td><td>989</td></tr><tr><td>Open</td><td>Jul-27 05:00</td><td>995</td></tr><tr><td>Close</td><td>Jul-27 06:00</td><td>987</td></tr><tr><td>Open</td><td>Jul-27 06:00</td><td>986</td></tr><tr><td>Close</td><td>Jul-27 07:00</td><td>1026</td></tr><tr><td>Open</td><td>Jul-27 07:00</td><td>1016</td></tr><tr><td>Close</td><td>Jul-27 08:00</td><td>982</td></tr><tr><td>Open</td><td>Jul-27 08:00</td><td>998</td></tr><tr><td>Close</td><td>Jul-27 09:00</td><td>1024</td></tr><tr><td>Open</td><td>Jul-27 09:00</td><td>1002</td></tr><tr><td>Close</td><td>Jul-27 10:00</td><td>990</td></tr><tr><td>Open</td><td>Jul-27 10:00</td><td>992</td></tr><tr><td>Close</td><td>Jul-27 11:00</td><td>1001</td></tr><tr><td>Open</td><td>Jul-27 11:00</td><td>1006</td></tr><tr><td>Close</td><td>Jul-27 12:00</td><td>1006</td></tr><tr><td>Open</td><td>Jul-27 12:00</td><td>998</td></tr><tr><td>Close</td><td>Jul-27 13:00</td><td>1035</td></tr><tr><td>Open</td><td>Jul-27 13:00</td><td>994</td></tr><tr><td>Close</td><td>Jul-27 14:00</td><td>986</td></tr><tr><td>Open</td><td>Jul-27 14:00</td><td>1008</td></tr><tr><td>Close</td><td>Jul-27 15:00</td><td>948</td></tr><tr><td>Open</td><td>Jul-27 15:00</td><td>984</td></tr><tr><td>Close</td><td>Jul-27 16:00</td><td>1018</td></tr><tr><td>Open</td><td>Jul-27 16:00</td><td>1017</td></tr><tr><td>Close</td><td>Jul-27 17:00</td><td>970</td></tr><tr><td>Open</td><td>Jul-27 17:00</td><td>992</td></tr><tr><td>Close</td><td>Jul-27 18:00</td><td>1020</td></tr><tr><td>Open</td><td>Jul-27 18:00</td><td>1007</td></tr><tr><td>Close</td><td>Jul-27 19:00</td><td>1036</td></tr><tr><td>Open</td><td>Jul-27 19:00</td><td>995</td></tr><tr><td>Close</td><td>Jul-27 20:00</td><td>969</td></tr><tr><td>Open</td><td>Jul-27 20:00</td><td>1007</td></tr><tr><td>Close</td><td>Jul-27 21:00</td><td>1025</td></tr><tr><td>Open</td><td>Jul-27 21:00</td><td>1005</td></tr><tr><td>Close</td><td>Jul-27 22:00</td><td>979</td></tr><tr><td>Open</td><td>Jul-27 22:00</td><td>998</td></tr><tr><td>Close</td><td>Jul-27 23:00</td><td>996</td></tr><tr><td>Open</td><td>Jul-27 23:00</td><td>986</td></tr><tr><td>Close</td><td>Jul-28 00:00</td><td>1011</td></tr><tr><td>Open</td><td>Jul-28 00:00</td><td>1008</td></tr><tr><td>Close</td><td>Jul-28 01:00</td><td>988</td></tr><tr><td>Open</td><td>Jul-28 01:00</td><td>1000</td></tr><tr><td>Close</td><td>Jul-28 02:00</td><td>1010</td></tr><tr><td>Open</td><td>Jul-28 02:00</td><td>1001</td></tr><tr><td>Close</td><td>Jul-28 03:00</td><td>1007</td></tr><tr><td>Open</td><td>Jul-28 03:00</td><td>1000</td></tr><tr><td>Close</td><td>Jul-28 04:00</td><td>993</td></tr><tr><td>Open</td><td>Jul-28 04:00</td><td>996</td></tr><tr><td>Close</td><td>Jul-28 05:00</td><td>960</td></tr><tr><td>Open</td><td>Jul-28 05:00</td><td>825</td></tr><tr><td>Close</td><td>Jul-28 06:00</td><td>671</td></tr><tr><td>Close</td><td>Jul-28 07:00</td><td>191</td></tr></tbody></table></div>"
      ]
     },
     "metadata": {
      "application/vnd.databricks.v1+output": {
       "addedWidgets": {},
       "aggData": [],
       "aggError": "",
       "aggOverflow": false,
       "aggSchema": [],
       "aggSeriesLimitReached": false,
       "aggType": "",
       "arguments": {},
       "columnCustomDisplayInfos": {},
       "data": [
        [
         "Close",
         "Jul-26 03:00",
         11
        ],
        [
         "Open",
         "Jul-26 03:00",
         179
        ],
        [
         "Close",
         "Jul-26 04:00",
         344
        ],
        [
         "Open",
         "Jul-26 04:00",
         1001
        ],
        [
         "Close",
         "Jul-26 05:00",
         815
        ],
        [
         "Open",
         "Jul-26 05:00",
         999
        ],
        [
         "Close",
         "Jul-26 06:00",
         1003
        ],
        [
         "Open",
         "Jul-26 06:00",
         1000
        ],
        [
         "Close",
         "Jul-26 07:00",
         1011
        ],
        [
         "Open",
         "Jul-26 07:00",
         993
        ],
        [
         "Close",
         "Jul-26 08:00",
         989
        ],
        [
         "Open",
         "Jul-26 08:00",
         1008
        ],
        [
         "Close",
         "Jul-26 09:00",
         985
        ],
        [
         "Open",
         "Jul-26 09:00",
         996
        ],
        [
         "Close",
         "Jul-26 10:00",
         983
        ],
        [
         "Open",
         "Jul-26 10:00",
         1000
        ],
        [
         "Close",
         "Jul-26 11:00",
         1022
        ],
        [
         "Open",
         "Jul-26 11:00",
         1007
        ],
        [
         "Close",
         "Jul-26 12:00",
         1028
        ],
        [
         "Open",
         "Jul-26 12:00",
         991
        ],
        [
         "Close",
         "Jul-26 13:00",
         960
        ],
        [
         "Open",
         "Jul-26 13:00",
         996
        ],
        [
         "Close",
         "Jul-26 14:00",
         1028
        ],
        [
         "Open",
         "Jul-26 14:00",
         1006
        ],
        [
         "Close",
         "Jul-26 15:00",
         994
        ],
        [
         "Open",
         "Jul-26 15:00",
         991
        ],
        [
         "Close",
         "Jul-26 16:00",
         988
        ],
        [
         "Open",
         "Jul-26 16:00",
         1020
        ],
        [
         "Close",
         "Jul-26 17:00",
         984
        ],
        [
         "Open",
         "Jul-26 17:00",
         992
        ],
        [
         "Close",
         "Jul-26 18:00",
         1036
        ],
        [
         "Open",
         "Jul-26 18:00",
         990
        ],
        [
         "Close",
         "Jul-26 19:00",
         1001
        ],
        [
         "Open",
         "Jul-26 19:00",
         1004
        ],
        [
         "Close",
         "Jul-26 20:00",
         967
        ],
        [
         "Open",
         "Jul-26 20:00",
         998
        ],
        [
         "Close",
         "Jul-26 21:00",
         1035
        ],
        [
         "Open",
         "Jul-26 21:00",
         1010
        ],
        [
         "Close",
         "Jul-26 22:00",
         995
        ],
        [
         "Open",
         "Jul-26 22:00",
         998
        ],
        [
         "Close",
         "Jul-26 23:00",
         1036
        ],
        [
         "Open",
         "Jul-26 23:00",
         997
        ],
        [
         "Close",
         "Jul-27 00:00",
         950
        ],
        [
         "Open",
         "Jul-27 00:00",
         1000
        ],
        [
         "Close",
         "Jul-27 01:00",
         1008
        ],
        [
         "Open",
         "Jul-27 01:00",
         998
        ],
        [
         "Close",
         "Jul-27 02:00",
         1013
        ],
        [
         "Open",
         "Jul-27 02:00",
         1004
        ],
        [
         "Close",
         "Jul-27 03:00",
         971
        ],
        [
         "Open",
         "Jul-27 03:00",
         992
        ],
        [
         "Close",
         "Jul-27 04:00",
         1025
        ],
        [
         "Open",
         "Jul-27 04:00",
         1014
        ],
        [
         "Close",
         "Jul-27 05:00",
         989
        ],
        [
         "Open",
         "Jul-27 05:00",
         995
        ],
        [
         "Close",
         "Jul-27 06:00",
         987
        ],
        [
         "Open",
         "Jul-27 06:00",
         986
        ],
        [
         "Close",
         "Jul-27 07:00",
         1026
        ],
        [
         "Open",
         "Jul-27 07:00",
         1016
        ],
        [
         "Close",
         "Jul-27 08:00",
         982
        ],
        [
         "Open",
         "Jul-27 08:00",
         998
        ],
        [
         "Close",
         "Jul-27 09:00",
         1024
        ],
        [
         "Open",
         "Jul-27 09:00",
         1002
        ],
        [
         "Close",
         "Jul-27 10:00",
         990
        ],
        [
         "Open",
         "Jul-27 10:00",
         992
        ],
        [
         "Close",
         "Jul-27 11:00",
         1001
        ],
        [
         "Open",
         "Jul-27 11:00",
         1006
        ],
        [
         "Close",
         "Jul-27 12:00",
         1006
        ],
        [
         "Open",
         "Jul-27 12:00",
         998
        ],
        [
         "Close",
         "Jul-27 13:00",
         1035
        ],
        [
         "Open",
         "Jul-27 13:00",
         994
        ],
        [
         "Close",
         "Jul-27 14:00",
         986
        ],
        [
         "Open",
         "Jul-27 14:00",
         1008
        ],
        [
         "Close",
         "Jul-27 15:00",
         948
        ],
        [
         "Open",
         "Jul-27 15:00",
         984
        ],
        [
         "Close",
         "Jul-27 16:00",
         1018
        ],
        [
         "Open",
         "Jul-27 16:00",
         1017
        ],
        [
         "Close",
         "Jul-27 17:00",
         970
        ],
        [
         "Open",
         "Jul-27 17:00",
         992
        ],
        [
         "Close",
         "Jul-27 18:00",
         1020
        ],
        [
         "Open",
         "Jul-27 18:00",
         1007
        ],
        [
         "Close",
         "Jul-27 19:00",
         1036
        ],
        [
         "Open",
         "Jul-27 19:00",
         995
        ],
        [
         "Close",
         "Jul-27 20:00",
         969
        ],
        [
         "Open",
         "Jul-27 20:00",
         1007
        ],
        [
         "Close",
         "Jul-27 21:00",
         1025
        ],
        [
         "Open",
         "Jul-27 21:00",
         1005
        ],
        [
         "Close",
         "Jul-27 22:00",
         979
        ],
        [
         "Open",
         "Jul-27 22:00",
         998
        ],
        [
         "Close",
         "Jul-27 23:00",
         996
        ],
        [
         "Open",
         "Jul-27 23:00",
         986
        ],
        [
         "Close",
         "Jul-28 00:00",
         1011
        ],
        [
         "Open",
         "Jul-28 00:00",
         1008
        ],
        [
         "Close",
         "Jul-28 01:00",
         988
        ],
        [
         "Open",
         "Jul-28 01:00",
         1000
        ],
        [
         "Close",
         "Jul-28 02:00",
         1010
        ],
        [
         "Open",
         "Jul-28 02:00",
         1001
        ],
        [
         "Close",
         "Jul-28 03:00",
         1007
        ],
        [
         "Open",
         "Jul-28 03:00",
         1000
        ],
        [
         "Close",
         "Jul-28 04:00",
         993
        ],
        [
         "Open",
         "Jul-28 04:00",
         996
        ],
        [
         "Close",
         "Jul-28 05:00",
         960
        ],
        [
         "Open",
         "Jul-28 05:00",
         825
        ],
        [
         "Close",
         "Jul-28 06:00",
         671
        ],
        [
         "Close",
         "Jul-28 07:00",
         191
        ]
       ],
       "datasetInfos": [
        {
         "name": "_sqldf",
         "schema": {
          "fields": [
           {
            "metadata": {},
            "name": "action",
            "nullable": true,
            "type": "string"
           },
           {
            "metadata": {},
            "name": "time",
            "nullable": true,
            "type": "string"
           },
           {
            "metadata": {},
            "name": "count",
            "nullable": false,
            "type": "long"
           }
          ],
          "type": "struct"
         },
         "tableIdentifier": null,
         "typeStr": "pyspark.sql.dataframe.DataFrame"
        }
       ],
       "dbfsResultPath": null,
       "isJsonSchema": true,
       "metadata": {
        "dataframeName": "_sqldf",
        "executionCount": 99
       },
       "overflow": false,
       "plotOptions": {
        "customPlotOptions": {},
        "displayType": "table",
        "pivotAggregation": null,
        "pivotColumns": null,
        "xColumns": null,
        "yColumns": null
       },
       "removedWidgets": [],
       "schema": [
        {
         "metadata": "{}",
         "name": "action",
         "type": "\"string\""
        },
        {
         "metadata": "{}",
         "name": "time",
         "type": "\"string\""
        },
        {
         "metadata": "{}",
         "name": "count",
         "type": "\"long\""
        }
       ],
       "type": "table"
      }
     },
     "output_type": "display_data"
    },
    {
     "output_type": "display_data",
     "data": {
      "text/plain": [
       "Databricks visualization. Run in Databricks to view."
      ]
     },
     "metadata": {
      "application/vnd.databricks.v1.subcommand+json": {
       "bindings": {},
       "collapsed": false,
       "command": "%sql WITH q AS (select action, date_format(window.end, \"MMM-dd HH:mm\") as time, count from counts order by time, action) SELECT `time`,SUM(`count`) `column_51354016314`,`action` FROM q GROUP BY `action`,`time`",
       "commandTitle": "Visualization 1",
       "commandType": "auto",
       "commandVersion": 0,
       "commentThread": [],
       "commentsVisible": false,
       "contentSha256Hex": null,
       "customPlotOptions": {
        "redashChart": [
         {
          "key": "type",
          "value": "CHART"
         },
         {
          "key": "options",
          "value": {
           "alignYAxesAtZero": true,
           "coefficient": 1,
           "columnConfigurationMap": {
            "series": {
             "column": "action",
             "id": "column_51354016315"
            },
            "x": {
             "column": "time",
             "id": "column_51354016312"
            },
            "y": [
             {
              "column": "count",
              "id": "column_51354016314",
              "transform": "SUM"
             }
            ]
           },
           "dateTimeFormat": "DD/MM/YYYY HH:mm",
           "direction": {
            "type": "counterclockwise"
           },
           "error_y": {
            "type": "data",
            "visible": true
           },
           "globalSeriesType": "column",
           "isAggregationOn": true,
           "legend": {
            "traceorder": "normal"
           },
           "missingValuesAsZero": true,
           "numberFormat": "0,0[.]00000",
           "percentFormat": "0[.]00%",
           "series": {
            "error_y": {
             "type": "data",
             "visible": true
            },
            "stacking": null
           },
           "seriesOptions": {
            "column_51354016314": {
             "type": "column",
             "yAxis": 0
            }
           },
           "showDataLabels": false,
           "sizemode": "diameter",
           "sortX": true,
           "sortY": true,
           "swappedAxes": false,
           "textFormat": "",
           "useAggregationsUi": true,
           "valuesOptions": {},
           "version": 2,
           "xAxis": {
            "labels": {
             "enabled": true
            },
            "type": "-"
           },
           "yAxis": [
            {
             "type": "-"
            },
            {
             "opposite": true,
             "type": "-"
            }
           ]
          }
         }
        ]
       },
       "datasetPreviewNameToCmdIdMap": {},
       "diffDeletes": [],
       "diffInserts": [],
       "displayType": "redashChart",
       "error": null,
       "errorSummary": null,
       "errorTraceType": null,
       "finishTime": 0,
       "globalVars": {},
       "guid": "2bb96be6-bd75-46b2-9fd6-a89f8c630661",
       "height": "auto",
       "hideCommandCode": false,
       "hideCommandResult": false,
       "iPythonMetadata": null,
       "inputWidgets": {},
       "isLockedInExamMode": false,
       "latestUser": "a user",
       "latestUserId": null,
       "listResultMetadata": null,
       "metadata": {
        "byteLimit": 2048000,
        "implicitDf": true,
        "rowLimit": 10000
       },
       "nuid": "497bd8f1-f5bf-42f2-a674-d3c695a7e959",
       "origId": 3947854806515735,
       "parentHierarchy": [
        "4cbab9c1-e806-4fce-917e-4af6666c1393"
       ],
       "pivotAggregation": null,
       "pivotColumns": null,
       "position": 17.0,
       "resultDbfsErrorMessage": null,
       "resultDbfsStatus": "INLINED_IN_TREE",
       "results": null,
       "showCommandTitle": false,
       "startTime": 0,
       "state": "finished",
       "streamStates": {},
       "subcommandOptions": {
        "queryPlan": {
         "groups": [
          {
           "column": "time",
           "type": "column"
          },
          {
           "column": "action",
           "type": "column"
          }
         ],
         "selects": [
          {
           "column": "time",
           "type": "column"
          },
          {
           "alias": "column_51354016314",
           "args": [
            {
             "column": "count",
             "type": "column"
            }
           ],
           "function": "SUM",
           "type": "function"
          },
          {
           "column": "action",
           "type": "column"
          }
         ]
        }
       },
       "submitTime": 0,
       "subtype": "tableResultSubCmd.visualization",
       "tableResultIndex": 0,
       "useConsistentColors": false,
       "version": "CommandV1",
       "width": "auto",
       "workflows": [],
       "xColumns": null,
       "yColumns": null
      }
     },
     "output_type": "display_data"
    }
   ],
   "source": [
    "%sql select action, date_format(window.end, \"MMM-dd HH:mm\") as time, count from counts order by time, action"
   ]
  },
  {
   "cell_type": "code",
   "execution_count": 0,
   "metadata": {
    "application/vnd.databricks.v1+cell": {
     "cellMetadata": {
      "byteLimit": 2048000,
      "implicitDf": true,
      "rowLimit": 10000
     },
     "inputWidgets": {},
     "nuid": "f0efe68d-4241-4358-a999-c3fc7f6fb119",
     "showTitle": false,
     "title": ""
    }
   },
   "outputs": [
    {
     "output_type": "display_data",
     "data": {
      "text/html": [
       "<style scoped>\n",
       "  .table-result-container {\n",
       "    max-height: 300px;\n",
       "    overflow: auto;\n",
       "  }\n",
       "  table, th, td {\n",
       "    border: 1px solid black;\n",
       "    border-collapse: collapse;\n",
       "  }\n",
       "  th, td {\n",
       "    padding: 5px;\n",
       "  }\n",
       "  th {\n",
       "    text-align: left;\n",
       "  }\n",
       "</style><div class='table-result-container'><table class='table-result'><thead style='background-color: white'><tr><th>action</th><th>total_count</th></tr></thead><tbody><tr><td>Close</td><td>50000</td></tr><tr><td>Open</td><td>50000</td></tr></tbody></table></div>"
      ]
     },
     "metadata": {
      "application/vnd.databricks.v1+output": {
       "addedWidgets": {},
       "aggData": [],
       "aggError": "",
       "aggOverflow": false,
       "aggSchema": [],
       "aggSeriesLimitReached": false,
       "aggType": "",
       "arguments": {},
       "columnCustomDisplayInfos": {},
       "data": [
        [
         "Close",
         50000
        ],
        [
         "Open",
         50000
        ]
       ],
       "datasetInfos": [
        {
         "name": "_sqldf",
         "schema": {
          "fields": [
           {
            "metadata": {},
            "name": "action",
            "nullable": true,
            "type": "string"
           },
           {
            "metadata": {},
            "name": "total_count",
            "nullable": true,
            "type": "long"
           }
          ],
          "type": "struct"
         },
         "tableIdentifier": null,
         "typeStr": "pyspark.sql.dataframe.DataFrame"
        }
       ],
       "dbfsResultPath": null,
       "isJsonSchema": true,
       "metadata": {
        "dataframeName": "_sqldf",
        "executionCount": 100
       },
       "overflow": false,
       "plotOptions": {
        "customPlotOptions": {},
        "displayType": "table",
        "pivotAggregation": null,
        "pivotColumns": null,
        "xColumns": null,
        "yColumns": null
       },
       "removedWidgets": [],
       "schema": [
        {
         "metadata": "{}",
         "name": "action",
         "type": "\"string\""
        },
        {
         "metadata": "{}",
         "name": "total_count",
         "type": "\"long\""
        }
       ],
       "type": "table"
      }
     },
     "output_type": "display_data"
    },
    {
     "output_type": "display_data",
     "data": {
      "text/plain": [
       "Databricks visualization. Run in Databricks to view."
      ]
     },
     "metadata": {
      "application/vnd.databricks.v1.subcommand+json": {
       "bindings": {},
       "collapsed": false,
       "command": "%sql WITH q AS (select action, sum(count) as total_count from counts group by action order by action) SELECT `action`,SUM(`total_count`) `column_51354016325` FROM q GROUP BY `action`",
       "commandTitle": "Visualization 1",
       "commandType": "auto",
       "commandVersion": 0,
       "commentThread": [],
       "commentsVisible": false,
       "contentSha256Hex": null,
       "customPlotOptions": {
        "redashChart": [
         {
          "key": "type",
          "value": "CHART"
         },
         {
          "key": "options",
          "value": {
           "alignYAxesAtZero": true,
           "coefficient": 1,
           "columnConfigurationMap": {
            "x": {
             "column": "action",
             "id": "column_51354016324"
            },
            "y": [
             {
              "column": "total_count",
              "id": "column_51354016325",
              "transform": "SUM"
             }
            ]
           },
           "dateTimeFormat": "DD/MM/YYYY HH:mm",
           "direction": {
            "type": "counterclockwise"
           },
           "error_y": {
            "type": "data",
            "visible": true
           },
           "globalSeriesType": "column",
           "isAggregationOn": true,
           "legend": {
            "traceorder": "normal"
           },
           "missingValuesAsZero": true,
           "numberFormat": "0,0[.]00000",
           "percentFormat": "0[.]00%",
           "series": {
            "error_y": {
             "type": "data",
             "visible": true
            },
            "stacking": null
           },
           "seriesOptions": {
            "column_51354016325": {
             "name": "total_count",
             "yAxis": 0
            }
           },
           "showDataLabels": false,
           "sizemode": "diameter",
           "sortX": true,
           "sortY": true,
           "swappedAxes": false,
           "textFormat": "",
           "useAggregationsUi": true,
           "valuesOptions": {},
           "version": 2,
           "xAxis": {
            "labels": {
             "enabled": true
            },
            "type": "-"
           },
           "yAxis": [
            {
             "type": "-"
            },
            {
             "opposite": true,
             "type": "-"
            }
           ]
          }
         }
        ]
       },
       "datasetPreviewNameToCmdIdMap": {},
       "diffDeletes": [],
       "diffInserts": [],
       "displayType": "redashChart",
       "error": null,
       "errorSummary": null,
       "errorTraceType": null,
       "finishTime": 0,
       "globalVars": {},
       "guid": "04385cc3-1f87-43f6-9f3b-1bc511f2b692",
       "height": "auto",
       "hideCommandCode": false,
       "hideCommandResult": false,
       "iPythonMetadata": null,
       "inputWidgets": {},
       "isLockedInExamMode": false,
       "latestUser": "a user",
       "latestUserId": null,
       "listResultMetadata": null,
       "metadata": {
        "byteLimit": 2048000,
        "implicitDf": true,
        "rowLimit": 10000
       },
       "nuid": "ed7d365c-002f-43a5-8522-17416ce153b4",
       "origId": 3947854806515736,
       "parentHierarchy": [
        "06ef830c-3155-4c9a-b5fb-7e8ae23cbe7c"
       ],
       "pivotAggregation": null,
       "pivotColumns": null,
       "position": 16.0,
       "resultDbfsErrorMessage": null,
       "resultDbfsStatus": "INLINED_IN_TREE",
       "results": null,
       "showCommandTitle": false,
       "startTime": 0,
       "state": "finished",
       "streamStates": {},
       "subcommandOptions": {
        "queryPlan": {
         "groups": [
          {
           "column": "action",
           "type": "column"
          }
         ],
         "selects": [
          {
           "column": "action",
           "type": "column"
          },
          {
           "alias": "column_51354016325",
           "args": [
            {
             "column": "total_count",
             "type": "column"
            }
           ],
           "function": "SUM",
           "type": "function"
          }
         ]
        }
       },
       "submitTime": 0,
       "subtype": "tableResultSubCmd.visualization",
       "tableResultIndex": 0,
       "useConsistentColors": false,
       "version": "CommandV1",
       "width": "auto",
       "workflows": [],
       "xColumns": null,
       "yColumns": null
      }
     },
     "output_type": "display_data"
    }
   ],
   "source": [
    "%sql select action, sum(count) as total_count from counts group by action order by action"
   ]
  }
 ],
 "metadata": {
  "application/vnd.databricks.v1+notebook": {
   "dashboards": [
    {
     "elements": [
      {
       "dashboardResultIndex": 0,
       "elementNUID": "7d4e131f-68e9-4d96-b223-1d2ffb47b9d2",
       "elementType": "command",
       "guid": "13bbfdda-fd3d-45c7-b5d2-ec97bc0597fd",
       "options": null,
       "position": null,
       "resultIndex": null
      }
     ],
     "globalVars": {},
     "guid": "73a3ae99-ed99-44d0-940e-f3a67126bfe4",
     "layoutOption": {
      "grid": true,
      "stack": true
     },
     "nuid": "3273f98a-5d50-410f-8a09-06b57a51787e",
     "origId": 351661517623306,
     "title": "Untitled",
     "version": "DashboardViewV1",
     "width": 1024
    },
    {
     "elements": [
      {
       "dashboardResultIndex": 0,
       "elementNUID": "c5266081-7c85-4d0c-b790-0164fa0da330",
       "elementType": "command",
       "guid": "ae37739a-82e9-4eca-9bd9-ccb511edc4c4",
       "options": null,
       "position": {
        "height": 6,
        "width": 12,
        "x": 0,
        "y": 0,
        "z": null
       },
       "resultIndex": null
      }
     ],
     "globalVars": {},
     "guid": "bfcd743b-b25e-4b13-adc0-d430d99efd38",
     "layoutOption": {
      "grid": true,
      "stack": true
     },
     "nuid": "0ba0a5fe-3e19-4da0-8500-c6197ceb3049",
     "origId": 351661517623307,
     "title": "Untitled",
     "version": "DashboardViewV1",
     "width": 1024
    },
    {
     "elements": [
      {
       "dashboardResultIndex": 0,
       "elementNUID": "7d4e131f-68e9-4d96-b223-1d2ffb47b9d2",
       "elementType": "command",
       "guid": "f71f6871-fe62-4967-84b9-bb9d15273ff2",
       "options": null,
       "position": {
        "height": 6,
        "width": 12,
        "x": 0,
        "y": 0,
        "z": null
       },
       "resultIndex": null
      }
     ],
     "globalVars": {},
     "guid": "0002e656-b89e-4ae8-b9a6-a00620432cb7",
     "layoutOption": {
      "grid": true,
      "stack": true
     },
     "nuid": "587f0a9e-4d81-44ad-b4c3-6f82cbb42b0c",
     "origId": 3947854806515712,
     "title": "Untitled",
     "version": "DashboardViewV1",
     "width": 1024
    }
   ],
   "language": "python",
   "notebookMetadata": {
    "mostRecentlyExecutedCommandWithImplicitDF": {
     "commandId": 3947854806515736,
     "dataframes": [
      "_sqldf"
     ]
    },
    "pythonIndentUnit": 4
   },
   "notebookName": "203_StructureStreaming",
   "widgets": {}
  }
 },
 "nbformat": 4,
 "nbformat_minor": 0
}
